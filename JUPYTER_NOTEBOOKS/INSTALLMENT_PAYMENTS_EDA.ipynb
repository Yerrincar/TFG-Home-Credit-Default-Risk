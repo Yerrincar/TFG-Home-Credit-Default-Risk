{
 "cells": [
  {
   "cell_type": "code",
   "execution_count": 2,
   "metadata": {},
   "outputs": [
    {
     "name": "stdout",
     "output_type": "stream",
     "text": [
      "Directorio actual: c:\\Users\\Yeray\\Desktop\\DATA_SCIENCE_ML\\Home-Credit-TFG\\JUPYTER_NOTEBOOKS\n"
     ]
    }
   ],
   "source": [
    "import pandas as pd\n",
    "import numpy as np\n",
    "import matplotlib.pyplot as plt\n",
    "import seaborn as sns\n",
    "import gc\n",
    "import warnings\n",
    "import os\n",
    "warnings.filterwarnings('ignore')\n",
    "print(\"Directorio actual:\", os.getcwd())\n",
    "# Have all columns appear when dataframes are displayed.\n",
    "pd.set_option('display.max_columns', None) \n",
    "# Have 100 rows appear when a dataframe is displayed\n",
    "pd.set_option('display.max_rows', 500)\n",
    "# Display dimensions whenever a dataframe is printed out.\n",
    "pd.set_option('display.show_dimensions', True)\n",
    "\n",
    "installment_payments = pd.read_csv(r'C:/Users/Yeray/Desktop/DATA_SCIENCE_ML/Home-Credit-TFG/DATA/home-credit-default-risk/installments_payments.csv')"
   ]
  },
  {
   "cell_type": "code",
   "execution_count": 3,
   "metadata": {},
   "outputs": [],
   "source": [
    "#Feature Engineering\n",
    "\n",
    "#Primero variables relacionada con los pagos\n",
    "installment_payments['PAYMENT_INSTALLMENT_RATIO'] = installment_payments['AMT_PAYMENT'] / installment_payments['AMT_INSTALMENT']\n",
    "installment_payments['PAYMENT_DIFFERENCE'] = installment_payments['AMT_PAYMENT'] - installment_payments['AMT_INSTALMENT']\n",
    "installment_payments['PAGO_DE_MAS'] = (installment_payments['AMT_PAYMENT'] > installment_payments['AMT_INSTALMENT']).astype(int)\n",
    "installment_payments['PAGO_DE_MENOS'] = (installment_payments['AMT_PAYMENT'] < installment_payments['AMT_INSTALMENT']).astype(int)\n",
    "\n",
    "#Segundo variables relacionadas con los días de retraso\n",
    "installment_payments['DAYS_PAST_DUE'] = installment_payments['DAYS_ENTRY_PAYMENT'] - installment_payments['DAYS_INSTALMENT']\n",
    "installment_payments['DAYS_BEFORE_DUE'] = installment_payments['DAYS_INSTALMENT'] - installment_payments['DAYS_ENTRY_PAYMENT']\n",
    "installment_payments['DAYS_PAST_DUE_RATIO'] = installment_payments['DAYS_PAST_DUE'] / installment_payments['DAYS_INSTALMENT']\n",
    "installment_payments['DAYS_BEFORE_DUE_RATIO'] = installment_payments['DAYS_BEFORE_DUE'] / installment_payments['DAYS_INSTALMENT']\n",
    "\n",
    "installment_payments['PAGO_RETRASADO'] = (installment_payments['DAYS_PAST_DUE'] > 0).astype(int)\n",
    "installment_payments['PAGO_ANTICIPADO'] = (installment_payments['DAYS_BEFORE_DUE'] > 0).astype(int)"
   ]
  },
  {
   "cell_type": "code",
   "execution_count": 4,
   "metadata": {},
   "outputs": [],
   "source": [
    "#En CNT_INSTALLMENT_VERSION si cambia el valor significa que ha habido un cambio en el plan de pagos, vamos a crear una variable que lo indique\n",
    "pagos = installment_payments.sort_values(['SK_ID_PREV', 'NUM_INSTALMENT_NUMBER'])\n",
    "\n",
    "#Detectamos cambios consecutivo en la variable CNT_INSTALMENT_VERSION\n",
    "pagos['CAMBIO_PLAN_PAGOS'] = (\n",
    "    pagos.groupby('SK_ID_PREV')['NUM_INSTALMENT_VERSION'].diff().ne(0).astype(int)\n",
    ")\n",
    "\n",
    "#Contamos cuántos cambios de plan de pagos ha habido\n",
    "cambios_por_pago = (\n",
    "    pagos.groupby('SK_ID_PREV', as_index=False)['CAMBIO_PLAN_PAGOS'].sum()\n",
    "    .rename(columns={'CAMBIO_PLAN_PAGOS': 'NUM_CAMBIOS_PLAN_PAGOS'})\n",
    ")\n",
    "\n",
    "#Unimos la variable creada con el dataframe original\n",
    "prev_curr_map = pagos[['SK_ID_PREV', 'SK_ID_CURR']].drop_duplicates()\n",
    "cambios_por_pago = cambios_por_pago.merge(prev_curr_map, on='SK_ID_PREV', how='left')\n",
    "\n",
    "#Agregamos la variable al dataframe original a nivel de SK_ID_CURR\n",
    "cambios_por_cliente = (\n",
    "    cambios_por_pago.groupby('SK_ID_CURR', as_index=False)['NUM_CAMBIOS_PLAN_PAGOS'].sum()\n",
    "    .rename(columns={'NUM_CAMBIOS_PLAN_PAGOS': 'NUM_CAMBIOS_PLAN_PAGOS_TOTAL'})\n",
    ")\n",
    "\n",
    "#Unimos la variable al dataframe original\n",
    "installment_payments = installment_payments.merge(cambios_por_cliente, on='SK_ID_CURR', how='left')"
   ]
  },
  {
   "cell_type": "code",
   "execution_count": 5,
   "metadata": {},
   "outputs": [],
   "source": [
    "#Vamos a calcular una nueva variable. Media de ratio de pagos con más de 1000 días de retraso\n",
    "\n",
    "def generate_installment_payment_ratio_1000_mean_mean(installments):\n",
    "    # 1) Crear la diferencia de pago\n",
    "    df = installments.copy()\n",
    "    df['DIFF_PAYMENT'] = df['AMT_PAYMENT'] - df['AMT_INSTALMENT']\n",
    "\n",
    "    # 2) Filtrar solo cuotas con DAYS_INSTALLMENT > -1000\n",
    "    df_filtered = df[df['DAYS_INSTALMENT'] > -1000].copy()\n",
    "\n",
    "    # 3) Agrupar a nivel de SK_ID_PREV => mean de DIFF_PAYMENT\n",
    "    df_by_prev = (\n",
    "        df_filtered\n",
    "        .groupby('SK_ID_PREV', as_index=False)['DIFF_PAYMENT']\n",
    "        .mean()\n",
    "        .rename(columns={'DIFF_PAYMENT': 'MEAN_DIFF_PAYMENT_(LAST_1000)'})\n",
    "    )\n",
    "\n",
    "    # 4) Llevar SK_ID_CURR (porque SK_ID_PREV está ligado a un SK_ID_CURR)\n",
    "    #    y luego agrupar a nivel de SK_ID_CURR => mean\n",
    "    #    (por si un cliente tiene varios SK_ID_PREV)\n",
    "    #    Primero hacemos un merge para que df_by_prev tenga SK_ID_CURR\n",
    "    df_map_curr = (\n",
    "        df_filtered[['SK_ID_PREV','SK_ID_CURR']]\n",
    "        .drop_duplicates(subset='SK_ID_PREV')\n",
    "    )\n",
    "    df_by_prev = df_by_prev.merge(df_map_curr, on='SK_ID_PREV', how='left')\n",
    "\n",
    "    # 5) Ahora, agregamos a nivel de SK_ID_CURR\n",
    "    df_by_curr = (\n",
    "        df_by_prev\n",
    "        .groupby('SK_ID_CURR', as_index=False)['MEAN_DIFF_PAYMENT_(LAST_1000)']\n",
    "        .mean()\n",
    "        .rename(columns={\n",
    "            'MEAN_DIFF_PAYMENT_(LAST_1000)': 'installment_payment_ratio_1000_mean_mean'\n",
    "        })\n",
    "    )\n",
    "    return df_by_curr\n",
    "\n",
    "\n",
    "installment_payment_ratio_1000_mean_mean = generate_installment_payment_ratio_1000_mean_mean(installment_payments)\n",
    "installment_payments = installment_payments.merge(installment_payment_ratio_1000_mean_mean, on='SK_ID_CURR', how='left')"
   ]
  },
  {
   "cell_type": "code",
   "execution_count": 6,
   "metadata": {},
   "outputs": [],
   "source": [
    "#Agregaciones\n",
    "agg = {\n",
    "    'NUM_INSTALMENT_VERSION': ['max','nunique'],\n",
    "    'PAYMENT_INSTALLMENT_RATIO': ['max','mean','sum'],\n",
    "    'PAYMENT_DIFFERENCE': ['max','mean','sum'],\n",
    "    'PAGO_DE_MAS': ['mean','sum'],\n",
    "    'PAGO_DE_MENOS': ['mean','sum'],\n",
    "    'DAYS_PAST_DUE': ['max','mean','sum'],\n",
    "    'DAYS_BEFORE_DUE': ['max','mean','sum'],\n",
    "    'DAYS_PAST_DUE_RATIO': ['max','mean','sum'],\n",
    "    'DAYS_BEFORE_DUE_RATIO': ['max','mean','sum'],\n",
    "    'PAGO_RETRASADO': ['mean','sum'],\n",
    "    'PAGO_ANTICIPADO': ['mean','sum'],\n",
    "    'NUM_CAMBIOS_PLAN_PAGOS_TOTAL': ['max','mean','sum'],\n",
    "    'installment_payment_ratio_1000_mean_mean': ['max','mean','sum']\n",
    "}\n",
    "\n",
    "installment_payments_agg = installment_payments.groupby('SK_ID_CURR').agg(agg)\n",
    "installment_payments_agg.columns = pd.Index([e[0] + \"_\" + e[1].upper() + '_(INSTALL_PAY)' for e in installment_payments_agg.columns.tolist()])"
   ]
  },
  {
   "cell_type": "code",
   "execution_count": 7,
   "metadata": {},
   "outputs": [
    {
     "data": {
      "text/plain": [
       "0"
      ]
     },
     "execution_count": 7,
     "metadata": {},
     "output_type": "execute_result"
    }
   ],
   "source": [
    "#Vamos a añadir el número de pagos realizados por cada cliente\n",
    "pagos_realizados = installment_payments[['SK_ID_CURR', 'NUM_INSTALMENT_NUMBER']].groupby('SK_ID_CURR', as_index=False, sort=False).count()\n",
    "pagos_realizados = pagos_realizados.rename(columns={'NUM_INSTALMENT_NUMBER': 'NUM_PAGOS_REALIZADOS_(INSTALL_PAY)'})\n",
    "installment_payments_agg = installment_payments_agg.join(pagos_realizados.set_index('SK_ID_CURR'), on='SK_ID_CURR', how='left')\n",
    "del pagos_realizados\n",
    "gc.collect()"
   ]
  },
  {
   "cell_type": "code",
   "execution_count": 8,
   "metadata": {},
   "outputs": [
    {
     "data": {
      "text/plain": [
       "0"
      ]
     },
     "execution_count": 8,
     "metadata": {},
     "output_type": "execute_result"
    }
   ],
   "source": [
    "#Vamos a añadir una variable que nos dé la última versión de pago\n",
    "last_version = installment_payments[['SK_ID_CURR','DAYS_INSTALMENT','NUM_INSTALMENT_VERSION']]\n",
    "last_version = last_version.loc[last_version.sort_values(['SK_ID_CURR','DAYS_INSTALMENT']).drop_duplicates('SK_ID_CURR', keep='last').index]\n",
    "last_version = last_version.rename(columns={'NUM_INSTALMENT_VERSION': 'LAST_VERSION_(INSTALL_PAY)'})\n",
    "installment_payments_agg = installment_payments_agg.join(last_version.set_index('SK_ID_CURR'), on='SK_ID_CURR', how='left')\n",
    "del last_version\n",
    "gc.collect()"
   ]
  },
  {
   "cell_type": "code",
   "execution_count": 9,
   "metadata": {},
   "outputs": [
    {
     "data": {
      "text/plain": [
       "(339587, 37)"
      ]
     },
     "execution_count": 9,
     "metadata": {},
     "output_type": "execute_result"
    }
   ],
   "source": [
    "installment_payments_agg.shape\n",
    "#installment_payments_agg.to_csv(r'/home/yeray/TFG-Home-Credit-Default-Risk/JUPYTER_NOTEBOOKS/DATA/installment_payments_agg.csv', index = False)"
   ]
  },
  {
   "cell_type": "code",
   "execution_count": null,
   "metadata": {},
   "outputs": [],
   "source": []
  }
 ],
 "metadata": {
  "kernelspec": {
   "display_name": "tfg-py3.12",
   "language": "python",
   "name": "tfg-py3.12"
  },
  "language_info": {
   "codemirror_mode": {
    "name": "ipython",
    "version": 3
   },
   "file_extension": ".py",
   "mimetype": "text/x-python",
   "name": "python",
   "nbconvert_exporter": "python",
   "pygments_lexer": "ipython3",
   "version": "3.12.8"
  }
 },
 "nbformat": 4,
 "nbformat_minor": 4
}
