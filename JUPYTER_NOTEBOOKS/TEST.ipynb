{
 "cells": [
  {
   "cell_type": "code",
   "execution_count": 1,
   "id": "8ab71b67-6975-4806-98fb-647c705507f8",
   "metadata": {},
   "outputs": [
    {
     "name": "stdout",
     "output_type": "stream",
     "text": [
      "1.26.4\n",
      "Directorio actual: /home/yeray/TFG-Home-Credit-Default-Risk/JUPYTER_NOTEBOOKS\n",
      "(48744, 1323)\n",
      "(307511, 1323)\n"
     ]
    }
   ],
   "source": [
    "#Celda para librerías\n",
    "import sklearn as sk\n",
    "\n",
    "\n",
    "import matplotlib as plt\n",
    "import matplotlib.pyplot as plt\n",
    "\n",
    "import pandas as pd\n",
    "import seaborn as sns\n",
    "import numpy as np\n",
    "from sklearn.model_selection import train_test_split, cross_val_score\n",
    "\n",
    "from sklearn.model_selection import StratifiedKFold\n",
    "\n",
    "# LightGBM\n",
    "from lightgbm import LGBMClassifier\n",
    "import lightgbm as lgb\n",
    "\n",
    "\n",
    "\n",
    "from hyperopt import hp, fmin, tpe, STATUS_OK, Trials\n",
    "from sklearn.model_selection import cross_val_score\n",
    "\n",
    "\n",
    "import json\n",
    "\n",
    "import warnings\n",
    "warnings.filterwarnings('ignore')\n",
    "\n",
    "print(np.__version__)\n",
    "from ydata_profiling import ProfileReport\n",
    "import os\n",
    "print(\"Directorio actual:\", os.getcwd())\n",
    "\n",
    "# Have all columns appear when dataframes are displayed.\n",
    "pd.set_option('display.max_columns', None) \n",
    "# Have 100 rows appear when a dataframe is displayed\n",
    "pd.set_option('display.max_rows', 500)\n",
    "# Display dimensions whenever a dataframe is printed out.\n",
    "pd.set_option('display.show_dimensions', True)\n",
    "\n",
    "#Importando los datos\n",
    "\n",
    "#app_train_def = pd.read_csv(r'C:/Users/Yeray/Desktop/DATA_SCIENCE_ML/Home-Credit-TFG/DATA/application_train_preprocesado_definitivo_v1.csv')\n",
    "#app_train_def_2 = pd.read_csv(r'/home/yeray/TFG-Home-Credit-Default-Risk/JUPYTER_NOTEBOOKS/DATA/application_train_preprocesado_definitivo_v2.csv')\n",
    "#app_train_def_3 = pd.read_csv(r'/home/yeray/TFG-Home-Credit-Default-Risk/JUPYTER_NOTEBOOKS/DATA/application_train_preprocesado_definitivo_v3.csv')\n",
    "#app_train_def_4 = pd.read_csv(r'/home/yeray/TFG-Home-Credit-Default-Risk/JUPYTER_NOTEBOOKS/DATA/application_train_preprocesado_definitivo_v4.csv')\n",
    "app_train_def_7 = pd.read_csv(r'/home/yeray/TFG-Home-Credit-Default-Risk/JUPYTER_NOTEBOOKS/DATA/application_train_preprocesado_definitivo_v7.csv')\n",
    "app_test = pd.read_csv(r'/home/yeray/TFG-Home-Credit-Default-Risk/JUPYTER_NOTEBOOKS/DATA/app_test_pruebav1.csv')\n",
    "#print(app_train_def_4.info())\n",
    "print(app_test.shape)\n",
    "print(app_train_def_7.shape)\n"
   ]
  },
  {
   "cell_type": "code",
   "execution_count": 3,
   "id": "cebdedf7-1f1f-4f7c-a69d-ef8bee407df9",
   "metadata": {},
   "outputs": [
    {
     "name": "stdout",
     "output_type": "stream",
     "text": [
      "Unnamed: 0.1                                            88770.923652\n",
      "TARGET                                                      0.272419\n",
      "NAME_CONTRACT_TYPE                                          0.293509\n",
      "CODE_GENDER                                                 0.474261\n",
      "FLAG_OWN_CAR                                                0.473746\n",
      "                                                            ...     \n",
      "LATEST_CREDIT_TYPE_CAT_(BUREAU)_Unknown type of loan        0.009711\n",
      "LATEST_CREDIT_ACTIVE_CAT_(BUREAU)_Active                    0.432494\n",
      "LATEST_CREDIT_ACTIVE_CAT_(BUREAU)_Bad debt                  0.001803\n",
      "LATEST_CREDIT_ACTIVE_CAT_(BUREAU)_Closed                    0.431233\n",
      "LATEST_CREDIT_ACTIVE_CAT_(BUREAU)_Sold                      0.046418\n",
      "Length: 1323, dtype: float64\n"
     ]
    }
   ],
   "source": [
    "varianza = app_train_def_7.std()\n",
    "print(varianza)"
   ]
  },
  {
   "cell_type": "code",
   "execution_count": 6,
   "id": "67f08fb7-8e30-49f5-be0a-b5de705bbeff",
   "metadata": {},
   "outputs": [
    {
     "data": {
      "text/plain": [
       "CLOSED_AMT_CREDIT_SUM_OVERDUE_TO_PROLONGED_RATIO_MEAN_(BUREAU)                               0.0\n",
       "CLOSED_AMT_CREDIT_SUM_OVERDUE_TO_PROLONGED_RATIO_MAX_(BUREAU)                                0.0\n",
       "CLOSED_AMT_CREDIT_SUM_OVERDUE_TO_PROLONGED_RATIO_MIN_(BUREAU)                                0.0\n",
       "CLOSED_AMT_CREDIT_SUM_LIMIT_TO_AMT_CREDIT_SUM_OVERDUE_RATIO_MEAN_(BUREAU)                    0.0\n",
       "CLOSED_AMT_CREDIT_SUM_LIMIT_TO_AMT_CREDIT_SUM_OVERDUE_RATIO_MAX_(BUREAU)                     0.0\n",
       "CLOSED_AMT_CREDIT_SUM_LIMIT_TO_AMT_CREDIT_SUM_OVERDUE_RATIO_MIN_(BUREAU)                     0.0\n",
       "RATIO_ACTIVE_TO_CLOSED_CREDIT_DAY_OVERDUE_MIN_(BUREAU)                                       0.0\n",
       "RATIO_ACTIVE_TO_CLOSED_CNT_CREDIT_PROLONG_MIN_(BUREAU)                                       0.0\n",
       "RATIO_ACTIVE_TO_CLOSED_AMT_CREDIT_SUM_OVERDUE_MIN_(BUREAU)                                   0.0\n",
       "RATIO_ACTIVE_TO_CLOSED_AMT_CREDIT_SUM_OVERDUE_TO_PROLONGED_RATIO_MEAN_(BUREAU)               0.0\n",
       "RATIO_ACTIVE_TO_CLOSED_AMT_CREDIT_SUM_OVERDUE_TO_PROLONGED_RATIO_MAX_(BUREAU)                0.0\n",
       "RATIO_ACTIVE_TO_CLOSED_AMT_CREDIT_SUM_OVERDUE_TO_PROLONGED_RATIO_MIN_(BUREAU)                0.0\n",
       "RATIO_ACTIVE_TO_CLOSED_AMT_CREDIT_SUM_TO_AMT_CREDIT_SUM_OVERDUE_RATIO_MEAN_(BUREAU)          0.0\n",
       "RATIO_ACTIVE_TO_CLOSED_AMT_CREDIT_SUM_TO_AMT_CREDIT_SUM_OVERDUE_RATIO_MAX_(BUREAU)           0.0\n",
       "RATIO_ACTIVE_TO_CLOSED_AMT_CREDIT_SUM_LIMIT_TO_AMT_CREDIT_SUM_OVERDUE_RATIO_MEAN_(BUREAU)    0.0\n",
       "RATIO_ACTIVE_TO_CLOSED_AMT_CREDIT_SUM_LIMIT_TO_AMT_CREDIT_SUM_OVERDUE_RATIO_MAX_(BUREAU)     0.0\n",
       "RATIO_ACTIVE_TO_CLOSED_AMT_CREDIT_SUM_LIMIT_TO_AMT_CREDIT_SUM_OVERDUE_RATIO_MIN_(BUREAU)     0.0\n",
       "APPROVED_DIFF_APP_GOODS_MIN                                                                  0.0\n",
       "APPROVED_DIFF_APP_GOODS_MAX                                                                  0.0\n",
       "APPROVED_DIFF_APP_GOODS_MEAN                                                                 0.0\n",
       "RATIO_APPROVED_TO_REFUSED_DIFF_APP_GOODS_MIN                                                 0.0\n",
       "RATIO_APPROVED_TO_REFUSED_DIFF_APP_GOODS_MAX                                                 0.0\n",
       "RATIO_APPROVED_TO_REFUSED_DIFF_APP_GOODS_MEAN                                                0.0\n",
       "NUMBER_CONTRACTS_MOST_RECENTLY_COMPLETED_CAT_(POS_CASH)                                      0.0\n",
       "NUMBER_CONTRACTS_MOST_RECENTLY_SIGNED_CAT_(POS_CASH)                                         0.0\n",
       "SK_DPD_MIN_(CREDIT_CARD)                                                                     0.0\n",
       "SK_DPD_DEF_MIN_(CREDIT_CARD)                                                                 0.0\n",
       "SK_DPD_SK_DPD_DEF_DIFF_MIN_(CREDIT_CARD)                                                     0.0\n",
       "Length: 28, dtype: float64"
      ]
     },
     "execution_count": 6,
     "metadata": {},
     "output_type": "execute_result"
    }
   ],
   "source": [
    "varianza[varianza==0]"
   ]
  },
  {
   "cell_type": "code",
   "execution_count": 26,
   "id": "f0aa91fb-cce8-43c5-aa03-b6a545edb3af",
   "metadata": {},
   "outputs": [
    {
     "name": "stdout",
     "output_type": "stream",
     "text": [
      "0        100001\n",
      "1        100005\n",
      "2        100013\n",
      "3        100028\n",
      "4        100038\n",
      "          ...  \n",
      "48739    456221\n",
      "48740    456222\n",
      "48741    456223\n",
      "48742    456224\n",
      "48743    456250\n",
      "Name: SK_ID_CURR, Length: 48744, dtype: int64\n"
     ]
    }
   ],
   "source": [
    "test_ids = app_test['SK_ID_CURR'].copy()\n",
    "print(app_test['SK_ID_CURR'])\n",
    "app_test.drop(columns=['SK_ID_CURR'], inplace=True)"
   ]
  },
  {
   "cell_type": "code",
   "execution_count": 27,
   "id": "d051b809-b7c8-464d-8e82-6a9cfd227c81",
   "metadata": {},
   "outputs": [],
   "source": [
    "#Train y Test\n",
    "X = app_train_def_7.drop(columns = ['TARGET'])\n",
    "y = app_train_def_7['TARGET']\n",
    "\n",
    "\n",
    "X.columns = X.columns.str.replace('[^A-Za-z0-9_]+', '', regex=True)\n",
    "app_test.columns = app_test.columns.str.replace('[^A-Za-z0-9_]+', '', regex=True)"
   ]
  },
  {
   "cell_type": "code",
   "execution_count": null,
   "id": "a2d4ee7d-410d-4368-af0e-40755c0f5a5a",
   "metadata": {},
   "outputs": [],
   "source": [
    "app_test = app_test.reindex(columns=X.columns, fill_value=0)\n",
    "test_ids = app_test['SK_ID_CURR'].copy()\n",
    "print(app_test.shape)\n",
    "print(X.shape)"
   ]
  },
  {
   "cell_type": "code",
   "execution_count": 28,
   "id": "9a692791-fed6-4855-b056-f74896acdd69",
   "metadata": {},
   "outputs": [
    {
     "name": "stdout",
     "output_type": "stream",
     "text": [
      "[LightGBM] [Warning] bagging_freq is set=16, subsample_freq=0 will be ignored. Current value: bagging_freq=16\n",
      "[LightGBM] [Warning] min_gain_to_split is set=0.0269529, min_split_gain=0.0 will be ignored. Current value: min_gain_to_split=0.0269529\n",
      "[LightGBM] [Warning] feature_fraction is set=0.106319, colsample_bytree=1.0 will be ignored. Current value: feature_fraction=0.106319\n",
      "[LightGBM] [Warning] bagging_fraction is set=0.891186, subsample=1.0 will be ignored. Current value: bagging_fraction=0.891186\n",
      "[LightGBM] [Warning] bagging_freq is set=16, subsample_freq=0 will be ignored. Current value: bagging_freq=16\n",
      "[LightGBM] [Warning] min_gain_to_split is set=0.0269529, min_split_gain=0.0 will be ignored. Current value: min_gain_to_split=0.0269529\n",
      "[LightGBM] [Warning] feature_fraction is set=0.106319, colsample_bytree=1.0 will be ignored. Current value: feature_fraction=0.106319\n",
      "[LightGBM] [Warning] bagging_fraction is set=0.891186, subsample=1.0 will be ignored. Current value: bagging_fraction=0.891186\n",
      "[LightGBM] [Info] Number of positive: 24825, number of negative: 282686\n",
      "[LightGBM] [Info] Auto-choosing col-wise multi-threading, the overhead of testing was 1.332988 seconds.\n",
      "You can set `force_col_wise=true` to remove the overhead.\n",
      "[LightGBM] [Info] Total Bins 265853\n",
      "[LightGBM] [Info] Number of data points in the train set: 307511, number of used features: 1259\n",
      "[LightGBM] [Info] [binary:BoostFromScore]: pavg=0.080729 -> initscore=-2.432486\n",
      "[LightGBM] [Info] Start training from score -2.432486\n"
     ]
    },
    {
     "data": {
      "text/html": [
       "<style>#sk-container-id-3 {color: black;}#sk-container-id-3 pre{padding: 0;}#sk-container-id-3 div.sk-toggleable {background-color: white;}#sk-container-id-3 label.sk-toggleable__label {cursor: pointer;display: block;width: 100%;margin-bottom: 0;padding: 0.3em;box-sizing: border-box;text-align: center;}#sk-container-id-3 label.sk-toggleable__label-arrow:before {content: \"▸\";float: left;margin-right: 0.25em;color: #696969;}#sk-container-id-3 label.sk-toggleable__label-arrow:hover:before {color: black;}#sk-container-id-3 div.sk-estimator:hover label.sk-toggleable__label-arrow:before {color: black;}#sk-container-id-3 div.sk-toggleable__content {max-height: 0;max-width: 0;overflow: hidden;text-align: left;background-color: #f0f8ff;}#sk-container-id-3 div.sk-toggleable__content pre {margin: 0.2em;color: black;border-radius: 0.25em;background-color: #f0f8ff;}#sk-container-id-3 input.sk-toggleable__control:checked~div.sk-toggleable__content {max-height: 200px;max-width: 100%;overflow: auto;}#sk-container-id-3 input.sk-toggleable__control:checked~label.sk-toggleable__label-arrow:before {content: \"▾\";}#sk-container-id-3 div.sk-estimator input.sk-toggleable__control:checked~label.sk-toggleable__label {background-color: #d4ebff;}#sk-container-id-3 div.sk-label input.sk-toggleable__control:checked~label.sk-toggleable__label {background-color: #d4ebff;}#sk-container-id-3 input.sk-hidden--visually {border: 0;clip: rect(1px 1px 1px 1px);clip: rect(1px, 1px, 1px, 1px);height: 1px;margin: -1px;overflow: hidden;padding: 0;position: absolute;width: 1px;}#sk-container-id-3 div.sk-estimator {font-family: monospace;background-color: #f0f8ff;border: 1px dotted black;border-radius: 0.25em;box-sizing: border-box;margin-bottom: 0.5em;}#sk-container-id-3 div.sk-estimator:hover {background-color: #d4ebff;}#sk-container-id-3 div.sk-parallel-item::after {content: \"\";width: 100%;border-bottom: 1px solid gray;flex-grow: 1;}#sk-container-id-3 div.sk-label:hover label.sk-toggleable__label {background-color: #d4ebff;}#sk-container-id-3 div.sk-serial::before {content: \"\";position: absolute;border-left: 1px solid gray;box-sizing: border-box;top: 0;bottom: 0;left: 50%;z-index: 0;}#sk-container-id-3 div.sk-serial {display: flex;flex-direction: column;align-items: center;background-color: white;padding-right: 0.2em;padding-left: 0.2em;position: relative;}#sk-container-id-3 div.sk-item {position: relative;z-index: 1;}#sk-container-id-3 div.sk-parallel {display: flex;align-items: stretch;justify-content: center;background-color: white;position: relative;}#sk-container-id-3 div.sk-item::before, #sk-container-id-3 div.sk-parallel-item::before {content: \"\";position: absolute;border-left: 1px solid gray;box-sizing: border-box;top: 0;bottom: 0;left: 50%;z-index: -1;}#sk-container-id-3 div.sk-parallel-item {display: flex;flex-direction: column;z-index: 1;position: relative;background-color: white;}#sk-container-id-3 div.sk-parallel-item:first-child::after {align-self: flex-end;width: 50%;}#sk-container-id-3 div.sk-parallel-item:last-child::after {align-self: flex-start;width: 50%;}#sk-container-id-3 div.sk-parallel-item:only-child::after {width: 0;}#sk-container-id-3 div.sk-dashed-wrapped {border: 1px dashed gray;margin: 0 0.4em 0.5em 0.4em;box-sizing: border-box;padding-bottom: 0.4em;background-color: white;}#sk-container-id-3 div.sk-label label {font-family: monospace;font-weight: bold;display: inline-block;line-height: 1.2em;}#sk-container-id-3 div.sk-label-container {text-align: center;}#sk-container-id-3 div.sk-container {/* jupyter's `normalize.less` sets `[hidden] { display: none; }` but bootstrap.min.css set `[hidden] { display: none !important; }` so we also need the `!important` here to be able to override the default hidden behavior on the sphinx rendered scikit-learn.org. See: https://github.com/scikit-learn/scikit-learn/issues/21755 */display: inline-block !important;position: relative;}#sk-container-id-3 div.sk-text-repr-fallback {display: none;}</style><div id=\"sk-container-id-3\" class=\"sk-top-container\"><div class=\"sk-text-repr-fallback\"><pre>LGBMClassifier(bagging_fraction=0.891186, bagging_freq=16,\n",
       "               feature_fraction=0.106319, is_unbalance=False,\n",
       "               learning_rate=0.0173115, max_bin=300, metric=&#x27;auc&#x27;,\n",
       "               min_child_samples=101, min_child_weight=0.0137934,\n",
       "               min_gain_to_split=0.0269529, n_estimators=2000, num_leaves=41,\n",
       "               objective=&#x27;binary&#x27;, random_state=42, reg_alpha=0.0906638,\n",
       "               reg_lambda=31.1379, scale_pos_weight=1)</pre><b>In a Jupyter environment, please rerun this cell to show the HTML representation or trust the notebook. <br />On GitHub, the HTML representation is unable to render, please try loading this page with nbviewer.org.</b></div><div class=\"sk-container\" hidden><div class=\"sk-item\"><div class=\"sk-estimator sk-toggleable\"><input class=\"sk-toggleable__control sk-hidden--visually\" id=\"sk-estimator-id-3\" type=\"checkbox\" checked><label for=\"sk-estimator-id-3\" class=\"sk-toggleable__label sk-toggleable__label-arrow\">LGBMClassifier</label><div class=\"sk-toggleable__content\"><pre>LGBMClassifier(bagging_fraction=0.891186, bagging_freq=16,\n",
       "               feature_fraction=0.106319, is_unbalance=False,\n",
       "               learning_rate=0.0173115, max_bin=300, metric=&#x27;auc&#x27;,\n",
       "               min_child_samples=101, min_child_weight=0.0137934,\n",
       "               min_gain_to_split=0.0269529, n_estimators=2000, num_leaves=41,\n",
       "               objective=&#x27;binary&#x27;, random_state=42, reg_alpha=0.0906638,\n",
       "               reg_lambda=31.1379, scale_pos_weight=1)</pre></div></div></div></div></div>"
      ],
      "text/plain": [
       "LGBMClassifier(bagging_fraction=0.891186, bagging_freq=16,\n",
       "               feature_fraction=0.106319, is_unbalance=False,\n",
       "               learning_rate=0.0173115, max_bin=300, metric='auc',\n",
       "               min_child_samples=101, min_child_weight=0.0137934,\n",
       "               min_gain_to_split=0.0269529, n_estimators=2000, num_leaves=41,\n",
       "               objective='binary', random_state=42, reg_alpha=0.0906638,\n",
       "               reg_lambda=31.1379, scale_pos_weight=1)"
      ]
     },
     "execution_count": 28,
     "metadata": {},
     "output_type": "execute_result"
    }
   ],
   "source": [
    "best_params = {\n",
    "    'boosting_type': 'gbdt',  # Fijo\n",
    "    'objective': 'binary',   # Fijo\n",
    "    'metric': 'auc',         # Fijo\n",
    "    'num_leaves': 41,        \n",
    "    'learning_rate': 0.0173115 ,   \n",
    "    'max_depth': -1,         # Fijo\n",
    "    'bagging_fraction': 0.891186 ,\n",
    "    'bagging_freq': 16,\n",
    "    'feature_fraction':   0.106319 ,\n",
    "    'max_bin': 300,\n",
    "    'min_child_samples': 101,\n",
    "    'min_child_weight':   0.0137934,\n",
    "    'min_gain_to_split': 0.0269529 ,\n",
    "    'reg_alpha': 0.0906638,\n",
    "    'reg_lambda': 31.1379,\n",
    "    'scale_pos_weight': 1,   # Fijo\n",
    "    'is_unbalance': False,   # Fijo\n",
    "}\n",
    "\n",
    "final_model_lgb = LGBMClassifier(\n",
    "    n_estimators=2000,\n",
    "    boosting_type=best_params['boosting_type'],\n",
    "    objective=best_params['objective'],\n",
    "    metric=best_params['metric'],\n",
    "    num_leaves=best_params['num_leaves'],\n",
    "    learning_rate=best_params['learning_rate'],\n",
    "    max_bin=best_params['max_bin'],\n",
    "    max_depth=best_params['max_depth'],\n",
    "    bagging_fraction=best_params['bagging_fraction'],\n",
    "    bagging_freq=best_params['bagging_freq'],   \n",
    "    feature_fraction=best_params['feature_fraction'],\n",
    "    min_child_samples=best_params['min_child_samples'],\n",
    "    min_child_weight=best_params['min_child_weight'],\n",
    "    min_gain_to_split=best_params['min_gain_to_split'],\n",
    "    reg_alpha=best_params['reg_alpha'],\n",
    "    reg_lambda=best_params['reg_lambda'],\n",
    "    scale_pos_weight=1,\n",
    "    is_unbalance=False,\n",
    "    random_state=42\n",
    ")\n",
    "\n",
    "final_model_lgb.fit(X, y)"
   ]
  },
  {
   "cell_type": "code",
   "execution_count": 29,
   "id": "d5996762-e0d2-4554-8cc0-90704dd8736b",
   "metadata": {},
   "outputs": [
    {
     "name": "stdout",
     "output_type": "stream",
     "text": [
      "[LightGBM] [Warning] bagging_freq is set=16, subsample_freq=0 will be ignored. Current value: bagging_freq=16\n",
      "[LightGBM] [Warning] min_gain_to_split is set=0.0269529, min_split_gain=0.0 will be ignored. Current value: min_gain_to_split=0.0269529\n",
      "[LightGBM] [Warning] feature_fraction is set=0.106319, colsample_bytree=1.0 will be ignored. Current value: feature_fraction=0.106319\n",
      "[LightGBM] [Warning] bagging_fraction is set=0.891186, subsample=1.0 will be ignored. Current value: bagging_fraction=0.891186\n"
     ]
    }
   ],
   "source": [
    "y_pred_proba = final_model_lgb.predict_proba(app_test)[:, 1]\n",
    "from sklearn.metrics import roc_auc_score\n",
    "#auc_test = roc_auc_score(y_test, y_pred_proba)\n",
    "#print(f'AUC en test: {auc_test}')\n",
    "\n",
    "submision = pd.DataFrame({\n",
    "    'SK_ID_CURR': test_ids,\n",
    "    'TARGET': y_pred_proba\n",
    "})\n",
    "submision['SK_ID_CURR'] = test_ids.astype('int32')\n",
    "submision.to_csv('mysubmission.csv', index=False)"
   ]
  },
  {
   "cell_type": "code",
   "execution_count": null,
   "id": "c014c71f-8df0-4337-baef-5a5175fa5947",
   "metadata": {},
   "outputs": [],
   "source": []
  }
 ],
 "metadata": {
  "kernelspec": {
   "display_name": "tfg-py3.12",
   "language": "python",
   "name": "tfg-py3.12"
  },
  "language_info": {
   "codemirror_mode": {
    "name": "ipython",
    "version": 3
   },
   "file_extension": ".py",
   "mimetype": "text/x-python",
   "name": "python",
   "nbconvert_exporter": "python",
   "pygments_lexer": "ipython3",
   "version": "3.12.8"
  }
 },
 "nbformat": 4,
 "nbformat_minor": 5
}
