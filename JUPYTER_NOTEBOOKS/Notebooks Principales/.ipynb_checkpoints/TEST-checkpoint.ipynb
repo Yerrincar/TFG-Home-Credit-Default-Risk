{
 "cells": [
  {
   "cell_type": "code",
   "execution_count": 3,
   "id": "8ab71b67-6975-4806-98fb-647c705507f8",
   "metadata": {},
   "outputs": [
    {
     "name": "stdout",
     "output_type": "stream",
     "text": [
      "1.26.4\n",
      "Directorio actual: /home/yeray/TFG-Home-Credit-Default-Risk/JUPYTER_NOTEBOOKS\n"
     ]
    }
   ],
   "source": [
    "#Celda para librerías\n",
    "import sklearn as sk\n",
    "\n",
    "\n",
    "import matplotlib as plt\n",
    "import matplotlib.pyplot as plt\n",
    "\n",
    "import pandas as pd\n",
    "import seaborn as sns\n",
    "import numpy as np\n",
    "from sklearn.model_selection import train_test_split, cross_val_score\n",
    "\n",
    "from sklearn.model_selection import StratifiedKFold\n",
    "\n",
    "# LightGBM\n",
    "from lightgbm import LGBMClassifier\n",
    "import lightgbm as lgb\n",
    "\n",
    "\n",
    "\n",
    "from hyperopt import hp, fmin, tpe, STATUS_OK, Trials\n",
    "from sklearn.model_selection import cross_val_score\n",
    "\n",
    "\n",
    "import json\n",
    "\n",
    "import warnings\n",
    "warnings.filterwarnings('ignore')\n",
    "\n",
    "print(np.__version__)\n",
    "from ydata_profiling import ProfileReport\n",
    "import os\n",
    "print(\"Directorio actual:\", os.getcwd())\n",
    "\n",
    "# Have all columns appear when dataframes are displayed.\n",
    "pd.set_option('display.max_columns', None) \n",
    "# Have 100 rows appear when a dataframe is displayed\n",
    "pd.set_option('display.max_rows', 500)\n",
    "# Display dimensions whenever a dataframe is printed out.\n",
    "pd.set_option('display.show_dimensions', True)\n",
    "\n",
    "#Importando los datos\n",
    "\n",
    "#app_train_def = pd.read_csv(r'C:/Users/Yeray/Desktop/DATA_SCIENCE_ML/Home-Credit-TFG/DATA/application_train_preprocesado_definitivo_v1.csv')\n",
    "#app_train_def_2 = pd.read_csv(r'/home/yeray/TFG-Home-Credit-Default-Risk/JUPYTER_NOTEBOOKS/DATA/application_train_preprocesado_definitivo_v2.csv')\n",
    "#app_train_def_3 = pd.read_csv(r'/home/yeray/TFG-Home-Credit-Default-Risk/JUPYTER_NOTEBOOKS/DATA/application_train_preprocesado_definitivo_v3.csv')\n",
    "#app_train_def_4 = pd.read_csv(r'/home/yeray/TFG-Home-Credit-Default-Risk/JUPYTER_NOTEBOOKS/DATA/application_train_preprocesado_definitivo_v4.csv')\n",
    "#app_train_def_7 = pd.read_csv(r'/home/yeray/TFG-Home-Credit-Default-Risk/JUPYTER_NOTEBOOKS/DATA/application_train_preprocesado_definitivo_v7.csv')\n",
    "#app_test = pd.read_csv(r'/home/yeray/TFG-Home-Credit-Default-Risk/JUPYTER_NOTEBOOKS/DATA/app_test_pruebav1.csv')\n",
    "app_train_def_7 = pd.read_csv(r'/home/yeray/TFG-Home-Credit-Default-Risk/JUPYTER_NOTEBOOKS/DATA/app_def_v7_menor_dimension.csv')\n",
    "app_test = pd.read_csv(r'/home/yeray/TFG-Home-Credit-Default-Risk/JUPYTER_NOTEBOOKS/DATA/app_test_menor_dimension.csv')\n",
    "#print(app_train_def_4.info())\n",
    "#print(app_test.shape)\n",
    "#print(app_train_def_7.shape)\n"
   ]
  },
  {
   "cell_type": "code",
   "execution_count": 4,
   "id": "f0aa91fb-cce8-43c5-aa03-b6a545edb3af",
   "metadata": {},
   "outputs": [
    {
     "name": "stdout",
     "output_type": "stream",
     "text": [
      "0        100001\n",
      "1        100005\n",
      "2        100013\n",
      "3        100028\n",
      "4        100038\n",
      "          ...  \n",
      "48739    456221\n",
      "48740    456222\n",
      "48741    456223\n",
      "48742    456224\n",
      "48743    456250\n",
      "Name: SK_ID_CURR, Length: 48744, dtype: int64\n"
     ]
    }
   ],
   "source": [
    "test_ids = app_test['SK_ID_CURR'].copy()\n",
    "print(app_test['SK_ID_CURR'])\n",
    "app_test.drop(columns=['SK_ID_CURR'], inplace=True)"
   ]
  },
  {
   "cell_type": "code",
   "execution_count": 5,
   "id": "d051b809-b7c8-464d-8e82-6a9cfd227c81",
   "metadata": {},
   "outputs": [],
   "source": [
    "#Train y Test\n",
    "X = app_train_def_7.drop(columns = ['TARGET'])\n",
    "y = app_train_def_7['TARGET']\n",
    "\n",
    "\n",
    "X.columns = X.columns.str.replace('[^A-Za-z0-9_]+', '', regex=True)\n",
    "app_test.columns = app_test.columns.str.replace('[^A-Za-z0-9_]+', '', regex=True)"
   ]
  },
  {
   "cell_type": "code",
   "execution_count": null,
   "id": "a2d4ee7d-410d-4368-af0e-40755c0f5a5a",
   "metadata": {},
   "outputs": [],
   "source": [
    "app_test = app_test.reindex(columns=X.columns, fill_value=0)\n",
    "test_ids = app_test['SK_ID_CURR'].copy()\n",
    "print(app_test.shape)\n",
    "print(X.shape)"
   ]
  },
  {
   "cell_type": "code",
   "execution_count": 6,
   "id": "8c543c93-1174-4e1a-bb12-3bb0a04be04c",
   "metadata": {},
   "outputs": [],
   "source": [
    "import pickle\n",
    "#with open(\"XGBoost_Optuna_Study_v7_completo.pkl\", \"wb\") as f:\n",
    "#    pickle.dump(study_completo, f)\n",
    "with open(\"/home/yeray/TFG-Home-Credit-Default-Risk/JUPYTER_NOTEBOOKS/XGBoost_Optuna_Study_v7_completo_1183_features_v7.pkl\", \"rb\") as f:\n",
    "    loaded_study_completo = pickle.load(f)"
   ]
  },
  {
   "cell_type": "code",
   "execution_count": 7,
   "id": "92043398-6eee-45c3-9968-f7cb1d78bb1d",
   "metadata": {},
   "outputs": [
    {
     "name": "stdout",
     "output_type": "stream",
     "text": [
      "+----+----------+----------+----------------------------+----------------------------+------------------------+---------------------------+----------------+------------------------+------------------+--------------------+---------------------------+-----------------------+--------------------+---------------------+---------------------------+--------------------+----------------------+----------+\n",
      "|    |   number |    value | datetime_start             | datetime_complete          | duration               |   params_colsample_bytree |   params_gamma |   params_learning_rate |   params_max_bin |   params_max_depth |   params_min_child_weight |   params_n_estimators |   params_reg_alpha |   params_reg_lambda |   params_scale_pos_weight |   params_subsample | params_tree_method   | state    |\n",
      "|----+----------+----------+----------------------------+----------------------------+------------------------+---------------------------+----------------+------------------------+------------------+--------------------+---------------------------+-----------------------+--------------------+---------------------+---------------------------+--------------------+----------------------+----------|\n",
      "| 79 |       79 | 0.794821 | 2025-03-31 13:44:59.407456 | 2025-03-31 14:24:39.023798 | 0 days 00:39:39.616342 |                  0.598892 |       0.665622 |              0.0144741 |              310 |                  6 |                        22 |                  2300 |        1.01062e-06 |             7.42944 |                   1.25308 |           0.792398 | auto                 | COMPLETE |\n",
      "| 94 |       94 | 0.79481  | 2025-03-31 23:40:03.195824 | 2025-04-01 00:19:06.150474 | 0 days 00:39:02.954650 |                  0.593446 |       0.74747  |              0.0153522 |              310 |                  6 |                        23 |                  2300 |        8.8952e-06  |            24.8978  |                   1.30385 |           0.785874 | hist                 | COMPLETE |\n",
      "| 77 |       77 | 0.794685 | 2025-03-31 12:26:17.849049 | 2025-03-31 13:05:31.524006 | 0 days 00:39:13.674957 |                  0.575669 |       0.65359  |              0.0139618 |              310 |                  6 |                        23 |                  2300 |        5.21216e-07 |            14.0884  |                   1.29618 |           0.779087 | auto                 | COMPLETE |\n",
      "| 87 |       87 | 0.794593 | 2025-03-31 18:57:09.363407 | 2025-03-31 19:36:29.890707 | 0 days 00:39:20.527300 |                  0.586568 |       0.736048 |              0.0132875 |              320 |                  6 |                        23 |                  2300 |        3.30266e-06 |            17.1241  |                   1.18088 |           0.796127 | auto                 | COMPLETE |\n",
      "| 98 |       98 | 0.794578 | 2025-04-01 02:13:03.752528 | 2025-04-01 02:51:30.743804 | 0 days 00:38:26.991276 |                  0.584046 |       0.785187 |              0.0134401 |              320 |                  6 |                        20 |                  2250 |        1.75516e-05 |            37.075   |                   1.20694 |           0.818671 | hist                 | COMPLETE |\n",
      "| 76 |       76 | 0.794553 | 2025-03-31 11:46:20.687986 | 2025-03-31 12:26:17.846647 | 0 days 00:39:57.158661 |                  0.574209 |       0.660728 |              0.0140279 |              310 |                  6 |                        24 |                  2300 |        4.2611e-07  |            17.473   |                   1.32007 |           0.778904 | auto                 | COMPLETE |\n",
      "| 97 |       97 | 0.794531 | 2025-04-01 01:33:57.962933 | 2025-04-01 02:13:03.749686 | 0 days 00:39:05.786753 |                  0.597759 |       0.782278 |              0.0134456 |              320 |                  6 |                        20 |                  2250 |        1.80981e-05 |            34.1611  |                   1.26395 |           0.817302 | hist                 | COMPLETE |\n",
      "| 99 |       99 | 0.794531 | 2025-04-01 02:51:30.746557 | 2025-04-01 03:29:49.514653 | 0 days 00:38:18.768096 |                  0.481328 |       0.786297 |              0.014843  |              320 |                  6 |                        20 |                  2250 |        5.11619e-05 |            33.2095  |                   1.12688 |           0.809599 | hist                 | COMPLETE |\n",
      "| 91 |       91 | 0.794526 | 2025-03-31 21:39:54.715804 | 2025-03-31 22:20:04.606980 | 0 days 00:40:09.891176 |                  0.57513  |       0.775964 |              0.0132196 |              320 |                  6 |                        20 |                  2300 |        6.86839e-06 |            16.1802  |                   1.32353 |           0.803912 | hist                 | COMPLETE |\n",
      "| 96 |       96 | 0.794492 | 2025-04-01 00:56:13.734304 | 2025-04-01 01:33:57.960575 | 0 days 00:37:44.226271 |                  0.591503 |       0.785454 |              0.014652  |              320 |                  6 |                        21 |                  2250 |        1.67047e-06 |            30.4231  |                   1.24351 |           0.817466 | auto                 | COMPLETE |\n",
      "+----+----------+----------+----------------------------+----------------------------+------------------------+---------------------------+----------------+------------------------+------------------+--------------------+---------------------------+-----------------------+--------------------+---------------------+---------------------------+--------------------+----------------------+----------+\n"
     ]
    }
   ],
   "source": [
    "from tabulate import tabulate\n",
    "\n",
    "trials_df = loaded_study_completo.trials_dataframe()\n",
    "\n",
    "df_sorted = trials_df.sort_values(by=\"value\", ascending=False)\n",
    "best_10 = df_sorted.head(10)\n",
    "\n",
    "print(tabulate(best_10, headers=\"keys\", tablefmt=\"psql\"))"
   ]
  },
  {
   "cell_type": "code",
   "execution_count": 8,
   "id": "7d9eed3b-3332-4aaf-b7ed-842f54f71eeb",
   "metadata": {},
   "outputs": [
    {
     "data": {
      "text/html": [
       "<style>#sk-container-id-1 {color: black;}#sk-container-id-1 pre{padding: 0;}#sk-container-id-1 div.sk-toggleable {background-color: white;}#sk-container-id-1 label.sk-toggleable__label {cursor: pointer;display: block;width: 100%;margin-bottom: 0;padding: 0.3em;box-sizing: border-box;text-align: center;}#sk-container-id-1 label.sk-toggleable__label-arrow:before {content: \"▸\";float: left;margin-right: 0.25em;color: #696969;}#sk-container-id-1 label.sk-toggleable__label-arrow:hover:before {color: black;}#sk-container-id-1 div.sk-estimator:hover label.sk-toggleable__label-arrow:before {color: black;}#sk-container-id-1 div.sk-toggleable__content {max-height: 0;max-width: 0;overflow: hidden;text-align: left;background-color: #f0f8ff;}#sk-container-id-1 div.sk-toggleable__content pre {margin: 0.2em;color: black;border-radius: 0.25em;background-color: #f0f8ff;}#sk-container-id-1 input.sk-toggleable__control:checked~div.sk-toggleable__content {max-height: 200px;max-width: 100%;overflow: auto;}#sk-container-id-1 input.sk-toggleable__control:checked~label.sk-toggleable__label-arrow:before {content: \"▾\";}#sk-container-id-1 div.sk-estimator input.sk-toggleable__control:checked~label.sk-toggleable__label {background-color: #d4ebff;}#sk-container-id-1 div.sk-label input.sk-toggleable__control:checked~label.sk-toggleable__label {background-color: #d4ebff;}#sk-container-id-1 input.sk-hidden--visually {border: 0;clip: rect(1px 1px 1px 1px);clip: rect(1px, 1px, 1px, 1px);height: 1px;margin: -1px;overflow: hidden;padding: 0;position: absolute;width: 1px;}#sk-container-id-1 div.sk-estimator {font-family: monospace;background-color: #f0f8ff;border: 1px dotted black;border-radius: 0.25em;box-sizing: border-box;margin-bottom: 0.5em;}#sk-container-id-1 div.sk-estimator:hover {background-color: #d4ebff;}#sk-container-id-1 div.sk-parallel-item::after {content: \"\";width: 100%;border-bottom: 1px solid gray;flex-grow: 1;}#sk-container-id-1 div.sk-label:hover label.sk-toggleable__label {background-color: #d4ebff;}#sk-container-id-1 div.sk-serial::before {content: \"\";position: absolute;border-left: 1px solid gray;box-sizing: border-box;top: 0;bottom: 0;left: 50%;z-index: 0;}#sk-container-id-1 div.sk-serial {display: flex;flex-direction: column;align-items: center;background-color: white;padding-right: 0.2em;padding-left: 0.2em;position: relative;}#sk-container-id-1 div.sk-item {position: relative;z-index: 1;}#sk-container-id-1 div.sk-parallel {display: flex;align-items: stretch;justify-content: center;background-color: white;position: relative;}#sk-container-id-1 div.sk-item::before, #sk-container-id-1 div.sk-parallel-item::before {content: \"\";position: absolute;border-left: 1px solid gray;box-sizing: border-box;top: 0;bottom: 0;left: 50%;z-index: -1;}#sk-container-id-1 div.sk-parallel-item {display: flex;flex-direction: column;z-index: 1;position: relative;background-color: white;}#sk-container-id-1 div.sk-parallel-item:first-child::after {align-self: flex-end;width: 50%;}#sk-container-id-1 div.sk-parallel-item:last-child::after {align-self: flex-start;width: 50%;}#sk-container-id-1 div.sk-parallel-item:only-child::after {width: 0;}#sk-container-id-1 div.sk-dashed-wrapped {border: 1px dashed gray;margin: 0 0.4em 0.5em 0.4em;box-sizing: border-box;padding-bottom: 0.4em;background-color: white;}#sk-container-id-1 div.sk-label label {font-family: monospace;font-weight: bold;display: inline-block;line-height: 1.2em;}#sk-container-id-1 div.sk-label-container {text-align: center;}#sk-container-id-1 div.sk-container {/* jupyter's `normalize.less` sets `[hidden] { display: none; }` but bootstrap.min.css set `[hidden] { display: none !important; }` so we also need the `!important` here to be able to override the default hidden behavior on the sphinx rendered scikit-learn.org. See: https://github.com/scikit-learn/scikit-learn/issues/21755 */display: inline-block !important;position: relative;}#sk-container-id-1 div.sk-text-repr-fallback {display: none;}</style><div id=\"sk-container-id-1\" class=\"sk-top-container\"><div class=\"sk-text-repr-fallback\"><pre>XGBClassifier(base_score=None, booster=None, callbacks=None,\n",
       "              colsample_bylevel=None, colsample_bynode=None,\n",
       "              colsample_bytree=0.5988918888776807, device=None,\n",
       "              early_stopping_rounds=None, enable_categorical=False,\n",
       "              eval_metric=&#x27;auc&#x27;, feature_types=None, gamma=0.6656221817761839,\n",
       "              grow_policy=None, importance_type=None,\n",
       "              interaction_constraints=None, learning_rate=0.01447405668073905,\n",
       "              max_bin=310, max_cat_threshold=None, max_cat_to_onehot=None,\n",
       "              max_delta_step=None, max_depth=6, max_leaves=None,\n",
       "              min_child_weight=22, missing=nan, monotone_constraints=None,\n",
       "              multi_strategy=None, n_estimators=2300, n_jobs=None,\n",
       "              num_parallel_tree=None, random_state=42, ...)</pre><b>In a Jupyter environment, please rerun this cell to show the HTML representation or trust the notebook. <br />On GitHub, the HTML representation is unable to render, please try loading this page with nbviewer.org.</b></div><div class=\"sk-container\" hidden><div class=\"sk-item\"><div class=\"sk-estimator sk-toggleable\"><input class=\"sk-toggleable__control sk-hidden--visually\" id=\"sk-estimator-id-1\" type=\"checkbox\" checked><label for=\"sk-estimator-id-1\" class=\"sk-toggleable__label sk-toggleable__label-arrow\">XGBClassifier</label><div class=\"sk-toggleable__content\"><pre>XGBClassifier(base_score=None, booster=None, callbacks=None,\n",
       "              colsample_bylevel=None, colsample_bynode=None,\n",
       "              colsample_bytree=0.5988918888776807, device=None,\n",
       "              early_stopping_rounds=None, enable_categorical=False,\n",
       "              eval_metric=&#x27;auc&#x27;, feature_types=None, gamma=0.6656221817761839,\n",
       "              grow_policy=None, importance_type=None,\n",
       "              interaction_constraints=None, learning_rate=0.01447405668073905,\n",
       "              max_bin=310, max_cat_threshold=None, max_cat_to_onehot=None,\n",
       "              max_delta_step=None, max_depth=6, max_leaves=None,\n",
       "              min_child_weight=22, missing=nan, monotone_constraints=None,\n",
       "              multi_strategy=None, n_estimators=2300, n_jobs=None,\n",
       "              num_parallel_tree=None, random_state=42, ...)</pre></div></div></div></div></div>"
      ],
      "text/plain": [
       "XGBClassifier(base_score=None, booster=None, callbacks=None,\n",
       "              colsample_bylevel=None, colsample_bynode=None,\n",
       "              colsample_bytree=0.5988918888776807, device=None,\n",
       "              early_stopping_rounds=None, enable_categorical=False,\n",
       "              eval_metric='auc', feature_types=None, gamma=0.6656221817761839,\n",
       "              grow_policy=None, importance_type=None,\n",
       "              interaction_constraints=None, learning_rate=0.01447405668073905,\n",
       "              max_bin=310, max_cat_threshold=None, max_cat_to_onehot=None,\n",
       "              max_delta_step=None, max_depth=6, max_leaves=None,\n",
       "              min_child_weight=22, missing=nan, monotone_constraints=None,\n",
       "              multi_strategy=None, n_estimators=2300, n_jobs=None,\n",
       "              num_parallel_tree=None, random_state=42, ...)"
      ]
     },
     "execution_count": 8,
     "metadata": {},
     "output_type": "execute_result"
    }
   ],
   "source": [
    "from xgboost import XGBClassifier\n",
    "\n",
    "best_row = best_10.iloc[0]\n",
    "\n",
    "best_params = best_row.filter(like=\"params_\").to_dict()\n",
    "\n",
    "best_params_clean = {\n",
    "    k.replace(\"params_\", \"\"): v \n",
    "    for k, v in best_params.items()\n",
    "}\n",
    "\n",
    "final_params = {\n",
    "    **best_params_clean,\n",
    "    \"objective\": \"binary:logistic\",\n",
    "    \"eval_metric\": \"auc\",\n",
    "    \"use_label_encoder\": False,\n",
    "    \"random_state\": 42\n",
    "}\n",
    "\n",
    "XGB_model = XGBClassifier(**final_params)\n",
    "\n",
    "XGB_model.fit(X, y)"
   ]
  },
  {
   "cell_type": "code",
   "execution_count": null,
   "id": "9a692791-fed6-4855-b056-f74896acdd69",
   "metadata": {},
   "outputs": [],
   "source": [
    "%%capture\n",
    "# Extraer el mejor trial en forma de diccionario\n",
    "\n",
    "best_trial = results_df_sorted.iloc[0].to_dict()\n",
    "\n",
    "for key in ['num_leaves', 'max_bin', 'min_child_samples', 'bagging_freq', 'max_depth','n_estimators']:\n",
    "    best_trial[key] = int(best_trial[key])\n",
    "# Eliminar la clave 'loss' ya que no es un hiperparámetro para el modelo\n",
    "best_trial.pop('loss', None)\n",
    "\n",
    "print(best_trial)\n",
    "\n",
    "# Crear el modelo utilizando el operador ** para desempaquetar el diccionario de hiperparámetros\n",
    "final_model_lgb = LGBMClassifier(        \n",
    "    boosting_type='gbdt',         # Fijo\n",
    "    objective='binary',           # Fijo\n",
    "    metric='auc',                 # Fijo\n",
    "    scale_pos_weight=1,           # Fijo\n",
    "    is_unbalance=False,           # Fijo\n",
    "    random_state=42,              # Fijo\n",
    "    **best_trial\n",
    ")\n",
    "\n",
    "final_model_lgb.fit(X, y)"
   ]
  },
  {
   "cell_type": "code",
   "execution_count": 9,
   "id": "d5996762-e0d2-4554-8cc0-90704dd8736b",
   "metadata": {},
   "outputs": [],
   "source": [
    "#y_pred_proba = final_model_lgb.predict_proba(app_test)[:, 1]\n",
    "y_pred_proba = XGB_model.predict_proba(app_test)[:, 1]\n",
    "from sklearn.metrics import roc_auc_score\n",
    "#auc_test = roc_auc_score(y_test, y_pred_proba)\n",
    "#print(f'AUC en test: {auc_test}')\n",
    "\n",
    "submision = pd.DataFrame({\n",
    "    'SK_ID_CURR': test_ids,\n",
    "    'TARGET': y_pred_proba\n",
    "})\n",
    "submision['SK_ID_CURR'] = test_ids.astype('int32')\n",
    "submision.to_csv('mysubmission_xgb_v2.csv', index=False)"
   ]
  },
  {
   "cell_type": "code",
   "execution_count": null,
   "id": "4b59a606-fa49-4a3a-a84b-19fa486f118c",
   "metadata": {},
   "outputs": [],
   "source": []
  }
 ],
 "metadata": {
  "kernelspec": {
   "display_name": "tfg-py3.12",
   "language": "python",
   "name": "tfg-py3.12"
  },
  "language_info": {
   "codemirror_mode": {
    "name": "ipython",
    "version": 3
   },
   "file_extension": ".py",
   "mimetype": "text/x-python",
   "name": "python",
   "nbconvert_exporter": "python",
   "pygments_lexer": "ipython3",
   "version": "3.12.8"
  }
 },
 "nbformat": 4,
 "nbformat_minor": 5
}
