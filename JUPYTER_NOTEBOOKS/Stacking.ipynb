{
 "cells": [
  {
   "cell_type": "code",
   "execution_count": null,
   "id": "70aac06f-2803-4438-a15a-194b9c6316a0",
   "metadata": {},
   "outputs": [],
   "source": [
    "import sys\n",
    "print(\"Python executable:\", sys.executable)\n",
    "\n",
    "import matplotlib as plt\n",
    "import matplotlib.pyplot as plt\n",
    "\n",
    "import pandas as pd\n",
    "import seaborn as sns\n",
    "import numpy as np\n",
    "\n",
    "import optuna\n",
    "from sklearn.metrics import roc_auc_score\n",
    "from sklearn.model_selection import (StratifiedKFold, cross_val_score, \n",
    "                                     train_test_split)\n",
    "from sklearn.ensemble import StackingClassifier\n",
    "from sklearn.ensemble import ExtraTreesClassifier\n",
    "\n",
    "# Modelos\n",
    "from xgboost import XGBClassifier\n",
    "from lightgbm import LGBMClassifier\n",
    "\n",
    "import pickle\n",
    "from tabulate import tabulate\n",
    "import warnings\n",
    "warnings.filterwarnings('ignore')\n",
    "\n",
    "# Configuraciones de pandas\n",
    "pd.set_option('display.max_columns', None)\n",
    "pd.set_option('display.max_rows', 500)\n",
    "pd.set_option('display.show_dimensions', True)\n",
    "\n",
    "\n",
    "app_train_def_7 = pd.read_csv(r'/home/yeray/TFG-Home-Credit-Default-Risk/JUPYTER_NOTEBOOKS/DATA/application_train_preprocesado_definitivo_v7.csv')"
   ]
  },
  {
   "cell_type": "code",
   "execution_count": null,
   "id": "41ef1f15-d8c5-4978-bb08-5fa96d49f7f3",
   "metadata": {},
   "outputs": [],
   "source": [
    "X = app_train_def_7.drop(columns = ['TARGET'])\n",
    "y = app_train_def_7['TARGET']\n",
    "X_train, X_test, y_train, y_test = train_test_split(X, y, test_size=0.2, random_state=42, stratify=y)\n",
    "\n",
    "X_train.columns = X_train.columns.str.replace('[^A-Za-z0-9_]+', '', regex=True)\n",
    "X_test.columns = X_test.columns.str.replace('[^A-Za-z0-9_]+', '', regex=True)"
   ]
  },
  {
   "cell_type": "code",
   "execution_count": null,
   "id": "3c292f5e-4a64-4493-b55d-ee540958542d",
   "metadata": {},
   "outputs": [],
   "source": [
    "lgb_best_paramas = {\n",
    "    \n",
    "}\n",
    "\n",
    "xgb_best_params = {\n",
    "    \n",
    "}\n",
    "\n",
    "\n",
    "\n",
    "lgb_model_base = LGBMClassifier(**lgb_best_params)\n",
    "xgb_model_base = XGBClassifier(**xgb_best_params)\n",
    "\n",
    "lgb_meta_params = {\n",
    "    \"n_estimators\": 2000,\n",
    "    \"learning_rate\": 0.01,\n",
    "    \"random_state\": 42,\n",
    "    \"n_jobs\": 20\n",
    "}\n",
    "lgb_model_meta = LGBMClassifier(**lgb_meta_params)"
   ]
  },
  {
   "cell_type": "code",
   "execution_count": null,
   "id": "5686b612-1039-4862-baf9-ff02e3467b1c",
   "metadata": {},
   "outputs": [],
   "source": [
    "stack_clf = StackingClassifier(\n",
    "    estimators=[\n",
    "        (\"lgbm\", lgb_model_base),\n",
    "        (\"xgb\", xgb_model_base),\n",
    "    ],\n",
    "    modelo_final=lgb_model_meta,  \n",
    "    cv=StratifiedKFold(n_splits=5, shuffle=True, random_state=42),  \n",
    "    n_jobs=20,\n",
    "    passthrough=False  \n",
    ")\n",
    "\n",
    "cv = StratifiedKFold(n_splits=5, shuffle=True, random_state=42)\n",
    "scores = cross_val_score(stack_clf, X_train, y_train, scoring='roc_auc', cv=cv, n_jobs=20)\n",
    "print(f\"Stacking CV Mean AUC: {scores.mean():.4f}\")"
   ]
  },
  {
   "cell_type": "code",
   "execution_count": null,
   "id": "95c52a29-84f4-4445-a41a-f00989a745ce",
   "metadata": {},
   "outputs": [],
   "source": [
    "stack_clf.fit(X_train, y_train)"
   ]
  },
  {
   "cell_type": "code",
   "execution_count": null,
   "id": "f784607f-79ff-4b29-9c65-d1964614abcd",
   "metadata": {},
   "outputs": [],
   "source": [
    "y_pred_proba = stack_clf.predict_proba(X_test)[:, 1]\n",
    "auc_test = roc_auc_score(y_test, y_pred_proba)\n",
    "print(f\"Stacking AUC on Test: {auc_test:.4f}\")"
   ]
  }
 ],
 "metadata": {
  "kernelspec": {
   "display_name": "tfg-py3.12",
   "language": "python",
   "name": "tfg-py3.12"
  },
  "language_info": {
   "codemirror_mode": {
    "name": "ipython",
    "version": 3
   },
   "file_extension": ".py",
   "mimetype": "text/x-python",
   "name": "python",
   "nbconvert_exporter": "python",
   "pygments_lexer": "ipython3",
   "version": "3.12.8"
  }
 },
 "nbformat": 4,
 "nbformat_minor": 5
}
