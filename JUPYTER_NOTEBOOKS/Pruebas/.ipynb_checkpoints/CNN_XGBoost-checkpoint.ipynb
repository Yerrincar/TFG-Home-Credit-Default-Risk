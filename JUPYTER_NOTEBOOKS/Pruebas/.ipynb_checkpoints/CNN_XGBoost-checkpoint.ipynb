{
 "cells": [
  {
   "cell_type": "code",
   "execution_count": 4,
   "id": "8f44373f-5008-4b62-b4ee-006ff729cea6",
   "metadata": {},
   "outputs": [],
   "source": [
    "#CNN \n",
    "import os\n",
    "\n",
    "os.environ[\"OMP_NUM_THREADS\"] = \"20\"\n",
    "os.environ[\"MKL_NUM_THREADS\"] = \"20\"\n",
    "os.environ[\"TF_NUM_INTRAOP_THREADS\"] = \"20\"\n",
    "os.environ[\"TF_NUM_INTEROP_THREADS\"] = \"20\"\n",
    "\n",
    "import numpy as np\n",
    "import pandas as pd\n",
    "from sklearn.model_selection import train_test_split\n",
    "from sklearn.metrics import roc_auc_score\n",
    "\n",
    "import tensorflow as tf\n",
    "from tensorflow.keras.models import Model, Sequential\n",
    "from tensorflow.keras.layers import Dense, Conv1D, GlobalAveragePooling1D, Dropout, Input\n",
    "from tensorflow.keras.callbacks import EarlyStopping\n",
    "from tensorflow.keras.optimizers import Adam\n",
    "import optuna\n",
    "import xgboost as xgb\n",
    "\n",
    "\n",
    "\n",
    "# Have all columns appear when dataframes are displayed.\n",
    "pd.set_option('display.max_columns', None) \n",
    "# Have 100 rows appear when a dataframe is displayed\n",
    "pd.set_option('display.max_rows', 500)\n",
    "# Display dimensions whenever a dataframe is printed out.\n",
    "pd.set_option('display.show_dimensions', True)\n",
    "\n",
    "app_train_def_7 = pd.read_csv(r'/home/yeray/TFG-Home-Credit-Default-Risk/JUPYTER_NOTEBOOKS/DATA/application_train_preprocesado_definitivo_v7.csv')"
   ]
  },
  {
   "cell_type": "code",
   "execution_count": 5,
   "id": "a1667226-da5c-4e42-8f2f-989119c31d34",
   "metadata": {},
   "outputs": [
    {
     "name": "stdout",
     "output_type": "stream",
     "text": [
      "X_train shape:  (246008, 1322)\n",
      "X_test shape (61503, 1322)\n"
     ]
    }
   ],
   "source": [
    "X = app_train_def_7.drop(columns=[\"TARGET\"]).values\n",
    "y = app_train_def_7[\"TARGET\"].values\n",
    "\n",
    "X_train, X_test, y_train, y_test = train_test_split(\n",
    "    X,y, test_size=0.2, random_state=42)\n",
    "\n",
    "print(\"X_train shape: \", X_train.shape)\n",
    "print(\"X_test shape\", X_test.shape)\n",
    "\n",
    "#Para Conv1D necesitamos hacer reshape para tener el \"formato\" (num_samples, num_features, 1)\n",
    "X_train_reshaped = X_train.reshape((X_train.shape[0], X_train.shape[1], 1))\n",
    "X_test_reshaped = X_test.reshape((X_test.shape[0], X_test.shape[1], 1))"
   ]
  },
  {
   "cell_type": "code",
   "execution_count": 11,
   "id": "34fd4617-3a66-4ea1-961c-6a0515666b2a",
   "metadata": {},
   "outputs": [
    {
     "name": "stderr",
     "output_type": "stream",
     "text": [
      "[I 2025-04-04 00:15:35,796] A new study created in memory with name: cnn_tuning\n"
     ]
    }
   ],
   "source": [
    "%%capture\n",
    "# De cara a los hiperparámetros de la CNN, por el momento vamos a hacer uso de algunos estandar que podremos ir ajustando acorde a las pruebas obtenidas. Plantear si \n",
    "# realizar una búsqueda con optuna sería posible.\n",
    "\n",
    "def objective_cnn(trial):\n",
    "\n",
    "    filters = trial.suggest_int(\"filters\", 16, 128, step=16)\n",
    "    kernel_size = trial.suggest_categorical(\"kernel_size\", [3, 5, 7])\n",
    "    dense_size = trial.suggest_int(\"dense_size\", 32, 256, step=32)\n",
    "    dropout_rate = trial.suggest_float(\"dropout_rate\", 0.0, 0.5, step=0.1)\n",
    "    learning_rate = trial.suggest_float(\"learning_rate\", 1e-4, 1e-2, log=True)\n",
    "    epochs=10\n",
    "    batch_size=256\n",
    "    \n",
    "    cnn = Sequential()\n",
    "\n",
    "    cnn.add(Conv1D(filters=filters, kernel_size = kernel_size, activation='relu',\n",
    "               input_shape=(X_train_reshaped.shape[1],1)))\n",
    "\n",
    "    cnn.add(GlobalAveragePooling1D())\n",
    "\n",
    "    #Feature extractor\n",
    "    cnn.add(Dense(dense_size, activation='relu', name='embedding_layer'))\n",
    "    cnn.add(Dropout(dropout_rate))\n",
    "\n",
    "    cnn.add(Dense(1, activation='sigmoid', name='output_layer'))\n",
    "    opt = Adam(learning_rate=learning_rate)\n",
    "    cnn.compile(optimizer=opt, loss='binary_crossentropy', metrics=['AUC'])\n",
    "\n",
    "\n",
    "    callbacks = [\n",
    "        EarlyStopping(monitor='val_AUC', mode='max', patience=3, verbose=0, restore_best_weights=True)\n",
    "    ]\n",
    "    history = cnn.fit( X_train_reshaped, y_train,\n",
    "        validation_split=0.1,  # 10% de train para validación interna\n",
    "        epochs=epochs,\n",
    "        batch_size=batch_size,\n",
    "        verbose=1,\n",
    "    )\n",
    "\n",
    "    val_auc_history = history.history[\"val_AUC\"]\n",
    "    best_val_auc = max(val_auc_history)\n",
    "\n",
    "    return best_val_auc\n",
    "\n",
    "\n",
    "study = optuna.create_study(direction=\"maximize\", study_name=\"cnn_tuning\")\n",
    "study.optimize(objective_cnn, n_trials=10, n_jobs=1, show_progress_bar=True)"
   ]
  },
  {
   "cell_type": "code",
   "execution_count": 14,
   "id": "a4d9d473-431b-47b7-a1fa-95697e1da463",
   "metadata": {},
   "outputs": [
    {
     "name": "stdout",
     "output_type": "stream",
     "text": [
      "Número de trials realizados: 10\n",
      "Mejor valor AUC en validación: 0.5123127102851868\n",
      "Mejores hiperparámetros: {'filters': 16, 'kernel_size': 3, 'dense_size': 192, 'dropout_rate': 0.2, 'learning_rate': 0.0012735636161662844}\n"
     ]
    },
    {
     "ename": "NameError",
     "evalue": "name 'best_params' is not defined",
     "output_type": "error",
     "traceback": [
      "\u001b[0;31m---------------------------------------------------------------------------\u001b[0m",
      "\u001b[0;31mNameError\u001b[0m                                 Traceback (most recent call last)",
      "Cell \u001b[0;32mIn[14], line 5\u001b[0m\n\u001b[1;32m      2\u001b[0m \u001b[38;5;28mprint\u001b[39m(\u001b[38;5;124m\"\u001b[39m\u001b[38;5;124mMejor valor AUC en validación:\u001b[39m\u001b[38;5;124m\"\u001b[39m, study\u001b[38;5;241m.\u001b[39mbest_value)\n\u001b[1;32m      3\u001b[0m \u001b[38;5;28mprint\u001b[39m(\u001b[38;5;124m\"\u001b[39m\u001b[38;5;124mMejores hiperparámetros:\u001b[39m\u001b[38;5;124m\"\u001b[39m, study\u001b[38;5;241m.\u001b[39mbest_params)\n\u001b[0;32m----> 5\u001b[0m filters \u001b[38;5;241m=\u001b[39m \u001b[43mbest_params\u001b[49m[\u001b[38;5;124m\"\u001b[39m\u001b[38;5;124mfilters\u001b[39m\u001b[38;5;124m\"\u001b[39m]\n\u001b[1;32m      6\u001b[0m kernel_size \u001b[38;5;241m=\u001b[39m best_params[\u001b[38;5;124m\"\u001b[39m\u001b[38;5;124mkernel_size\u001b[39m\u001b[38;5;124m\"\u001b[39m]\n\u001b[1;32m      7\u001b[0m dense_size \u001b[38;5;241m=\u001b[39m best_params[\u001b[38;5;124m\"\u001b[39m\u001b[38;5;124mdense_size\u001b[39m\u001b[38;5;124m\"\u001b[39m]\n",
      "\u001b[0;31mNameError\u001b[0m: name 'best_params' is not defined"
     ]
    }
   ],
   "source": [
    "print(\"Número de trials realizados:\", len(study.trials))\n",
    "print(\"Mejor valor AUC en validación:\", study.best_value)\n",
    "print(\"Mejores hiperparámetros:\", study.best_params)\n",
    "\n",
    "best_params = study.best_params\n",
    "filters = best_params[\"filters\"]\n",
    "kernel_size = best_params[\"kernel_size\"]\n",
    "dense_size = best_params[\"dense_size\"]\n",
    "dropout_rate = best_params[\"dropout_rate\"]\n",
    "learning_rate = best_params[\"learning_rate\"]\n",
    "\n",
    "cnn = Sequential()\n",
    "cnn.add(Conv1D(filters=filters, kernel_size=kernel_size, activation='relu',\n",
    "               input_shape=(X_train_reshaped.shape[1], 1)))\n",
    "cnn.add(GlobalAveragePooling1D())\n",
    "cnn.add(Dense(dense_size, activation='relu', name='embedding_layer'))\n",
    "cnn.add(Dropout(dropout_rate))\n",
    "cnn.add(Dense(1, activation='sigmoid', name='output_layer'))\n",
    "\n",
    "opt = Adam(learning_rate=learning_rate)\n",
    "cnn.compile(optimizer=opt, loss='binary_crossentropy', metrics=['AUC'])\n",
    "\n",
    "cnn.fit(\n",
    "    X_train_reshaped, y_train,\n",
    "    validation_split=0.1,  # o con tu partición preferida\n",
    "    epochs=10,\n",
    "    batch_size=256\n",
    ")"
   ]
  },
  {
   "cell_type": "code",
   "execution_count": 12,
   "id": "66ad6ffc-1a4b-4257-84c3-e1c93d3df6be",
   "metadata": {},
   "outputs": [
    {
     "ename": "NameError",
     "evalue": "name 'cnn' is not defined",
     "output_type": "error",
     "traceback": [
      "\u001b[0;31m---------------------------------------------------------------------------\u001b[0m",
      "\u001b[0;31mNameError\u001b[0m                                 Traceback (most recent call last)",
      "Cell \u001b[0;32mIn[12], line 2\u001b[0m\n\u001b[1;32m      1\u001b[0m feature_extractor \u001b[38;5;241m=\u001b[39m Model(\n\u001b[0;32m----> 2\u001b[0m     inputs\u001b[38;5;241m=\u001b[39m\u001b[43mcnn\u001b[49m\u001b[38;5;241m.\u001b[39minput,\n\u001b[1;32m      3\u001b[0m     outputs\u001b[38;5;241m=\u001b[39mcnn\u001b[38;5;241m.\u001b[39mget_layer(\u001b[38;5;124m\"\u001b[39m\u001b[38;5;124membedding_layer\u001b[39m\u001b[38;5;124m\"\u001b[39m)\u001b[38;5;241m.\u001b[39moutput\n\u001b[1;32m      4\u001b[0m )\n\u001b[1;32m      6\u001b[0m emb_train \u001b[38;5;241m=\u001b[39m feature_extractor\u001b[38;5;241m.\u001b[39mpredict(X_train_reshaped)\n\u001b[1;32m      7\u001b[0m emb_test \u001b[38;5;241m=\u001b[39m feature_extractor\u001b[38;5;241m.\u001b[39mpredict(X_test_reshaped)\n",
      "\u001b[0;31mNameError\u001b[0m: name 'cnn' is not defined"
     ]
    }
   ],
   "source": [
    "feature_extractor = Model(\n",
    "    inputs=cnn.input,\n",
    "    outputs=cnn.get_layer(\"embedding_layer\").output\n",
    ")\n",
    "\n",
    "emb_train = feature_extractor.predict(X_train_reshaped)\n",
    "emb_test = feature_extractor.predict(X_test_reshaped)\n",
    "\n",
    "print(\"Embeddings de train shape:\", emb_train.shape)\n",
    "print(\"Embeddings de test  shape:\", emb_test.shape)"
   ]
  },
  {
   "cell_type": "code",
   "execution_count": null,
   "id": "ae7a96c5-8a8d-48a1-abd5-b47cd348b8aa",
   "metadata": {},
   "outputs": [],
   "source": [
    "def objective_completo(trial):\n",
    "    params = {\n",
    "        \"n_estimators\": trial.suggest_int(\"n_estimators\", 1900, 2300, step=50),\n",
    "        \"max_bin\": trial.suggest_int(\"max_bin\", 270, 350, step=10),\n",
    "        \"learning_rate\": trial.suggest_float(\"learning_rate\", 0.01, 0.025, log=True),\n",
    "        \"max_depth\": trial.suggest_int(\"max_depth\", 3, 6),\n",
    "        \"gamma\": trial.suggest_float(\"gamma\", 0.5, 1.0),\n",
    "        \"min_child_weight\": trial.suggest_int(\"min_child_weight\", 20, 40),\n",
    "        \"subsample\": trial.suggest_float(\"subsample\", 0.75, 0.9),\n",
    "        \"colsample_bytree\": trial.suggest_float(\"colsample_bytree\", 0.4, 0.6),\n",
    "        \"reg_alpha\": trial.suggest_float(\"reg_alpha\", 1e-8, 1.0, log=True),\n",
    "        \"reg_lambda\": trial.suggest_float(\"reg_lambda\", 1e-8, 50.0, log=True),\n",
    "        \"tree_method\": trial.suggest_categorical(\"tree_method\", [\"auto\", \"hist\"]),\n",
    "        \"scale_pos_weight\": trial.suggest_float(\"scale_pos_weight\", 1.0, 1.5),\n",
    "    }\n",
    "    model = XGBClassifier(\n",
    "        **params,\n",
    "        objective=\"binary:logistic\",\n",
    "        eval_metric=\"auc\",\n",
    "        use_label_encoder=False,\n",
    "        random_state=42,\n",
    "        n_jobs=20\n",
    "    )\n",
    "\n",
    "    cv=StratifiedKFold(n_splits=5, shuffle=True, random_state=42)\n",
    "    scores = cross_val_score(model,emb_train, y_train, scoring='roc_auc', cv=cv)\n",
    "\n",
    "    return scores.mean()"
   ]
  },
  {
   "cell_type": "code",
   "execution_count": null,
   "id": "0a5f747b-ce2c-4fc2-a57b-92f4ee05a4eb",
   "metadata": {},
   "outputs": [],
   "source": [
    "#Estudio para maximizar\n",
    "study_completo = optuna.create_study(direction=\"maximize\")\n",
    "\n",
    "#Búsqueda\n",
    "study_completo.optimize(objective_completo, n_trials=100, show_progress_bar=True)\n",
    "\n",
    "print(\"Best trial:\", study_completo.best_trial.number)\n",
    "print(\"Best value (mean AUC):\", study_completo.best_value)\n",
    "print(\"Best hyperparams:\", study_completo.best_params)"
   ]
  },
  {
   "cell_type": "code",
   "execution_count": null,
   "id": "d298ec6f-6a2e-4642-9b3a-02a14f57840a",
   "metadata": {},
   "outputs": [],
   "source": [
    "import pickle\n",
    "with open(\"XGBoost_Optuna_Study_v7_completo_CNN_feature_extractor.pkl\", \"wb\") as f:\n",
    "    pickle.dump(study_completo, f)\n",
    "#with open(\"/home/yeray/TFG-Home-Credit-Default-Risk/JUPYTER_NOTEBOOKS/XGBoost_Optuna_Study_v7_completo_1183_features_v7.pkl\", \"rb\") as f:\n",
    "#    loaded_study_completo = pickle.load(f)"
   ]
  },
  {
   "cell_type": "code",
   "execution_count": null,
   "id": "8fbf94a7-e136-4fe4-8236-7ae2d058aa79",
   "metadata": {},
   "outputs": [],
   "source": [
    "from tabulate import tabulate\n",
    "\n",
    "trials_df = loaded_study_completo.trials_dataframe()\n",
    "\n",
    "df_sorted = trials_df.sort_values(by=\"value\", ascending=False)\n",
    "best_10 = df_sorted.head(10)\n",
    "\n",
    "print(tabulate(best_10, headers=\"keys\", tablefmt=\"psql\"))"
   ]
  },
  {
   "cell_type": "code",
   "execution_count": null,
   "id": "563b9052-d14c-41bf-905e-bcd81d68e500",
   "metadata": {},
   "outputs": [],
   "source": [
    "\n",
    "best_row = best_10.iloc[0]\n",
    "\n",
    "best_params = best_row.filter(like=\"params_\").to_dict()\n",
    "\n",
    "best_params_clean = {\n",
    "    k.replace(\"params_\", \"\"): v \n",
    "    for k, v in best_params.items()\n",
    "}\n",
    "\n",
    "\n",
    "final_params = {\n",
    "    **best_params_clean,\n",
    "    \"objective\": \"binary:logistic\",\n",
    "    \"eval_metric\": \"auc\",\n",
    "    \"use_label_encoder\": False,\n",
    "    \"random_state\": 42\n",
    "    \n",
    "}\n",
    "\n",
    "XGB_model = XGBClassifier(**final_params)\n",
    "\n",
    "XGB_model.fit(emb_train, y_train)"
   ]
  },
  {
   "cell_type": "code",
   "execution_count": null,
   "id": "397126c7-003c-4850-8d25-f56f7fc78f59",
   "metadata": {},
   "outputs": [],
   "source": [
    "from sklearn.metrics import roc_auc_score\n",
    "\n",
    "y_pred_proba = XGB_model.predict_proba(emb_test)[:, 1]\n",
    "auc_test = roc_auc_score(y_test, y_pred_proba)\n",
    "print(f\"AUC en test: {auc_test:.4f}\")"
   ]
  },
  {
   "cell_type": "code",
   "execution_count": null,
   "id": "a76e2de5-110e-49cc-b0dd-71b6228bc2cc",
   "metadata": {},
   "outputs": [],
   "source": []
  }
 ],
 "metadata": {
  "kernelspec": {
   "display_name": "tfg-py3.12",
   "language": "python",
   "name": "tfg-py3.12"
  },
  "language_info": {
   "codemirror_mode": {
    "name": "ipython",
    "version": 3
   },
   "file_extension": ".py",
   "mimetype": "text/x-python",
   "name": "python",
   "nbconvert_exporter": "python",
   "pygments_lexer": "ipython3",
   "version": "3.12.8"
  }
 },
 "nbformat": 4,
 "nbformat_minor": 5
}
