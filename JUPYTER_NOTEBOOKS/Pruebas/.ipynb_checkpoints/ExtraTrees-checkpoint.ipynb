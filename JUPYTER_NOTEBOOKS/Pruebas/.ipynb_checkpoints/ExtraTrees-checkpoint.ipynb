{
 "cells": [
  {
   "cell_type": "code",
   "execution_count": 1,
   "id": "e245e390-2bf9-44e7-8461-95933e92f1d7",
   "metadata": {},
   "outputs": [
    {
     "name": "stdout",
     "output_type": "stream",
     "text": [
      "Python executable: /home/yeray/miniconda3/envs/tfg-py3.12/bin/python\n",
      "1.26.4\n",
      "Directorio actual: /home/yeray/TFG-Home-Credit-Default-Risk/JUPYTER_NOTEBOOKS\n"
     ]
    }
   ],
   "source": [
    "#Celda para librerías\n",
    "import sklearn as sk\n",
    "import sys\n",
    "print(\"Python executable:\", sys.executable)\n",
    "\n",
    "import matplotlib as plt\n",
    "import matplotlib.pyplot as plt\n",
    "\n",
    "import pandas as pd\n",
    "import seaborn as sns\n",
    "import numpy as np\n",
    "from sklearn.model_selection import train_test_split, cross_val_score\n",
    "\n",
    "import optuna\n",
    "from sklearn.model_selection import StratifiedKFold\n",
    "from sklearn.metrics import roc_auc_score\n",
    "\n",
    "from sklearn.ensemble import ExtraTreesClassifier\n",
    "\n",
    "\n",
    "from hyperopt import hp, fmin, tpe, STATUS_OK, Trials\n",
    "from sklearn.model_selection import cross_val_score\n",
    "\n",
    "\n",
    "import json\n",
    "\n",
    "import warnings\n",
    "warnings.filterwarnings('ignore')\n",
    "\n",
    "print(np.__version__)\n",
    "from ydata_profiling import ProfileReport\n",
    "import os\n",
    "print(\"Directorio actual:\", os.getcwd())\n",
    "\n",
    "# Have all columns appear when dataframes are displayed.\n",
    "pd.set_option('display.max_columns', None) \n",
    "# Have 100 rows appear when a dataframe is displayed\n",
    "pd.set_option('display.max_rows', 500)\n",
    "# Display dimensions whenever a dataframe is printed out.\n",
    "pd.set_option('display.show_dimensions', True)\n",
    "\n",
    "#Importando los datos\n",
    "\n",
    "#app_train_def = pd.read_csv(r'/home/yeray/TFG-Home-Credit-Default-Risk/JUPYTER_NOTEBOOKS/DATA/application_train_preprocesado_definitivo_v1.csv')\n",
    "#app_train_def_2 = pd.read_csv(r'/home/yeray/TFG-Home-Credit-Default-Risk/JUPYTER_NOTEBOOKS/DATA/application_train_preprocesado_definitivo_v2.csv')\n",
    "#app_train_def_3 = pd.read_csv(r'/home/yeray/TFG-Home-Credit-Default-Risk/JUPYTER_NOTEBOOKS/DATA/application_train_preprocesado_definitivo_v3.csv')\n",
    "#app_train_def_4 = pd.read_csv(r'/home/yeray/TFG-Home-Credit-Default-Risk/JUPYTER_NOTEBOOKS/DATA/application_train_preprocesado_definitivo_v4.csv')\n",
    "#app_train_def_5 = pd.read_csv(r'/home/yeray/TFG-Home-Credit-Default-Risk/JUPYTER_NOTEBOOKS/DATA/application_train_preprocesado_definitivo_v5.csv')\n",
    "app_train_def_7 = pd.read_csv(r'/home/yeray/TFG-Home-Credit-Default-Risk/JUPYTER_NOTEBOOKS/DATA/application_train_preprocesado_definitivo_v7.csv')\n",
    "#app_train_def_7_v2 = pd.read_csv(r'/home/yeray/TFG-Home-Credit-Default-Risk/JUPYTER_NOTEBOOKS/DATA/app_def_v7_menor_dimension.csv')\n",
    "\n",
    "#print(app_train_def_7.info())\n",
    "#print(app_train_def_7.shape)"
   ]
  },
  {
   "cell_type": "code",
   "execution_count": 2,
   "id": "d040e960-9702-4d99-afa2-34196f1f194f",
   "metadata": {},
   "outputs": [],
   "source": [
    "X = app_train_def_7.drop(columns = ['TARGET'])\n",
    "y = app_train_def_7['TARGET']\n",
    "X_train, X_test, y_train, y_test = train_test_split(X, y, test_size=0.2, random_state=42, stratify=y)\n",
    "\n",
    "X_train.columns = X_train.columns.str.replace('[^A-Za-z0-9_]+', '', regex=True)\n",
    "X_test.columns = X_test.columns.str.replace('[^A-Za-z0-9_]+', '', regex=True)"
   ]
  },
  {
   "cell_type": "code",
   "execution_count": 25,
   "id": "0c0af959-bbf9-4aac-bd65-de821d8ed0e4",
   "metadata": {},
   "outputs": [],
   "source": [
    "def objective_completo(trial):\n",
    "    params = {\n",
    "        \"n_estimators\": trial.suggest_int(\"n_estimators\", 100, 2000, step=100),\n",
    "        \"max_depth\": trial.suggest_int(\"max_depth\", 0, 30),\n",
    "        \"min_samples_split\": trial.suggest_int(\"min_samples_split\", 2, 100),\n",
    "        \"min_samples_leaf\": trial.suggest_int(\"min_samples_leaf\", 1, 50),\n",
    "        \"max_features\": trial.suggest_float(\"max_features\", 0.1, 1.0),\n",
    "        \"bootstrap\": trial.suggest_categorical(\"bootstrap\", [True, False]),\n",
    "        \"class_weight\": trial.suggest_categorical(\"class_weight\", [None, \"balanced\"]),\n",
    "        \"random_state\": 42,\n",
    "        \"n_jobs\": 20\n",
    "    }\n",
    "    model = ExtraTreesClassifier(**params)\n",
    "    \n",
    "    cv = StratifiedKFold(n_splits=5, shuffle=True, random_state=42)\n",
    "    scores = cross_val_score(model, X_train, y_train, scoring='roc_auc', cv=cv)\n",
    "    \n",
    "    return scores.mean()\n"
   ]
  },
  {
   "cell_type": "code",
   "execution_count": null,
   "id": "284b9917-aff7-40df-bee8-8cc073b70442",
   "metadata": {},
   "outputs": [
    {
     "name": "stderr",
     "output_type": "stream",
     "text": [
      "[I 2025-04-06 18:50:41,270] A new study created in memory with name: no-name-a1d2fe0f-4501-4c6f-8a3c-770b05950dd9\n"
     ]
    },
    {
     "data": {
      "application/vnd.jupyter.widget-view+json": {
       "model_id": "a6457a76deb34933890fc6f73ce925fb",
       "version_major": 2,
       "version_minor": 0
      },
      "text/plain": [
       "  0%|          | 0/100 [00:00<?, ?it/s]"
      ]
     },
     "metadata": {},
     "output_type": "display_data"
    }
   ],
   "source": [
    "\n",
    "study_completo = optuna.create_study(direction=\"maximize\")\n",
    "\n",
    "study_completo.optimize(objective_completo, n_trials=100, show_progress_bar=True)\n",
    "\n",
    "print(\"Best trial:\", study_completo.best_trial.number)\n",
    "print(\"Best value (mean AUC):\", study_completo.best_value)\n",
    "print(\"Best hyperparams:\", study_completo.best_params)"
   ]
  },
  {
   "cell_type": "code",
   "execution_count": null,
   "id": "172cd5fa-043d-48ad-b074-d878c6e16898",
   "metadata": {},
   "outputs": [],
   "source": [
    "import pickle\n",
    "with open(\"ExtraTrees_Optuna_Study_v7_completo.pkl\", \"wb\") as f:\n",
    "    pickle.dump(study_completo, f)\n",
    "with open(\"/home/yeray/TFG-Home-Credit-Default-Risk/JUPYTER_NOTEBOOKS/ExtraTrees_Optuna_Study_v7_completo.pkl\", \"rb\") as f:\n",
    "    loaded_study_completo = pickle.load(f)"
   ]
  },
  {
   "cell_type": "code",
   "execution_count": null,
   "id": "f995ff76-0fb5-4c47-b583-608c50d836b8",
   "metadata": {},
   "outputs": [],
   "source": [
    "from tabulate import tabulate\n",
    "\n",
    "trials_df = loaded_study_completo.trials_dataframe()\n",
    "\n",
    "df_sorted = trials_df.sort_values(by=\"value\", ascending=False)\n",
    "best_10 = df_sorted.head(10)\n",
    "\n",
    "print(tabulate(best_10, headers=\"keys\", tablefmt=\"psql\"))"
   ]
  },
  {
   "cell_type": "code",
   "execution_count": null,
   "id": "dbcfcbc0-25ae-47d7-a33b-8890d058e0cb",
   "metadata": {},
   "outputs": [],
   "source": [
    "\n",
    "best_row = best_10.iloc[0]\n",
    "\n",
    "best_params = best_row.filter(like=\"params_\").to_dict()\n",
    "\n",
    "best_params_clean = {\n",
    "    k.replace(\"params_\", \"\"): v \n",
    "    for k, v in best_params.items()\n",
    "}\n",
    "\n",
    "\n",
    "final_params = {\n",
    "    **best_params_clean,\n",
    "    \"random_state\": 42,\n",
    "    \"n_jobs\": 20\n",
    "}\n",
    "\n",
    "extra_model = ExtraTreesClassifier(**final_params)\n",
    "extra_model.fit(X_train, y_train)"
   ]
  },
  {
   "cell_type": "code",
   "execution_count": null,
   "id": "4062c824-b41b-4306-9b1b-684b30d74689",
   "metadata": {},
   "outputs": [],
   "source": [
    "from sklearn.metrics import roc_auc_score\n",
    "\n",
    "y_pred_proba = extra_model.predict_proba(X_test)[:, 1]\n",
    "auc_test = roc_auc_score(y_test, y_pred_proba)\n",
    "print(f\"AUC en test: {auc_test:.4f}\")\n"
   ]
  },
  {
   "cell_type": "code",
   "execution_count": null,
   "id": "a2127ece-2f5f-42c9-9987-d54ae736b191",
   "metadata": {},
   "outputs": [],
   "source": []
  }
 ],
 "metadata": {
  "kernelspec": {
   "display_name": "tfg-py3.12",
   "language": "python",
   "name": "tfg-py3.12"
  },
  "language_info": {
   "codemirror_mode": {
    "name": "ipython",
    "version": 3
   },
   "file_extension": ".py",
   "mimetype": "text/x-python",
   "name": "python",
   "nbconvert_exporter": "python",
   "pygments_lexer": "ipython3",
   "version": "3.12.8"
  }
 },
 "nbformat": 4,
 "nbformat_minor": 5
}
