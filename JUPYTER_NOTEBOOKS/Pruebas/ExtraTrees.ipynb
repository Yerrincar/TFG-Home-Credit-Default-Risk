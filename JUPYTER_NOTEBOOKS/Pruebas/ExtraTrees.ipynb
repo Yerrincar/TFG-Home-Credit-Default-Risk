{
 "cells": [
  {
   "cell_type": "code",
   "execution_count": 1,
   "id": "e245e390-2bf9-44e7-8461-95933e92f1d7",
   "metadata": {},
   "outputs": [
    {
     "name": "stdout",
     "output_type": "stream",
     "text": [
      "Python executable: /home/yeray/miniconda3/envs/tfg-py3.12/bin/python\n",
      "1.26.4\n",
      "Directorio actual: /home/yeray/TFG-Home-Credit-Default-Risk/JUPYTER_NOTEBOOKS\n"
     ]
    }
   ],
   "source": [
    "#Celda para librerías\n",
    "import sklearn as sk\n",
    "import sys\n",
    "print(\"Python executable:\", sys.executable)\n",
    "\n",
    "import matplotlib as plt\n",
    "import matplotlib.pyplot as plt\n",
    "\n",
    "import pandas as pd\n",
    "import seaborn as sns\n",
    "import numpy as np\n",
    "from sklearn.model_selection import train_test_split, cross_val_score\n",
    "\n",
    "import optuna\n",
    "from sklearn.model_selection import StratifiedKFold\n",
    "from sklearn.metrics import roc_auc_score\n",
    "\n",
    "from sklearn.ensemble import ExtraTreesClassifier\n",
    "\n",
    "\n",
    "from hyperopt import hp, fmin, tpe, STATUS_OK, Trials\n",
    "from sklearn.model_selection import cross_val_score\n",
    "\n",
    "\n",
    "import json\n",
    "\n",
    "import warnings\n",
    "warnings.filterwarnings('ignore')\n",
    "\n",
    "print(np.__version__)\n",
    "from ydata_profiling import ProfileReport\n",
    "import os\n",
    "print(\"Directorio actual:\", os.getcwd())\n",
    "\n",
    "# Have all columns appear when dataframes are displayed.\n",
    "pd.set_option('display.max_columns', None) \n",
    "# Have 100 rows appear when a dataframe is displayed\n",
    "pd.set_option('display.max_rows', 500)\n",
    "# Display dimensions whenever a dataframe is printed out.\n",
    "pd.set_option('display.show_dimensions', True)\n",
    "\n",
    "#Importando los datos\n",
    "\n",
    "#app_train_def = pd.read_csv(r'/home/yeray/TFG-Home-Credit-Default-Risk/JUPYTER_NOTEBOOKS/DATA/application_train_preprocesado_definitivo_v1.csv')\n",
    "#app_train_def_2 = pd.read_csv(r'/home/yeray/TFG-Home-Credit-Default-Risk/JUPYTER_NOTEBOOKS/DATA/application_train_preprocesado_definitivo_v2.csv')\n",
    "#app_train_def_3 = pd.read_csv(r'/home/yeray/TFG-Home-Credit-Default-Risk/JUPYTER_NOTEBOOKS/DATA/application_train_preprocesado_definitivo_v3.csv')\n",
    "#app_train_def_4 = pd.read_csv(r'/home/yeray/TFG-Home-Credit-Default-Risk/JUPYTER_NOTEBOOKS/DATA/application_train_preprocesado_definitivo_v4.csv')\n",
    "#app_train_def_5 = pd.read_csv(r'/home/yeray/TFG-Home-Credit-Default-Risk/JUPYTER_NOTEBOOKS/DATA/application_train_preprocesado_definitivo_v5.csv')\n",
    "app_train_def_7 = pd.read_csv(r'/home/yeray/TFG-Home-Credit-Default-Risk/JUPYTER_NOTEBOOKS/DATA/application_train_preprocesado_definitivo_v7.csv')\n",
    "#app_train_def_7_v2 = pd.read_csv(r'/home/yeray/TFG-Home-Credit-Default-Risk/JUPYTER_NOTEBOOKS/DATA/app_def_v7_menor_dimension.csv')\n",
    "\n",
    "#print(app_train_def_7.info())\n",
    "#print(app_train_def_7.shape)"
   ]
  },
  {
   "cell_type": "code",
   "execution_count": 2,
   "id": "d040e960-9702-4d99-afa2-34196f1f194f",
   "metadata": {},
   "outputs": [],
   "source": [
    "X = app_train_def_7.drop(columns = ['TARGET'])\n",
    "y = app_train_def_7['TARGET']\n",
    "X_train, X_test, y_train, y_test = train_test_split(X, y, test_size=0.2, random_state=42, stratify=y)\n",
    "\n",
    "X_train.columns = X_train.columns.str.replace('[^A-Za-z0-9_]+', '', regex=True)\n",
    "X_test.columns = X_test.columns.str.replace('[^A-Za-z0-9_]+', '', regex=True)"
   ]
  },
  {
   "cell_type": "code",
   "execution_count": 27,
   "id": "0c0af959-bbf9-4aac-bd65-de821d8ed0e4",
   "metadata": {},
   "outputs": [],
   "source": [
    "def objective_completo(trial):\n",
    "    params = {\n",
    "        \"n_estimators\": trial.suggest_int(\"n_estimators\", 100, 2000, step=100),\n",
    "        \"max_depth\": trial.suggest_int(\"max_depth\", 1, 20),\n",
    "        \"min_samples_split\": trial.suggest_int(\"min_samples_split\", 2, 100),\n",
    "        \"min_samples_leaf\": trial.suggest_int(\"min_samples_leaf\", 1, 50),\n",
    "        \"max_features\": trial.suggest_float(\"max_features\", 0.1, 1.0),\n",
    "        \"bootstrap\": trial.suggest_categorical(\"bootstrap\", [True, False]),\n",
    "        \"class_weight\": trial.suggest_categorical(\"class_weight\", [None, \"balanced\"]),\n",
    "        \"random_state\": 42,\n",
    "        \"n_jobs\": 20\n",
    "    }\n",
    "    model = ExtraTreesClassifier(**params)\n",
    "    \n",
    "    cv = StratifiedKFold(n_splits=5, shuffle=True, random_state=42)\n",
    "    scores = cross_val_score(model, X_train, y_train, scoring='roc_auc', cv=cv)\n",
    "    \n",
    "    return scores.mean()\n"
   ]
  },
  {
   "cell_type": "code",
   "execution_count": null,
   "id": "284b9917-aff7-40df-bee8-8cc073b70442",
   "metadata": {},
   "outputs": [
    {
     "name": "stderr",
     "output_type": "stream",
     "text": [
      "[I 2025-04-07 09:36:29,027] A new study created in memory with name: no-name-844aa747-a3c7-471f-99e9-76d057aceed9\n"
     ]
    },
    {
     "data": {
      "application/vnd.jupyter.widget-view+json": {
       "model_id": "61700f11a1a340979f3a24855b8225ab",
       "version_major": 2,
       "version_minor": 0
      },
      "text/plain": [
       "  0%|          | 0/100 [00:00<?, ?it/s]"
      ]
     },
     "metadata": {},
     "output_type": "display_data"
    },
    {
     "name": "stdout",
     "output_type": "stream",
     "text": [
      "[I 2025-04-07 09:50:09,778] Trial 0 finished with value: 0.7480342899234896 and parameters: {'n_estimators': 700, 'max_depth': 8, 'min_samples_split': 46, 'min_samples_leaf': 3, 'max_features': 0.14924364592139455, 'bootstrap': True, 'class_weight': 'balanced'}. Best is trial 0 with value: 0.7480342899234896.\n",
      "[I 2025-04-07 10:24:28,747] Trial 1 finished with value: 0.7546849443534774 and parameters: {'n_estimators': 400, 'max_depth': 10, 'min_samples_split': 22, 'min_samples_leaf': 48, 'max_features': 0.5123051700550051, 'bootstrap': True, 'class_weight': 'balanced'}. Best is trial 1 with value: 0.7546849443534774.\n",
      "[I 2025-04-07 14:29:05,551] Trial 2 finished with value: 0.7637502517046763 and parameters: {'n_estimators': 1200, 'max_depth': 20, 'min_samples_split': 50, 'min_samples_leaf': 2, 'max_features': 0.38402623180640016, 'bootstrap': False, 'class_weight': 'balanced'}. Best is trial 2 with value: 0.7637502517046763.\n",
      "[I 2025-04-07 15:02:55,666] Trial 3 finished with value: 0.7345981440747766 and parameters: {'n_estimators': 500, 'max_depth': 5, 'min_samples_split': 51, 'min_samples_leaf': 12, 'max_features': 0.7795311824889731, 'bootstrap': False, 'class_weight': None}. Best is trial 2 with value: 0.7637502517046763.\n",
      "[I 2025-04-07 18:34:36,634] Trial 4 finished with value: 0.7481836378920551 and parameters: {'n_estimators': 1600, 'max_depth': 8, 'min_samples_split': 70, 'min_samples_leaf': 36, 'max_features': 0.7216049681187466, 'bootstrap': False, 'class_weight': 'balanced'}. Best is trial 2 with value: 0.7637502517046763.\n",
      "[I 2025-04-07 21:08:02,734] Trial 5 finished with value: 0.7672396534215854 and parameters: {'n_estimators': 600, 'max_depth': 19, 'min_samples_split': 11, 'min_samples_leaf': 30, 'max_features': 0.8518237787903902, 'bootstrap': True, 'class_weight': 'balanced'}. Best is trial 5 with value: 0.7672396534215854.\n",
      "[I 2025-04-07 21:30:53,560] Trial 6 finished with value: 0.7396420970071038 and parameters: {'n_estimators': 400, 'max_depth': 6, 'min_samples_split': 99, 'min_samples_leaf': 7, 'max_features': 0.6311546098597682, 'bootstrap': True, 'class_weight': None}. Best is trial 5 with value: 0.7672396534215854.\n",
      "[I 2025-04-07 22:47:20,342] Trial 7 finished with value: 0.7608113758936399 and parameters: {'n_estimators': 400, 'max_depth': 13, 'min_samples_split': 6, 'min_samples_leaf': 43, 'max_features': 0.5261459841801969, 'bootstrap': False, 'class_weight': 'balanced'}. Best is trial 5 with value: 0.7672396534215854.\n",
      "[I 2025-04-08 03:41:36,704] Trial 8 finished with value: 0.7617725384939024 and parameters: {'n_estimators': 1600, 'max_depth': 13, 'min_samples_split': 54, 'min_samples_leaf': 36, 'max_features': 0.8502583447885939, 'bootstrap': True, 'class_weight': None}. Best is trial 5 with value: 0.7672396534215854.\n",
      "[I 2025-04-08 06:26:45,666] Trial 9 finished with value: 0.7659815247443368 and parameters: {'n_estimators': 800, 'max_depth': 19, 'min_samples_split': 94, 'min_samples_leaf': 44, 'max_features': 0.47547245892864765, 'bootstrap': False, 'class_weight': 'balanced'}. Best is trial 5 with value: 0.7672396534215854.\n",
      "[I 2025-04-08 06:55:27,262] Trial 10 finished with value: 0.7612648733224681 and parameters: {'n_estimators': 100, 'max_depth': 16, 'min_samples_split': 2, 'min_samples_leaf': 19, 'max_features': 0.9761984344477002, 'bootstrap': True, 'class_weight': None}. Best is trial 5 with value: 0.7672396534215854.\n",
      "[I 2025-04-08 09:30:38,245] Trial 11 finished with value: 0.7663448154121275 and parameters: {'n_estimators': 1000, 'max_depth': 20, 'min_samples_split': 95, 'min_samples_leaf': 28, 'max_features': 0.3153639010142474, 'bootstrap': False, 'class_weight': 'balanced'}. Best is trial 5 with value: 0.7672396534215854.\n",
      "[I 2025-04-08 10:55:40,602] Trial 12 finished with value: 0.7640090233496357 and parameters: {'n_estimators': 1200, 'max_depth': 17, 'min_samples_split': 77, 'min_samples_leaf': 31, 'max_features': 0.24328722758694477, 'bootstrap': True, 'class_weight': 'balanced'}. Best is trial 5 with value: 0.7672396534215854.\n",
      "[I 2025-04-08 13:13:18,936] Trial 13 finished with value: 0.7637256127401407 and parameters: {'n_estimators': 1000, 'max_depth': 16, 'min_samples_split': 32, 'min_samples_leaf': 24, 'max_features': 0.3137682826231236, 'bootstrap': False, 'class_weight': 'balanced'}. Best is trial 5 with value: 0.7672396534215854.\n",
      "[I 2025-04-08 13:55:40,735] Trial 14 finished with value: 0.7200197484434792 and parameters: {'n_estimators': 2000, 'max_depth': 2, 'min_samples_split': 78, 'min_samples_leaf': 22, 'max_features': 0.9781775780853712, 'bootstrap': True, 'class_weight': 'balanced'}. Best is trial 5 with value: 0.7672396534215854.\n",
      "[I 2025-04-08 18:14:46,500] Trial 15 finished with value: 0.7677896017956599 and parameters: {'n_estimators': 900, 'max_depth': 20, 'min_samples_split': 21, 'min_samples_leaf': 31, 'max_features': 0.6145810114389474, 'bootstrap': False, 'class_weight': 'balanced'}. Best is trial 15 with value: 0.7677896017956599.\n",
      "[I 2025-04-08 18:40:46,417] Trial 16 finished with value: 0.7593552125631737 and parameters: {'n_estimators': 100, 'max_depth': 14, 'min_samples_split': 16, 'min_samples_leaf': 16, 'max_features': 0.6699747634400007, 'bootstrap': False, 'class_weight': 'balanced'}. Best is trial 15 with value: 0.7677896017956599.\n"
     ]
    }
   ],
   "source": [
    "\n",
    "study_completo = optuna.create_study(direction=\"maximize\")\n",
    "\n",
    "study_completo.optimize(objective_completo, n_trials=100, show_progress_bar=True)\n",
    "\n",
    "print(\"Best trial:\", study_completo.best_trial.number)\n",
    "print(\"Best value (mean AUC):\", study_completo.best_value)\n",
    "print(\"Best hyperparams:\", study_completo.best_params)"
   ]
  },
  {
   "cell_type": "code",
   "execution_count": null,
   "id": "172cd5fa-043d-48ad-b074-d878c6e16898",
   "metadata": {},
   "outputs": [],
   "source": [
    "import pickle\n",
    "with open(\"ExtraTrees_Optuna_Study_v7_completo.pkl\", \"wb\") as f:\n",
    "    pickle.dump(study_completo, f)\n",
    "with open(\"/home/yeray/TFG-Home-Credit-Default-Risk/JUPYTER_NOTEBOOKS/ExtraTrees_Optuna_Study_v7_completo.pkl\", \"rb\") as f:\n",
    "    loaded_study_completo = pickle.load(f)"
   ]
  },
  {
   "cell_type": "code",
   "execution_count": null,
   "id": "f995ff76-0fb5-4c47-b583-608c50d836b8",
   "metadata": {},
   "outputs": [],
   "source": [
    "from tabulate import tabulate\n",
    "\n",
    "trials_df = loaded_study_completo.trials_dataframe()\n",
    "\n",
    "df_sorted = trials_df.sort_values(by=\"value\", ascending=False)\n",
    "best_10 = df_sorted.head(10)\n",
    "\n",
    "print(tabulate(best_10, headers=\"keys\", tablefmt=\"psql\"))"
   ]
  },
  {
   "cell_type": "code",
   "execution_count": null,
   "id": "dbcfcbc0-25ae-47d7-a33b-8890d058e0cb",
   "metadata": {},
   "outputs": [],
   "source": [
    "\n",
    "best_row = best_10.iloc[0]\n",
    "\n",
    "best_params = best_row.filter(like=\"params_\").to_dict()\n",
    "\n",
    "best_params_clean = {\n",
    "    k.replace(\"params_\", \"\"): v \n",
    "    for k, v in best_params.items()\n",
    "}\n",
    "\n",
    "\n",
    "final_params = {\n",
    "    **best_params_clean,\n",
    "    \"random_state\": 42,\n",
    "    \"n_jobs\": 20\n",
    "}\n",
    "\n",
    "extra_model = ExtraTreesClassifier(**final_params)\n",
    "extra_model.fit(X_train, y_train)"
   ]
  },
  {
   "cell_type": "code",
   "execution_count": null,
   "id": "4062c824-b41b-4306-9b1b-684b30d74689",
   "metadata": {},
   "outputs": [],
   "source": [
    "from sklearn.metrics import roc_auc_score\n",
    "\n",
    "y_pred_proba = extra_model.predict_proba(X_test)[:, 1]\n",
    "auc_test = roc_auc_score(y_test, y_pred_proba)\n",
    "print(f\"AUC en test: {auc_test:.4f}\")\n"
   ]
  },
  {
   "cell_type": "code",
   "execution_count": null,
   "id": "a2127ece-2f5f-42c9-9987-d54ae736b191",
   "metadata": {},
   "outputs": [],
   "source": []
  }
 ],
 "metadata": {
  "kernelspec": {
   "display_name": "tfg-py3.12",
   "language": "python",
   "name": "tfg-py3.12"
  },
  "language_info": {
   "codemirror_mode": {
    "name": "ipython",
    "version": 3
   },
   "file_extension": ".py",
   "mimetype": "text/x-python",
   "name": "python",
   "nbconvert_exporter": "python",
   "pygments_lexer": "ipython3",
   "version": "3.12.8"
  }
 },
 "nbformat": 4,
 "nbformat_minor": 5
}
