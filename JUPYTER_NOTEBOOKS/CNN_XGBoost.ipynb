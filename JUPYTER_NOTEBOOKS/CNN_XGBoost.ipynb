{
 "cells": [
  {
   "cell_type": "code",
   "execution_count": 4,
   "id": "8f44373f-5008-4b62-b4ee-006ff729cea6",
   "metadata": {},
   "outputs": [],
   "source": [
    "#CNN \n",
    "import os\n",
    "\n",
    "os.environ[\"OMP_NUM_THREADS\"] = \"20\"\n",
    "os.environ[\"MKL_NUM_THREADS\"] = \"20\"\n",
    "os.environ[\"TF_NUM_INTRAOP_THREADS\"] = \"20\"\n",
    "os.environ[\"TF_NUM_INTEROP_THREADS\"] = \"20\"\n",
    "\n",
    "import numpy as np\n",
    "import pandas as pd\n",
    "from sklearn.model_selection import train_test_split\n",
    "from sklearn.metrics import roc_auc_score\n",
    "\n",
    "import tensorflow as tf\n",
    "from tensorflow.keras.models import Model, Sequential, Input\n",
    "from tensorflow.keras.layers import Dense, Conv1D, GlobalAveragePooling1D, Dropout, Input\n",
    "from tensorflow.keras.callbacks import EarlyStopping\n",
    "from tensorflow.keras.optimizers import Adam\n",
    "import optuna\n",
    "import xgboost as xgb\n",
    "\n",
    "\n",
    "\n",
    "# Have all columns appear when dataframes are displayed.\n",
    "pd.set_option('display.max_columns', None) \n",
    "# Have 100 rows appear when a dataframe is displayed\n",
    "pd.set_option('display.max_rows', 500)\n",
    "# Display dimensions whenever a dataframe is printed out.\n",
    "pd.set_option('display.show_dimensions', True)\n",
    "\n",
    "app_train_def_7 = pd.read_csv(r'/home/yeray/TFG-Home-Credit-Default-Risk/JUPYTER_NOTEBOOKS/DATA/application_train_preprocesado_definitivo_v7.csv')"
   ]
  },
  {
   "cell_type": "code",
   "execution_count": 5,
   "id": "a1667226-da5c-4e42-8f2f-989119c31d34",
   "metadata": {},
   "outputs": [
    {
     "name": "stdout",
     "output_type": "stream",
     "text": [
      "X_train shape:  (246008, 1322)\n",
      "X_test shape (61503, 1322)\n"
     ]
    }
   ],
   "source": [
    "X = app_train_def_7.drop(columns=[\"TARGET\"]).values\n",
    "y = app_train_def_7[\"TARGET\"].values\n",
    "\n",
    "X_train, X_test, y_train, y_test = train_test_split(\n",
    "    X,y, test_size=0.2, random_state=42)\n",
    "\n",
    "print(\"X_train shape: \", X_train.shape)\n",
    "print(\"X_test shape\", X_test.shape)\n",
    "\n",
    "#Para Conv1D necesitamos hacer reshape para tener el \"formato\" (num_samples, num_features, 1)\n",
    "X_train_reshaped = X_train.reshape((X_train.shape[0], X_train.shape[1], 1))\n",
    "X_test_reshaped = X_test.reshape((X_test.shape[0], X_test.shape[1], 1))"
   ]
  },
  {
   "cell_type": "code",
   "execution_count": 18,
   "id": "d1c30d2a-002f-4d3c-b426-df21dd1eaa42",
   "metadata": {},
   "outputs": [],
   "source": [
    "def create_cnn(filters, kernel_size, dense_size, dropout_rate, learning_rate, input_shape):\n",
    "    \"\"\"\n",
    "    Construye una CNN con la API Funcional de Keras.\n",
    "    \"\"\"\n",
    "    inputs = Input(shape=input_shape)\n",
    "    x = Conv1D(filters=filters, kernel_size=kernel_size, activation='relu')(inputs)\n",
    "    x = GlobalAveragePooling1D()(x)\n",
    "    # Capa de embeddings\n",
    "    embedding = Dense(dense_size, activation='relu', name='embedding_layer')(x)\n",
    "    x = Dropout(dropout_rate)(embedding)\n",
    "    outputs = Dense(1, activation='sigmoid', name='output_layer')(x)\n",
    "\n",
    "    model = Model(inputs=inputs, outputs=outputs)\n",
    "    opt = Adam(learning_rate=learning_rate)\n",
    "    model.compile(optimizer=opt, loss='binary_crossentropy', metrics=['AUC'])\n",
    "    return model"
   ]
  },
  {
   "cell_type": "code",
   "execution_count": 11,
   "id": "34fd4617-3a66-4ea1-961c-6a0515666b2a",
   "metadata": {},
   "outputs": [
    {
     "name": "stderr",
     "output_type": "stream",
     "text": [
      "[I 2025-04-04 00:15:35,796] A new study created in memory with name: cnn_tuning\n"
     ]
    }
   ],
   "source": [
    "%%capture\n",
    "# De cara a los hiperparámetros de la CNN, por el momento vamos a hacer uso de algunos estandar que podremos ir ajustando acorde a las pruebas obtenidas. Plantear si \n",
    "# realizar una búsqueda con optuna sería posible.\n",
    "\n",
    "def objective_cnn(trial):\n",
    "\n",
    "    filters = trial.suggest_int(\"filters\", 16, 128, step=16)\n",
    "    kernel_size = trial.suggest_categorical(\"kernel_size\", [3, 5, 7])\n",
    "    dense_size = trial.suggest_int(\"dense_size\", 32, 256, step=32)\n",
    "    dropout_rate = trial.suggest_float(\"dropout_rate\", 0.0, 0.5, step=0.1)\n",
    "    learning_rate = trial.suggest_float(\"learning_rate\", 1e-4, 1e-2, log=True)\n",
    "    epochs=10\n",
    "    batch_size=256\n",
    "    \n",
    "    cnn = Sequential()\n",
    "\n",
    "    cnn.add(Conv1D(filters=filters, kernel_size = kernel_size, activation='relu',\n",
    "               input_shape=(X_train_reshaped.shape[1],1)))\n",
    "\n",
    "    cnn.add(GlobalAveragePooling1D())\n",
    "\n",
    "    #Feature extractor\n",
    "    cnn.add(Dense(dense_size, activation='relu', name='embedding_layer'))\n",
    "    cnn.add(Dropout(dropout_rate))\n",
    "\n",
    "    cnn.add(Dense(1, activation='sigmoid', name='output_layer'))\n",
    "    opt = Adam(learning_rate=learning_rate)\n",
    "    cnn.compile(optimizer=opt, loss='binary_crossentropy', metrics=['AUC'])\n",
    "\n",
    "\n",
    "    callbacks = [\n",
    "        EarlyStopping(monitor='val_AUC', mode='max', patience=3, verbose=0, restore_best_weights=True)\n",
    "    ]\n",
    "    history = cnn.fit( X_train_reshaped, y_train,\n",
    "        validation_split=0.1,  \n",
    "        epochs=epochs,\n",
    "        batch_size=batch_size,\n",
    "        verbose=1,\n",
    "    )\n",
    "\n",
    "    val_auc_history = history.history[\"val_AUC\"]\n",
    "    best_val_auc = max(val_auc_history)\n",
    "\n",
    "    return best_val_auc\n",
    "\n",
    "\n",
    "study = optuna.create_study(direction=\"maximize\", study_name=\"cnn_tuning\")\n",
    "study.optimize(objective_cnn, n_trials=10, n_jobs=1, show_progress_bar=True)"
   ]
  },
  {
   "cell_type": "code",
   "execution_count": 19,
   "id": "a4d9d473-431b-47b7-a1fa-95697e1da463",
   "metadata": {},
   "outputs": [
    {
     "name": "stdout",
     "output_type": "stream",
     "text": [
      "Número de trials realizados: 10\n",
      "Mejor valor AUC en validación: 0.5123127102851868\n",
      "Mejores hiperparámetros: {'filters': 16, 'kernel_size': 3, 'dense_size': 192, 'dropout_rate': 0.2, 'learning_rate': 0.0012735636161662844}\n",
      "Epoch 1/10\n",
      "\u001b[1m865/865\u001b[0m \u001b[32m━━━━━━━━━━━━━━━━━━━━\u001b[0m\u001b[37m\u001b[0m \u001b[1m13s\u001b[0m 13ms/step - AUC: 0.5015 - loss: 54.0763 - val_AUC: 0.4935 - val_loss: 0.2869\n",
      "Epoch 2/10\n",
      "\u001b[1m865/865\u001b[0m \u001b[32m━━━━━━━━━━━━━━━━━━━━\u001b[0m\u001b[37m\u001b[0m \u001b[1m11s\u001b[0m 13ms/step - AUC: 0.5009 - loss: 0.4171 - val_AUC: 0.5028 - val_loss: 0.2759\n",
      "Epoch 3/10\n",
      "\u001b[1m865/865\u001b[0m \u001b[32m━━━━━━━━━━━━━━━━━━━━\u001b[0m\u001b[37m\u001b[0m \u001b[1m11s\u001b[0m 13ms/step - AUC: 0.5017 - loss: 0.2898 - val_AUC: 0.4987 - val_loss: 0.9131\n",
      "Epoch 4/10\n",
      "\u001b[1m865/865\u001b[0m \u001b[32m━━━━━━━━━━━━━━━━━━━━\u001b[0m\u001b[37m\u001b[0m \u001b[1m11s\u001b[0m 13ms/step - AUC: 0.5005 - loss: 0.8881 - val_AUC: 0.5008 - val_loss: 0.2758\n",
      "Epoch 5/10\n",
      "\u001b[1m865/865\u001b[0m \u001b[32m━━━━━━━━━━━━━━━━━━━━\u001b[0m\u001b[37m\u001b[0m \u001b[1m11s\u001b[0m 13ms/step - AUC: 0.5018 - loss: 0.2993 - val_AUC: 0.5076 - val_loss: 0.2755\n",
      "Epoch 6/10\n",
      "\u001b[1m865/865\u001b[0m \u001b[32m━━━━━━━━━━━━━━━━━━━━\u001b[0m\u001b[37m\u001b[0m \u001b[1m11s\u001b[0m 13ms/step - AUC: 0.4981 - loss: 0.3548 - val_AUC: 0.4921 - val_loss: 0.2844\n",
      "Epoch 7/10\n",
      "\u001b[1m865/865\u001b[0m \u001b[32m━━━━━━━━━━━━━━━━━━━━\u001b[0m\u001b[37m\u001b[0m \u001b[1m11s\u001b[0m 13ms/step - AUC: 0.5011 - loss: 0.3010 - val_AUC: 0.5071 - val_loss: 0.2742\n",
      "Epoch 8/10\n",
      "\u001b[1m865/865\u001b[0m \u001b[32m━━━━━━━━━━━━━━━━━━━━\u001b[0m\u001b[37m\u001b[0m \u001b[1m11s\u001b[0m 13ms/step - AUC: 0.4984 - loss: 0.2871 - val_AUC: 0.5093 - val_loss: 0.2746\n",
      "Epoch 9/10\n",
      "\u001b[1m865/865\u001b[0m \u001b[32m━━━━━━━━━━━━━━━━━━━━\u001b[0m\u001b[37m\u001b[0m \u001b[1m11s\u001b[0m 13ms/step - AUC: 0.4937 - loss: 0.2915 - val_AUC: 0.5103 - val_loss: 0.2744\n",
      "Epoch 10/10\n",
      "\u001b[1m865/865\u001b[0m \u001b[32m━━━━━━━━━━━━━━━━━━━━\u001b[0m\u001b[37m\u001b[0m \u001b[1m11s\u001b[0m 13ms/step - AUC: 0.4985 - loss: 0.3008 - val_AUC: 0.5015 - val_loss: 0.2743\n",
      "\u001b[1m7688/7688\u001b[0m \u001b[32m━━━━━━━━━━━━━━━━━━━━\u001b[0m\u001b[37m\u001b[0m \u001b[1m14s\u001b[0m 2ms/step\n",
      "\u001b[1m1922/1922\u001b[0m \u001b[32m━━━━━━━━━━━━━━━━━━━━\u001b[0m\u001b[37m\u001b[0m \u001b[1m3s\u001b[0m 2ms/step\n",
      "Embeddings de train shape: (246008, 192)\n",
      "Embeddings de test  shape: (61503, 192)\n"
     ]
    }
   ],
   "source": [
    "print(\"Número de trials realizados:\", len(study.trials))\n",
    "print(\"Mejor valor AUC en validación:\", study.best_value)\n",
    "print(\"Mejores hiperparámetros:\", study.best_params)\n",
    "\n",
    "best_params = study.best_params\n",
    "filters = best_params[\"filters\"]\n",
    "kernel_size = best_params[\"kernel_size\"]\n",
    "dense_size = best_params[\"dense_size\"]\n",
    "dropout_rate = best_params[\"dropout_rate\"]\n",
    "learning_rate = best_params[\"learning_rate\"]\n",
    "\n",
    "cnn = create_cnn(\n",
    "    filters=best_params[\"filters\"],\n",
    "    kernel_size=best_params[\"kernel_size\"],\n",
    "    dense_size=best_params[\"dense_size\"],\n",
    "    dropout_rate=best_params[\"dropout_rate\"],\n",
    "    learning_rate=best_params[\"learning_rate\"],\n",
    "    input_shape=(X_train_reshaped.shape[1], 1)\n",
    ")\n",
    "\n",
    "cnn.fit(\n",
    "    X_train_reshaped, y_train,\n",
    "    validation_split=0.1,\n",
    "    epochs=10,\n",
    "    batch_size=256\n",
    ")\n",
    "\n",
    "#Feature extractor\n",
    "feature_extractor = Model(\n",
    "    inputs=cnn.input,\n",
    "    outputs=cnn.get_layer(\"embedding_layer\").output\n",
    ")\n",
    "\n",
    "emb_train = feature_extractor.predict(X_train_reshaped)\n",
    "emb_test = feature_extractor.predict(X_test_reshaped)\n",
    "\n",
    "print(\"Embeddings de train shape:\", emb_train.shape)\n",
    "print(\"Embeddings de test  shape:\", emb_test.shape)"
   ]
  },
  {
   "cell_type": "code",
   "execution_count": 25,
   "id": "ae7a96c5-8a8d-48a1-abd5-b47cd348b8aa",
   "metadata": {},
   "outputs": [],
   "source": [
    "def objective_completo(trial):\n",
    "    params = {\n",
    "        \"n_estimators\": trial.suggest_int(\"n_estimators\", 1700, 2300, step=50),\n",
    "        \"max_bin\": trial.suggest_int(\"max_bin\", 250, 350, step=10),\n",
    "        \"learning_rate\": trial.suggest_float(\"learning_rate\", 0.01, 0.025, log=True),\n",
    "        \"max_depth\": trial.suggest_int(\"max_depth\", 0, 6),\n",
    "        \"gamma\": trial.suggest_float(\"gamma\", 0.5, 1.0),\n",
    "        \"min_child_weight\": trial.suggest_int(\"min_child_weight\", 20, 40),\n",
    "        \"subsample\": trial.suggest_float(\"subsample\", 0.5, 0.9),\n",
    "        \"colsample_bytree\": trial.suggest_float(\"colsample_bytree\", 0.4, 0.6),\n",
    "        \"reg_alpha\": trial.suggest_float(\"reg_alpha\", 1e-8, 1.0, log=True),\n",
    "        \"reg_lambda\": trial.suggest_float(\"reg_lambda\", 1e-8, 50.0, log=True),\n",
    "        \"tree_method\": trial.suggest_categorical(\"tree_method\", [\"auto\", \"hist\"]),\n",
    "        \"scale_pos_weight\": trial.suggest_float(\"scale_pos_weight\", 1.0, 1.5),\n",
    "    }\n",
    "    model = XGBClassifier(\n",
    "        **params,\n",
    "        objective=\"binary:logistic\",\n",
    "        eval_metric=\"auc\",\n",
    "        use_label_encoder=False,\n",
    "        verbosity=0,\n",
    "        random_state=42,\n",
    "        n_jobs=20\n",
    "    )\n",
    "\n",
    "    cv=StratifiedKFold(n_splits=5, shuffle=True, random_state=42)\n",
    "    scores = cross_val_score(model,emb_train, y_train, scoring='roc_auc', cv=cv)\n",
    "\n",
    "    return scores.mean()"
   ]
  },
  {
   "cell_type": "code",
   "execution_count": 27,
   "id": "0a5f747b-ce2c-4fc2-a57b-92f4ee05a4eb",
   "metadata": {},
   "outputs": [
    {
     "name": "stderr",
     "output_type": "stream",
     "text": [
      "[I 2025-04-04 17:03:02,203] A new study created in memory with name: no-name-40fdd879-c28f-4ae5-9191-5823eda3c7a7\n"
     ]
    }
   ],
   "source": [
    "%%capture\n",
    "#Estudio para maximizar\n",
    "\n",
    "from xgboost import XGBClassifier\n",
    "from sklearn.model_selection import StratifiedKFold\n",
    "from sklearn.model_selection import  cross_val_score\n",
    "study_completo = optuna.create_study(direction=\"maximize\")\n",
    "\n",
    "#Búsqueda\n",
    "study_completo.optimize(objective_completo, n_trials=100, show_progress_bar=True)\n",
    "\n",
    "print(\"Best trial:\", study_completo.best_trial.number)\n",
    "print(\"Best value (mean AUC):\", study_completo.best_value)\n",
    "print(\"Best hyperparams:\", study_completo.best_params)"
   ]
  },
  {
   "cell_type": "code",
   "execution_count": 30,
   "id": "d298ec6f-6a2e-4642-9b3a-02a14f57840a",
   "metadata": {},
   "outputs": [],
   "source": [
    "import pickle\n",
    "#with open(\"XGBoost_Optuna_Study_v7_completo_CNN_feature_extractor.pkl\", \"wb\") as f:\n",
    "#    pickle.dump(study_completo, f)\n",
    "with open(\"/home/yeray/TFG-Home-Credit-Default-Risk/JUPYTER_NOTEBOOKS/XGBoost_Optuna_Study_v7_completo_CNN_feature_extractor.pkl\", \"rb\") as f:\n",
    "    loaded_study_completo = pickle.load(f)"
   ]
  },
  {
   "cell_type": "code",
   "execution_count": 31,
   "id": "8fbf94a7-e136-4fe4-8236-7ae2d058aa79",
   "metadata": {},
   "outputs": [
    {
     "name": "stdout",
     "output_type": "stream",
     "text": [
      "+----+----------+----------+----------------------------+----------------------------+------------------------+---------------------------+----------------+------------------------+------------------+--------------------+---------------------------+-----------------------+--------------------+---------------------+---------------------------+--------------------+----------------------+----------+\n",
      "|    |   number |    value | datetime_start             | datetime_complete          | duration               |   params_colsample_bytree |   params_gamma |   params_learning_rate |   params_max_bin |   params_max_depth |   params_min_child_weight |   params_n_estimators |   params_reg_alpha |   params_reg_lambda |   params_scale_pos_weight |   params_subsample | params_tree_method   | state    |\n",
      "|----+----------+----------+----------------------------+----------------------------+------------------------+---------------------------+----------------+------------------------+------------------+--------------------+---------------------------+-----------------------+--------------------+---------------------+---------------------------+--------------------+----------------------+----------|\n",
      "| 85 |       85 | 0.499958 | 2025-04-04 19:51:58.292423 | 2025-04-04 19:55:25.992626 | 0 days 00:03:27.700203 |                  0.588328 |       0.509338 |              0.0104503 |              340 |                  0 |                        38 |                  2200 |        0.000447476 |         0.000393878 |                   1.12463 |           0.534018 | hist                 | COMPLETE |\n",
      "| 89 |       89 | 0.499899 | 2025-04-04 20:02:46.241603 | 2025-04-04 20:05:59.680830 | 0 days 00:03:13.439227 |                  0.583879 |       0.558534 |              0.0110598 |              340 |                  0 |                        28 |                  2250 |        0.000136387 |         0.00037624  |                   1.10532 |           0.585833 | auto                 | COMPLETE |\n",
      "| 63 |       63 | 0.499867 | 2025-04-04 18:56:13.772657 | 2025-04-04 18:58:51.031433 | 0 days 00:02:37.258776 |                  0.582306 |       0.654878 |              0.0100271 |              330 |                  0 |                        30 |                  2150 |        0.000522536 |         0.769706    |                   1.17872 |           0.643658 | hist                 | COMPLETE |\n",
      "| 42 |       42 | 0.499864 | 2025-04-04 18:03:19.581598 | 2025-04-04 18:06:43.601117 | 0 days 00:03:24.019519 |                  0.588249 |       0.55404  |              0.0104993 |              340 |                  0 |                        27 |                  2200 |        0.000152229 |         0.000393795 |                   1.0967  |           0.50074  | hist                 | COMPLETE |\n",
      "| 72 |       72 | 0.499842 | 2025-04-04 19:15:17.536557 | 2025-04-04 19:18:38.545256 | 0 days 00:03:21.008699 |                  0.589671 |       0.568621 |              0.0103014 |              340 |                  0 |                        33 |                  2200 |        4.87158e-05 |         0.000522155 |                   1.18688 |           0.522424 | hist                 | COMPLETE |\n",
      "| 43 |       43 | 0.499832 | 2025-04-04 18:06:43.603228 | 2025-04-04 18:10:04.568053 | 0 days 00:03:20.964825 |                  0.590424 |       0.556592 |              0.0104573 |              340 |                  0 |                        31 |                  2200 |        0.000178853 |         0.000392661 |                   1.11065 |           0.514975 | hist                 | COMPLETE |\n",
      "| 71 |       71 | 0.499805 | 2025-04-04 19:11:53.264248 | 2025-04-04 19:15:17.534414 | 0 days 00:03:24.270166 |                  0.591241 |       0.581274 |              0.0100116 |              340 |                  0 |                        31 |                  2250 |        5.01722e-05 |         0.000466903 |                   1.17962 |           0.52276  | hist                 | COMPLETE |\n",
      "| 34 |       34 | 0.499799 | 2025-04-04 17:44:35.096226 | 2025-04-04 17:47:40.314126 | 0 days 00:03:05.217900 |                  0.596166 |       0.599116 |              0.0112235 |              340 |                  0 |                        28 |                  2200 |        0.00019037  |         0.166391    |                   1.23567 |           0.625169 | hist                 | COMPLETE |\n",
      "| 62 |       62 | 0.499794 | 2025-04-04 18:53:26.193454 | 2025-04-04 18:56:13.770560 | 0 days 00:02:47.577106 |                  0.579781 |       0.66022  |              0.0100277 |              340 |                  0 |                        28 |                  2200 |        0.000493809 |         0.100459    |                   1.23694 |           0.634933 | hist                 | COMPLETE |\n",
      "| 33 |       33 | 0.499762 | 2025-04-04 17:41:26.222896 | 2025-04-04 17:44:35.094052 | 0 days 00:03:08.871156 |                  0.595381 |       0.597451 |              0.0111023 |              340 |                  0 |                        24 |                  2250 |        2.80954e-05 |         0.213599    |                   1.22918 |           0.624029 | auto                 | COMPLETE |\n",
      "+----+----------+----------+----------------------------+----------------------------+------------------------+---------------------------+----------------+------------------------+------------------+--------------------+---------------------------+-----------------------+--------------------+---------------------+---------------------------+--------------------+----------------------+----------+\n"
     ]
    }
   ],
   "source": [
    "from tabulate import tabulate\n",
    "\n",
    "trials_df = loaded_study_completo.trials_dataframe()\n",
    "\n",
    "df_sorted = trials_df.sort_values(by=\"value\", ascending=False)\n",
    "best_10 = df_sorted.head(10)\n",
    "\n",
    "print(tabulate(best_10, headers=\"keys\", tablefmt=\"psql\"))"
   ]
  },
  {
   "cell_type": "code",
   "execution_count": 32,
   "id": "563b9052-d14c-41bf-905e-bcd81d68e500",
   "metadata": {},
   "outputs": [
    {
     "name": "stderr",
     "output_type": "stream",
     "text": [
      "/home/yeray/miniconda3/envs/tfg-py3.12/lib/python3.12/site-packages/xgboost/core.py:158: UserWarning: [23:41:39] WARNING: /workspace/src/learner.cc:740: \n",
      "Parameters: { \"use_label_encoder\" } are not used.\n",
      "\n",
      "  warnings.warn(smsg, UserWarning)\n"
     ]
    },
    {
     "data": {
      "text/html": [
       "<style>#sk-container-id-1 {color: black;}#sk-container-id-1 pre{padding: 0;}#sk-container-id-1 div.sk-toggleable {background-color: white;}#sk-container-id-1 label.sk-toggleable__label {cursor: pointer;display: block;width: 100%;margin-bottom: 0;padding: 0.3em;box-sizing: border-box;text-align: center;}#sk-container-id-1 label.sk-toggleable__label-arrow:before {content: \"▸\";float: left;margin-right: 0.25em;color: #696969;}#sk-container-id-1 label.sk-toggleable__label-arrow:hover:before {color: black;}#sk-container-id-1 div.sk-estimator:hover label.sk-toggleable__label-arrow:before {color: black;}#sk-container-id-1 div.sk-toggleable__content {max-height: 0;max-width: 0;overflow: hidden;text-align: left;background-color: #f0f8ff;}#sk-container-id-1 div.sk-toggleable__content pre {margin: 0.2em;color: black;border-radius: 0.25em;background-color: #f0f8ff;}#sk-container-id-1 input.sk-toggleable__control:checked~div.sk-toggleable__content {max-height: 200px;max-width: 100%;overflow: auto;}#sk-container-id-1 input.sk-toggleable__control:checked~label.sk-toggleable__label-arrow:before {content: \"▾\";}#sk-container-id-1 div.sk-estimator input.sk-toggleable__control:checked~label.sk-toggleable__label {background-color: #d4ebff;}#sk-container-id-1 div.sk-label input.sk-toggleable__control:checked~label.sk-toggleable__label {background-color: #d4ebff;}#sk-container-id-1 input.sk-hidden--visually {border: 0;clip: rect(1px 1px 1px 1px);clip: rect(1px, 1px, 1px, 1px);height: 1px;margin: -1px;overflow: hidden;padding: 0;position: absolute;width: 1px;}#sk-container-id-1 div.sk-estimator {font-family: monospace;background-color: #f0f8ff;border: 1px dotted black;border-radius: 0.25em;box-sizing: border-box;margin-bottom: 0.5em;}#sk-container-id-1 div.sk-estimator:hover {background-color: #d4ebff;}#sk-container-id-1 div.sk-parallel-item::after {content: \"\";width: 100%;border-bottom: 1px solid gray;flex-grow: 1;}#sk-container-id-1 div.sk-label:hover label.sk-toggleable__label {background-color: #d4ebff;}#sk-container-id-1 div.sk-serial::before {content: \"\";position: absolute;border-left: 1px solid gray;box-sizing: border-box;top: 0;bottom: 0;left: 50%;z-index: 0;}#sk-container-id-1 div.sk-serial {display: flex;flex-direction: column;align-items: center;background-color: white;padding-right: 0.2em;padding-left: 0.2em;position: relative;}#sk-container-id-1 div.sk-item {position: relative;z-index: 1;}#sk-container-id-1 div.sk-parallel {display: flex;align-items: stretch;justify-content: center;background-color: white;position: relative;}#sk-container-id-1 div.sk-item::before, #sk-container-id-1 div.sk-parallel-item::before {content: \"\";position: absolute;border-left: 1px solid gray;box-sizing: border-box;top: 0;bottom: 0;left: 50%;z-index: -1;}#sk-container-id-1 div.sk-parallel-item {display: flex;flex-direction: column;z-index: 1;position: relative;background-color: white;}#sk-container-id-1 div.sk-parallel-item:first-child::after {align-self: flex-end;width: 50%;}#sk-container-id-1 div.sk-parallel-item:last-child::after {align-self: flex-start;width: 50%;}#sk-container-id-1 div.sk-parallel-item:only-child::after {width: 0;}#sk-container-id-1 div.sk-dashed-wrapped {border: 1px dashed gray;margin: 0 0.4em 0.5em 0.4em;box-sizing: border-box;padding-bottom: 0.4em;background-color: white;}#sk-container-id-1 div.sk-label label {font-family: monospace;font-weight: bold;display: inline-block;line-height: 1.2em;}#sk-container-id-1 div.sk-label-container {text-align: center;}#sk-container-id-1 div.sk-container {/* jupyter's `normalize.less` sets `[hidden] { display: none; }` but bootstrap.min.css set `[hidden] { display: none !important; }` so we also need the `!important` here to be able to override the default hidden behavior on the sphinx rendered scikit-learn.org. See: https://github.com/scikit-learn/scikit-learn/issues/21755 */display: inline-block !important;position: relative;}#sk-container-id-1 div.sk-text-repr-fallback {display: none;}</style><div id=\"sk-container-id-1\" class=\"sk-top-container\"><div class=\"sk-text-repr-fallback\"><pre>XGBClassifier(base_score=None, booster=None, callbacks=None,\n",
       "              colsample_bylevel=None, colsample_bynode=None,\n",
       "              colsample_bytree=0.5883280509005198, device=None,\n",
       "              early_stopping_rounds=None, enable_categorical=False,\n",
       "              eval_metric=&#x27;auc&#x27;, feature_types=None, gamma=0.5093377514374635,\n",
       "              grow_policy=None, importance_type=None,\n",
       "              interaction_constraints=None, learning_rate=0.010450294855131905,\n",
       "              max_bin=340, max_cat_threshold=None, max_cat_to_onehot=None,\n",
       "              max_delta_step=None, max_depth=0, max_leaves=None,\n",
       "              min_child_weight=38, missing=nan, monotone_constraints=None,\n",
       "              multi_strategy=None, n_estimators=2200, n_jobs=None,\n",
       "              num_parallel_tree=None, random_state=42, ...)</pre><b>In a Jupyter environment, please rerun this cell to show the HTML representation or trust the notebook. <br />On GitHub, the HTML representation is unable to render, please try loading this page with nbviewer.org.</b></div><div class=\"sk-container\" hidden><div class=\"sk-item\"><div class=\"sk-estimator sk-toggleable\"><input class=\"sk-toggleable__control sk-hidden--visually\" id=\"sk-estimator-id-1\" type=\"checkbox\" checked><label for=\"sk-estimator-id-1\" class=\"sk-toggleable__label sk-toggleable__label-arrow\">XGBClassifier</label><div class=\"sk-toggleable__content\"><pre>XGBClassifier(base_score=None, booster=None, callbacks=None,\n",
       "              colsample_bylevel=None, colsample_bynode=None,\n",
       "              colsample_bytree=0.5883280509005198, device=None,\n",
       "              early_stopping_rounds=None, enable_categorical=False,\n",
       "              eval_metric=&#x27;auc&#x27;, feature_types=None, gamma=0.5093377514374635,\n",
       "              grow_policy=None, importance_type=None,\n",
       "              interaction_constraints=None, learning_rate=0.010450294855131905,\n",
       "              max_bin=340, max_cat_threshold=None, max_cat_to_onehot=None,\n",
       "              max_delta_step=None, max_depth=0, max_leaves=None,\n",
       "              min_child_weight=38, missing=nan, monotone_constraints=None,\n",
       "              multi_strategy=None, n_estimators=2200, n_jobs=None,\n",
       "              num_parallel_tree=None, random_state=42, ...)</pre></div></div></div></div></div>"
      ],
      "text/plain": [
       "XGBClassifier(base_score=None, booster=None, callbacks=None,\n",
       "              colsample_bylevel=None, colsample_bynode=None,\n",
       "              colsample_bytree=0.5883280509005198, device=None,\n",
       "              early_stopping_rounds=None, enable_categorical=False,\n",
       "              eval_metric='auc', feature_types=None, gamma=0.5093377514374635,\n",
       "              grow_policy=None, importance_type=None,\n",
       "              interaction_constraints=None, learning_rate=0.010450294855131905,\n",
       "              max_bin=340, max_cat_threshold=None, max_cat_to_onehot=None,\n",
       "              max_delta_step=None, max_depth=0, max_leaves=None,\n",
       "              min_child_weight=38, missing=nan, monotone_constraints=None,\n",
       "              multi_strategy=None, n_estimators=2200, n_jobs=None,\n",
       "              num_parallel_tree=None, random_state=42, ...)"
      ]
     },
     "execution_count": 32,
     "metadata": {},
     "output_type": "execute_result"
    }
   ],
   "source": [
    "\n",
    "best_row = best_10.iloc[0]\n",
    "\n",
    "best_params = best_row.filter(like=\"params_\").to_dict()\n",
    "\n",
    "best_params_clean = {\n",
    "    k.replace(\"params_\", \"\"): v \n",
    "    for k, v in best_params.items()\n",
    "}\n",
    "\n",
    "\n",
    "final_params = {\n",
    "    **best_params_clean,\n",
    "    \"objective\": \"binary:logistic\",\n",
    "    \"eval_metric\": \"auc\",\n",
    "    \"use_label_encoder\": False,\n",
    "    \"random_state\": 42\n",
    "    \n",
    "}\n",
    "\n",
    "XGB_model = XGBClassifier(**final_params)\n",
    "\n",
    "XGB_model.fit(emb_train, y_train)"
   ]
  },
  {
   "cell_type": "code",
   "execution_count": 33,
   "id": "397126c7-003c-4850-8d25-f56f7fc78f59",
   "metadata": {},
   "outputs": [
    {
     "name": "stdout",
     "output_type": "stream",
     "text": [
      "AUC en test: 0.5004\n"
     ]
    }
   ],
   "source": [
    "from sklearn.metrics import roc_auc_score\n",
    "\n",
    "y_pred_proba = XGB_model.predict_proba(emb_test)[:, 1]\n",
    "auc_test = roc_auc_score(y_test, y_pred_proba)\n",
    "print(f\"AUC en test: {auc_test:.4f}\")"
   ]
  },
  {
   "cell_type": "code",
   "execution_count": null,
   "id": "a76e2de5-110e-49cc-b0dd-71b6228bc2cc",
   "metadata": {},
   "outputs": [],
   "source": []
  }
 ],
 "metadata": {
  "kernelspec": {
   "display_name": "tfg-py3.12",
   "language": "python",
   "name": "tfg-py3.12"
  },
  "language_info": {
   "codemirror_mode": {
    "name": "ipython",
    "version": 3
   },
   "file_extension": ".py",
   "mimetype": "text/x-python",
   "name": "python",
   "nbconvert_exporter": "python",
   "pygments_lexer": "ipython3",
   "version": "3.12.8"
  }
 },
 "nbformat": 4,
 "nbformat_minor": 5
}
