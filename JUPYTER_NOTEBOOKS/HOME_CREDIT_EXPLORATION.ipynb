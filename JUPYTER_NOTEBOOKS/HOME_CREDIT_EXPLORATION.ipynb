{
 "cells": [
  {
   "cell_type": "markdown",
   "metadata": {},
   "source": [
    "# NoteBook para análisis exploratorio de los datos.\n",
    "## Se busca hallar conclusiones que nos ayude con el preprocesamiento.\n",
    "\n",
    "Tras tratar un poco con los datos, se ha llegado a la conclusión de que, una mejor exploración previa de los datos, va a ayudar a comprender de una manera más prfunda que variables son importantes, como tratar con ellas y ver que modificaciones/eliminaciones se pueden hacer para tratar de mejorar el rendimiento de nuestros modelos."
   ]
  },
  {
   "cell_type": "code",
   "execution_count": null,
   "metadata": {},
   "outputs": [
    {
     "name": "stdout",
     "output_type": "stream",
     "text": [
      "1.23.5\n",
      "Directorio actual: c:\\Users\\Yeray\\Desktop\\DATA_SCIENCE_ML\\Home-Credit-TFG\\JUPYTER_NOTEBOOKS\n"
     ]
    }
   ],
   "source": [
    "#Celda para librerías\n",
    "\n",
    "\n",
    "import sklearn as sk\n",
    "\n",
    "import matplotlib as plt\n",
    "import matplotlib.pyplot as plt\n",
    "\n",
    "import pandas as pd\n",
    "import seaborn as sns\n",
    "import numpy as np\n",
    "\n",
    "from sklearn.preprocessing import LabelEncoder\n",
    "from sklearn.ensemble import RandomForestClassifier\n",
    "from sklearn.model_selection import train_test_split, cross_val_score\n",
    "from sklearn.preprocessing import StandardScaler\n",
    "from sklearn.metrics import roc_auc_score\n",
    "from sklearn.linear_model import LogisticRegression\n",
    "from sklearn.preprocessing import RobustScaler\n",
    "\n",
    "\n",
    "\n",
    "print(np.__version__)\n",
    "from ydata_profiling import ProfileReport\n",
    "import os\n",
    "print(\"Directorio actual:\", os.getcwd())\n",
    "\n",
    "\n",
    "\n",
    "# Have all columns appear when dataframes are displayed.\n",
    "pd.set_option('display.max_columns', None) \n",
    "# Have 100 rows appear when a dataframe is displayed\n",
    "pd.set_option('display.max_rows', 500)\n",
    "# Display dimensions whenever a dataframe is printed out.\n",
    "pd.set_option('display.show_dimensions', True)"
   ]
  },
  {
   "cell_type": "code",
   "execution_count": 4,
   "metadata": {},
   "outputs": [],
   "source": [
    "#Importando los datos\n",
    "\n",
    "app_train = pd.read_csv(r'C:\\Users\\Yeray\\Desktop\\DATA_SCIENCE_ML\\Home-Credit-TFG\\DATA\\home-credit-default-risk\\application_train.csv')\n",
    "app_test = pd.read_csv(r'C:\\Users\\Yeray\\Desktop\\DATA_SCIENCE_ML\\Home-Credit-TFG\\DATA\\home-credit-default-risk\\application_test.csv')\n",
    "\n",
    "bureau = pd.read_csv(r'C:\\Users\\Yeray\\Desktop\\DATA_SCIENCE_ML\\Home-Credit-TFG\\DATA\\home-credit-default-risk\\bureau.csv')\n",
    "bureau_balance = pd.read_csv(r'C:\\Users\\Yeray\\Desktop\\DATA_SCIENCE_ML\\Home-Credit-TFG\\DATA\\home-credit-default-risk\\bureau_balance.csv')\n",
    "credit_card_balance = pd.read_csv(r'C:\\Users\\Yeray\\Desktop\\DATA_SCIENCE_ML\\Home-Credit-TFG\\DATA\\home-credit-default-risk\\credit_card_balance.csv')\n",
    "installments_payments = pd.read_csv(r'C:\\Users\\Yeray\\Desktop\\DATA_SCIENCE_ML\\Home-Credit-TFG\\DATA\\home-credit-default-risk\\installments_payments.csv')\n",
    "pos_cash_balance = pd.read_csv(r'C:\\Users\\Yeray\\Desktop\\DATA_SCIENCE_ML\\Home-Credit-TFG\\DATA\\home-credit-default-risk\\POS_CASH_balance.csv')\n",
    "previous_application = pd.read_csv(r'C:\\Users\\Yeray\\Desktop\\DATA_SCIENCE_ML\\Home-Credit-TFG\\DATA\\home-credit-default-risk\\previous_application.csv')\n"
   ]
  },
  {
   "cell_type": "markdown",
   "metadata": {},
   "source": [
    "Tras ver el report (generado en el notebook HOME_CREDIT_PREPROCESSING.ipynb) podemos sacar varias conclusiones que nos pueden ser útiles de cara al preprocesamiento y mejorar el rendimiento:\n",
    "-\n"
   ]
  }
 ],
 "metadata": {
  "kernelspec": {
   "display_name": "Python 3",
   "language": "python",
   "name": "python3"
  },
  "language_info": {
   "codemirror_mode": {
    "name": "ipython",
    "version": 3
   },
   "file_extension": ".py",
   "mimetype": "text/x-python",
   "name": "python",
   "nbconvert_exporter": "python",
   "pygments_lexer": "ipython3",
   "version": "3.11.9"
  }
 },
 "nbformat": 4,
 "nbformat_minor": 2
}
