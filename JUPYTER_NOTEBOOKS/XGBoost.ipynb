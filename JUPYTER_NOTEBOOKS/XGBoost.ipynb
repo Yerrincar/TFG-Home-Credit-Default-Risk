{
 "cells": [
  {
   "cell_type": "code",
   "execution_count": 9,
   "id": "e245e390-2bf9-44e7-8461-95933e92f1d7",
   "metadata": {},
   "outputs": [
    {
     "name": "stdout",
     "output_type": "stream",
     "text": [
      "Python executable: /home/yeray/miniconda3/envs/tfg-py3.12/bin/python\n",
      "1.26.4\n",
      "Directorio actual: /home/yeray/TFG-Home-Credit-Default-Risk/JUPYTER_NOTEBOOKS\n",
      "<class 'pandas.core.frame.DataFrame'>\n",
      "RangeIndex: 307511 entries, 0 to 307510\n",
      "Columns: 307 entries, TARGET to WALLSMATERIAL_MODE_Wooden\n",
      "dtypes: bool(127), float64(138), int64(42)\n",
      "memory usage: 459.5 MB\n",
      "None\n",
      "(307511, 307)\n"
     ]
    }
   ],
   "source": [
    "#Celda para librerías\n",
    "import sklearn as sk\n",
    "import sys\n",
    "print(\"Python executable:\", sys.executable)\n",
    "\n",
    "import matplotlib as plt\n",
    "import matplotlib.pyplot as plt\n",
    "\n",
    "import pandas as pd\n",
    "import seaborn as sns\n",
    "import numpy as np\n",
    "from sklearn.model_selection import train_test_split, cross_val_score\n",
    "\n",
    "import optuna\n",
    "from sklearn.model_selection import StratifiedKFold\n",
    "from sklearn.metrics import roc_auc_score\n",
    "\n",
    "#XGBoost\n",
    "from xgboost import XGBClassifier\n",
    "\n",
    "\n",
    "\n",
    "from hyperopt import hp, fmin, tpe, STATUS_OK, Trials\n",
    "from sklearn.model_selection import cross_val_score\n",
    "\n",
    "\n",
    "import json\n",
    "\n",
    "import warnings\n",
    "warnings.filterwarnings('ignore')\n",
    "\n",
    "print(np.__version__)\n",
    "from ydata_profiling import ProfileReport\n",
    "import os\n",
    "print(\"Directorio actual:\", os.getcwd())\n",
    "\n",
    "# Have all columns appear when dataframes are displayed.\n",
    "pd.set_option('display.max_columns', None) \n",
    "# Have 100 rows appear when a dataframe is displayed\n",
    "pd.set_option('display.max_rows', 500)\n",
    "# Display dimensions whenever a dataframe is printed out.\n",
    "pd.set_option('display.show_dimensions', True)\n",
    "\n",
    "#Importando los datos\n",
    "\n",
    "app_train_def = pd.read_csv(r'/home/yeray/TFG-Home-Credit-Default-Risk/JUPYTER_NOTEBOOKS/DATA/application_train_preprocesado_definitivo_v1.csv')\n",
    "#app_train_def_2 = pd.read_csv(r'/home/yeray/TFG-Home-Credit-Default-Risk/JUPYTER_NOTEBOOKS/DATA/application_train_preprocesado_definitivo_v2.csv')\n",
    "#app_train_def_3 = pd.read_csv(r'/home/yeray/TFG-Home-Credit-Default-Risk/JUPYTER_NOTEBOOKS/DATA/application_train_preprocesado_definitivo_v3.csv')\n",
    "#app_train_def_4 = pd.read_csv(r'/home/yeray/TFG-Home-Credit-Default-Risk/JUPYTER_NOTEBOOKS/DATA/application_train_preprocesado_definitivo_v4.csv')\n",
    "#app_train_def_5 = pd.read_csv(r'/home/yeray/TFG-Home-Credit-Default-Risk/JUPYTER_NOTEBOOKS/DATA/application_train_preprocesado_definitivo_v5.csv')\n",
    "\n",
    "print(app_train_def.info())\n",
    "print(app_train_def.shape)"
   ]
  },
  {
   "cell_type": "code",
   "execution_count": 10,
   "id": "d040e960-9702-4d99-afa2-34196f1f194f",
   "metadata": {},
   "outputs": [],
   "source": [
    "X = app_train_def.drop(columns = ['TARGET'])\n",
    "y = app_train_def['TARGET']\n",
    "X_train, X_test, y_train, y_test = train_test_split(X, y, test_size=0.2, random_state=42, stratify=y)\n",
    "\n",
    "X_train.columns = X_train.columns.str.replace('[^A-Za-z0-9_]+', '', regex=True)\n",
    "X_test.columns = X_test.columns.str.replace('[^A-Za-z0-9_]+', '', regex=True)"
   ]
  },
  {
   "cell_type": "code",
   "execution_count": 15,
   "id": "89f6a6bd-9539-4469-9703-c4a73d78d699",
   "metadata": {},
   "outputs": [],
   "source": [
    "def objective(trial):\n",
    "    params = {\n",
    "        \"n_estimators\": trial.suggest_int(\"n_estimators\", 900, 1800, step=50),\n",
    "        \"max_bin\": trial.suggest_int(\"max_bin\", 200, 400, step=10),\n",
    "        \"learning_rate\": trial.suggest_float(\"learning_rate\", 0.01, 0.03, log=True),\n",
    "        \"max_depth\": trial.suggest_int(\"max_depth\", 5, 10),\n",
    "        \"gamma\": trial.suggest_float(\"gamma\", 0, 3),\n",
    "        \"min_child_weight\": trial.suggest_int(\"min_child_weight\", 12, 24),\n",
    "        \"subsample\": trial.suggest_float(\"subsample\", 0.6, 0.95),\n",
    "        \"colsample_bytree\": trial.suggest_float(\"colsample_bytree\", 0.4, 0.8),\n",
    "        \"n_jobs\": trial.suggest_int(\"n_jobs\", 1, 10),\n",
    "        \"reg_alpha\": trial.suggest_float(\"reg_alpha\", 1e-8, 1.0, log=True),\n",
    "        \"reg_lambda\": trial.suggest_float(\"reg_lambda\", 1e-8, 10.0, log=True),\n",
    "        \"tree_method\": trial.suggest_categorical(\"tree_method\", [\"auto\", \"hist\"]),\n",
    "        \"scale_pos_weight\": trial.suggest_float(\"scale_pos_weight\", 1.0, 3.0),\n",
    "    }\n",
    "    model = XGBClassifier(\n",
    "        **params,\n",
    "        objective=\"binary:logistic\",\n",
    "        eval_metric=\"auc\",\n",
    "        use_label_encoder=False,\n",
    "        random_state=42\n",
    "    )\n",
    "\n",
    "    cv=StratifiedKFold(n_splits=5, shuffle=True, random_state=42)\n",
    "    scores = cross_val_score(model,X_train, y_train, scoring='roc_auc', cv=cv)\n",
    "\n",
    "    return scores.mean()"
   ]
  },
  {
   "cell_type": "code",
   "execution_count": null,
   "id": "533c5cb0-c2de-4021-bd7b-9f255de7f864",
   "metadata": {},
   "outputs": [
    {
     "name": "stderr",
     "output_type": "stream",
     "text": [
      "[I 2025-02-24 12:15:53,089] A new study created in memory with name: no-name-045ec8cc-0df3-4492-a9b3-6b447016dad4\n"
     ]
    },
    {
     "data": {
      "application/vnd.jupyter.widget-view+json": {
       "model_id": "8daaa3def8124c0982cee86b7f3a6af6",
       "version_major": 2,
       "version_minor": 0
      },
      "text/plain": [
       "  0%|          | 0/50 [00:00<?, ?it/s]"
      ]
     },
     "metadata": {},
     "output_type": "display_data"
    },
    {
     "name": "stdout",
     "output_type": "stream",
     "text": [
      "[I 2025-02-24 12:22:46,844] Trial 0 finished with value: 0.7667543990569159 and parameters: {'n_estimators': 1700, 'max_bin': 310, 'learning_rate': 0.014233723991802005, 'max_depth': 6, 'gamma': 1.6831388020157805, 'min_child_weight': 18, 'subsample': 0.9235146430824874, 'colsample_bytree': 0.7659923179399154, 'n_jobs': 6, 'reg_alpha': 0.0011931474943634476, 'reg_lambda': 0.0023268484461768063, 'tree_method': 'auto', 'scale_pos_weight': 1.438562453128763}. Best is trial 0 with value: 0.7667543990569159.\n",
      "[I 2025-02-24 12:26:50,676] Trial 1 finished with value: 0.7588290542284706 and parameters: {'n_estimators': 1650, 'max_bin': 200, 'learning_rate': 0.029782126401585046, 'max_depth': 7, 'gamma': 1.7188850168171097, 'min_child_weight': 13, 'subsample': 0.6751028282743687, 'colsample_bytree': 0.7956257244068641, 'n_jobs': 8, 'reg_alpha': 0.0009707754940263806, 'reg_lambda': 3.7516679367827075e-05, 'tree_method': 'auto', 'scale_pos_weight': 1.6409333544763764}. Best is trial 0 with value: 0.7667543990569159.\n",
      "[I 2025-02-24 12:32:05,368] Trial 2 finished with value: 0.7673944288280232 and parameters: {'n_estimators': 1000, 'max_bin': 340, 'learning_rate': 0.025740120412928964, 'max_depth': 6, 'gamma': 0.7918840817655332, 'min_child_weight': 13, 'subsample': 0.8917406217552117, 'colsample_bytree': 0.4511858669224072, 'n_jobs': 4, 'reg_alpha': 2.0460952658765892e-07, 'reg_lambda': 1.4931611393890878e-07, 'tree_method': 'auto', 'scale_pos_weight': 1.0366549832318537}. Best is trial 2 with value: 0.7673944288280232.\n",
      "[I 2025-02-24 12:41:37,355] Trial 3 finished with value: 0.765259110303328 and parameters: {'n_estimators': 1050, 'max_bin': 280, 'learning_rate': 0.02160428860873966, 'max_depth': 7, 'gamma': 0.8227670535517564, 'min_child_weight': 16, 'subsample': 0.6656805853061379, 'colsample_bytree': 0.5685967606183859, 'n_jobs': 2, 'reg_alpha': 2.8114586446551385e-06, 'reg_lambda': 0.24454311687261254, 'tree_method': 'hist', 'scale_pos_weight': 2.342617593059388}. Best is trial 2 with value: 0.7673944288280232.\n",
      "[I 2025-02-24 12:44:46,079] Trial 4 finished with value: 0.7663064877473863 and parameters: {'n_estimators': 1100, 'max_bin': 360, 'learning_rate': 0.026179853598270377, 'max_depth': 6, 'gamma': 0.8548273571402106, 'min_child_weight': 21, 'subsample': 0.7309236572131841, 'colsample_bytree': 0.5870651689597344, 'n_jobs': 9, 'reg_alpha': 2.8994441820087608e-08, 'reg_lambda': 0.004253888023827315, 'tree_method': 'hist', 'scale_pos_weight': 1.923430786633754}. Best is trial 2 with value: 0.7673944288280232.\n",
      "[I 2025-02-24 12:50:12,810] Trial 5 finished with value: 0.7659356946272068 and parameters: {'n_estimators': 1250, 'max_bin': 350, 'learning_rate': 0.010029323625961546, 'max_depth': 9, 'gamma': 0.09391742415910553, 'min_child_weight': 22, 'subsample': 0.7440676055357379, 'colsample_bytree': 0.7096613187396486, 'n_jobs': 10, 'reg_alpha': 0.0030855260293715875, 'reg_lambda': 0.558265508973423, 'tree_method': 'auto', 'scale_pos_weight': 2.030324960479456}. Best is trial 2 with value: 0.7673944288280232.\n",
      "[I 2025-02-24 12:59:16,339] Trial 6 finished with value: 0.7675060905668454 and parameters: {'n_estimators': 1750, 'max_bin': 330, 'learning_rate': 0.015082644247711434, 'max_depth': 5, 'gamma': 2.3563090587513678, 'min_child_weight': 19, 'subsample': 0.8541764328267929, 'colsample_bytree': 0.5309742838800149, 'n_jobs': 3, 'reg_alpha': 2.0493519413575775e-07, 'reg_lambda': 2.147966070911002, 'tree_method': 'hist', 'scale_pos_weight': 2.8601186602899475}. Best is trial 6 with value: 0.7675060905668454.\n",
      "[I 2025-02-24 13:04:28,233] Trial 7 finished with value: 0.766761128209352 and parameters: {'n_estimators': 1200, 'max_bin': 230, 'learning_rate': 0.018252933136814687, 'max_depth': 5, 'gamma': 2.231834427554119, 'min_child_weight': 23, 'subsample': 0.7886128930697109, 'colsample_bytree': 0.44646391005245695, 'n_jobs': 3, 'reg_alpha': 0.01980398787868179, 'reg_lambda': 9.556219125676254e-08, 'tree_method': 'auto', 'scale_pos_weight': 2.7746617598013934}. Best is trial 6 with value: 0.7675060905668454.\n",
      "[I 2025-02-24 13:11:02,367] Trial 8 finished with value: 0.7635894326526056 and parameters: {'n_estimators': 1500, 'max_bin': 200, 'learning_rate': 0.016112615111830604, 'max_depth': 9, 'gamma': 2.6972320649794828, 'min_child_weight': 17, 'subsample': 0.7258751307625019, 'colsample_bytree': 0.6686076881724786, 'n_jobs': 4, 'reg_alpha': 0.003551555896898279, 'reg_lambda': 3.972430148279183e-05, 'tree_method': 'hist', 'scale_pos_weight': 1.1732037113696059}. Best is trial 6 with value: 0.7675060905668454.\n",
      "[I 2025-02-24 13:17:54,394] Trial 9 finished with value: 0.7661950625401831 and parameters: {'n_estimators': 1550, 'max_bin': 240, 'learning_rate': 0.013641652253731613, 'max_depth': 8, 'gamma': 2.7582279752906023, 'min_child_weight': 14, 'subsample': 0.6517512093241181, 'colsample_bytree': 0.40867361791305146, 'n_jobs': 4, 'reg_alpha': 0.2581548302316644, 'reg_lambda': 3.0699696711473753e-06, 'tree_method': 'auto', 'scale_pos_weight': 1.0825794498036185}. Best is trial 6 with value: 0.7675060905668454.\n",
      "[I 2025-02-24 13:55:32,786] Trial 10 finished with value: 0.7643534700884498 and parameters: {'n_estimators': 1800, 'max_bin': 400, 'learning_rate': 0.010091804033459138, 'max_depth': 10, 'gamma': 2.2215129476814304, 'min_child_weight': 20, 'subsample': 0.8444722069385708, 'colsample_bytree': 0.523919380373912, 'n_jobs': 1, 'reg_alpha': 7.069809370016027e-06, 'reg_lambda': 3.185305907765077, 'tree_method': 'hist', 'scale_pos_weight': 2.843189187482066}. Best is trial 6 with value: 0.7675060905668454.\n",
      "[I 2025-02-24 14:00:08,180] Trial 11 finished with value: 0.766937738783872 and parameters: {'n_estimators': 1450, 'max_bin': 320, 'learning_rate': 0.021011665160659165, 'max_depth': 5, 'gamma': 0.9920985166192278, 'min_child_weight': 12, 'subsample': 0.9029845619127952, 'colsample_bytree': 0.49105209360764956, 'n_jobs': 5, 'reg_alpha': 3.1560585575743796e-08, 'reg_lambda': 1.1062843186563957e-08, 'tree_method': 'hist', 'scale_pos_weight': 2.4908846860507357}. Best is trial 6 with value: 0.7675060905668454.\n",
      "[I 2025-02-24 14:03:06,498] Trial 12 finished with value: 0.7664148521542067 and parameters: {'n_estimators': 900, 'max_bin': 350, 'learning_rate': 0.023170873413200666, 'max_depth': 6, 'gamma': 0.3666759432619684, 'min_child_weight': 15, 'subsample': 0.8478478143343299, 'colsample_bytree': 0.49876087475895514, 'n_jobs': 6, 'reg_alpha': 1.2550116057010831e-06, 'reg_lambda': 0.04258459597205676, 'tree_method': 'auto', 'scale_pos_weight': 2.293932354808413}. Best is trial 6 with value: 0.7675060905668454.\n",
      "[I 2025-02-24 14:14:19,185] Trial 13 finished with value: 0.7655601113772937 and parameters: {'n_estimators': 900, 'max_bin': 280, 'learning_rate': 0.01716477781331163, 'max_depth': 5, 'gamma': 1.2535327640750573, 'min_child_weight': 20, 'subsample': 0.8554167996893844, 'colsample_bytree': 0.6371134856324233, 'n_jobs': 1, 'reg_alpha': 2.4368917307110333e-07, 'reg_lambda': 7.619452271873543e-07, 'tree_method': 'hist', 'scale_pos_weight': 1.5612719136323783}. Best is trial 6 with value: 0.7675060905668454.\n",
      "[I 2025-02-24 14:21:45,112] Trial 14 finished with value: 0.7660864287045897 and parameters: {'n_estimators': 1350, 'max_bin': 400, 'learning_rate': 0.012251139323089867, 'max_depth': 6, 'gamma': 2.018628578255786, 'min_child_weight': 19, 'subsample': 0.9482952098641539, 'colsample_bytree': 0.540911523648955, 'n_jobs': 3, 'reg_alpha': 4.906406877957313e-05, 'reg_lambda': 7.955732147143489e-05, 'tree_method': 'auto', 'scale_pos_weight': 2.9801389798092255}. Best is trial 6 with value: 0.7675060905668454.\n",
      "[I 2025-02-24 14:26:11,319] Trial 15 finished with value: 0.767362357936705 and parameters: {'n_estimators': 1350, 'max_bin': 330, 'learning_rate': 0.019411397462569636, 'max_depth': 5, 'gamma': 0.474514946325878, 'min_child_weight': 24, 'subsample': 0.8035174537340944, 'colsample_bytree': 0.4513350845614202, 'n_jobs': 5, 'reg_alpha': 4.653481828527202e-07, 'reg_lambda': 0.0017831585869001877, 'tree_method': 'hist', 'scale_pos_weight': 1.9109823253758584}. Best is trial 6 with value: 0.7675060905668454.\n",
      "[I 2025-02-24 14:29:43,294] Trial 16 finished with value: 0.7673660608335668 and parameters: {'n_estimators': 1100, 'max_bin': 370, 'learning_rate': 0.01556999808788684, 'max_depth': 7, 'gamma': 1.331127062315222, 'min_child_weight': 17, 'subsample': 0.8866439073515574, 'colsample_bytree': 0.41313958338340473, 'n_jobs': 7, 'reg_alpha': 5.59568546803741e-05, 'reg_lambda': 6.911765520618865, 'tree_method': 'hist', 'scale_pos_weight': 2.5456438500539287}. Best is trial 6 with value: 0.7675060905668454.\n",
      "[I 2025-02-24 14:38:06,686] Trial 17 finished with value: 0.7654134593011499 and parameters: {'n_estimators': 1800, 'max_bin': 290, 'learning_rate': 0.024536574773409047, 'max_depth': 6, 'gamma': 2.855051612319013, 'min_child_weight': 15, 'subsample': 0.8166974554458329, 'colsample_bytree': 0.476585747765743, 'n_jobs': 3, 'reg_alpha': 1.4614969879473167e-08, 'reg_lambda': 8.027928829700354e-07, 'tree_method': 'auto', 'scale_pos_weight': 1.3207913570994183}. Best is trial 6 with value: 0.7675060905668454.\n",
      "[I 2025-02-24 14:43:56,871] Trial 18 finished with value: 0.7663062571264068 and parameters: {'n_estimators': 1000, 'max_bin': 330, 'learning_rate': 0.012195287297436175, 'max_depth': 8, 'gamma': 2.478704201124252, 'min_child_weight': 12, 'subsample': 0.8857899397606565, 'colsample_bytree': 0.6219405214274901, 'n_jobs': 4, 'reg_alpha': 1.6667138229334673e-07, 'reg_lambda': 0.0710196510274536, 'tree_method': 'hist', 'scale_pos_weight': 1.753814065254171}. Best is trial 6 with value: 0.7675060905668454.\n",
      "[I 2025-02-24 14:53:45,826] Trial 19 finished with value: 0.766637381150528 and parameters: {'n_estimators': 1600, 'max_bin': 370, 'learning_rate': 0.028907500615183702, 'max_depth': 5, 'gamma': 1.8885966668141436, 'min_child_weight': 18, 'subsample': 0.8633571067067954, 'colsample_bytree': 0.5316982626248719, 'n_jobs': 2, 'reg_alpha': 8.585363082334958e-06, 'reg_lambda': 5.520650550530556e-06, 'tree_method': 'auto', 'scale_pos_weight': 2.1217230249018866}. Best is trial 6 with value: 0.7675060905668454.\n",
      "[I 2025-02-24 15:03:55,602] Trial 20 finished with value: 0.7650879967129808 and parameters: {'n_estimators': 1250, 'max_bin': 300, 'learning_rate': 0.01979951331382779, 'max_depth': 7, 'gamma': 0.5807129812680148, 'min_child_weight': 14, 'subsample': 0.9458306970037741, 'colsample_bytree': 0.5606600572104042, 'n_jobs': 2, 'reg_alpha': 7.97161353871061e-08, 'reg_lambda': 4.9755738121407464e-08, 'tree_method': 'hist', 'scale_pos_weight': 2.627973653399079}. Best is trial 6 with value: 0.7675060905668454.\n",
      "[I 2025-02-24 15:07:56,143] Trial 21 finished with value: 0.7668386905850054 and parameters: {'n_estimators': 1150, 'max_bin': 380, 'learning_rate': 0.015385982291117763, 'max_depth': 7, 'gamma': 1.2901502377649277, 'min_child_weight': 17, 'subsample': 0.6046469416461434, 'colsample_bytree': 0.4207548336782085, 'n_jobs': 7, 'reg_alpha': 5.18395349454928e-05, 'reg_lambda': 9.218576909994, 'tree_method': 'hist', 'scale_pos_weight': 2.5851793346510736}. Best is trial 6 with value: 0.7675060905668454.\n",
      "[I 2025-02-24 15:10:49,495] Trial 22 finished with value: 0.7667394058428778 and parameters: {'n_estimators': 1000, 'max_bin': 340, 'learning_rate': 0.014268898591166009, 'max_depth': 6, 'gamma': 1.3465409598618412, 'min_child_weight': 19, 'subsample': 0.8889144686970487, 'colsample_bytree': 0.4006316906768387, 'n_jobs': 7, 'reg_alpha': 0.0001851389750549589, 'reg_lambda': 1.1630661312867265, 'tree_method': 'hist', 'scale_pos_weight': 2.9825459376995354}. Best is trial 6 with value: 0.7675060905668454.\n",
      "[I 2025-02-24 15:14:41,021] Trial 23 finished with value: 0.7667519965595563 and parameters: {'n_estimators': 1000, 'max_bin': 380, 'learning_rate': 0.0123323983789932, 'max_depth': 8, 'gamma': 1.113020966516807, 'min_child_weight': 16, 'subsample': 0.8258142996484724, 'colsample_bytree': 0.43470397731516863, 'n_jobs': 7, 'reg_alpha': 1.715520342954848e-05, 'reg_lambda': 0.009807965618591822, 'tree_method': 'hist', 'scale_pos_weight': 2.322435045543889}. Best is trial 6 with value: 0.7675060905668454.\n",
      "[I 2025-02-24 15:18:39,052] Trial 24 finished with value: 0.7667100967209428 and parameters: {'n_estimators': 1350, 'max_bin': 370, 'learning_rate': 0.016587105367092507, 'max_depth': 7, 'gamma': 1.4946339137918612, 'min_child_weight': 21, 'subsample': 0.9106760154801623, 'colsample_bytree': 0.46945926220547535, 'n_jobs': 8, 'reg_alpha': 4.58103417561185e-07, 'reg_lambda': 0.0005213540948603626, 'tree_method': 'hist', 'scale_pos_weight': 2.720171724079151}. Best is trial 6 with value: 0.7675060905668454.\n",
      "[I 2025-02-24 15:22:37,657] Trial 25 finished with value: 0.7666554599788237 and parameters: {'n_estimators': 1100, 'max_bin': 310, 'learning_rate': 0.015083740605618439, 'max_depth': 6, 'gamma': 0.8005626418381667, 'min_child_weight': 17, 'subsample': 0.77149459918685, 'colsample_bytree': 0.4853111730000677, 'n_jobs': 5, 'reg_alpha': 2.0732345222964344e-06, 'reg_lambda': 0.09937969204106545, 'tree_method': 'hist', 'scale_pos_weight': 2.467143703900466}. Best is trial 6 with value: 0.7675060905668454.\n",
      "[I 2025-02-24 15:26:05,585] Trial 26 finished with value: 0.766309849808784 and parameters: {'n_estimators': 900, 'max_bin': 340, 'learning_rate': 0.018306796655825536, 'max_depth': 5, 'gamma': 0.0661243949353768, 'min_child_weight': 19, 'subsample': 0.8740924761265858, 'colsample_bytree': 0.5120962044920342, 'n_jobs': 4, 'reg_alpha': 0.8221178368435758, 'reg_lambda': 5.40198736042988, 'tree_method': 'auto', 'scale_pos_weight': 2.830813471288084}. Best is trial 6 with value: 0.7675060905668454.\n",
      "[I 2025-02-24 15:31:13,841] Trial 27 finished with value: 0.7670804151962688 and parameters: {'n_estimators': 1450, 'max_bin': 390, 'learning_rate': 0.01292258765552867, 'max_depth': 7, 'gamma': 1.523673019672376, 'min_child_weight': 13, 'subsample': 0.922584348712455, 'colsample_bytree': 0.460924851808802, 'n_jobs': 6, 'reg_alpha': 0.00020352853687768304, 'reg_lambda': 0.018458640220565765, 'tree_method': 'hist', 'scale_pos_weight': 2.1537382761109995}. Best is trial 6 with value: 0.7675060905668454.\n",
      "[I 2025-02-24 15:40:08,921] Trial 29 finished with value: 0.7670001074785124 and parameters: {'n_estimators': 1700, 'max_bin': 310, 'learning_rate': 0.014636893072437042, 'max_depth': 6, 'gamma': 1.689594356892625, 'min_child_weight': 18, 'subsample': 0.8976999445862529, 'colsample_bytree': 0.7141082859956664, 'n_jobs': 5, 'reg_alpha': 6.026277825874504e-08, 'reg_lambda': 0.00030114172383057886, 'tree_method': 'auto', 'scale_pos_weight': 1.3427804272559767}. Best is trial 6 with value: 0.7675060905668454.\n",
      "[I 2025-02-24 15:45:11,730] Trial 30 finished with value: 0.7672386664192229 and parameters: {'n_estimators': 1100, 'max_bin': 360, 'learning_rate': 0.02664526664077417, 'max_depth': 5, 'gamma': 0.639287365419055, 'min_child_weight': 20, 'subsample': 0.7635004211282732, 'colsample_bytree': 0.42219182397057264, 'n_jobs': 3, 'reg_alpha': 9.061002509647827e-07, 'reg_lambda': 1.0471374229272346, 'tree_method': 'hist', 'scale_pos_weight': 2.668947443708292}. Best is trial 6 with value: 0.7675060905668454.\n",
      "[I 2025-02-24 15:49:28,974] Trial 31 finished with value: 0.7674858844118629 and parameters: {'n_estimators': 1350, 'max_bin': 330, 'learning_rate': 0.01866257430673752, 'max_depth': 5, 'gamma': 0.3577515656582998, 'min_child_weight': 24, 'subsample': 0.7836079537895023, 'colsample_bytree': 0.45039554396180037, 'n_jobs': 5, 'reg_alpha': 2.462336368411485e-07, 'reg_lambda': 0.00042311806978047567, 'tree_method': 'hist', 'scale_pos_weight': 1.6878806418568169}. Best is trial 6 with value: 0.7675060905668454.\n",
      "[I 2025-02-24 15:53:23,062] Trial 32 finished with value: 0.7670073620340101 and parameters: {'n_estimators': 1400, 'max_bin': 330, 'learning_rate': 0.015828820124525435, 'max_depth': 5, 'gamma': 0.28328771016478255, 'min_child_weight': 24, 'subsample': 0.8012828123613428, 'colsample_bytree': 0.4605463543482214, 'n_jobs': 6, 'reg_alpha': 1.238301732833129e-07, 'reg_lambda': 7.131029014737871e-06, 'tree_method': 'hist', 'scale_pos_weight': 1.4921974593048244}. Best is trial 6 with value: 0.7675060905668454.\n",
      "[I 2025-02-24 16:00:11,374] Trial 33 finished with value: 0.767455384207974 and parameters: {'n_estimators': 1700, 'max_bin': 350, 'learning_rate': 0.01781631759638966, 'max_depth': 5, 'gamma': 1.0398756408155434, 'min_child_weight': 22, 'subsample': 0.8685402768199699, 'colsample_bytree': 0.5517320807183284, 'n_jobs': 4, 'reg_alpha': 4.040612705619716e-06, 'reg_lambda': 0.0002435046387823437, 'tree_method': 'hist', 'scale_pos_weight': 1.7590716610298156}. Best is trial 6 with value: 0.7675060905668454.\n",
      "[I 2025-02-24 16:06:15,097] Trial 34 finished with value: 0.7669332875468174 and parameters: {'n_estimators': 1700, 'max_bin': 320, 'learning_rate': 0.022141399884444253, 'max_depth': 5, 'gamma': 1.0365564315351679, 'min_child_weight': 22, 'subsample': 0.9309145161832083, 'colsample_bytree': 0.5665237270042119, 'n_jobs': 4, 'reg_alpha': 3.028449098429327e-06, 'reg_lambda': 0.0009726379935020981, 'tree_method': 'hist', 'scale_pos_weight': 1.7097346336326928}. Best is trial 6 with value: 0.7675060905668454.\n",
      "[I 2025-02-24 16:14:03,492] Trial 35 finished with value: 0.767145096388574 and parameters: {'n_estimators': 1650, 'max_bin': 350, 'learning_rate': 0.017925113673112364, 'max_depth': 5, 'gamma': 0.739104361992911, 'min_child_weight': 23, 'subsample': 0.7013062713380411, 'colsample_bytree': 0.5952348762046704, 'n_jobs': 3, 'reg_alpha': 1.1495705988759729e-08, 'reg_lambda': 3.2165971830715804e-07, 'tree_method': 'hist', 'scale_pos_weight': 1.8142844390700674}. Best is trial 6 with value: 0.7675060905668454.\n",
      "[I 2025-02-24 16:24:25,580] Trial 36 finished with value: 0.7674593750841667 and parameters: {'n_estimators': 1750, 'max_bin': 300, 'learning_rate': 0.019084275636139413, 'max_depth': 5, 'gamma': 0.20315087401000131, 'min_child_weight': 23, 'subsample': 0.7867299139761658, 'colsample_bytree': 0.5481356671556246, 'n_jobs': 2, 'reg_alpha': 5.366031728332019e-07, 'reg_lambda': 0.0002851009335549472, 'tree_method': 'auto', 'scale_pos_weight': 1.6025339079230267}. Best is trial 6 with value: 0.7675060905668454.\n",
      "[I 2025-02-24 16:45:33,046] Trial 38 finished with value: 0.767269476574122 and parameters: {'n_estimators': 1750, 'max_bin': 270, 'learning_rate': 0.01987756401626234, 'max_depth': 5, 'gamma': 0.2868285976774296, 'min_child_weight': 23, 'subsample': 0.7418463585598557, 'colsample_bytree': 0.6219388463605352, 'n_jobs': 2, 'reg_alpha': 5.218707589657592e-07, 'reg_lambda': 0.00010650270246537694, 'tree_method': 'auto', 'scale_pos_weight': 1.605894400151122}. Best is trial 37 with value: 0.7675446535495768.\n",
      "[I 2025-02-24 17:06:17,107] Trial 39 finished with value: 0.7668327873831187 and parameters: {'n_estimators': 1600, 'max_bin': 290, 'learning_rate': 0.02080041417550526, 'max_depth': 6, 'gamma': 0.012227716501156172, 'min_child_weight': 24, 'subsample': 0.6986596522315576, 'colsample_bytree': 0.516895894345791, 'n_jobs': 1, 'reg_alpha': 3.8433741604216857e-08, 'reg_lambda': 1.5675665709227514e-05, 'tree_method': 'hist', 'scale_pos_weight': 1.3885017184927733}. Best is trial 37 with value: 0.7675446535495768.\n"
     ]
    }
   ],
   "source": [
    "#Estudio para maximizar\n",
    "study = optuna.create_study(direction=\"maximize\")\n",
    "\n",
    "#Búsqueda\n",
    "study.optimize(objective, n_trials=50, show_progress_bar=True)\n",
    "\n",
    "print(\"Best trial:\", study.best_trial.number)\n",
    "print(\"Best value (mean AUC):\", study.best_value)\n",
    "print(\"Best hyperparams:\", study.best_params)"
   ]
  },
  {
   "cell_type": "code",
   "execution_count": 5,
   "id": "af115205-c7c8-44e7-8904-65e4e0afdc48",
   "metadata": {},
   "outputs": [],
   "source": [
    "import pickle\n",
    "with open(\"XGBoost_Optuna_Study_v1_space_reducido_mas_hiperpara.pkl\", \"wb\") as f:\n",
    "    pickle.dump(study, f)\n",
    "with open(\"XGBoost_Optuna_Study_v1_space_reducido_mas_hiperpara.pkl\", \"rb\") as f:\n",
    "    loaded_study = pickle.load(f)"
   ]
  },
  {
   "cell_type": "code",
   "execution_count": 8,
   "id": "37e3232c-a287-4aea-a9fc-daaeb366da08",
   "metadata": {},
   "outputs": [
    {
     "name": "stdout",
     "output_type": "stream",
     "text": [
      "+----+----------+----------+----------------------------+----------------------------+------------------------+---------------------------+----------------+------------------------+--------------------+---------------------------+-----------------------+--------------------+---------------------+---------------------------+--------------------+----------+\n",
      "|    |   number |    value | datetime_start             | datetime_complete          | duration               |   params_colsample_bytree |   params_gamma |   params_learning_rate |   params_max_depth |   params_min_child_weight |   params_n_estimators |   params_reg_alpha |   params_reg_lambda |   params_scale_pos_weight |   params_subsample | state    |\n",
      "|----+----------+----------+----------------------------+----------------------------+------------------------+---------------------------+----------------+------------------------+--------------------+---------------------------+-----------------------+--------------------+---------------------+---------------------------+--------------------+----------|\n",
      "| 35 |       35 | 0.766467 | 2025-02-23 19:05:51.648664 | 2025-02-23 19:23:42.992309 | 0 days 00:17:51.343645 |                  0.609149 |        2.79174 |             0.016566   |                  7 |                        14 |                   950 |        2.98383e-07 |         0.000771683 |                   1.7469  |           0.753771 | COMPLETE |\n",
      "| 34 |       34 | 0.766461 | 2025-02-23 18:49:35.364806 | 2025-02-23 19:05:51.645108 | 0 days 00:16:16.280302 |                  0.620061 |        2.56817 |             0.0154127  |                  6 |                        14 |                  1000 |        2.52031e-07 |         0.00110387  |                   1.89547 |           0.757727 | COMPLETE |\n",
      "| 46 |       46 | 0.766399 | 2025-02-23 22:05:15.236729 | 2025-02-23 22:20:50.621878 | 0 days 00:15:35.385149 |                  0.535523 |        1.57097 |             0.0187693  |                  6 |                        15 |                  1000 |        7.2384e-06  |         4.86928e-05 |                   2.39789 |           0.676317 | COMPLETE |\n",
      "| 31 |       31 | 0.766357 | 2025-02-23 17:57:15.815215 | 2025-02-23 18:15:16.048308 | 0 days 00:18:00.233093 |                  0.613809 |        2.34799 |             0.0175067  |                  6 |                        23 |                   950 |        4.56709e-08 |         0.000110241 |                   1.01276 |           0.923685 | COMPLETE |\n",
      "| 41 |       41 | 0.766084 | 2025-02-23 20:47:50.655151 | 2025-02-23 21:03:23.247368 | 0 days 00:15:32.592217 |                  0.610996 |        2.53687 |             0.0166281  |                  6 |                        12 |                   950 |        1.99032e-07 |         8.69216e-05 |                   1.9704  |           0.870896 | COMPLETE |\n",
      "| 33 |       33 | 0.766062 | 2025-02-23 18:30:49.876401 | 2025-02-23 18:49:35.361852 | 0 days 00:18:45.485451 |                  0.63315  |        2.43031 |             0.0167189  |                  7 |                        14 |                  1000 |        3.63537e-07 |         0.00121678  |                   2.18691 |           0.826969 | COMPLETE |\n",
      "| 32 |       32 | 0.766053 | 2025-02-23 18:15:16.053597 | 2025-02-23 18:30:49.872830 | 0 days 00:15:33.819233 |                  0.616399 |        2.28153 |             0.0158812  |                  6 |                        23 |                   950 |        2.04723e-07 |         0.000133362 |                   1.99248 |           0.884517 | COMPLETE |\n",
      "| 39 |       39 | 0.765981 | 2025-02-23 20:13:43.138926 | 2025-02-23 20:30:04.129644 | 0 days 00:16:20.990718 |                  0.676327 |        3.20439 |             0.0144176  |                  6 |                        10 |                  1000 |        1.76326e-05 |         1.0625e-05  |                   2.47703 |           0.758076 | COMPLETE |\n",
      "| 42 |       42 | 0.765772 | 2025-02-23 21:03:23.251519 | 2025-02-23 21:21:15.739755 | 0 days 00:17:52.488236 |                  0.599034 |        2.6485  |             0.0158121  |                  7 |                        13 |                   950 |        8.67338e-08 |         0.0104662   |                   1.8577  |           0.765098 | COMPLETE |\n",
      "| 36 |       36 | 0.76537  | 2025-02-23 19:23:42.996857 | 2025-02-23 19:41:39.466679 | 0 days 00:17:56.469822 |                  0.693117 |        2.77901 |             0.00972739 |                  7 |                        14 |                   950 |        8.04801e-06 |         0.00133211  |                   1.59188 |           0.747286 | COMPLETE |\n",
      "+----+----------+----------+----------------------------+----------------------------+------------------------+---------------------------+----------------+------------------------+--------------------+---------------------------+-----------------------+--------------------+---------------------+---------------------------+--------------------+----------+\n"
     ]
    }
   ],
   "source": [
    "from tabulate import tabulate\n",
    "\n",
    "trials_df = loaded_study.trials_dataframe()\n",
    "\n",
    "df_sorted = trials_df.sort_values(by=\"value\", ascending=False)\n",
    "best_10 = df_sorted.head(10)\n",
    "\n",
    "print(tabulate(best_10, headers=\"keys\", tablefmt=\"psql\"))"
   ]
  },
  {
   "cell_type": "code",
   "execution_count": null,
   "id": "63bde924-4e5f-41a3-9aad-58fa0a9716c5",
   "metadata": {},
   "outputs": [],
   "source": [
    "Primera prueba:\n",
    "|    |   number |    value | datetime_start             | datetime_complete          | duration               |   params_colsample_bytree |   params_gamma |   params_learning_rate |   params_max_depth |   params_min_child_weight |   params_n_estimators |   params_reg_alpha |   params_reg_lambda |   params_scale_pos_weight |   params_subsample | state    |\r\n",
    "|----+----------+----------+----------------------------+----------------------------+------------------------+---------------------------+----------------+------------------------+--------------------+---------------------------+-----------------------+--------------------+---------------------+---------------------------+--------------------+----------|\r\n",
    "| 35 |       35 | 0.766467 | 2025-02-23 19:05:51.648664 | 2025-02-23 19:23:42.992309 | 0 days 00:17:51.343645 |                  0.609149 |        2.79174 |             0.016566   |                  7 |                        14 |                   950 |        2.98383e-07 |         0.000771683 |                   1.7469  |           0.753771 | COMPLETE |\r\n"
   ]
  }
 ],
 "metadata": {
  "kernelspec": {
   "display_name": "tfg-py3.12",
   "language": "python",
   "name": "tfg-py3.12"
  },
  "language_info": {
   "codemirror_mode": {
    "name": "ipython",
    "version": 3
   },
   "file_extension": ".py",
   "mimetype": "text/x-python",
   "name": "python",
   "nbconvert_exporter": "python",
   "pygments_lexer": "ipython3",
   "version": "3.12.8"
  }
 },
 "nbformat": 4,
 "nbformat_minor": 5
}
