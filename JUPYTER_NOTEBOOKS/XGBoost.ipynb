{
 "cells": [
  {
   "cell_type": "code",
   "execution_count": 6,
   "id": "e245e390-2bf9-44e7-8461-95933e92f1d7",
   "metadata": {},
   "outputs": [
    {
     "name": "stdout",
     "output_type": "stream",
     "text": [
      "Python executable: /home/yeray/miniconda3/envs/tfg-py3.12/bin/python\n",
      "1.26.4\n",
      "Directorio actual: /home/yeray/TFG-Home-Credit-Default-Risk/JUPYTER_NOTEBOOKS\n",
      "<class 'pandas.core.frame.DataFrame'>\n",
      "RangeIndex: 307511 entries, 0 to 307510\n",
      "Columns: 1323 entries, Unnamed: 0.1 to LATEST_CREDIT_ACTIVE_CAT_(BUREAU)_Sold\n",
      "dtypes: float64(1280), int64(43)\n",
      "memory usage: 3.0 GB\n",
      "None\n",
      "(307511, 1323)\n"
     ]
    }
   ],
   "source": [
    "#Celda para librerías\n",
    "import sklearn as sk\n",
    "import sys\n",
    "print(\"Python executable:\", sys.executable)\n",
    "\n",
    "import matplotlib as plt\n",
    "import matplotlib.pyplot as plt\n",
    "\n",
    "import pandas as pd\n",
    "import seaborn as sns\n",
    "import numpy as np\n",
    "from sklearn.model_selection import train_test_split, cross_val_score\n",
    "\n",
    "import optuna\n",
    "from sklearn.model_selection import StratifiedKFold\n",
    "from sklearn.metrics import roc_auc_score\n",
    "\n",
    "#XGBoost\n",
    "from xgboost import XGBClassifier\n",
    "\n",
    "\n",
    "\n",
    "from hyperopt import hp, fmin, tpe, STATUS_OK, Trials\n",
    "from sklearn.model_selection import cross_val_score\n",
    "\n",
    "\n",
    "import json\n",
    "\n",
    "import warnings\n",
    "warnings.filterwarnings('ignore')\n",
    "\n",
    "print(np.__version__)\n",
    "from ydata_profiling import ProfileReport\n",
    "import os\n",
    "print(\"Directorio actual:\", os.getcwd())\n",
    "\n",
    "# Have all columns appear when dataframes are displayed.\n",
    "pd.set_option('display.max_columns', None) \n",
    "# Have 100 rows appear when a dataframe is displayed\n",
    "pd.set_option('display.max_rows', 500)\n",
    "# Display dimensions whenever a dataframe is printed out.\n",
    "pd.set_option('display.show_dimensions', True)\n",
    "\n",
    "#Importando los datos\n",
    "\n",
    "#app_train_def = pd.read_csv(r'/home/yeray/TFG-Home-Credit-Default-Risk/JUPYTER_NOTEBOOKS/DATA/application_train_preprocesado_definitivo_v1.csv')\n",
    "#app_train_def_2 = pd.read_csv(r'/home/yeray/TFG-Home-Credit-Default-Risk/JUPYTER_NOTEBOOKS/DATA/application_train_preprocesado_definitivo_v2.csv')\n",
    "#app_train_def_3 = pd.read_csv(r'/home/yeray/TFG-Home-Credit-Default-Risk/JUPYTER_NOTEBOOKS/DATA/application_train_preprocesado_definitivo_v3.csv')\n",
    "#app_train_def_4 = pd.read_csv(r'/home/yeray/TFG-Home-Credit-Default-Risk/JUPYTER_NOTEBOOKS/DATA/application_train_preprocesado_definitivo_v4.csv')\n",
    "#app_train_def_5 = pd.read_csv(r'/home/yeray/TFG-Home-Credit-Default-Risk/JUPYTER_NOTEBOOKS/DATA/application_train_preprocesado_definitivo_v5.csv')\n",
    "app_train_def_7 = pd.read_csv(r'/home/yeray/TFG-Home-Credit-Default-Risk/JUPYTER_NOTEBOOKS/DATA/application_train_preprocesado_definitivo_v7.csv')\n",
    "\n",
    "print(app_train_def_7.info())\n",
    "print(app_train_def_7.shape)"
   ]
  },
  {
   "cell_type": "code",
   "execution_count": 7,
   "id": "d040e960-9702-4d99-afa2-34196f1f194f",
   "metadata": {},
   "outputs": [],
   "source": [
    "X = app_train_def_7.drop(columns = ['TARGET'])\n",
    "y = app_train_def_7['TARGET']\n",
    "X_train, X_test, y_train, y_test = train_test_split(X, y, test_size=0.2, random_state=42, stratify=y)\n",
    "\n",
    "X_train.columns = X_train.columns.str.replace('[^A-Za-z0-9_]+', '', regex=True)\n",
    "X_test.columns = X_test.columns.str.replace('[^A-Za-z0-9_]+', '', regex=True)"
   ]
  },
  {
   "cell_type": "code",
   "execution_count": 15,
   "id": "89f6a6bd-9539-4469-9703-c4a73d78d699",
   "metadata": {},
   "outputs": [],
   "source": [
    "def objective(trial):\n",
    "    params = {\n",
    "        \"n_estimators\": trial.suggest_int(\"n_estimators\", 900, 1800, step=50),\n",
    "        \"max_bin\": trial.suggest_int(\"max_bin\", 200, 400, step=10),\n",
    "        \"learning_rate\": trial.suggest_float(\"learning_rate\", 0.01, 0.03, log=True),\n",
    "        \"max_depth\": trial.suggest_int(\"max_depth\", 5, 10),\n",
    "        \"gamma\": trial.suggest_float(\"gamma\", 0, 3),\n",
    "        \"min_child_weight\": trial.suggest_int(\"min_child_weight\", 12, 24),\n",
    "        \"subsample\": trial.suggest_float(\"subsample\", 0.6, 0.95),\n",
    "        \"colsample_bytree\": trial.suggest_float(\"colsample_bytree\", 0.4, 0.8),\n",
    "        \"reg_alpha\": trial.suggest_float(\"reg_alpha\", 1e-8, 1.0, log=True),\n",
    "        \"reg_lambda\": trial.suggest_float(\"reg_lambda\", 1e-8, 10.0, log=True),\n",
    "        \"tree_method\": trial.suggest_categorical(\"tree_method\", [\"auto\", \"hist\"])\n",
    "        \"scale_pos_weight\": trial.suggest_float(\"scale_pos_weight\", 1.0, 3.0),\n",
    "    }\n",
    "    model = XGBClassifier(\n",
    "        **params,\n",
    "        objective=\"binary:logistic\",\n",
    "        eval_metric=\"auc\",\n",
    "        use_label_encoder=False,\n",
    "        random_state=42,\n",
    "        n_jobs=-1\n",
    "    )\n",
    "\n",
    "    cv=StratifiedKFold(n_splits=5, shuffle=True, random_state=42)\n",
    "    scores = cross_val_score(model,X_train, y_train, scoring='roc_auc', cv=cv)\n",
    "\n",
    "    return scores.mean()"
   ]
  },
  {
   "cell_type": "code",
   "execution_count": null,
   "id": "533c5cb0-c2de-4021-bd7b-9f255de7f864",
   "metadata": {},
   "outputs": [],
   "source": [
    "#Estudio para maximizar\n",
    "study = optuna.create_study(direction=\"maximize\")\n",
    "\n",
    "#Búsqueda\n",
    "study.optimize(objective, n_trials=50, show_progress_bar=True)\n",
    "\n",
    "print(\"Best trial:\", study.best_trial.number)\n",
    "print(\"Best value (mean AUC):\", study.best_value)\n",
    "print(\"Best hyperparams:\", study.best_params)"
   ]
  },
  {
   "cell_type": "code",
   "execution_count": 17,
   "id": "af115205-c7c8-44e7-8904-65e4e0afdc48",
   "metadata": {},
   "outputs": [],
   "source": [
    "import pickle\n",
    "with open(\"XGBoost_Optuna_Study_v1_space_reducido_mas_hiperpara.pkl\", \"wb\") as f:\n",
    "    pickle.dump(study, f)\n",
    "with open(\"XGBoost_Optuna_Study_v1_space_reducido_mas_hiperpara.pkl\", \"rb\") as f:\n",
    "    loaded_study = pickle.load(f)"
   ]
  },
  {
   "cell_type": "code",
   "execution_count": null,
   "id": "37e3232c-a287-4aea-a9fc-daaeb366da08",
   "metadata": {},
   "outputs": [],
   "source": [
    "from tabulate import tabulate\n",
    "\n",
    "trials_df = loaded_study.trials_dataframe()\n",
    "\n",
    "df_sorted = trials_df.sort_values(by=\"value\", ascending=False)\n",
    "best_10 = df_sorted.head(10)\n",
    "\n",
    "print(tabulate(best_10, headers=\"keys\", tablefmt=\"psql\"))"
   ]
  },
  {
   "cell_type": "code",
   "execution_count": 5,
   "id": "0c0af959-bbf9-4aac-bd65-de821d8ed0e4",
   "metadata": {},
   "outputs": [],
   "source": [
    "def objective_completo(trial):\n",
    "    params = {\n",
    "        \"n_estimators\": trial.suggest_int(\"n_estimators\", 1500, 2000, step=50),\n",
    "        \"max_bin\": trial.suggest_int(\"max_bin\", 270, 350, step=10),\n",
    "        \"learning_rate\": trial.suggest_float(\"learning_rate\", 0.01, 0.03, log=True),\n",
    "        \"max_depth\": trial.suggest_int(\"max_depth\", 1, 6),\n",
    "        \"gamma\": trial.suggest_float(\"gamma\", 0, 1.5),\n",
    "        \"min_child_weight\": trial.suggest_int(\"min_child_weight\", 17, 25),\n",
    "        \"subsample\": trial.suggest_float(\"subsample\", 0.75, 0.9),\n",
    "        \"colsample_bytree\": trial.suggest_float(\"colsample_bytree\", 0.4, 0.6),\n",
    "        \"reg_alpha\": trial.suggest_float(\"reg_alpha\", 1e-8, 1.0, log=True),\n",
    "        \"reg_lambda\": trial.suggest_float(\"reg_lambda\", 1e-8, 2.2, log=True),\n",
    "        \"tree_method\": trial.suggest_categorical(\"tree_method\", [\"auto\", \"hist\"]),\n",
    "        \"scale_pos_weight\": trial.suggest_float(\"scale_pos_weight\", 1.0, 2.0),\n",
    "    }\n",
    "    model = XGBClassifier(\n",
    "        **params,\n",
    "        objective=\"binary:logistic\",\n",
    "        eval_metric=\"auc\",\n",
    "        use_label_encoder=False,\n",
    "        random_state=42,\n",
    "        n_jobs=20\n",
    "    )\n",
    "\n",
    "    cv=StratifiedKFold(n_splits=5, shuffle=True, random_state=42)\n",
    "    scores = cross_val_score(model,X_train, y_train, scoring='roc_auc', cv=cv)\n",
    "\n",
    "    return scores.mean()"
   ]
  },
  {
   "cell_type": "code",
   "execution_count": null,
   "id": "284b9917-aff7-40df-bee8-8cc073b70442",
   "metadata": {},
   "outputs": [
    {
     "name": "stderr",
     "output_type": "stream",
     "text": [
      "[I 2025-02-27 12:54:28,359] A new study created in memory with name: no-name-dc3982a1-46ee-46c3-8b6a-c899be7587e5\n"
     ]
    },
    {
     "data": {
      "application/vnd.jupyter.widget-view+json": {
       "model_id": "124deb34c00f4bf8b0f58c8c0c7e6fad",
       "version_major": 2,
       "version_minor": 0
      },
      "text/plain": [
       "  0%|          | 0/100 [00:00<?, ?it/s]"
      ]
     },
     "metadata": {},
     "output_type": "display_data"
    },
    {
     "name": "stdout",
     "output_type": "stream",
     "text": [
      "[I 2025-02-27 13:21:17,374] Trial 0 finished with value: 0.7757966846636568 and parameters: {'n_estimators': 1700, 'max_bin': 340, 'learning_rate': 0.02477291321302661, 'max_depth': 1, 'gamma': 0.5653150908442857, 'min_child_weight': 23, 'subsample': 0.8847441453233659, 'colsample_bytree': 0.4091863680732881, 'reg_alpha': 1.5950680079908806e-08, 'reg_lambda': 2.0657434977459808e-06, 'tree_method': 'hist', 'scale_pos_weight': 1.164152623314275}. Best is trial 0 with value: 0.7757966846636568.\n",
      "[I 2025-02-27 14:07:03,069] Trial 1 finished with value: 0.7915885909203546 and parameters: {'n_estimators': 1800, 'max_bin': 340, 'learning_rate': 0.02503332926438555, 'max_depth': 3, 'gamma': 0.24313270477187637, 'min_child_weight': 20, 'subsample': 0.8167046819274089, 'colsample_bytree': 0.523590052203022, 'reg_alpha': 1.3942746729571945e-05, 'reg_lambda': 4.388368396834335e-05, 'tree_method': 'hist', 'scale_pos_weight': 1.9498739659768938}. Best is trial 1 with value: 0.7915885909203546.\n",
      "[I 2025-02-27 14:50:31,890] Trial 2 finished with value: 0.7907399819781231 and parameters: {'n_estimators': 1950, 'max_bin': 300, 'learning_rate': 0.02054440359625673, 'max_depth': 3, 'gamma': 0.7223910332105983, 'min_child_weight': 21, 'subsample': 0.8434959891315114, 'colsample_bytree': 0.5970442873113145, 'reg_alpha': 0.001577752548302914, 'reg_lambda': 0.00015437599121118445, 'tree_method': 'hist', 'scale_pos_weight': 1.3623095742369125}. Best is trial 1 with value: 0.7915885909203546.\n",
      "[I 2025-02-27 15:20:49,407] Trial 3 finished with value: 0.7808314530729973 and parameters: {'n_estimators': 1500, 'max_bin': 330, 'learning_rate': 0.014641970799061887, 'max_depth': 2, 'gamma': 0.5695543673789722, 'min_child_weight': 18, 'subsample': 0.8464614395779957, 'colsample_bytree': 0.584564420853043, 'reg_alpha': 0.000238434869775013, 'reg_lambda': 0.005275067285674296, 'tree_method': 'auto', 'scale_pos_weight': 1.4032578116135186}. Best is trial 1 with value: 0.7915885909203546.\n",
      "[I 2025-02-27 16:10:13,144] Trial 4 finished with value: 0.787106904202426 and parameters: {'n_estimators': 2000, 'max_bin': 270, 'learning_rate': 0.010846999621136114, 'max_depth': 3, 'gamma': 0.46254939091958175, 'min_child_weight': 25, 'subsample': 0.8481252577873181, 'colsample_bytree': 0.4475692439383205, 'reg_alpha': 0.7366296568584659, 'reg_lambda': 0.010114266524053122, 'tree_method': 'auto', 'scale_pos_weight': 1.9936099930605695}. Best is trial 1 with value: 0.7915885909203546.\n",
      "[I 2025-02-27 16:56:47,959] Trial 5 finished with value: 0.7935998094011976 and parameters: {'n_estimators': 1650, 'max_bin': 280, 'learning_rate': 0.0227346470292014, 'max_depth': 5, 'gamma': 1.3766944305899824, 'min_child_weight': 24, 'subsample': 0.8435438751804886, 'colsample_bytree': 0.5539057861922553, 'reg_alpha': 0.26032912340025405, 'reg_lambda': 3.5789517336095e-07, 'tree_method': 'auto', 'scale_pos_weight': 1.0935164225462617}. Best is trial 5 with value: 0.7935998094011976.\n",
      "[I 2025-02-27 17:34:35,370] Trial 6 finished with value: 0.7889389446758273 and parameters: {'n_estimators': 1550, 'max_bin': 320, 'learning_rate': 0.01772413949272872, 'max_depth': 3, 'gamma': 1.3569412676377766, 'min_child_weight': 22, 'subsample': 0.8276897231491579, 'colsample_bytree': 0.49471338606889786, 'reg_alpha': 0.0003141542560684206, 'reg_lambda': 0.8671085463957304, 'tree_method': 'auto', 'scale_pos_weight': 1.6964263446280823}. Best is trial 5 with value: 0.7935998094011976.\n",
      "[I 2025-02-27 18:12:32,578] Trial 7 finished with value: 0.7916090248396364 and parameters: {'n_estimators': 1700, 'max_bin': 280, 'learning_rate': 0.02802919674694693, 'max_depth': 3, 'gamma': 1.488446343197025, 'min_child_weight': 19, 'subsample': 0.8695718278861102, 'colsample_bytree': 0.5038000586530824, 'reg_alpha': 7.888428171670343e-06, 'reg_lambda': 7.079372402477924e-08, 'tree_method': 'hist', 'scale_pos_weight': 1.7746218535700116}. Best is trial 5 with value: 0.7935998094011976.\n",
      "[I 2025-02-27 18:55:31,125] Trial 8 finished with value: 0.7871085649999181 and parameters: {'n_estimators': 1800, 'max_bin': 340, 'learning_rate': 0.012020665835250221, 'max_depth': 3, 'gamma': 0.344591581905747, 'min_child_weight': 25, 'subsample': 0.8263018859926617, 'colsample_bytree': 0.4917229172885822, 'reg_alpha': 0.8550208626225723, 'reg_lambda': 0.028417983502819974, 'tree_method': 'hist', 'scale_pos_weight': 1.7363454868879642}. Best is trial 5 with value: 0.7935998094011976.\n",
      "[I 2025-02-27 20:04:04,425] Trial 9 finished with value: 0.7933107268094746 and parameters: {'n_estimators': 1950, 'max_bin': 350, 'learning_rate': 0.011637531606759951, 'max_depth': 6, 'gamma': 1.2608714321888161, 'min_child_weight': 17, 'subsample': 0.7535192489704292, 'colsample_bytree': 0.40008595004970315, 'reg_alpha': 5.2992885248610956e-08, 'reg_lambda': 8.10238482936281e-05, 'tree_method': 'auto', 'scale_pos_weight': 1.1270188888506283}. Best is trial 5 with value: 0.7935998094011976.\n",
      "[I 2025-02-27 20:55:15,270] Trial 10 finished with value: 0.7932461235968918 and parameters: {'n_estimators': 1600, 'max_bin': 300, 'learning_rate': 0.02052514596199312, 'max_depth': 6, 'gamma': 1.0724068024756575, 'min_child_weight': 23, 'subsample': 0.7870024296077003, 'colsample_bytree': 0.5602477376030945, 'reg_alpha': 0.020038289896299962, 'reg_lambda': 1.102108025062222e-08, 'tree_method': 'auto', 'scale_pos_weight': 1.0024814965569342}. Best is trial 5 with value: 0.7935998094011976.\n",
      "[I 2025-02-27 21:58:23,273] Trial 11 finished with value: 0.7936581195720105 and parameters: {'n_estimators': 1900, 'max_bin': 290, 'learning_rate': 0.013816507049036428, 'max_depth': 6, 'gamma': 1.1512492128920617, 'min_child_weight': 17, 'subsample': 0.7664787112240937, 'colsample_bytree': 0.4014908729115654, 'reg_alpha': 1.5731867596481788e-08, 'reg_lambda': 1.8141809112935831e-06, 'tree_method': 'auto', 'scale_pos_weight': 1.1678699692390628}. Best is trial 11 with value: 0.7936581195720105.\n",
      "[I 2025-02-27 22:53:13,378] Trial 12 finished with value: 0.792918812991493 and parameters: {'n_estimators': 1850, 'max_bin': 290, 'learning_rate': 0.014535299854457666, 'max_depth': 5, 'gamma': 0.9902514367219524, 'min_child_weight': 17, 'subsample': 0.7860869678654061, 'colsample_bytree': 0.5521916208471003, 'reg_alpha': 8.647354630836172e-07, 'reg_lambda': 6.672012448541301e-07, 'tree_method': 'auto', 'scale_pos_weight': 1.2388153599958163}. Best is trial 11 with value: 0.7936581195720105.\n",
      "[I 2025-02-27 23:39:33,620] Trial 13 finished with value: 0.7926605291640694 and parameters: {'n_estimators': 1650, 'max_bin': 270, 'learning_rate': 0.01426938003989643, 'max_depth': 5, 'gamma': 1.0252160257574543, 'min_child_weight': 24, 'subsample': 0.751187092022689, 'colsample_bytree': 0.4517875899172503, 'reg_alpha': 4.862360963551747e-07, 'reg_lambda': 2.448249940801705e-06, 'tree_method': 'auto', 'scale_pos_weight': 1.032433229528714}. Best is trial 11 with value: 0.7936581195720105.\n",
      "[I 2025-02-28 00:29:55,231] Trial 14 finished with value: 0.7933024501715316 and parameters: {'n_estimators': 1850, 'max_bin': 290, 'learning_rate': 0.01794284122079258, 'max_depth': 5, 'gamma': 1.1975976456597386, 'min_child_weight': 20, 'subsample': 0.7917471313092633, 'colsample_bytree': 0.4549617050983048, 'reg_alpha': 0.017673022351861228, 'reg_lambda': 1.288780169902344e-07, 'tree_method': 'auto', 'scale_pos_weight': 1.2797305995226098}. Best is trial 11 with value: 0.7936581195720105.\n",
      "[I 2025-02-28 01:19:42,392] Trial 15 finished with value: 0.7934546170505415 and parameters: {'n_estimators': 1900, 'max_bin': 310, 'learning_rate': 0.020662052075422956, 'max_depth': 6, 'gamma': 0.03847140066555621, 'min_child_weight': 22, 'subsample': 0.8078072272727123, 'colsample_bytree': 0.5356857548750973, 'reg_alpha': 0.05027924151066998, 'reg_lambda': 1.2447643056828716e-05, 'tree_method': 'auto', 'scale_pos_weight': 1.5195727857022112}. Best is trial 11 with value: 0.7936581195720105.\n",
      "[I 2025-02-28 01:58:04,946] Trial 16 finished with value: 0.7909818986190009 and parameters: {'n_estimators': 1750, 'max_bin': 280, 'learning_rate': 0.013028749721755557, 'max_depth': 4, 'gamma': 0.8571438307698216, 'min_child_weight': 19, 'subsample': 0.7678979343548967, 'colsample_bytree': 0.4716075493492571, 'reg_alpha': 1.6774926064089845e-05, 'reg_lambda': 0.000745648678044578, 'tree_method': 'auto', 'scale_pos_weight': 1.563191200564812}. Best is trial 11 with value: 0.7936581195720105.\n",
      "[I 2025-02-28 02:37:50,920] Trial 17 finished with value: 0.7930983935447626 and parameters: {'n_estimators': 1600, 'max_bin': 290, 'learning_rate': 0.022822495212422553, 'max_depth': 5, 'gamma': 1.4716179645911613, 'min_child_weight': 24, 'subsample': 0.8975294788049144, 'colsample_bytree': 0.5661697444443642, 'reg_alpha': 0.002244332516442887, 'reg_lambda': 2.5523908965659244e-07, 'tree_method': 'auto', 'scale_pos_weight': 1.1264275544761395}. Best is trial 11 with value: 0.7936581195720105.\n",
      "[I 2025-02-28 03:13:48,216] Trial 18 finished with value: 0.7926955723648347 and parameters: {'n_estimators': 1700, 'max_bin': 310, 'learning_rate': 0.02923557205236666, 'max_depth': 4, 'gamma': 1.2060412635935382, 'min_child_weight': 21, 'subsample': 0.865300680774462, 'colsample_bytree': 0.5269211988583493, 'reg_alpha': 4.931187965144573e-07, 'reg_lambda': 1.6840458797753475e-08, 'tree_method': 'auto', 'scale_pos_weight': 1.3876802181299044}. Best is trial 11 with value: 0.7936581195720105.\n",
      "[I 2025-02-28 04:04:52,321] Trial 19 finished with value: 0.7937385484025892 and parameters: {'n_estimators': 2000, 'max_bin': 280, 'learning_rate': 0.016329200549517805, 'max_depth': 6, 'gamma': 1.3213893059279136, 'min_child_weight': 18, 'subsample': 0.8000359696973528, 'colsample_bytree': 0.4276376596915424, 'reg_alpha': 0.10285449274081016, 'reg_lambda': 6.631207113993444e-06, 'tree_method': 'auto', 'scale_pos_weight': 1.2324399837366344}. Best is trial 19 with value: 0.7937385484025892.\n",
      "[I 2025-02-28 04:57:42,516] Trial 20 finished with value: 0.7934917884223303 and parameters: {'n_estimators': 2000, 'max_bin': 300, 'learning_rate': 0.016204001358595666, 'max_depth': 6, 'gamma': 0.8704629483626519, 'min_child_weight': 18, 'subsample': 0.7702761573928434, 'colsample_bytree': 0.4305388045715682, 'reg_alpha': 9.16263796108648e-08, 'reg_lambda': 9.16757795307738e-06, 'tree_method': 'auto', 'scale_pos_weight': 1.2641949860942356}. Best is trial 19 with value: 0.7937385484025892.\n",
      "[I 2025-02-28 05:47:17,067] Trial 21 finished with value: 0.7936131921910297 and parameters: {'n_estimators': 1950, 'max_bin': 280, 'learning_rate': 0.016241601380866638, 'max_depth': 6, 'gamma': 1.3548922468098545, 'min_child_weight': 18, 'subsample': 0.8102929101100227, 'colsample_bytree': 0.42664117930691275, 'reg_alpha': 0.10368466943556207, 'reg_lambda': 1.2175562353695081e-06, 'tree_method': 'auto', 'scale_pos_weight': 1.07977523615065}. Best is trial 19 with value: 0.7937385484025892.\n",
      "[I 2025-02-28 06:38:53,601] Trial 22 finished with value: 0.7936207611387504 and parameters: {'n_estimators': 1950, 'max_bin': 270, 'learning_rate': 0.01576296136174252, 'max_depth': 6, 'gamma': 1.1599901467519755, 'min_child_weight': 18, 'subsample': 0.80255860407568, 'colsample_bytree': 0.42429530705813406, 'reg_alpha': 0.11331632215322315, 'reg_lambda': 2.9760603205546493e-06, 'tree_method': 'auto', 'scale_pos_weight': 1.1997026002256046}. Best is trial 19 with value: 0.7937385484025892.\n",
      "[I 2025-02-28 07:29:06,733] Trial 23 finished with value: 0.7935727285870289 and parameters: {'n_estimators': 1900, 'max_bin': 270, 'learning_rate': 0.013293678071127519, 'max_depth': 6, 'gamma': 1.1277469381000702, 'min_child_weight': 17, 'subsample': 0.7986621097488953, 'colsample_bytree': 0.41677068902448544, 'reg_alpha': 0.003146612428718038, 'reg_lambda': 8.56449003629416e-06, 'tree_method': 'auto', 'scale_pos_weight': 1.2009941128612158}. Best is trial 19 with value: 0.7937385484025892.\n",
      "[I 2025-02-28 08:10:01,972] Trial 24 finished with value: 0.7925235309789787 and parameters: {'n_estimators': 2000, 'max_bin': 270, 'learning_rate': 0.016115556151279287, 'max_depth': 4, 'gamma': 0.8860345113215439, 'min_child_weight': 19, 'subsample': 0.7719394711375199, 'colsample_bytree': 0.43428589349057967, 'reg_alpha': 0.011659972814066756, 'reg_lambda': 0.0003745263784668907, 'tree_method': 'auto', 'scale_pos_weight': 1.3209710999771125}. Best is trial 19 with value: 0.7937385484025892.\n",
      "[I 2025-02-28 08:54:25,427] Trial 25 finished with value: 0.7936014062368725 and parameters: {'n_estimators': 1900, 'max_bin': 290, 'learning_rate': 0.018168167091835094, 'max_depth': 5, 'gamma': 1.2692493618135312, 'min_child_weight': 18, 'subsample': 0.7804107996660067, 'colsample_bytree': 0.4714376124905911, 'reg_alpha': 0.14113647959925937, 'reg_lambda': 2.476030882554896e-05, 'tree_method': 'auto', 'scale_pos_weight': 1.4105662209261263}. Best is trial 19 with value: 0.7937385484025892.\n",
      "[I 2025-02-28 09:45:21,170] Trial 26 finished with value: 0.7932489012142712 and parameters: {'n_estimators': 1950, 'max_bin': 280, 'learning_rate': 0.013021468864327073, 'max_depth': 6, 'gamma': 0.7357272114889337, 'min_child_weight': 17, 'subsample': 0.803922839762729, 'colsample_bytree': 0.40101095591468644, 'reg_alpha': 0.0001041672612230045, 'reg_lambda': 4.163305064086434e-06, 'tree_method': 'hist', 'scale_pos_weight': 1.4641603474306284}. Best is trial 19 with value: 0.7937385484025892.\n",
      "[I 2025-02-28 10:34:31,243] Trial 27 finished with value: 0.7918957308493996 and parameters: {'n_estimators': 1850, 'max_bin': 270, 'learning_rate': 0.010273180783869884, 'max_depth': 5, 'gamma': 0.951344876898688, 'min_child_weight': 20, 'subsample': 0.763628451922343, 'colsample_bytree': 0.41675255697117797, 'reg_alpha': 2.1940781206085975e-06, 'reg_lambda': 0.0007940691615017009, 'tree_method': 'auto', 'scale_pos_weight': 1.6172917973269572}. Best is trial 19 with value: 0.7937385484025892.\n",
      "[I 2025-02-28 11:39:28,093] Trial 28 finished with value: 0.7937672293274847 and parameters: {'n_estimators': 2000, 'max_bin': 300, 'learning_rate': 0.015707457122900517, 'max_depth': 6, 'gamma': 1.1123686626888019, 'min_child_weight': 19, 'subsample': 0.8209238919203351, 'colsample_bytree': 0.4390549187590039, 'reg_alpha': 0.000516512923097418, 'reg_lambda': 4.571513222461835e-08, 'tree_method': 'auto', 'scale_pos_weight': 1.2195194793386304}. Best is trial 28 with value: 0.7937672293274847.\n",
      "[I 2025-02-28 12:19:25,885] Trial 29 finished with value: 0.7819244197804475 and parameters: {'n_estimators': 2000, 'max_bin': 320, 'learning_rate': 0.011959921086821472, 'max_depth': 2, 'gamma': 1.091938704073549, 'min_child_weight': 19, 'subsample': 0.8329751212658654, 'colsample_bytree': 0.4716572959757929, 'reg_alpha': 1.429558710388282e-08, 'reg_lambda': 4.585429104085929e-08, 'tree_method': 'hist', 'scale_pos_weight': 1.1542126151822472}. Best is trial 28 with value: 0.7937672293274847.\n",
      "[I 2025-02-28 13:08:01,674] Trial 30 finished with value: 0.7923664691943851 and parameters: {'n_estimators': 1900, 'max_bin': 300, 'learning_rate': 0.019205702042212464, 'max_depth': 4, 'gamma': 1.299806158669637, 'min_child_weight': 17, 'subsample': 0.8180280918054837, 'colsample_bytree': 0.44084136104928795, 'reg_alpha': 0.0006875445825042915, 'reg_lambda': 6.198248081835065e-07, 'tree_method': 'auto', 'scale_pos_weight': 1.3135991880599023}. Best is trial 28 with value: 0.7937672293274847.\n",
      "[I 2025-02-28 14:02:19,609] Trial 31 finished with value: 0.7934944747787215 and parameters: {'n_estimators': 1950, 'max_bin': 290, 'learning_rate': 0.016054796809391803, 'max_depth': 6, 'gamma': 1.1574330522729501, 'min_child_weight': 18, 'subsample': 0.7968116439252084, 'colsample_bytree': 0.41750723038359466, 'reg_alpha': 0.004710753009752435, 'reg_lambda': 2.92596203828295e-06, 'tree_method': 'auto', 'scale_pos_weight': 1.2001080516081473}. Best is trial 28 with value: 0.7937672293274847.\n",
      "[I 2025-02-28 14:27:33,005] Trial 32 finished with value: 0.7722400318225517 and parameters: {'n_estimators': 2000, 'max_bin': 310, 'learning_rate': 0.015133806988074353, 'max_depth': 1, 'gamma': 1.427465559220177, 'min_child_weight': 18, 'subsample': 0.8176771551597815, 'colsample_bytree': 0.4107565186349524, 'reg_alpha': 3.1814014488358976e-05, 'reg_lambda': 3.4671616095427266e-08, 'tree_method': 'auto', 'scale_pos_weight': 1.1948268523163168}. Best is trial 28 with value: 0.7937672293274847.\n",
      "[I 2025-02-28 15:11:59,135] Trial 33 finished with value: 0.7936150055371086 and parameters: {'n_estimators': 1950, 'max_bin': 280, 'learning_rate': 0.013899313581079242, 'max_depth': 6, 'gamma': 1.2097972797250955, 'min_child_weight': 20, 'subsample': 0.7788145896673442, 'colsample_bytree': 0.4605200521263775, 'reg_alpha': 0.04324938049228892, 'reg_lambda': 1.7099634933374678e-07, 'tree_method': 'auto', 'scale_pos_weight': 1.2518430291648983}. Best is trial 28 with value: 0.7937672293274847.\n",
      "[I 2025-02-28 15:53:39,041] Trial 34 finished with value: 0.7937592460307118 and parameters: {'n_estimators': 1800, 'max_bin': 300, 'learning_rate': 0.015432916831674694, 'max_depth': 6, 'gamma': 0.7935383899508749, 'min_child_weight': 19, 'subsample': 0.8361871968909703, 'colsample_bytree': 0.4268797425916164, 'reg_alpha': 0.21585329752863167, 'reg_lambda': 2.900639735108341e-05, 'tree_method': 'hist', 'scale_pos_weight': 1.062947528871011}. Best is trial 28 with value: 0.7937672293274847.\n",
      "[I 2025-02-28 16:31:35,678] Trial 35 finished with value: 0.7934419495113669 and parameters: {'n_estimators': 1800, 'max_bin': 300, 'learning_rate': 0.019117965952245474, 'max_depth': 5, 'gamma': 0.5846017529296264, 'min_child_weight': 19, 'subsample': 0.8580001923612921, 'colsample_bytree': 0.4396636481927688, 'reg_alpha': 0.0008338870876106003, 'reg_lambda': 0.00011165877955488325, 'tree_method': 'hist', 'scale_pos_weight': 1.0300765781288834}. Best is trial 28 with value: 0.7937672293274847.\n",
      "[I 2025-02-28 17:12:05,509] Trial 36 finished with value: 0.793806071351839 and parameters: {'n_estimators': 1750, 'max_bin': 310, 'learning_rate': 0.017012771767007447, 'max_depth': 6, 'gamma': 0.6354278473238755, 'min_child_weight': 19, 'subsample': 0.8345582571950911, 'colsample_bytree': 0.40002511568119675, 'reg_alpha': 0.3948343272932215, 'reg_lambda': 3.400314751290738e-05, 'tree_method': 'hist', 'scale_pos_weight': 1.0649061676539464}. Best is trial 36 with value: 0.793806071351839.\n",
      "[I 2025-02-28 17:51:08,529] Trial 37 finished with value: 0.7934381477328645 and parameters: {'n_estimators': 1750, 'max_bin': 320, 'learning_rate': 0.017049511560799053, 'max_depth': 5, 'gamma': 0.6611167532142439, 'min_child_weight': 20, 'subsample': 0.8358625330927433, 'colsample_bytree': 0.44497450043581294, 'reg_alpha': 0.34090446587524076, 'reg_lambda': 2.9334893869274643e-05, 'tree_method': 'hist', 'scale_pos_weight': 1.0718675652032936}. Best is trial 36 with value: 0.793806071351839.\n",
      "[I 2025-02-28 18:49:22,241] Trial 38 finished with value: 0.7935104268155927 and parameters: {'n_estimators': 1800, 'max_bin': 310, 'learning_rate': 0.015073202485546375, 'max_depth': 6, 'gamma': 0.5014607851161632, 'min_child_weight': 19, 'subsample': 0.853840307248616, 'colsample_bytree': 0.4620498793073441, 'reg_alpha': 0.38633193159504253, 'reg_lambda': 0.0026587908445243605, 'tree_method': 'hist', 'scale_pos_weight': 1.8704298582458092}. Best is trial 36 with value: 0.793806071351839.\n",
      "[I 2025-02-28 19:19:51,787] Trial 39 finished with value: 0.7824932536406444 and parameters: {'n_estimators': 1500, 'max_bin': 330, 'learning_rate': 0.01723582972451881, 'max_depth': 2, 'gamma': 0.3409420321487375, 'min_child_weight': 21, 'subsample': 0.8345664601275128, 'colsample_bytree': 0.42479004249485375, 'reg_alpha': 0.8330523206171827, 'reg_lambda': 0.04440617441584797, 'tree_method': 'hist', 'scale_pos_weight': 1.0835966309563398}. Best is trial 36 with value: 0.793806071351839.\n",
      "[I 2025-02-28 19:45:15,784] Trial 40 finished with value: 0.7728820469931927 and parameters: {'n_estimators': 1650, 'max_bin': 320, 'learning_rate': 0.019296705867677483, 'max_depth': 1, 'gamma': 0.7984384147355086, 'min_child_weight': 21, 'subsample': 0.8214307209446435, 'colsample_bytree': 0.4130281649637512, 'reg_alpha': 0.008755961564992963, 'reg_lambda': 0.0002641151048997278, 'tree_method': 'hist', 'scale_pos_weight': 1.3554783748471264}. Best is trial 36 with value: 0.793806071351839.\n",
      "[I 2025-02-28 20:43:00,102] Trial 41 finished with value: 0.7932530367726914 and parameters: {'n_estimators': 1750, 'max_bin': 300, 'learning_rate': 0.013593264752152905, 'max_depth': 6, 'gamma': 0.6516662842409653, 'min_child_weight': 18, 'subsample': 0.8422699966072997, 'colsample_bytree': 0.4048513796336789, 'reg_alpha': 0.09769284229534862, 'reg_lambda': 6.490357782978054e-05, 'tree_method': 'hist', 'scale_pos_weight': 1.1400761559592507}. Best is trial 36 with value: 0.793806071351839.\n",
      "[I 2025-02-28 21:44:28,122] Trial 42 finished with value: 0.793542291544913 and parameters: {'n_estimators': 1850, 'max_bin': 290, 'learning_rate': 0.012560406344801111, 'max_depth': 6, 'gamma': 0.7922461603947042, 'min_child_weight': 19, 'subsample': 0.8121830744453442, 'colsample_bytree': 0.40925273162249176, 'reg_alpha': 0.00010034451050361991, 'reg_lambda': 2.694111856342557e-05, 'tree_method': 'hist', 'scale_pos_weight': 1.0507612338735406}. Best is trial 36 with value: 0.793806071351839.\n",
      "[I 2025-02-28 22:43:00,177] Trial 43 finished with value: 0.7936402321013132 and parameters: {'n_estimators': 1700, 'max_bin': 310, 'learning_rate': 0.015237962454184285, 'max_depth': 6, 'gamma': 0.41959875362106314, 'min_child_weight': 17, 'subsample': 0.8277361667467988, 'colsample_bytree': 0.4354068127259587, 'reg_alpha': 0.03117563861094869, 'reg_lambda': 1.2590330014477017e-06, 'tree_method': 'hist', 'scale_pos_weight': 1.0052211101292299}. Best is trial 36 with value: 0.793806071351839.\n",
      "[I 2025-02-28 23:30:39,217] Trial 44 finished with value: 0.7931728256682249 and parameters: {'n_estimators': 1800, 'max_bin': 300, 'learning_rate': 0.01685359335642195, 'max_depth': 5, 'gamma': 0.9335112461285591, 'min_child_weight': 20, 'subsample': 0.8787579723596262, 'colsample_bytree': 0.4883139189745683, 'reg_alpha': 0.2517744372516289, 'reg_lambda': 9.028021854463027e-06, 'tree_method': 'hist', 'scale_pos_weight': 1.107934865152461}. Best is trial 36 with value: 0.793806071351839.\n",
      "[I 2025-03-01 00:20:51,001] Trial 45 finished with value: 0.7936444536560938 and parameters: {'n_estimators': 1900, 'max_bin': 290, 'learning_rate': 0.0144207700128621, 'max_depth': 6, 'gamma': 1.0402424052297061, 'min_child_weight': 18, 'subsample': 0.8450989865374368, 'colsample_bytree': 0.4216831826600147, 'reg_alpha': 6.599670967416478e-06, 'reg_lambda': 4.5630325158737263e-07, 'tree_method': 'hist', 'scale_pos_weight': 1.1643715332955136}. Best is trial 36 with value: 0.793806071351839.\n",
      "[I 2025-03-01 01:09:07,016] Trial 46 finished with value: 0.7937250970920856 and parameters: {'n_estimators': 2000, 'max_bin': 300, 'learning_rate': 0.01827792442562218, 'max_depth': 5, 'gamma': 1.390239834505044, 'min_child_weight': 19, 'subsample': 0.7582284626344987, 'colsample_bytree': 0.40143169381230986, 'reg_alpha': 5.884921248499429e-08, 'reg_lambda': 0.00015645989415428665, 'tree_method': 'hist', 'scale_pos_weight': 1.2332465963401498}. Best is trial 36 with value: 0.793806071351839.\n",
      "[I 2025-03-01 01:59:23,687] Trial 47 finished with value: 0.7937321758308141 and parameters: {'n_estimators': 2000, 'max_bin': 330, 'learning_rate': 0.021128752125409857, 'max_depth': 5, 'gamma': 1.4012693105035767, 'min_child_weight': 19, 'subsample': 0.8531638898479771, 'colsample_bytree': 0.5064203373164855, 'reg_alpha': 0.0003352250386540025, 'reg_lambda': 0.0036220813733820463, 'tree_method': 'hist', 'scale_pos_weight': 1.2952072510191934}. Best is trial 36 with value: 0.793806071351839.\n",
      "[I 2025-03-01 02:46:28,842] Trial 48 finished with value: 0.7932424087747707 and parameters: {'n_estimators': 2000, 'max_bin': 330, 'learning_rate': 0.026039545370117507, 'max_depth': 5, 'gamma': 1.3304600000323406, 'min_child_weight': 20, 'subsample': 0.8541131501037607, 'colsample_bytree': 0.5024392128362184, 'reg_alpha': 0.0003152584862530229, 'reg_lambda': 0.056376042638425744, 'tree_method': 'hist', 'scale_pos_weight': 1.4428799578313338}. Best is trial 36 with value: 0.793806071351839.\n",
      "[I 2025-03-01 03:32:44,663] Trial 49 finished with value: 0.7930474743108963 and parameters: {'n_estimators': 1650, 'max_bin': 350, 'learning_rate': 0.022713310943932294, 'max_depth': 6, 'gamma': 1.4369019606020712, 'min_child_weight': 19, 'subsample': 0.8390996883336284, 'colsample_bytree': 0.48097351300749275, 'reg_alpha': 3.8347001671626295e-05, 'reg_lambda': 0.3715232414838796, 'tree_method': 'hist', 'scale_pos_weight': 1.2813860163458346}. Best is trial 36 with value: 0.793806071351839.\n",
      "[I 2025-03-01 04:24:31,606] Trial 50 finished with value: 0.7934669312093547 and parameters: {'n_estimators': 1950, 'max_bin': 330, 'learning_rate': 0.020622702111316275, 'max_depth': 6, 'gamma': 0.09945656254354418, 'min_child_weight': 21, 'subsample': 0.8281171160215268, 'colsample_bytree': 0.5157015281744258, 'reg_alpha': 0.0005326911179794984, 'reg_lambda': 0.0026204413760123387, 'tree_method': 'hist', 'scale_pos_weight': 1.3213601747639008}. Best is trial 36 with value: 0.793806071351839.\n",
      "[I 2025-03-01 05:09:46,809] Trial 51 finished with value: 0.7928873218965945 and parameters: {'n_estimators': 2000, 'max_bin': 340, 'learning_rate': 0.018169789217089012, 'max_depth': 4, 'gamma': 1.401025990966203, 'min_child_weight': 19, 'subsample': 0.8501684656702301, 'colsample_bytree': 0.5162052282027532, 'reg_alpha': 0.539652394997736, 'reg_lambda': 0.0008874513946614744, 'tree_method': 'hist', 'scale_pos_weight': 1.2407011982014189}. Best is trial 36 with value: 0.793806071351839.\n",
      "[I 2025-03-01 05:59:30,035] Trial 52 finished with value: 0.7936457288218484 and parameters: {'n_estimators': 2000, 'max_bin': 310, 'learning_rate': 0.02173929882329098, 'max_depth': 5, 'gamma': 1.2634174074419744, 'min_child_weight': 19, 'subsample': 0.8582400741527926, 'colsample_bytree': 0.40877471284531663, 'reg_alpha': 0.0013217529534000714, 'reg_lambda': 0.00022868431264415803, 'tree_method': 'hist', 'scale_pos_weight': 1.1122591248131768}. Best is trial 36 with value: 0.793806071351839.\n",
      "[I 2025-03-01 06:48:19,052] Trial 53 finished with value: 0.7935495554111516 and parameters: {'n_estimators': 2000, 'max_bin': 320, 'learning_rate': 0.01877366700673515, 'max_depth': 5, 'gamma': 1.3709528418820283, 'min_child_weight': 19, 'subsample': 0.8701520147818258, 'colsample_bytree': 0.4491698488878081, 'reg_alpha': 4.041792972788325e-08, 'reg_lambda': 0.020830953017115843, 'tree_method': 'hist', 'scale_pos_weight': 1.3622928866383623}. Best is trial 36 with value: 0.793806071351839.\n",
      "[I 2025-03-01 07:35:28,437] Trial 54 finished with value: 0.7937359661170251 and parameters: {'n_estimators': 1950, 'max_bin': 300, 'learning_rate': 0.020126439986450365, 'max_depth': 5, 'gamma': 0.6327947971831512, 'min_child_weight': 20, 'subsample': 0.7613392392502624, 'colsample_bytree': 0.5926035303379408, 'reg_alpha': 0.00022938464978890133, 'reg_lambda': 0.00677192218612193, 'tree_method': 'hist', 'scale_pos_weight': 1.2234218917322923}. Best is trial 36 with value: 0.793806071351839.\n",
      "[I 2025-03-01 08:28:45,880] Trial 55 finished with value: 0.7929616187905052 and parameters: {'n_estimators': 1950, 'max_bin': 310, 'learning_rate': 0.02397822042286388, 'max_depth': 6, 'gamma': 0.672242924796703, 'min_child_weight': 20, 'subsample': 0.8291757122748803, 'colsample_bytree': 0.5962565943025443, 'reg_alpha': 0.0002173024669331019, 'reg_lambda': 0.1725278049602023, 'tree_method': 'hist', 'scale_pos_weight': 1.2850120853921454}. Best is trial 36 with value: 0.793806071351839.\n",
      "[I 2025-03-01 09:06:57,626] Trial 56 finished with value: 0.7924230519274608 and parameters: {'n_estimators': 1750, 'max_bin': 300, 'learning_rate': 0.02007819314212126, 'max_depth': 4, 'gamma': 0.5639760832323206, 'min_child_weight': 20, 'subsample': 0.8646189483943523, 'colsample_bytree': 0.5782008361858547, 'reg_alpha': 0.00021729695718117437, 'reg_lambda': 0.008001906478995876, 'tree_method': 'hist', 'scale_pos_weight': 1.1733201912391285}. Best is trial 36 with value: 0.793806071351839.\n",
      "[I 2025-03-01 09:58:36,055] Trial 57 finished with value: 0.7936870228544334 and parameters: {'n_estimators': 1950, 'max_bin': 300, 'learning_rate': 0.02166630488241016, 'max_depth': 6, 'gamma': 0.5069761830042988, 'min_child_weight': 22, 'subsample': 0.8225837213533185, 'colsample_bytree': 0.5298119367914801, 'reg_alpha': 0.005487289865829621, 'reg_lambda': 0.00279554356425008, 'tree_method': 'hist', 'scale_pos_weight': 1.0320964236393269}. Best is trial 36 with value: 0.793806071351839.\n",
      "[I 2025-03-01 10:52:27,108] Trial 58 finished with value: 0.7930316115328966 and parameters: {'n_estimators': 1850, 'max_bin': 310, 'learning_rate': 0.016708107646281965, 'max_depth': 5, 'gamma': 1.4871980748966371, 'min_child_weight': 18, 'subsample': 0.8365891335252849, 'colsample_bytree': 0.5826255106178353, 'reg_alpha': 6.177244572258683e-05, 'reg_lambda': 6.44357938993844e-05, 'tree_method': 'hist', 'scale_pos_weight': 1.2123146863556822}. Best is trial 36 with value: 0.793806071351839.\n",
      "[I 2025-03-01 11:52:35,248] Trial 59 finished with value: 0.7940533496042581 and parameters: {'n_estimators': 1900, 'max_bin': 320, 'learning_rate': 0.01551103397218903, 'max_depth': 6, 'gamma': 0.6030931906795164, 'min_child_weight': 21, 'subsample': 0.8482616473718187, 'colsample_bytree': 0.5441908172165348, 'reg_alpha': 0.02048456024920478, 'reg_lambda': 0.0004183863172759492, 'tree_method': 'hist', 'scale_pos_weight': 1.1304683086684222}. Best is trial 59 with value: 0.7940533496042581.\n",
      "[I 2025-03-01 12:39:01,528] Trial 60 finished with value: 0.7937738713229745 and parameters: {'n_estimators': 1900, 'max_bin': 320, 'learning_rate': 0.015616966399191818, 'max_depth': 6, 'gamma': 0.4178887989516316, 'min_child_weight': 21, 'subsample': 0.78917211094805, 'colsample_bytree': 0.5531911819870577, 'reg_alpha': 0.191031646534857, 'reg_lambda': 0.0004830470153304904, 'tree_method': 'auto', 'scale_pos_weight': 1.1288565899583634}. Best is trial 59 with value: 0.7940533496042581.\n",
      "[I 2025-03-01 13:25:13,562] Trial 61 finished with value: 0.7938869230567136 and parameters: {'n_estimators': 1900, 'max_bin': 320, 'learning_rate': 0.015522261849689387, 'max_depth': 6, 'gamma': 0.37526336186825815, 'min_child_weight': 22, 'subsample': 0.7919027879972798, 'colsample_bytree': 0.5456431306223505, 'reg_alpha': 0.07180699714982071, 'reg_lambda': 0.0006095422617618466, 'tree_method': 'auto', 'scale_pos_weight': 1.126549419943903}. Best is trial 59 with value: 0.7940533496042581.\n",
      "[I 2025-03-01 14:10:05,714] Trial 62 finished with value: 0.7940197420005117 and parameters: {'n_estimators': 1850, 'max_bin': 320, 'learning_rate': 0.01554323961178983, 'max_depth': 6, 'gamma': 0.38976429241789945, 'min_child_weight': 22, 'subsample': 0.7902469076507422, 'colsample_bytree': 0.5420103079893142, 'reg_alpha': 0.2040602465024826, 'reg_lambda': 0.0012263980625102516, 'tree_method': 'auto', 'scale_pos_weight': 1.124834241451703}. Best is trial 59 with value: 0.7940533496042581.\n",
      "[I 2025-03-01 14:54:38,073] Trial 63 finished with value: 0.7937392539518614 and parameters: {'n_estimators': 1850, 'max_bin': 320, 'learning_rate': 0.015605108083733001, 'max_depth': 6, 'gamma': 0.27503264321307647, 'min_child_weight': 23, 'subsample': 0.7896674074867573, 'colsample_bytree': 0.5454006357915857, 'reg_alpha': 0.16269534598408053, 'reg_lambda': 0.0013926248420401725, 'tree_method': 'auto', 'scale_pos_weight': 1.0607615622885846}. Best is trial 59 with value: 0.7940533496042581.\n",
      "[I 2025-03-01 15:38:01,227] Trial 64 finished with value: 0.7938142552422364 and parameters: {'n_estimators': 1800, 'max_bin': 320, 'learning_rate': 0.014601846958148344, 'max_depth': 6, 'gamma': 0.41481958854097967, 'min_child_weight': 22, 'subsample': 0.782299322826304, 'colsample_bytree': 0.5415521894265167, 'reg_alpha': 0.06247882352497022, 'reg_lambda': 0.0005507530979174203, 'tree_method': 'auto', 'scale_pos_weight': 1.1326502864373293}. Best is trial 59 with value: 0.7940533496042581.\n",
      "[I 2025-03-01 16:23:18,088] Trial 65 finished with value: 0.7940294449241915 and parameters: {'n_estimators': 1900, 'max_bin': 320, 'learning_rate': 0.01467111026322, 'max_depth': 6, 'gamma': 0.18483585385630613, 'min_child_weight': 22, 'subsample': 0.7830956266598532, 'colsample_bytree': 0.5428681164107693, 'reg_alpha': 0.0532497123119502, 'reg_lambda': 0.00044949437884397295, 'tree_method': 'auto', 'scale_pos_weight': 1.1144454396461376}. Best is trial 59 with value: 0.7940533496042581.\n",
      "[I 2025-03-01 17:09:49,116] Trial 66 finished with value: 0.7938195699004935 and parameters: {'n_estimators': 1900, 'max_bin': 320, 'learning_rate': 0.014671049671438664, 'max_depth': 6, 'gamma': 0.12131327881536996, 'min_child_weight': 22, 'subsample': 0.7811302009235936, 'colsample_bytree': 0.5408840190327731, 'reg_alpha': 0.02127173383958191, 'reg_lambda': 0.00042499630720899167, 'tree_method': 'auto', 'scale_pos_weight': 1.1263408786615419}. Best is trial 59 with value: 0.7940533496042581.\n",
      "[I 2025-03-01 17:55:10,528] Trial 67 finished with value: 0.7937563668042584 and parameters: {'n_estimators': 1850, 'max_bin': 320, 'learning_rate': 0.014693589681749778, 'max_depth': 6, 'gamma': 0.14212215584871624, 'min_child_weight': 22, 'subsample': 0.7810770780186785, 'colsample_bytree': 0.5426956352125794, 'reg_alpha': 0.05400836763871087, 'reg_lambda': 0.0014511621011231474, 'tree_method': 'auto', 'scale_pos_weight': 1.1122643354709332}. Best is trial 59 with value: 0.7940533496042581.\n",
      "[I 2025-03-01 18:42:14,562] Trial 68 finished with value: 0.7939752306681359 and parameters: {'n_estimators': 1900, 'max_bin': 320, 'learning_rate': 0.013811806238097189, 'max_depth': 6, 'gamma': 0.19606757278365344, 'min_child_weight': 22, 'subsample': 0.7769150076937088, 'colsample_bytree': 0.5672072260751857, 'reg_alpha': 0.019528124029894473, 'reg_lambda': 0.0003823499673549229, 'tree_method': 'auto', 'scale_pos_weight': 1.0086615175447304}. Best is trial 59 with value: 0.7940533496042581.\n",
      "[I 2025-03-01 19:30:45,012] Trial 69 finished with value: 0.793669963960372 and parameters: {'n_estimators': 1900, 'max_bin': 330, 'learning_rate': 0.012598750041606897, 'max_depth': 6, 'gamma': 0.2431181736299868, 'min_child_weight': 22, 'subsample': 0.7752810341765214, 'colsample_bytree': 0.5653523672695994, 'reg_alpha': 0.02572975823899738, 'reg_lambda': 0.0005667240214928504, 'tree_method': 'auto', 'scale_pos_weight': 1.012682835027969}. Best is trial 59 with value: 0.7940533496042581.\n",
      "[I 2025-03-01 20:17:10,123] Trial 70 finished with value: 0.7938472539743529 and parameters: {'n_estimators': 1900, 'max_bin': 320, 'learning_rate': 0.014076975101920668, 'max_depth': 6, 'gamma': 0.19647892491460328, 'min_child_weight': 23, 'subsample': 0.7954132639746292, 'colsample_bytree': 0.5380280607374804, 'reg_alpha': 0.014771745914871792, 'reg_lambda': 0.001363653776886949, 'tree_method': 'auto', 'scale_pos_weight': 1.1443784213414483}. Best is trial 59 with value: 0.7940533496042581.\n",
      "[I 2025-03-01 20:52:07,206] Trial 71 finished with value: 0.793601269855522 and parameters: {'n_estimators': 1900, 'max_bin': 320, 'learning_rate': 0.014238723474362957, 'max_depth': 6, 'gamma': 0.1732166575053748, 'min_child_weight': 23, 'subsample': 0.7947119900699405, 'colsample_bytree': 0.5365638798945295, 'reg_alpha': 0.014488096610390324, 'reg_lambda': 0.000254181680655357, 'tree_method': 'auto', 'scale_pos_weight': 1.1531066141213848}. Best is trial 59 with value: 0.7940533496042581.\n",
      "[I 2025-03-01 21:22:59,272] Trial 72 finished with value: 0.7939149840880185 and parameters: {'n_estimators': 1850, 'max_bin': 320, 'learning_rate': 0.014745047218570029, 'max_depth': 6, 'gamma': 0.26485942106293037, 'min_child_weight': 22, 'subsample': 0.7848069171492374, 'colsample_bytree': 0.5569780422647373, 'reg_alpha': 0.05336319748877572, 'reg_lambda': 0.0013889892235272585, 'tree_method': 'auto', 'scale_pos_weight': 1.0869553174012678}. Best is trial 59 with value: 0.7940533496042581.\n",
      "[I 2025-03-01 21:55:57,604] Trial 73 finished with value: 0.7937328477610981 and parameters: {'n_estimators': 1900, 'max_bin': 330, 'learning_rate': 0.013970380749197516, 'max_depth': 6, 'gamma': 0.052333443532248, 'min_child_weight': 23, 'subsample': 0.7856622689591769, 'colsample_bytree': 0.5613744357557777, 'reg_alpha': 0.00835163318743978, 'reg_lambda': 0.0010907952007037508, 'tree_method': 'auto', 'scale_pos_weight': 1.0938692854818353}. Best is trial 59 with value: 0.7940533496042581.\n",
      "[I 2025-03-01 22:26:55,536] Trial 74 finished with value: 0.7937596619114633 and parameters: {'n_estimators': 1850, 'max_bin': 320, 'learning_rate': 0.013500730301855056, 'max_depth': 6, 'gamma': 0.22186124562282236, 'min_child_weight': 22, 'subsample': 0.7753163409448534, 'colsample_bytree': 0.5717468622781875, 'reg_alpha': 0.02489560117699493, 'reg_lambda': 0.01308390194592768, 'tree_method': 'auto', 'scale_pos_weight': 1.0420096733558997}. Best is trial 59 with value: 0.7940533496042581.\n",
      "[I 2025-03-01 22:58:08,857] Trial 75 finished with value: 0.7937937601859673 and parameters: {'n_estimators': 1850, 'max_bin': 320, 'learning_rate': 0.013012333801025028, 'max_depth': 6, 'gamma': 0.3285016300358074, 'min_child_weight': 24, 'subsample': 0.7930171279906392, 'colsample_bytree': 0.5483119341774795, 'reg_alpha': 0.07723807942794059, 'reg_lambda': 0.00012452245826545207, 'tree_method': 'auto', 'scale_pos_weight': 1.0001715335246755}. Best is trial 59 with value: 0.7940533496042581.\n"
     ]
    }
   ],
   "source": [
    "#Estudio para maximizar\n",
    "study_completo = optuna.create_study(direction=\"maximize\")\n",
    "\n",
    "#Búsqueda\n",
    "study_completo.optimize(objective_completo, n_trials=100, show_progress_bar=True)\n",
    "\n",
    "print(\"Best trial:\", study_completo.best_trial.number)\n",
    "print(\"Best value (mean AUC):\", study_completo.best_value)\n",
    "print(\"Best hyperparams:\", study_completo.best_params)"
   ]
  },
  {
   "cell_type": "code",
   "execution_count": 1,
   "id": "172cd5fa-043d-48ad-b074-d878c6e16898",
   "metadata": {},
   "outputs": [],
   "source": [
    "import pickle\n",
    "#with open(\"XGBoost_Optuna_Study_v7_completo.pkl\", \"wb\") as f:\n",
    "#    pickle.dump(study_completo, f)\n",
    "with open(\"/home/yeray/TFG-Home-Credit-Default-Risk/JUPYTER_NOTEBOOKS/XGBoost_Optuna_Study_v7_completo.pkl\", \"rb\") as f:\n",
    "    loaded_study_completo = pickle.load(f)"
   ]
  },
  {
   "cell_type": "code",
   "execution_count": 2,
   "id": "f995ff76-0fb5-4c47-b583-608c50d836b8",
   "metadata": {},
   "outputs": [
    {
     "name": "stdout",
     "output_type": "stream",
     "text": [
      "+----+----------+----------+----------------------------+----------------------------+------------------------+---------------------------+----------------+------------------------+------------------+--------------------+---------------------------+-----------------------+--------------------+---------------------+---------------------------+--------------------+----------------------+----------+\n",
      "|    |   number |    value | datetime_start             | datetime_complete          | duration               |   params_colsample_bytree |   params_gamma |   params_learning_rate |   params_max_bin |   params_max_depth |   params_min_child_weight |   params_n_estimators |   params_reg_alpha |   params_reg_lambda |   params_scale_pos_weight |   params_subsample | params_tree_method   | state    |\n",
      "|----+----------+----------+----------------------------+----------------------------+------------------------+---------------------------+----------------+------------------------+------------------+--------------------+---------------------------+-----------------------+--------------------+---------------------+---------------------------+--------------------+----------------------+----------|\n",
      "| 88 |       88 | 0.794317 | 2025-03-02 07:37:37.702247 | 2025-03-02 08:23:05.401147 | 0 days 00:45:27.698900 |                  0.552899 |       0.382194 |              0.0175943 |              320 |                  6 |                        21 |                  1950 |          0.57723   |         0.00450461  |                   1.06067 |           0.765582 | auto                 | COMPLETE |\n",
      "| 95 |       95 | 0.794254 | 2025-03-02 12:40:17.686434 | 2025-03-02 13:25:56.763437 | 0 days 00:45:39.077003 |                  0.527756 |       0.319962 |              0.0178747 |              320 |                  6 |                        21 |                  1950 |          0.604508  |         0.00316292  |                   1.01482 |           0.758435 | auto                 | COMPLETE |\n",
      "| 82 |       82 | 0.794082 | 2025-03-02 03:16:24.418195 | 2025-03-02 04:00:32.471980 | 0 days 00:44:08.053785 |                  0.549977 |       0.170556 |              0.0159087 |              320 |                  6 |                        22 |                  1900 |          0.0164865 |         0.00082133  |                   1.15621 |           0.796903 | auto                 | COMPLETE |\n",
      "| 59 |       59 | 0.794053 | 2025-03-01 10:52:27.111006 | 2025-03-01 11:52:35.247768 | 0 days 01:00:08.136762 |                  0.544191 |       0.603093 |              0.015511  |              320 |                  6 |                        21 |                  1900 |          0.0204846 |         0.000418386 |                   1.13047 |           0.848262 | hist                 | COMPLETE |\n",
      "| 89 |       89 | 0.794043 | 2025-03-02 08:23:05.403658 | 2025-03-02 09:07:14.481232 | 0 days 00:44:09.077574 |                  0.553121 |       0.466221 |              0.0176613 |              320 |                  6 |                        21 |                  1950 |          0.758446  |         5.83366e-05 |                   1.05204 |           0.768711 | auto                 | COMPLETE |\n",
      "| 91 |       91 | 0.794033 | 2025-03-02 09:48:26.254537 | 2025-03-02 10:33:12.512411 | 0 days 00:44:46.257874 |                  0.550378 |       0.257173 |              0.0164975 |              320 |                  6 |                        21 |                  1950 |          0.455439  |         0.00378393  |                   1.07581 |           0.753323 | auto                 | COMPLETE |\n",
      "| 65 |       65 | 0.794029 | 2025-03-01 15:38:01.230189 | 2025-03-01 16:23:18.087965 | 0 days 00:45:16.857776 |                  0.542868 |       0.184836 |              0.0146711 |              320 |                  6 |                        22 |                  1900 |          0.0532497 |         0.000449494 |                   1.11445 |           0.783096 | auto                 | COMPLETE |\n",
      "| 62 |       62 | 0.79402  | 2025-03-01 13:25:13.564778 | 2025-03-01 14:10:05.713801 | 0 days 00:44:52.149023 |                  0.54201  |       0.389764 |              0.0155432 |              320 |                  6 |                        22 |                  1850 |          0.20406   |         0.0012264   |                   1.12483 |           0.790247 | auto                 | COMPLETE |\n",
      "| 92 |       92 | 0.793999 | 2025-03-02 10:33:12.514682 | 2025-03-02 11:12:17.359132 | 0 days 00:39:04.844450 |                  0.562837 |       0.3225   |              0.0173266 |              320 |                  6 |                        21 |                  1950 |          0.312249  |         0.00456303  |                   1.02277 |           0.751859 | auto                 | COMPLETE |\n",
      "| 68 |       68 | 0.793975 | 2025-03-01 17:55:10.530395 | 2025-03-01 18:42:14.561823 | 0 days 00:47:04.031428 |                  0.567207 |       0.196068 |              0.0138118 |              320 |                  6 |                        22 |                  1900 |          0.0195281 |         0.00038235  |                   1.00866 |           0.776915 | auto                 | COMPLETE |\n",
      "+----+----------+----------+----------------------------+----------------------------+------------------------+---------------------------+----------------+------------------------+------------------+--------------------+---------------------------+-----------------------+--------------------+---------------------+---------------------------+--------------------+----------------------+----------+\n"
     ]
    }
   ],
   "source": [
    "from tabulate import tabulate\n",
    "\n",
    "trials_df = loaded_study_completo.trials_dataframe()\n",
    "\n",
    "df_sorted = trials_df.sort_values(by=\"value\", ascending=False)\n",
    "best_10 = df_sorted.head(10)\n",
    "\n",
    "print(tabulate(best_10, headers=\"keys\", tablefmt=\"psql\"))"
   ]
  },
  {
   "cell_type": "code",
   "execution_count": 8,
   "id": "dbcfcbc0-25ae-47d7-a33b-8890d058e0cb",
   "metadata": {},
   "outputs": [
    {
     "data": {
      "text/html": [
       "<style>#sk-container-id-1 {color: black;}#sk-container-id-1 pre{padding: 0;}#sk-container-id-1 div.sk-toggleable {background-color: white;}#sk-container-id-1 label.sk-toggleable__label {cursor: pointer;display: block;width: 100%;margin-bottom: 0;padding: 0.3em;box-sizing: border-box;text-align: center;}#sk-container-id-1 label.sk-toggleable__label-arrow:before {content: \"▸\";float: left;margin-right: 0.25em;color: #696969;}#sk-container-id-1 label.sk-toggleable__label-arrow:hover:before {color: black;}#sk-container-id-1 div.sk-estimator:hover label.sk-toggleable__label-arrow:before {color: black;}#sk-container-id-1 div.sk-toggleable__content {max-height: 0;max-width: 0;overflow: hidden;text-align: left;background-color: #f0f8ff;}#sk-container-id-1 div.sk-toggleable__content pre {margin: 0.2em;color: black;border-radius: 0.25em;background-color: #f0f8ff;}#sk-container-id-1 input.sk-toggleable__control:checked~div.sk-toggleable__content {max-height: 200px;max-width: 100%;overflow: auto;}#sk-container-id-1 input.sk-toggleable__control:checked~label.sk-toggleable__label-arrow:before {content: \"▾\";}#sk-container-id-1 div.sk-estimator input.sk-toggleable__control:checked~label.sk-toggleable__label {background-color: #d4ebff;}#sk-container-id-1 div.sk-label input.sk-toggleable__control:checked~label.sk-toggleable__label {background-color: #d4ebff;}#sk-container-id-1 input.sk-hidden--visually {border: 0;clip: rect(1px 1px 1px 1px);clip: rect(1px, 1px, 1px, 1px);height: 1px;margin: -1px;overflow: hidden;padding: 0;position: absolute;width: 1px;}#sk-container-id-1 div.sk-estimator {font-family: monospace;background-color: #f0f8ff;border: 1px dotted black;border-radius: 0.25em;box-sizing: border-box;margin-bottom: 0.5em;}#sk-container-id-1 div.sk-estimator:hover {background-color: #d4ebff;}#sk-container-id-1 div.sk-parallel-item::after {content: \"\";width: 100%;border-bottom: 1px solid gray;flex-grow: 1;}#sk-container-id-1 div.sk-label:hover label.sk-toggleable__label {background-color: #d4ebff;}#sk-container-id-1 div.sk-serial::before {content: \"\";position: absolute;border-left: 1px solid gray;box-sizing: border-box;top: 0;bottom: 0;left: 50%;z-index: 0;}#sk-container-id-1 div.sk-serial {display: flex;flex-direction: column;align-items: center;background-color: white;padding-right: 0.2em;padding-left: 0.2em;position: relative;}#sk-container-id-1 div.sk-item {position: relative;z-index: 1;}#sk-container-id-1 div.sk-parallel {display: flex;align-items: stretch;justify-content: center;background-color: white;position: relative;}#sk-container-id-1 div.sk-item::before, #sk-container-id-1 div.sk-parallel-item::before {content: \"\";position: absolute;border-left: 1px solid gray;box-sizing: border-box;top: 0;bottom: 0;left: 50%;z-index: -1;}#sk-container-id-1 div.sk-parallel-item {display: flex;flex-direction: column;z-index: 1;position: relative;background-color: white;}#sk-container-id-1 div.sk-parallel-item:first-child::after {align-self: flex-end;width: 50%;}#sk-container-id-1 div.sk-parallel-item:last-child::after {align-self: flex-start;width: 50%;}#sk-container-id-1 div.sk-parallel-item:only-child::after {width: 0;}#sk-container-id-1 div.sk-dashed-wrapped {border: 1px dashed gray;margin: 0 0.4em 0.5em 0.4em;box-sizing: border-box;padding-bottom: 0.4em;background-color: white;}#sk-container-id-1 div.sk-label label {font-family: monospace;font-weight: bold;display: inline-block;line-height: 1.2em;}#sk-container-id-1 div.sk-label-container {text-align: center;}#sk-container-id-1 div.sk-container {/* jupyter's `normalize.less` sets `[hidden] { display: none; }` but bootstrap.min.css set `[hidden] { display: none !important; }` so we also need the `!important` here to be able to override the default hidden behavior on the sphinx rendered scikit-learn.org. See: https://github.com/scikit-learn/scikit-learn/issues/21755 */display: inline-block !important;position: relative;}#sk-container-id-1 div.sk-text-repr-fallback {display: none;}</style><div id=\"sk-container-id-1\" class=\"sk-top-container\"><div class=\"sk-text-repr-fallback\"><pre>XGBClassifier(base_score=None, booster=None, callbacks=None,\n",
       "              colsample_bylevel=None, colsample_bynode=None,\n",
       "              colsample_bytree=0.5528994474731997, device=None,\n",
       "              early_stopping_rounds=None, enable_categorical=False,\n",
       "              eval_metric=&#x27;auc&#x27;, feature_types=None, gamma=0.38219436948682095,\n",
       "              grow_policy=None, importance_type=None,\n",
       "              interaction_constraints=None, learning_rate=0.01759434510135678,\n",
       "              max_bin=320, max_cat_threshold=None, max_cat_to_onehot=None,\n",
       "              max_delta_step=None, max_depth=6, max_leaves=None,\n",
       "              min_child_weight=21, missing=nan, monotone_constraints=None,\n",
       "              multi_strategy=None, n_estimators=1950, n_jobs=None,\n",
       "              num_parallel_tree=None, random_state=42, ...)</pre><b>In a Jupyter environment, please rerun this cell to show the HTML representation or trust the notebook. <br />On GitHub, the HTML representation is unable to render, please try loading this page with nbviewer.org.</b></div><div class=\"sk-container\" hidden><div class=\"sk-item\"><div class=\"sk-estimator sk-toggleable\"><input class=\"sk-toggleable__control sk-hidden--visually\" id=\"sk-estimator-id-1\" type=\"checkbox\" checked><label for=\"sk-estimator-id-1\" class=\"sk-toggleable__label sk-toggleable__label-arrow\">XGBClassifier</label><div class=\"sk-toggleable__content\"><pre>XGBClassifier(base_score=None, booster=None, callbacks=None,\n",
       "              colsample_bylevel=None, colsample_bynode=None,\n",
       "              colsample_bytree=0.5528994474731997, device=None,\n",
       "              early_stopping_rounds=None, enable_categorical=False,\n",
       "              eval_metric=&#x27;auc&#x27;, feature_types=None, gamma=0.38219436948682095,\n",
       "              grow_policy=None, importance_type=None,\n",
       "              interaction_constraints=None, learning_rate=0.01759434510135678,\n",
       "              max_bin=320, max_cat_threshold=None, max_cat_to_onehot=None,\n",
       "              max_delta_step=None, max_depth=6, max_leaves=None,\n",
       "              min_child_weight=21, missing=nan, monotone_constraints=None,\n",
       "              multi_strategy=None, n_estimators=1950, n_jobs=None,\n",
       "              num_parallel_tree=None, random_state=42, ...)</pre></div></div></div></div></div>"
      ],
      "text/plain": [
       "XGBClassifier(base_score=None, booster=None, callbacks=None,\n",
       "              colsample_bylevel=None, colsample_bynode=None,\n",
       "              colsample_bytree=0.5528994474731997, device=None,\n",
       "              early_stopping_rounds=None, enable_categorical=False,\n",
       "              eval_metric='auc', feature_types=None, gamma=0.38219436948682095,\n",
       "              grow_policy=None, importance_type=None,\n",
       "              interaction_constraints=None, learning_rate=0.01759434510135678,\n",
       "              max_bin=320, max_cat_threshold=None, max_cat_to_onehot=None,\n",
       "              max_delta_step=None, max_depth=6, max_leaves=None,\n",
       "              min_child_weight=21, missing=nan, monotone_constraints=None,\n",
       "              multi_strategy=None, n_estimators=1950, n_jobs=None,\n",
       "              num_parallel_tree=None, random_state=42, ...)"
      ]
     },
     "execution_count": 8,
     "metadata": {},
     "output_type": "execute_result"
    }
   ],
   "source": [
    "best_row = best_10.iloc[0]\n",
    "\n",
    "best_params = best_row.filter(like=\"params_\").to_dict()\n",
    "\n",
    "best_params_clean = {\n",
    "    k.replace(\"params_\", \"\"): v \n",
    "    for k, v in best_params.items()\n",
    "}\n",
    "\n",
    "final_params = {\n",
    "    **best_params_clean,\n",
    "    \"objective\": \"binary:logistic\",\n",
    "    \"eval_metric\": \"auc\",\n",
    "    \"use_label_encoder\": False,\n",
    "    \"random_state\": 42\n",
    "}\n",
    "\n",
    "XGB_model = XGBClassifier(**final_params)\n",
    "\n",
    "XGB_model.fit(X_train, y_train)"
   ]
  },
  {
   "cell_type": "code",
   "execution_count": 9,
   "id": "4062c824-b41b-4306-9b1b-684b30d74689",
   "metadata": {},
   "outputs": [
    {
     "name": "stdout",
     "output_type": "stream",
     "text": [
      "AUC en test: 0.7966\n"
     ]
    }
   ],
   "source": [
    "from sklearn.metrics import roc_auc_score\n",
    "\n",
    "y_pred_proba = XGB_model.predict_proba(X_test)[:, 1]\n",
    "auc_test = roc_auc_score(y_test, y_pred_proba)\n",
    "print(f\"AUC en test: {auc_test:.4f}\")\n"
   ]
  },
  {
   "cell_type": "code",
   "execution_count": null,
   "id": "63bde924-4e5f-41a3-9aad-58fa0a9716c5",
   "metadata": {},
   "outputs": [],
   "source": [
    "Primera prueba:\n",
    "|    |   number |    value | datetime_start             | datetime_complete          | duration               |   params_colsample_bytree |   params_gamma |   params_learning_rate |   params_max_depth |   params_min_child_weight |   params_n_estimators |   params_reg_alpha |   params_reg_lambda |   params_scale_pos_weight |   params_subsample | state    |\r\n",
    "|----+----------+----------+----------------------------+----------------------------+------------------------+---------------------------+----------------+------------------------+--------------------+---------------------------+-----------------------+--------------------+---------------------+---------------------------+--------------------+----------|\r\n",
    "| 35 |       35 | 0.766467 | 2025-02-23 19:05:51.648664 | 2025-02-23 19:23:42.992309 | 0 days 00:17:51.343645 |                  0.609149 |        2.79174 |             0.016566   |                  7 |                        14 |                   950 |        2.98383e-07 |         0.000771683 |                   1.7469  |           0.753771 | COMPLETE \n",
    "Tras una segunda prueba añadiendo más HP y acotando algunos rangos obtenemos:\n",
    "\n",
    "|    |   number |    value | datetime_start             | datetime_complete          | duration               |   params_colsample_bytree |   params_gamma |   params_learning_rate |   params_max_bin |   params_max_depth |   params_min_child_weight |   params_n_estimators |   params_n_jobs |   params_reg_alpha |   params_reg_lambda |   params_scale_pos_weight |   params_subsample | params_tree_method   | state    |\n",
    "|----+----------+----------+----------------------------+----------------------------+------------------------+---------------------------+----------------+------------------------+------------------+--------------------+---------------------------+-----------------------+-----------------+--------------------+---------------------+---------------------------+--------------------+----------------------+----------|\n",
    "| 42 |       42 | 0.767633 | 2025-02-24 17:35:27.403636 | 2025-02-24 17:49:11.175013 | 0 days 00:13:43.771377 |                  0.58057  |       0.476025 |              0.0170753 |              300 |                  5 |                        23 |                  1800 |               2 |        2.30559e-07 |         2.39006e-05 |                   1.25498 |           0.788019 | hist                 | COMPLETE |\n",
    "\n",
    "Y si realizamos una prueba en el test con estos valores obtenemos:\n",
    "-AUC en test: 0.7717\n",
    "\n",
    "\n",
    "-He detenido las pruebas porque me estaba yendo demasiado lento:\n",
    "[I 2025-02-26 12:07:34,193] Trial 2 finished with value: 0.7938360589390858 and parameters: {'n_estimators': 1700, 'max_bin': 320, 'learning_rate': 0.016029922136908095, 'max_depth': 6, 'gamma': 0.8414416893725896, 'min_child_weight': 21, 'subsample': 0.8023911163856219, 'colsample_bytree': 0.5298608589445156, 'reg_alpha': 1.8193616624679977e-06, 'reg_lambda': 1.0784883537935654e-06, 'tree_method': 'auto', 'scale_pos_weight': 1.1284697519313376}. Best is trial 2 with value: 0.7938360589390858.\n",
    "\n",
    "Tras realizar una búsqueda sobre los mejores HP de XGBoost hemos obtenido:\n",
    "|    |   number |    value | datetime_start             | datetime_complete          | duration               |   params_colsample_bytree |   params_gamma |   params_learning_rate |   params_max_bin |   params_max_depth |   params_min_child_weight |   params_n_estimators |   params_reg_alpha |   params_reg_lambda |   params_scale_pos_weight |   params_subsample | params_tree_method   | state    |\n",
    "|----+----------+----------+----------------------------+----------------------------+------------------------+---------------------------+----------------+------------------------+------------------+--------------------+---------------------------+-----------------------+--------------------+---------------------+---------------------------+--------------------+----------------------+----------|\n",
    "| 88 |       88 | 0.794317 | 2025-03-02 07:37:37.702247 | 2025-03-02 08:23:05.401147 | 0 days 00:45:27.698900 |                  0.552899 |       0.382194 |              0.0175943 |              320 |                  6 |                        21 |                  1950 |          0.57723   |         0.00450461  |                   1.06067 |           0.765582 | auto                 | COMPLETE |\n",
    "\n",
    "Y sobre AUC hemos obtenido: |\r\n"
   ]
  },
  {
   "cell_type": "code",
   "execution_count": null,
   "id": "a2127ece-2f5f-42c9-9987-d54ae736b191",
   "metadata": {},
   "outputs": [],
   "source": []
  }
 ],
 "metadata": {
  "kernelspec": {
   "display_name": "tfg-py3.12",
   "language": "python",
   "name": "tfg-py3.12"
  },
  "language_info": {
   "codemirror_mode": {
    "name": "ipython",
    "version": 3
   },
   "file_extension": ".py",
   "mimetype": "text/x-python",
   "name": "python",
   "nbconvert_exporter": "python",
   "pygments_lexer": "ipython3",
   "version": "3.12.8"
  }
 },
 "nbformat": 4,
 "nbformat_minor": 5
}
