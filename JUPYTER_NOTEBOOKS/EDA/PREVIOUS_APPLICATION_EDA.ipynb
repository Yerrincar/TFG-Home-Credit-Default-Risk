{
 "cells": [
  {
   "cell_type": "code",
   "execution_count": 107,
   "metadata": {},
   "outputs": [],
   "source": [
    "import pandas as pd\n",
    "import numpy as np\n",
    "import sklearn as sk\n",
    "import gc\n",
    "from tqdm import tqdm_notebook as tqdm\n",
    "\n",
    "import warnings\n",
    "warnings.filterwarnings('ignore')\n",
    "\n",
    "\n",
    "#Have all columns appear when dataframes are displayed.\n",
    "pd.set_option('display.max_columns', None) \n",
    "# Have 100 rows appear when a dataframe is displayed\n",
    "pd.set_option('display.max_rows', 500)\n",
    "# Display dimensions whenever a dataframe is printed out.\n",
    "pd.set_option('display.show_dimensions', True)\n",
    "\n",
    "previous_application = pd.read_csv(r'/home/yeray/home-credit-default-risk/previous_application.csv')"
   ]
  },
  {
   "cell_type": "code",
   "execution_count": 108,
   "metadata": {},
   "outputs": [
    {
     "name": "stdout",
     "output_type": "stream",
     "text": [
      "int64\n"
     ]
    }
   ],
   "source": [
    "print(previous_application['SK_ID_CURR'].dtype)"
   ]
  },
  {
   "cell_type": "code",
   "execution_count": 109,
   "metadata": {},
   "outputs": [],
   "source": [
    "#Primero, quitamos valores sin sentido\n",
    "previous_application['DAYS_FIRST_DRAWING'].replace(365243, np.nan, inplace= True)\n",
    "previous_application['DAYS_FIRST_DUE'].replace(365243, np.nan, inplace= True)\n",
    "previous_application['DAYS_LAST_DUE_1ST_VERSION'].replace(365243, np.nan, inplace= True)\n",
    "previous_application['DAYS_LAST_DUE'].replace(365243, np.nan, inplace= True)\n",
    "previous_application['DAYS_TERMINATION'].replace(365243, np.nan, inplace= True)"
   ]
  },
  {
   "cell_type": "code",
   "execution_count": 110,
   "metadata": {},
   "outputs": [],
   "source": [
    "#Feature engineering\n",
    "#RATIOS\n",
    "previous_application['APP_CREDIT_RATIO'] = previous_application['AMT_APPLICATION'] / previous_application['AMT_CREDIT']\n",
    "previous_application['APP_ANNUITY_RATIO'] = previous_application['AMT_APPLICATION'] / previous_application['AMT_ANNUITY']\n",
    "previous_application['CREDIT_ANNUITY_RATIO'] = previous_application['AMT_CREDIT'] / previous_application['AMT_ANNUITY']\n",
    "previous_application['DOWN_CREDIT_RATIO'] = previous_application['AMT_CREDIT'] / previous_application['AMT_DOWN_PAYMENT']\n",
    "previous_application['DOWN_ANNUITY_RATIO'] = previous_application['AMT_ANNUITY'] / previous_application['AMT_DOWN_PAYMENT']\n",
    "\n",
    "#DIFFERENCES\n",
    "previous_application['DIFF_CREDIT_GOODS'] = previous_application['AMT_CREDIT'] - previous_application['AMT_GOODS_PRICE']\n",
    "previous_application['DIFF_CREDIT_APP'] = previous_application['AMT_CREDIT'] - previous_application['AMT_APPLICATION']\n",
    "previous_application['DIFF_APP_GOODS'] = previous_application['AMT_APPLICATION'] - previous_application['AMT_GOODS_PRICE']\n",
    "previous_application['DIFF_DOWN_APP'] = previous_application['AMT_DOWN_PAYMENT'] - previous_application['AMT_APPLICATION']\n",
    "previous_application['DIFF_DOWN_GOODS'] = previous_application['AMT_DOWN_PAYMENT'] - previous_application['AMT_GOODS_PRICE']\n",
    "previous_application['DIFF_ANNUITY_GOODS'] = previous_application['AMT_ANNUITY'] - previous_application['AMT_GOODS_PRICE']\n",
    "previous_application['DIFF_RATE_INTEREST'] = previous_application['RATE_INTEREST_PRIVILEGED'] - previous_application['RATE_INTEREST_PRIMARY']\n",
    "\n",
    "#DIFFS Y RATIOS RELACIONADAS CON LOS DIAS\n",
    "previous_application['DIFF_LAST_FIRST_DUE'] = previous_application['DAYS_LAST_DUE'] / previous_application['DAYS_FIRST_DUE']\n",
    "previous_application['DIFF_LAST_DUE_1ST_VERSION'] = previous_application['DAYS_LAST_DUE'] / previous_application['DAYS_LAST_DUE_1ST_VERSION']\n",
    "previous_application['DIFF_LAST_FIRST_DUE'] = previous_application['DAYS_LAST_DUE'] - previous_application['DAYS_FIRST_DUE']\n",
    "previous_application['DIFF_LAST_TERMINATION'] = previous_application['DAYS_LAST_DUE'] - previous_application['DAYS_TERMINATION']\n",
    "previous_application['DIFF_LAST_FIRST_DRAWING'] = previous_application['DAYS_LAST_DUE'] - previous_application['DAYS_FIRST_DRAWING']\n",
    "previous_application['DIFF_FIRST_TERMINATION'] = previous_application['DAYS_FIRST_DUE'] - previous_application['DAYS_TERMINATION']\n",
    "previous_application['DIFF_FIRST_DRAWING_TERMINATION'] = previous_application['DAYS_FIRST_DRAWING'] - previous_application['DAYS_TERMINATION']\n",
    "previous_application['DIFF_TERMINATION_TO_DECISION'] = previous_application['DAYS_TERMINATION'] - previous_application['DAYS_DECISION']\n",
    "\n",
    "#INTEREST\n",
    "previous_application['INTEREST'] = previous_application['CNT_PAYMENT'] * previous_application['AMT_ANNUITY'] - previous_application['AMT_CREDIT']\n",
    "previous_application['INTEREST_RATE'] = 2*12*previous_application['INTEREST']/(previous_application['AMT_CREDIT']*(previous_application['CNT_PAYMENT']+1))\n",
    "previous_application['INTEREST_SHARE'] = previous_application['INTEREST'] / (previous_application['AMT_CREDIT'])\n",
    "\n",
    "previous_application.replace([np.inf, -np.inf], np.nan, inplace=True)\n"
   ]
  },
  {
   "cell_type": "code",
   "execution_count": 111,
   "metadata": {},
   "outputs": [],
   "source": [
    "previous_application_agg = previous_application.copy()\n",
    "\n",
    "#Agregaciones    \n",
    "num_aggregations = {\n",
    "    #Primero de las variables base\n",
    "    'AMT_ANNUITY': ['min', 'max', 'mean'],\n",
    "    'AMT_APPLICATION': ['min', 'max', 'mean'],\n",
    "    'AMT_CREDIT': ['min', 'max', 'mean'],\n",
    "    'AMT_DOWN_PAYMENT': ['min', 'max', 'mean'],\n",
    "    'AMT_GOODS_PRICE': ['min', 'max', 'mean'],\n",
    "    'RATE_DOWN_PAYMENT': ['min', 'max', 'mean'],\n",
    "    'RATE_INTEREST_PRIMARY': ['min', 'max', 'mean'],\n",
    "    'RATE_INTEREST_PRIVILEGED': ['min', 'max', 'mean'],\n",
    "    'DAYS_DECISION': ['min', 'max', 'mean'],\n",
    "    'DAYS_FIRST_DRAWING': ['min', 'max', 'mean'],\n",
    "    'DAYS_FIRST_DUE': ['min', 'max', 'mean'],\n",
    "    'DAYS_LAST_DUE_1ST_VERSION': ['min', 'max', 'mean'],\n",
    "    'DAYS_LAST_DUE': ['min', 'max', 'mean'],\n",
    "    'DAYS_TERMINATION': ['min', 'max', 'mean'],\n",
    "    'CNT_PAYMENT': ['min', 'max', 'mean'],\n",
    "    #Agregamos las variables nuevas\n",
    "    'APP_CREDIT_RATIO': ['min', 'max', 'mean'],\n",
    "    'APP_ANNUITY_RATIO': ['min', 'max', 'mean'],\n",
    "    'CREDIT_ANNUITY_RATIO': ['min', 'max', 'mean'],\n",
    "    'DOWN_CREDIT_RATIO': ['min', 'max', 'mean'],\n",
    "    'DOWN_ANNUITY_RATIO': ['min', 'max', 'mean'],\n",
    "    'DIFF_CREDIT_GOODS': ['min', 'max', 'mean'],\n",
    "    'DIFF_CREDIT_APP': ['min', 'max', 'mean'],\n",
    "    'DIFF_APP_GOODS': ['min', 'max', 'mean'],\n",
    "    'DIFF_DOWN_APP': ['min', 'max', 'mean'],\n",
    "    'DIFF_DOWN_GOODS': ['min', 'max', 'mean'],\n",
    "    'INTEREST': ['min', 'max', 'mean'],\n",
    "    'INTEREST_RATE': ['min', 'max', 'mean'],\n",
    "    'INTEREST_SHARE': ['min', 'max', 'mean'],\n",
    "    'DIFF_RATE_INTEREST': ['min', 'max', 'mean'],\n",
    "    'DIFF_LAST_FIRST_DUE': ['min', 'max', 'mean'],\n",
    "    'DIFF_LAST_DUE_1ST_VERSION': ['min', 'max', 'mean'],\n",
    "    'DIFF_LAST_FIRST_DUE': ['min', 'max', 'mean'],\n",
    "    'DIFF_LAST_TERMINATION': ['min', 'max', 'mean'],\n",
    "    'DIFF_LAST_FIRST_DRAWING': ['min', 'max', 'mean'],\n",
    "    'DIFF_FIRST_TERMINATION': ['min', 'max', 'mean'],\n",
    "    'DIFF_FIRST_DRAWING_TERMINATION': ['min', 'max', 'mean'],\n",
    "    'DIFF_TERMINATION_TO_DECISION': ['min', 'max', 'mean']             \n",
    "}\n",
    "\n",
    "categorical_features = ['NAME_CONTRACT_TYPE', 'WEEKDAY_APPR_PROCESS_START',\n",
    "       'FLAG_LAST_APPL_PER_CONTRACT', 'NAME_CASH_LOAN_PURPOSE',\n",
    "       'NAME_CONTRACT_STATUS', 'NAME_PAYMENT_TYPE', 'CODE_REJECT_REASON',\n",
    "       'NAME_TYPE_SUITE', 'NAME_CLIENT_TYPE', 'NAME_GOODS_CATEGORY',\n",
    "       'NAME_PORTFOLIO', 'NAME_PRODUCT_TYPE', 'CHANNEL_TYPE',\n",
    "       'NAME_SELLER_INDUSTRY', 'NAME_YIELD_GROUP', 'PRODUCT_COMBINATION']"
   ]
  },
  {
   "cell_type": "code",
   "execution_count": 112,
   "metadata": {},
   "outputs": [],
   "source": [
    "import gc\n",
    "# Convertimos variables categóricas a códigos numéricos\n",
    "previous_application_agg[categorical_features] = previous_application_agg[categorical_features].apply(lambda x: x.astype('category'))\n",
    "cat_aggreagation = {}\n",
    "for cat in categorical_features:\n",
    "    previous_application_agg[cat] = previous_application_agg.loc[:, cat].cat.codes\n",
    "    cat_aggreagation[cat] = ['mean']\n",
    "\n",
    "# Agregamos variables numéricas y categóricas por SK_ID_CURR\n",
    "previous_application_agg_df = previous_application_agg.groupby('SK_ID_CURR').agg({**numerical_agg, **cat_aggreagation})\n",
    "previous_application_agg_df.columns = pd.Index(['PREV_' + e[0] + \"_\" + e[1].upper() for e in previous_application_agg_df.columns.tolist()])\n",
    "\n",
    "previous_application_agg_df.reset_index(inplace=True)\n",
    "# Eliminamos previous_application_agg SOLO defspués de asegurarnos de que no lo necesitamos más\n",
    "#del previous_application_agg\n",
    "#gc.collect()\n",
    "\n",
    "# ---- Agregaciones separadas para solicitudes aprobadas y rechazadas ----\n",
    "previous_application_approved = previous_application[previous_application['NAME_CONTRACT_STATUS'] == 'Approved'].groupby('SK_ID_CURR').agg(numerical_agg)\n",
    "cols = previous_application_approved.columns.tolist()\n",
    "previous_application_approved.columns = pd.Index(['APPROVED_' + e[0] + \"_\" + e[1].upper() for e in cols])\n",
    "\n",
    "# Unimos con previous_application_agg_df\n",
    "previous_application_agg_df = previous_application_agg_df.join(previous_application_approved, how='left', on='SK_ID_CURR')\n",
    "\n",
    "# Eliminamos previous_application_approved después de su uso\n",
    "del previous_application_approved\n",
    "gc.collect()\n",
    "\n",
    "# Agregamos los datos de solicitudes rechazadas\n",
    "previous_application_refused = previous_application[previous_application['NAME_CONTRACT_STATUS'] == 'Refused'].groupby('SK_ID_CURR').agg(numerical_agg).reset_index()\n",
    "previous_application_refused.columns = pd.Index(['REFUSED_' + e[0] + \"_\" + e[1].upper() for e in previous_application_refused.columns.tolist()])\n",
    "\n",
    "\n",
    "# Unimos con previous_application_agg_df\n",
    "previous_application_agg_df = previous_application_agg_df.join(previous_application_refused, how='left', on='SK_ID_CURR')\n",
    "# Eliminamos previous_application_refused después de su uso\n",
    "del previous_application_refused\n",
    "gc.collect()\n",
    "\n",
    "# ---- Cálculo de Ratios entre solicitudes aprobadas y rechazadas ----\n",
    "for e in cols:\n",
    "    approved_col = 'APPROVED_' + e[0] + \"_\" + e[1].upper()\n",
    "    refused_col = 'REFUSED_' + e[0] + \"_\" + e[1].upper()\n",
    "    ratio_col = 'RATIO_APPROVED_TO_REFUSED_' + e[0] + \"_\" + e[1].upper()\n",
    "\n",
    "    # Manejar posibles divisiones por cero\n",
    "    previous_application_agg_df[ratio_col] = previous_application_agg_df[approved_col] / (previous_application_agg_df[refused_col] + 1e-6)\n",
    "\n",
    "#Aquellas columnas con REFUSED_ con todo nulos debido a que no pueden tener datos si la aplicación ha sido rechazada, las eliminamos\n",
    "all_nan_cols = [i for i in previous_application_agg_df if previous_application_agg_df[i].isnull().all()]\n",
    "previous_application_agg_df.drop(columns=all_nan_cols, inplace=True)\n"
   ]
  },
  {
   "cell_type": "code",
   "execution_count": null,
   "metadata": {},
   "outputs": [],
   "source": [
    "print(previous_application_agg_df.dtypes)"
   ]
  },
  {
   "cell_type": "code",
   "execution_count": 114,
   "metadata": {},
   "outputs": [
    {
     "name": "stdout",
     "output_type": "stream",
     "text": [
      "Columnas con nulos tras la imputación: []\n",
      "Series([], Length: 0, dtype: object)\n"
     ]
    }
   ],
   "source": [
    "null_cols = previous_application_agg_df_nonulos.columns[previous_application_agg_df_nonulos.isnull().any()]\n",
    "print(\"Columnas con nulos tras la imputación:\", null_cols.tolist())\n",
    "# Cuántos nulos en cada una\n",
    "#print(previous_application_agg_df_nonulos[null_cols].isnull().sum())\n",
    "print(previous_application_agg_df_nonulos[null_cols].dtypes)"
   ]
  },
  {
   "cell_type": "code",
   "execution_count": 115,
   "metadata": {},
   "outputs": [],
   "source": [
    "\n",
    "previous_application_agg_df.to_csv(r'/home/yeray/TFG-Home-Credit-Default-Risk/JUPYTER_NOTEBOOKS/DATA/prev_app.csv')"
   ]
  },
  {
   "cell_type": "code",
   "execution_count": null,
   "metadata": {},
   "outputs": [],
   "source": [
    "print(previous_application_agg_df.dtypes)"
   ]
  },
  {
   "cell_type": "code",
   "execution_count": null,
   "metadata": {},
   "outputs": [],
   "source": []
  }
 ],
 "metadata": {
  "kernelspec": {
   "display_name": "tfg-py3.12",
   "language": "python",
   "name": "tfg-py3.12"
  },
  "language_info": {
   "codemirror_mode": {
    "name": "ipython",
    "version": 3
   },
   "file_extension": ".py",
   "mimetype": "text/x-python",
   "name": "python",
   "nbconvert_exporter": "python",
   "pygments_lexer": "ipython3",
   "version": "3.12.8"
  }
 },
 "nbformat": 4,
 "nbformat_minor": 4
}
