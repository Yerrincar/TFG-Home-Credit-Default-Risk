{
 "cells": [
  {
   "cell_type": "code",
   "execution_count": 13,
   "metadata": {},
   "outputs": [
    {
     "name": "stdout",
     "output_type": "stream",
     "text": [
      "Directorio actual: c:\\Users\\Yeray\\Desktop\\DATA_SCIENCE_ML\\Home-Credit-TFG\\JUPYTER_NOTEBOOKS\n"
     ]
    }
   ],
   "source": [
    "import pandas as pd\n",
    "import numpy as np\n",
    "import matplotlib.pyplot as plt\n",
    "import seaborn as sns\n",
    "import gc\n",
    "import warnings\n",
    "import os\n",
    "warnings.filterwarnings('ignore')\n",
    "print(\"Directorio actual:\", os.getcwd())\n",
    "# Have all columns appear when dataframes are displayed.\n",
    "pd.set_option('display.max_columns', None) \n",
    "# Have 100 rows appear when a dataframe is displayed\n",
    "pd.set_option('display.max_rows', 500)\n",
    "# Display dimensions whenever a dataframe is printed out.\n",
    "pd.set_option('display.show_dimensions', True)\n",
    "\n",
    "credit_card_balance = pd.read_csv(r'C:/Users/Yeray/Desktop/DATA_SCIENCE_ML/Home-Credit-TFG/DATA/home-credit-default-risk/credit_card_balance.csv')\n"
   ]
  },
  {
   "cell_type": "code",
   "execution_count": 14,
   "metadata": {},
   "outputs": [],
   "source": [
    "#Feature Engineering\n",
    "\n",
    "#Ratios relacionados con crédtios y deudas\n",
    "credit_card_balance['AMT_BALANCE_LIMIT_RATIO'] = credit_card_balance['AMT_BALANCE'] / credit_card_balance['AMT_CREDIT_LIMIT_ACTUAL']\n",
    "credit_card_balance['AMT_BALANCE_AMT_TOTAL_RECEIVABLE_RATIO'] = credit_card_balance['AMT_BALANCE'] / credit_card_balance['AMT_TOTAL_RECEIVABLE']\n",
    "credit_card_balance['AMT_BALANCE_AMT_RECEIVABLE_PRINCIPAL_RATIO'] = credit_card_balance['AMT_BALANCE'] / credit_card_balance['AMT_RECEIVABLE_PRINCIPAL']\n",
    "credit_card_balance['PAYMENT_TOTAL_CURRENT_TOTAL_RECEIVABLE_RATIO'] = credit_card_balance['AMT_PAYMENT_TOTAL_CURRENT'] / credit_card_balance['AMT_TOTAL_RECEIVABLE']\n",
    "credit_card_balance['PAYMENT_TOTAL_CURRENT_TOTAL_RECEIVABLE_DIFF'] = credit_card_balance['AMT_PAYMENT_CURRENT'] - credit_card_balance['AMT_RECIVABLE']\n",
    "credit_card_balance['AMT_BALANCE_AMT_INST_MIN_REGULARITY_RATIO'] = credit_card_balance['AMT_BALANCE'] / credit_card_balance['AMT_INST_MIN_REGULARITY']\n",
    "credit_card_balance['AMT_CREDIT_LIMIT_ACTUAL_AMT_INST_MIN_REGULARITY_RATIO'] = credit_card_balance['AMT_CREDIT_LIMIT_ACTUAL'] / credit_card_balance['AMT_INST_MIN_REGULARITY']\n",
    "credit_card_balance['AMT_PAYMENT_TOTAL_CURRENT_AMT_INST_MIN_REGULARITY_RATIO'] = credit_card_balance['AMT_PAYMENT_TOTAL_CURRENT'] / credit_card_balance['AMT_INST_MIN_REGULARITY']\n",
    "credit_card_balance['PAGO_MIN_REALIZADO'] = (credit_card_balance['AMT_PAYMENT_TOTAL_CURRENT_AMT_INST_MIN_REGULARITY_RATIO'] < 1).astype(int)\n",
    "credit_card_balance['SUM_DRAWINGS'] = credit_card_balance[['AMT_DRAWINGS_ATM_CURRENT', 'AMT_DRAWINGS_CURRENT', 'AMT_DRAWINGS_OTHER_CURRENT', 'AMT_DRAWINGS_POS_CURRENT']].sum(axis=1)\n",
    "credit_card_balance['SUM_DRAWING_LIMIT_RATIO'] = credit_card_balance['SUM_DRAWINGS'] / credit_card_balance['AMT_CREDIT_LIMIT_ACTUAL']\n",
    "credit_card_balance['SUM_DRAWING_BALANCE_RATIO'] = credit_card_balance['SUM_DRAWINGS'] / credit_card_balance['AMT_BALANCE']\n",
    "credit_card_balance['AMT_PAYMENT_CURRENT_TOTAL_PAYMENT_RATIO'] = credit_card_balance['AMT_PAYMENT_CURRENT'] / credit_card_balance['AMT_PAYMENT_TOTAL_CURRENT']\n",
    "credit_card_balance['SUM_CNT_DRAWINGS'] = credit_card_balance[['CNT_DRAWINGS_ATM_CURRENT', 'CNT_DRAWINGS_CURRENT', 'CNT_DRAWINGS_OTHER_CURRENT', 'CNT_DRAWINGS_POS_CURRENT']].sum(axis=1)\n",
    "credit_card_balance['SUM_DRAWINGS_SUM_CNT_RATIO'] = credit_card_balance['SUM_DRAWINGS'] / credit_card_balance['SUM_CNT_DRAWINGS']\n",
    "credit_card_balance['SK_DPD_SK_DPD_DEF_RATIO'] = credit_card_balance['SK_DPD'] / credit_card_balance['SK_DPD_DEF']\n",
    "credit_card_balance['SK_DPD_SK_DPD_DEF_DIFF'] = credit_card_balance['SK_DPD'] - credit_card_balance['SK_DPD_DEF']\n",
    "credit_card_balance['AMT_RECEIVABLE_PRINCIPAL_AMT_RECEIVABLE_RATIO'] = credit_card_balance['AMT_RECEIVABLE_PRINCIPAL'] / credit_card_balance['AMT_RECIVABLE']\n"
   ]
  },
  {
   "cell_type": "code",
   "execution_count": 15,
   "metadata": {},
   "outputs": [],
   "source": [
    "#Agregaciones\n",
    "agg = {\n",
    "    #Primero de las variables originales\n",
    "    'AMT_BALANCE': ['mean', 'max', 'min', 'sum'],\n",
    "    'AMT_CREDIT_LIMIT_ACTUAL': ['mean', 'max', 'min', 'sum'],\n",
    "    'AMT_DRAWINGS_ATM_CURRENT': ['mean', 'max', 'min', 'sum'],\n",
    "    'AMT_DRAWINGS_CURRENT': ['mean', 'max', 'min', 'sum'],\n",
    "    'AMT_DRAWINGS_OTHER_CURRENT': ['mean', 'max', 'min', 'sum'],\n",
    "    'AMT_DRAWINGS_POS_CURRENT': ['mean', 'max', 'min', 'sum'],\n",
    "    'AMT_INST_MIN_REGULARITY': ['mean', 'max', 'min', 'sum'],\n",
    "    'AMT_PAYMENT_CURRENT': ['mean', 'max', 'min', 'sum'],\n",
    "    'AMT_PAYMENT_TOTAL_CURRENT': ['mean', 'max', 'min', 'sum'],\n",
    "    'AMT_TOTAL_RECEIVABLE': ['mean', 'max', 'min', 'sum'],\n",
    "    'CNT_DRAWINGS_ATM_CURRENT': ['mean', 'max', 'min', 'sum'],\n",
    "    'CNT_DRAWINGS_CURRENT': ['mean', 'max', 'min', 'sum'],\n",
    "    'CNT_DRAWINGS_OTHER_CURRENT': ['mean', 'max', 'min', 'sum'],\n",
    "    'CNT_DRAWINGS_POS_CURRENT': ['mean', 'max', 'min', 'sum'],\n",
    "    'SK_DPD': ['mean', 'max', 'min', 'sum'],\n",
    "    'SK_DPD_DEF': ['mean', 'max', 'min', 'sum'],\n",
    "    'MONTHS_BALANCE': ['mean', 'max', 'min', 'sum'],\n",
    "    'NAME_CONTRACT_STATUS': ['mean'],\n",
    "\n",
    "    #Ahora de las variables creadas\n",
    "    'AMT_BALANCE_LIMIT_RATIO': ['mean', 'max', 'min', 'sum'],\n",
    "    'AMT_BALANCE_AMT_TOTAL_RECEIVABLE_RATIO': ['mean', 'max', 'min', 'sum'],\n",
    "    'AMT_BALANCE_AMT_RECEIVABLE_PRINCIPAL_RATIO': ['mean', 'max', 'min', 'sum'],\n",
    "    'PAYMENT_TOTAL_CURRENT_TOTAL_RECEIVABLE_RATIO': ['mean', 'max', 'min', 'sum'],\n",
    "    'PAYMENT_TOTAL_CURRENT_TOTAL_RECEIVABLE_DIFF': ['mean', 'max', 'min', 'sum'],\n",
    "    'AMT_BALANCE_AMT_INST_MIN_REGULARITY_RATIO': ['mean', 'max', 'min', 'sum'],\n",
    "    'AMT_CREDIT_LIMIT_ACTUAL_AMT_INST_MIN_REGULARITY_RATIO': ['mean', 'max', 'min', 'sum'],\n",
    "    'AMT_PAYMENT_TOTAL_CURRENT_AMT_INST_MIN_REGULARITY_RATIO': ['mean', 'max', 'min', 'sum'],\n",
    "    'PAGO_MIN_REALIZADO': ['mean'],\n",
    "    'SUM_DRAWINGS': ['mean', 'max', 'min', 'sum'],\n",
    "    'SUM_DRAWING_LIMIT_RATIO': ['mean', 'max', 'min', 'sum'],\n",
    "    'SUM_DRAWING_BALANCE_RATIO': ['mean', 'max', 'min', 'sum'],\n",
    "    'AMT_PAYMENT_CURRENT_TOTAL_PAYMENT_RATIO': ['mean', 'max', 'min', 'sum'],\n",
    "    'SUM_CNT_DRAWINGS': ['mean', 'max', 'min', 'sum'],\n",
    "    'SUM_DRAWINGS_SUM_CNT_RATIO': ['mean', 'max', 'min', 'sum'],\n",
    "    'SK_DPD_SK_DPD_DEF_RATIO': ['mean', 'max', 'min', 'sum'],\n",
    "    'SK_DPD_SK_DPD_DEF_DIFF': ['mean', 'max', 'min', 'sum'],\n",
    "    'AMT_RECEIVABLE_PRINCIPAL_AMT_RECEIVABLE_RATIO': ['mean', 'max', 'min', 'sum']\n",
    "}"
   ]
  },
  {
   "cell_type": "code",
   "execution_count": 16,
   "metadata": {},
   "outputs": [
    {
     "data": {
      "text/plain": [
       "2024"
      ]
     },
     "execution_count": 16,
     "metadata": {},
     "output_type": "execute_result"
    }
   ],
   "source": [
    "credit_card_balance[['NAME_CONTRACT_STATUS']] = credit_card_balance[['NAME_CONTRACT_STATUS']].apply(lambda x: x.astype('category').cat.codes)\n",
    "credit_card_balance_agg = credit_card_balance.groupby('SK_ID_CURR').agg(agg)\n",
    "credit_card_balance_agg.columns = pd.Index([e[0] + \"_\" + e[1].upper() + '_(CREDIT_CARD)' for e in credit_card_balance_agg.columns.tolist()])\n",
    "\n",
    "#Número de pagos\n",
    "count_credit_card_loans = credit_card_balance[['SK_ID_CURR', 'SK_ID_PREV']]\n",
    "count_credit_card_loans = pd.DataFrame(data=count_credit_card_loans.groupby(['SK_ID_CURR'], as_index=True)['SK_ID_PREV'].nunique()).reset_index(level=0, inplace=False)\n",
    "count_credit_card_loans= count_credit_card_loans.rename(index=str, columns = {'SK_ID_PREV': 'COUNT_CREDIT_CARD_LOANS_(CREDIT_CARD)'})\n",
    "\n",
    "credit_card_balance_agg = credit_card_balance_agg.merge(count_credit_card_loans, on = 'SK_ID_CURR', how = 'left')\n",
    "del count_credit_card_loans\n",
    "gc.collect()\n"
   ]
  },
  {
   "cell_type": "code",
   "execution_count": 18,
   "metadata": {},
   "outputs": [
    {
     "data": {
      "text/plain": [
       "(103558, 140)"
      ]
     },
     "execution_count": 18,
     "metadata": {},
     "output_type": "execute_result"
    }
   ],
   "source": [
    "credit_card_balance_agg.shape"
   ]
  },
  {
   "cell_type": "code",
   "execution_count": null,
   "metadata": {},
   "outputs": [],
   "source": []
  }
 ],
 "metadata": {
  "kernelspec": {
   "display_name": "tfg-py3.12",
   "language": "python",
   "name": "tfg-py3.12"
  },
  "language_info": {
   "codemirror_mode": {
    "name": "ipython",
    "version": 3
   },
   "file_extension": ".py",
   "mimetype": "text/x-python",
   "name": "python",
   "nbconvert_exporter": "python",
   "pygments_lexer": "ipython3",
   "version": "3.12.8"
  }
 },
 "nbformat": 4,
 "nbformat_minor": 4
}
