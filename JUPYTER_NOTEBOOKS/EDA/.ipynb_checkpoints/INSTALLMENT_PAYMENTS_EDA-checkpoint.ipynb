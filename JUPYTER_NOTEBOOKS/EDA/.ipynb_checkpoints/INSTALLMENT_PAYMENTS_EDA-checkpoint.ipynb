{
 "cells": [
  {
   "cell_type": "code",
   "execution_count": 10,
   "metadata": {},
   "outputs": [
    {
     "name": "stdout",
     "output_type": "stream",
     "text": [
      "Directorio actual: /home/yeray/TFG-Home-Credit-Default-Risk/JUPYTER_NOTEBOOKS\n"
     ]
    }
   ],
   "source": [
    "import pandas as pd\n",
    "import numpy as np\n",
    "import matplotlib.pyplot as plt\n",
    "import seaborn as sns\n",
    "import gc\n",
    "import warnings\n",
    "import os\n",
    "warnings.filterwarnings('ignore')\n",
    "print(\"Directorio actual:\", os.getcwd())\n",
    "# Have all columns appear when dataframes are displayed.\n",
    "pd.set_option('display.max_columns', None) \n",
    "# Have 100 rows appear when a dataframe is displayed\n",
    "pd.set_option('display.max_rows', 500)\n",
    "# Display dimensions whenever a dataframe is printed out.\n",
    "pd.set_option('display.show_dimensions', True)\n",
    "\n",
    "installment_payments = pd.read_csv(r'/home/yeray/home-credit-default-risk/installments_payments.csv')"
   ]
  },
  {
   "cell_type": "code",
   "execution_count": 11,
   "metadata": {},
   "outputs": [],
   "source": [
    "#Feature Engineering\n",
    "\n",
    "#Primero variables relacionada con los pagos\n",
    "installment_payments['PAYMENT_INSTALLMENT_RATIO'] = installment_payments['AMT_PAYMENT'] / installment_payments['AMT_INSTALMENT']\n",
    "installment_payments['PAYMENT_DIFFERENCE'] = installment_payments['AMT_PAYMENT'] - installment_payments['AMT_INSTALMENT']\n",
    "installment_payments['PAGO_DE_MAS'] = (installment_payments['AMT_PAYMENT'] > installment_payments['AMT_INSTALMENT']).astype(int)\n",
    "installment_payments['PAGO_DE_MENOS'] = (installment_payments['AMT_PAYMENT'] < installment_payments['AMT_INSTALMENT']).astype(int)\n",
    "\n",
    "#Segundo variables relacionadas con los días de retraso\n",
    "installment_payments['DAYS_PAST_DUE'] = installment_payments['DAYS_ENTRY_PAYMENT'] - installment_payments['DAYS_INSTALMENT']\n",
    "installment_payments['DAYS_BEFORE_DUE'] = installment_payments['DAYS_INSTALMENT'] - installment_payments['DAYS_ENTRY_PAYMENT']\n",
    "installment_payments['DAYS_PAST_DUE_RATIO'] = installment_payments['DAYS_PAST_DUE'] / installment_payments['DAYS_INSTALMENT']\n",
    "installment_payments['DAYS_BEFORE_DUE_RATIO'] = installment_payments['DAYS_BEFORE_DUE'] / installment_payments['DAYS_INSTALMENT']\n",
    "\n",
    "installment_payments['PAGO_RETRASADO'] = (installment_payments['DAYS_PAST_DUE'] > 0).astype(int)\n",
    "installment_payments['PAGO_ANTICIPADO'] = (installment_payments['DAYS_BEFORE_DUE'] > 0).astype(int)"
   ]
  },
  {
   "cell_type": "code",
   "execution_count": 12,
   "metadata": {},
   "outputs": [],
   "source": [
    "#En CNT_INSTALLMENT_VERSION si cambia el valor significa que ha habido un cambio en el plan de pagos, vamos a crear una variable que lo indique\n",
    "pagos = installment_payments.sort_values(['SK_ID_PREV', 'NUM_INSTALMENT_NUMBER'])\n",
    "\n",
    "#Detectamos cambios consecutivo en la variable CNT_INSTALMENT_VERSION\n",
    "pagos['CAMBIO_PLAN_PAGOS'] = (\n",
    "    pagos.groupby('SK_ID_PREV')['NUM_INSTALMENT_VERSION'].diff().ne(0).astype(int)\n",
    ")\n",
    "\n",
    "#Contamos cuántos cambios de plan de pagos ha habido\n",
    "cambios_por_pago = (\n",
    "    pagos.groupby('SK_ID_PREV', as_index=False)['CAMBIO_PLAN_PAGOS'].sum()\n",
    "    .rename(columns={'CAMBIO_PLAN_PAGOS': 'NUM_CAMBIOS_PLAN_PAGOS'})\n",
    ")\n",
    "\n",
    "#Unimos la variable creada con el dataframe original\n",
    "prev_curr_map = pagos[['SK_ID_PREV', 'SK_ID_CURR']].drop_duplicates()\n",
    "cambios_por_pago = cambios_por_pago.merge(prev_curr_map, on='SK_ID_PREV', how='left')\n",
    "\n",
    "#Agregamos la variable al dataframe original a nivel de SK_ID_CURR\n",
    "cambios_por_cliente = (\n",
    "    cambios_por_pago.groupby('SK_ID_CURR', as_index=False)['NUM_CAMBIOS_PLAN_PAGOS'].sum()\n",
    "    .rename(columns={'NUM_CAMBIOS_PLAN_PAGOS': 'NUM_CAMBIOS_PLAN_PAGOS_TOTAL'})\n",
    ")\n",
    "\n",
    "#Unimos la variable al dataframe original\n",
    "installment_payments = installment_payments.merge(cambios_por_cliente, on='SK_ID_CURR', how='left')"
   ]
  },
  {
   "cell_type": "code",
   "execution_count": 13,
   "metadata": {},
   "outputs": [],
   "source": [
    "#Vamos a calcular una nueva variable. Media de ratio de pagos con más de 1000 días de retraso\n",
    "\n",
    "def generate_installment_payment_ratio_1000_mean_mean(installments):\n",
    "    # 1) Crear la diferencia de pago\n",
    "    df = installments.copy()\n",
    "    df['DIFF_PAYMENT'] = df['AMT_PAYMENT'] - df['AMT_INSTALMENT']\n",
    "\n",
    "    # 2) Filtrar solo cuotas con DAYS_INSTALLMENT > -1000\n",
    "    df_filtered = df[df['DAYS_INSTALMENT'] > -1000].copy()\n",
    "\n",
    "    # 3) Agrupar a nivel de SK_ID_PREV => mean de DIFF_PAYMENT\n",
    "    df_by_prev = (\n",
    "        df_filtered\n",
    "        .groupby('SK_ID_PREV', as_index=False)['DIFF_PAYMENT']\n",
    "        .mean()\n",
    "        .rename(columns={'DIFF_PAYMENT': 'MEAN_DIFF_PAYMENT_(LAST_1000)'})\n",
    "    )\n",
    "\n",
    "    # 4) Llevar SK_ID_CURR (porque SK_ID_PREV está ligado a un SK_ID_CURR)\n",
    "    #    y luego agrupar a nivel de SK_ID_CURR => mean\n",
    "    #    (por si un cliente tiene varios SK_ID_PREV)\n",
    "    #    Primero hacemos un merge para que df_by_prev tenga SK_ID_CURR\n",
    "    df_map_curr = (\n",
    "        df_filtered[['SK_ID_PREV','SK_ID_CURR']]\n",
    "        .drop_duplicates(subset='SK_ID_PREV')\n",
    "    )\n",
    "    df_by_prev = df_by_prev.merge(df_map_curr, on='SK_ID_PREV', how='left')\n",
    "\n",
    "    # 5) Ahora, agregamos a nivel de SK_ID_CURR\n",
    "    df_by_curr = (\n",
    "        df_by_prev\n",
    "        .groupby('SK_ID_CURR', as_index=False)['MEAN_DIFF_PAYMENT_(LAST_1000)']\n",
    "        .mean()\n",
    "        .rename(columns={\n",
    "            'MEAN_DIFF_PAYMENT_(LAST_1000)': 'installment_payment_ratio_1000_mean_mean'\n",
    "        })\n",
    "    )\n",
    "    return df_by_curr\n",
    "\n",
    "\n",
    "installment_payment_ratio_1000_mean_mean = generate_installment_payment_ratio_1000_mean_mean(installment_payments)\n",
    "installment_payments = installment_payments.merge(installment_payment_ratio_1000_mean_mean, on='SK_ID_CURR', how='left')"
   ]
  },
  {
   "cell_type": "code",
   "execution_count": 14,
   "metadata": {},
   "outputs": [],
   "source": [
    "#Agregaciones\n",
    "agg = {\n",
    "    'NUM_INSTALMENT_VERSION': ['max','nunique'],\n",
    "    'PAYMENT_INSTALLMENT_RATIO': ['max','mean','sum'],\n",
    "    'PAYMENT_DIFFERENCE': ['max','mean','sum'],\n",
    "    'PAGO_DE_MAS': ['mean','sum'],\n",
    "    'PAGO_DE_MENOS': ['mean','sum'],\n",
    "    'DAYS_PAST_DUE': ['max','mean','sum'],\n",
    "    'DAYS_BEFORE_DUE': ['max','mean','sum'],\n",
    "    'DAYS_PAST_DUE_RATIO': ['max','mean','sum'],\n",
    "    'DAYS_BEFORE_DUE_RATIO': ['max','mean','sum'],\n",
    "    'PAGO_RETRASADO': ['mean','sum'],\n",
    "    'PAGO_ANTICIPADO': ['mean','sum'],\n",
    "    'NUM_CAMBIOS_PLAN_PAGOS_TOTAL': ['max','mean','sum'],\n",
    "    'installment_payment_ratio_1000_mean_mean': ['max','mean','sum']\n",
    "}\n",
    "\n",
    "installment_payments_agg = installment_payments.groupby('SK_ID_CURR').agg(agg)\n",
    "installment_payments_agg.columns = pd.Index([e[0] + \"_\" + e[1].upper() + '_(INSTALL_PAY)' for e in installment_payments_agg.columns.tolist()])"
   ]
  },
  {
   "cell_type": "code",
   "execution_count": 15,
   "metadata": {},
   "outputs": [
    {
     "data": {
      "text/plain": [
       "2318"
      ]
     },
     "execution_count": 15,
     "metadata": {},
     "output_type": "execute_result"
    }
   ],
   "source": [
    "#Vamos a añadir el número de pagos realizados por cada cliente\n",
    "pagos_realizados = installment_payments[['SK_ID_CURR', 'NUM_INSTALMENT_NUMBER']].groupby('SK_ID_CURR', as_index=False, sort=False).count()\n",
    "pagos_realizados = pagos_realizados.rename(columns={'NUM_INSTALMENT_NUMBER': 'NUM_PAGOS_REALIZADOS_(INSTALL_PAY)'})\n",
    "installment_payments_agg = installment_payments_agg.join(pagos_realizados.set_index('SK_ID_CURR'), on='SK_ID_CURR', how='left')\n",
    "del pagos_realizados\n",
    "gc.collect()"
   ]
  },
  {
   "cell_type": "code",
   "execution_count": 18,
   "metadata": {},
   "outputs": [
    {
     "ename": "TypeError",
     "evalue": "DataFrame.join() missing 1 required positional argument: 'other'",
     "output_type": "error",
     "traceback": [
      "\u001b[0;31m---------------------------------------------------------------------------\u001b[0m",
      "\u001b[0;31mTypeError\u001b[0m                                 Traceback (most recent call last)",
      "Cell \u001b[0;32mIn[18], line 5\u001b[0m\n\u001b[1;32m      3\u001b[0m last_version \u001b[38;5;241m=\u001b[39m last_version\u001b[38;5;241m.\u001b[39mloc[last_version\u001b[38;5;241m.\u001b[39msort_values([\u001b[38;5;124m'\u001b[39m\u001b[38;5;124mSK_ID_CURR\u001b[39m\u001b[38;5;124m'\u001b[39m,\u001b[38;5;124m'\u001b[39m\u001b[38;5;124mDAYS_INSTALMENT\u001b[39m\u001b[38;5;124m'\u001b[39m])\u001b[38;5;241m.\u001b[39mdrop_duplicates(\u001b[38;5;124m'\u001b[39m\u001b[38;5;124mSK_ID_CURR\u001b[39m\u001b[38;5;124m'\u001b[39m, keep\u001b[38;5;241m=\u001b[39m\u001b[38;5;124m'\u001b[39m\u001b[38;5;124mlast\u001b[39m\u001b[38;5;124m'\u001b[39m)\u001b[38;5;241m.\u001b[39mindex]\n\u001b[1;32m      4\u001b[0m last_version \u001b[38;5;241m=\u001b[39m last_version\u001b[38;5;241m.\u001b[39mrename(columns\u001b[38;5;241m=\u001b[39m{\u001b[38;5;124m'\u001b[39m\u001b[38;5;124mNUM_INSTALMENT_VERSION\u001b[39m\u001b[38;5;124m'\u001b[39m: \u001b[38;5;124m'\u001b[39m\u001b[38;5;124mLAST_VERSION_(INSTALL_PAY)\u001b[39m\u001b[38;5;124m'\u001b[39m})\n\u001b[0;32m----> 5\u001b[0m installment_payments_agg \u001b[38;5;241m=\u001b[39m \u001b[43minstallment_payments_agg\u001b[49m\u001b[38;5;241;43m.\u001b[39;49m\u001b[43mjoin\u001b[49m\u001b[43m(\u001b[49m\u001b[43mon\u001b[49m\u001b[38;5;241;43m=\u001b[39;49m\u001b[38;5;124;43m'\u001b[39;49m\u001b[38;5;124;43mSK_ID_CURR\u001b[39;49m\u001b[38;5;124;43m'\u001b[39;49m\u001b[43m,\u001b[49m\u001b[43m \u001b[49m\u001b[43mhow\u001b[49m\u001b[38;5;241;43m=\u001b[39;49m\u001b[38;5;124;43m'\u001b[39;49m\u001b[38;5;124;43mleft\u001b[39;49m\u001b[38;5;124;43m'\u001b[39;49m\u001b[43m)\u001b[49m\n",
      "\u001b[0;31mTypeError\u001b[0m: DataFrame.join() missing 1 required positional argument: 'other'"
     ]
    }
   ],
   "source": [
    "#Vamos a añadir una variable que nos dé la última versión de pago\n",
    "last_version = installment_payments[['SK_ID_CURR','DAYS_INSTALMENT','NUM_INSTALMENT_VERSION']]\n",
    "last_version = last_version.loc[last_version.sort_values(['SK_ID_CURR','DAYS_INSTALMENT']).drop_duplicates('SK_ID_CURR', keep='last').index]\n",
    "last_version = last_version.rename(columns={'NUM_INSTALMENT_VERSION': 'LAST_VERSION_(INSTALL_PAY)'})\n",
    "installment_payments_agg = installment_payments_agg.join(last_version.set_index('SK_ID_CURR'), on='SK_ID_CURR', how='left')\n"
   ]
  },
  {
   "cell_type": "code",
   "execution_count": 17,
   "metadata": {},
   "outputs": [
    {
     "ename": "KeyError",
     "evalue": "'SK_ID_CURR'",
     "output_type": "error",
     "traceback": [
      "\u001b[0;31m---------------------------------------------------------------------------\u001b[0m",
      "\u001b[0;31mKeyError\u001b[0m                                  Traceback (most recent call last)",
      "File \u001b[0;32m~/miniconda3/envs/tfg-py3.12/lib/python3.12/site-packages/pandas/core/indexes/base.py:3805\u001b[0m, in \u001b[0;36mIndex.get_loc\u001b[0;34m(self, key)\u001b[0m\n\u001b[1;32m   3804\u001b[0m \u001b[38;5;28;01mtry\u001b[39;00m:\n\u001b[0;32m-> 3805\u001b[0m     \u001b[38;5;28;01mreturn\u001b[39;00m \u001b[38;5;28;43mself\u001b[39;49m\u001b[38;5;241;43m.\u001b[39;49m\u001b[43m_engine\u001b[49m\u001b[38;5;241;43m.\u001b[39;49m\u001b[43mget_loc\u001b[49m\u001b[43m(\u001b[49m\u001b[43mcasted_key\u001b[49m\u001b[43m)\u001b[49m\n\u001b[1;32m   3806\u001b[0m \u001b[38;5;28;01mexcept\u001b[39;00m \u001b[38;5;167;01mKeyError\u001b[39;00m \u001b[38;5;28;01mas\u001b[39;00m err:\n",
      "File \u001b[0;32mindex.pyx:167\u001b[0m, in \u001b[0;36mpandas._libs.index.IndexEngine.get_loc\u001b[0;34m()\u001b[0m\n",
      "File \u001b[0;32mindex.pyx:196\u001b[0m, in \u001b[0;36mpandas._libs.index.IndexEngine.get_loc\u001b[0;34m()\u001b[0m\n",
      "File \u001b[0;32mpandas/_libs/hashtable_class_helper.pxi:7081\u001b[0m, in \u001b[0;36mpandas._libs.hashtable.PyObjectHashTable.get_item\u001b[0;34m()\u001b[0m\n",
      "File \u001b[0;32mpandas/_libs/hashtable_class_helper.pxi:7089\u001b[0m, in \u001b[0;36mpandas._libs.hashtable.PyObjectHashTable.get_item\u001b[0;34m()\u001b[0m\n",
      "\u001b[0;31mKeyError\u001b[0m: 'SK_ID_CURR'",
      "\nThe above exception was the direct cause of the following exception:\n",
      "\u001b[0;31mKeyError\u001b[0m                                  Traceback (most recent call last)",
      "Cell \u001b[0;32mIn[17], line 1\u001b[0m\n\u001b[0;32m----> 1\u001b[0m \u001b[38;5;28mprint\u001b[39m(\u001b[43minstallment_payments_agg\u001b[49m\u001b[43m[\u001b[49m\u001b[38;5;124;43m'\u001b[39;49m\u001b[38;5;124;43mSK_ID_CURR\u001b[39;49m\u001b[38;5;124;43m'\u001b[39;49m\u001b[43m]\u001b[49m)\n",
      "File \u001b[0;32m~/miniconda3/envs/tfg-py3.12/lib/python3.12/site-packages/pandas/core/frame.py:4102\u001b[0m, in \u001b[0;36mDataFrame.__getitem__\u001b[0;34m(self, key)\u001b[0m\n\u001b[1;32m   4100\u001b[0m \u001b[38;5;28;01mif\u001b[39;00m \u001b[38;5;28mself\u001b[39m\u001b[38;5;241m.\u001b[39mcolumns\u001b[38;5;241m.\u001b[39mnlevels \u001b[38;5;241m>\u001b[39m \u001b[38;5;241m1\u001b[39m:\n\u001b[1;32m   4101\u001b[0m     \u001b[38;5;28;01mreturn\u001b[39;00m \u001b[38;5;28mself\u001b[39m\u001b[38;5;241m.\u001b[39m_getitem_multilevel(key)\n\u001b[0;32m-> 4102\u001b[0m indexer \u001b[38;5;241m=\u001b[39m \u001b[38;5;28;43mself\u001b[39;49m\u001b[38;5;241;43m.\u001b[39;49m\u001b[43mcolumns\u001b[49m\u001b[38;5;241;43m.\u001b[39;49m\u001b[43mget_loc\u001b[49m\u001b[43m(\u001b[49m\u001b[43mkey\u001b[49m\u001b[43m)\u001b[49m\n\u001b[1;32m   4103\u001b[0m \u001b[38;5;28;01mif\u001b[39;00m is_integer(indexer):\n\u001b[1;32m   4104\u001b[0m     indexer \u001b[38;5;241m=\u001b[39m [indexer]\n",
      "File \u001b[0;32m~/miniconda3/envs/tfg-py3.12/lib/python3.12/site-packages/pandas/core/indexes/base.py:3812\u001b[0m, in \u001b[0;36mIndex.get_loc\u001b[0;34m(self, key)\u001b[0m\n\u001b[1;32m   3807\u001b[0m     \u001b[38;5;28;01mif\u001b[39;00m \u001b[38;5;28misinstance\u001b[39m(casted_key, \u001b[38;5;28mslice\u001b[39m) \u001b[38;5;129;01mor\u001b[39;00m (\n\u001b[1;32m   3808\u001b[0m         \u001b[38;5;28misinstance\u001b[39m(casted_key, abc\u001b[38;5;241m.\u001b[39mIterable)\n\u001b[1;32m   3809\u001b[0m         \u001b[38;5;129;01mand\u001b[39;00m \u001b[38;5;28many\u001b[39m(\u001b[38;5;28misinstance\u001b[39m(x, \u001b[38;5;28mslice\u001b[39m) \u001b[38;5;28;01mfor\u001b[39;00m x \u001b[38;5;129;01min\u001b[39;00m casted_key)\n\u001b[1;32m   3810\u001b[0m     ):\n\u001b[1;32m   3811\u001b[0m         \u001b[38;5;28;01mraise\u001b[39;00m InvalidIndexError(key)\n\u001b[0;32m-> 3812\u001b[0m     \u001b[38;5;28;01mraise\u001b[39;00m \u001b[38;5;167;01mKeyError\u001b[39;00m(key) \u001b[38;5;28;01mfrom\u001b[39;00m\u001b[38;5;250m \u001b[39m\u001b[38;5;21;01merr\u001b[39;00m\n\u001b[1;32m   3813\u001b[0m \u001b[38;5;28;01mexcept\u001b[39;00m \u001b[38;5;167;01mTypeError\u001b[39;00m:\n\u001b[1;32m   3814\u001b[0m     \u001b[38;5;66;03m# If we have a listlike key, _check_indexing_error will raise\u001b[39;00m\n\u001b[1;32m   3815\u001b[0m     \u001b[38;5;66;03m#  InvalidIndexError. Otherwise we fall through and re-raise\u001b[39;00m\n\u001b[1;32m   3816\u001b[0m     \u001b[38;5;66;03m#  the TypeError.\u001b[39;00m\n\u001b[1;32m   3817\u001b[0m     \u001b[38;5;28mself\u001b[39m\u001b[38;5;241m.\u001b[39m_check_indexing_error(key)\n",
      "\u001b[0;31mKeyError\u001b[0m: 'SK_ID_CURR'"
     ]
    }
   ],
   "source": [
    "print(installment_payments_agg['SK_ID_CURR'])"
   ]
  },
  {
   "cell_type": "code",
   "execution_count": 11,
   "metadata": {},
   "outputs": [],
   "source": [
    "installment_payments_agg.shape\n",
    "installment_payments_agg.to_csv(r'/home/yeray/TFG-Home-Credit-Default-Risk/JUPYTER_NOTEBOOKS/DATA/installment_payments_agg.csv', index = False)"
   ]
  },
  {
   "cell_type": "code",
   "execution_count": null,
   "metadata": {},
   "outputs": [],
   "source": []
  }
 ],
 "metadata": {
  "kernelspec": {
   "display_name": "tfg-py3.12",
   "language": "python",
   "name": "tfg-py3.12"
  },
  "language_info": {
   "codemirror_mode": {
    "name": "ipython",
    "version": 3
   },
   "file_extension": ".py",
   "mimetype": "text/x-python",
   "name": "python",
   "nbconvert_exporter": "python",
   "pygments_lexer": "ipython3",
   "version": "3.12.8"
  }
 },
 "nbformat": 4,
 "nbformat_minor": 4
}
