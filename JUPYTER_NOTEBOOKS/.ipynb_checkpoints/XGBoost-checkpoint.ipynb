{
 "cells": [
  {
   "cell_type": "code",
   "execution_count": 1,
   "id": "e245e390-2bf9-44e7-8461-95933e92f1d7",
   "metadata": {},
   "outputs": [
    {
     "name": "stdout",
     "output_type": "stream",
     "text": [
      "Python executable: /home/yeray/miniconda3/envs/tfg-py3.12/bin/python\n",
      "1.26.4\n",
      "Directorio actual: /home/yeray/TFG-Home-Credit-Default-Risk/JUPYTER_NOTEBOOKS\n",
      "<class 'pandas.core.frame.DataFrame'>\n",
      "RangeIndex: 307511 entries, 0 to 307510\n",
      "Columns: 1323 entries, Unnamed: 0.1 to LATEST_CREDIT_ACTIVE_CAT_(BUREAU)_Sold\n",
      "dtypes: float64(1280), int64(43)\n",
      "memory usage: 3.0 GB\n",
      "None\n",
      "(307511, 1323)\n"
     ]
    }
   ],
   "source": [
    "#Celda para librerías\n",
    "import sklearn as sk\n",
    "import sys\n",
    "print(\"Python executable:\", sys.executable)\n",
    "\n",
    "import matplotlib as plt\n",
    "import matplotlib.pyplot as plt\n",
    "\n",
    "import pandas as pd\n",
    "import seaborn as sns\n",
    "import numpy as np\n",
    "from sklearn.model_selection import train_test_split, cross_val_score\n",
    "\n",
    "import optuna\n",
    "from sklearn.model_selection import StratifiedKFold\n",
    "from sklearn.metrics import roc_auc_score\n",
    "\n",
    "#XGBoost\n",
    "from xgboost import XGBClassifier\n",
    "\n",
    "\n",
    "\n",
    "from hyperopt import hp, fmin, tpe, STATUS_OK, Trials\n",
    "from sklearn.model_selection import cross_val_score\n",
    "\n",
    "\n",
    "import json\n",
    "\n",
    "import warnings\n",
    "warnings.filterwarnings('ignore')\n",
    "\n",
    "print(np.__version__)\n",
    "from ydata_profiling import ProfileReport\n",
    "import os\n",
    "print(\"Directorio actual:\", os.getcwd())\n",
    "\n",
    "# Have all columns appear when dataframes are displayed.\n",
    "pd.set_option('display.max_columns', None) \n",
    "# Have 100 rows appear when a dataframe is displayed\n",
    "pd.set_option('display.max_rows', 500)\n",
    "# Display dimensions whenever a dataframe is printed out.\n",
    "pd.set_option('display.show_dimensions', True)\n",
    "\n",
    "#Importando los datos\n",
    "\n",
    "#app_train_def = pd.read_csv(r'/home/yeray/TFG-Home-Credit-Default-Risk/JUPYTER_NOTEBOOKS/DATA/application_train_preprocesado_definitivo_v1.csv')\n",
    "#app_train_def_2 = pd.read_csv(r'/home/yeray/TFG-Home-Credit-Default-Risk/JUPYTER_NOTEBOOKS/DATA/application_train_preprocesado_definitivo_v2.csv')\n",
    "#app_train_def_3 = pd.read_csv(r'/home/yeray/TFG-Home-Credit-Default-Risk/JUPYTER_NOTEBOOKS/DATA/application_train_preprocesado_definitivo_v3.csv')\n",
    "#app_train_def_4 = pd.read_csv(r'/home/yeray/TFG-Home-Credit-Default-Risk/JUPYTER_NOTEBOOKS/DATA/application_train_preprocesado_definitivo_v4.csv')\n",
    "#app_train_def_5 = pd.read_csv(r'/home/yeray/TFG-Home-Credit-Default-Risk/JUPYTER_NOTEBOOKS/DATA/application_train_preprocesado_definitivo_v5.csv')\n",
    "app_train_def_7 = pd.read_csv(r'/home/yeray/TFG-Home-Credit-Default-Risk/JUPYTER_NOTEBOOKS/DATA/application_train_preprocesado_definitivo_v7.csv')\n",
    "\n",
    "print(app_train_def_7.info())\n",
    "print(app_train_def_7.shape)"
   ]
  },
  {
   "cell_type": "code",
   "execution_count": 2,
   "id": "d040e960-9702-4d99-afa2-34196f1f194f",
   "metadata": {},
   "outputs": [],
   "source": [
    "X = app_train_def_7.drop(columns = ['TARGET'])\n",
    "y = app_train_def_7['TARGET']\n",
    "X_train, X_test, y_train, y_test = train_test_split(X, y, test_size=0.2, random_state=42, stratify=y)\n",
    "\n",
    "X_train.columns = X_train.columns.str.replace('[^A-Za-z0-9_]+', '', regex=True)\n",
    "X_test.columns = X_test.columns.str.replace('[^A-Za-z0-9_]+', '', regex=True)"
   ]
  },
  {
   "cell_type": "code",
   "execution_count": 15,
   "id": "89f6a6bd-9539-4469-9703-c4a73d78d699",
   "metadata": {},
   "outputs": [],
   "source": [
    "def objective(trial):\n",
    "    params = {\n",
    "        \"n_estimators\": trial.suggest_int(\"n_estimators\", 900, 1800, step=50),\n",
    "        \"max_bin\": trial.suggest_int(\"max_bin\", 200, 400, step=10),\n",
    "        \"learning_rate\": trial.suggest_float(\"learning_rate\", 0.01, 0.03, log=True),\n",
    "        \"max_depth\": trial.suggest_int(\"max_depth\", 5, 10),\n",
    "        \"gamma\": trial.suggest_float(\"gamma\", 0, 3),\n",
    "        \"min_child_weight\": trial.suggest_int(\"min_child_weight\", 12, 24),\n",
    "        \"subsample\": trial.suggest_float(\"subsample\", 0.6, 0.95),\n",
    "        \"colsample_bytree\": trial.suggest_float(\"colsample_bytree\", 0.4, 0.8),\n",
    "        \"reg_alpha\": trial.suggest_float(\"reg_alpha\", 1e-8, 1.0, log=True),\n",
    "        \"reg_lambda\": trial.suggest_float(\"reg_lambda\", 1e-8, 10.0, log=True),\n",
    "        \"tree_method\": trial.suggest_categorical(\"tree_method\", [\"auto\", \"hist\"])\n",
    "        \"scale_pos_weight\": trial.suggest_float(\"scale_pos_weight\", 1.0, 3.0),\n",
    "    }\n",
    "    model = XGBClassifier(\n",
    "        **params,\n",
    "        objective=\"binary:logistic\",\n",
    "        eval_metric=\"auc\",\n",
    "        use_label_encoder=False,\n",
    "        random_state=42,\n",
    "        n_jobs=-1\n",
    "    )\n",
    "\n",
    "    cv=StratifiedKFold(n_splits=5, shuffle=True, random_state=42)\n",
    "    scores = cross_val_score(model,X_train, y_train, scoring='roc_auc', cv=cv)\n",
    "\n",
    "    return scores.mean()"
   ]
  },
  {
   "cell_type": "code",
   "execution_count": null,
   "id": "533c5cb0-c2de-4021-bd7b-9f255de7f864",
   "metadata": {},
   "outputs": [],
   "source": [
    "#Estudio para maximizar\n",
    "study = optuna.create_study(direction=\"maximize\")\n",
    "\n",
    "#Búsqueda\n",
    "study.optimize(objective, n_trials=50, show_progress_bar=True)\n",
    "\n",
    "print(\"Best trial:\", study.best_trial.number)\n",
    "print(\"Best value (mean AUC):\", study.best_value)\n",
    "print(\"Best hyperparams:\", study.best_params)"
   ]
  },
  {
   "cell_type": "code",
   "execution_count": 17,
   "id": "af115205-c7c8-44e7-8904-65e4e0afdc48",
   "metadata": {},
   "outputs": [],
   "source": [
    "import pickle\n",
    "with open(\"XGBoost_Optuna_Study_v1_space_reducido_mas_hiperpara.pkl\", \"wb\") as f:\n",
    "    pickle.dump(study, f)\n",
    "with open(\"XGBoost_Optuna_Study_v1_space_reducido_mas_hiperpara.pkl\", \"rb\") as f:\n",
    "    loaded_study = pickle.load(f)"
   ]
  },
  {
   "cell_type": "code",
   "execution_count": 18,
   "id": "37e3232c-a287-4aea-a9fc-daaeb366da08",
   "metadata": {},
   "outputs": [
    {
     "name": "stdout",
     "output_type": "stream",
     "text": [
      "+----+----------+----------+----------------------------+----------------------------+------------------------+---------------------------+----------------+------------------------+------------------+--------------------+---------------------------+-----------------------+-----------------+--------------------+---------------------+---------------------------+--------------------+----------------------+----------+\n",
      "|    |   number |    value | datetime_start             | datetime_complete          | duration               |   params_colsample_bytree |   params_gamma |   params_learning_rate |   params_max_bin |   params_max_depth |   params_min_child_weight |   params_n_estimators |   params_n_jobs |   params_reg_alpha |   params_reg_lambda |   params_scale_pos_weight |   params_subsample | params_tree_method   | state    |\n",
      "|----+----------+----------+----------------------------+----------------------------+------------------------+---------------------------+----------------+------------------------+------------------+--------------------+---------------------------+-----------------------+-----------------+--------------------+---------------------+---------------------------+--------------------+----------------------+----------|\n",
      "| 42 |       42 | 0.767633 | 2025-02-24 17:35:27.403636 | 2025-02-24 17:49:11.175013 | 0 days 00:13:43.771377 |                  0.58057  |       0.476025 |              0.0170753 |              300 |                  5 |                        23 |                  1800 |               2 |        2.30559e-07 |         2.39006e-05 |                   1.25498 |           0.788019 | hist                 | COMPLETE |\n",
      "| 37 |       37 | 0.767545 | 2025-02-24 16:24:25.583485 | 2025-02-24 16:34:59.048895 | 0 days 00:10:33.465410 |                  0.551308 |       0.351098 |              0.0199318 |              290 |                  5 |                        23 |                  1750 |               2 |        4.51501e-07 |         0.000138842 |                   1.6517  |           0.751887 | hist                 | COMPLETE |\n",
      "|  6 |        6 | 0.767506 | 2025-02-24 12:50:12.813994 | 2025-02-24 12:59:16.338506 | 0 days 00:09:03.524512 |                  0.530974 |       2.35631  |              0.0150826 |              330 |                  5 |                        19 |                  1750 |               3 |        2.04935e-07 |         2.14797     |                   2.86012 |           0.854176 | hist                 | COMPLETE |\n",
      "| 31 |       31 | 0.767486 | 2025-02-24 15:45:11.734614 | 2025-02-24 15:49:28.974167 | 0 days 00:04:17.239553 |                  0.450396 |       0.357752 |              0.0186626 |              330 |                  5 |                        24 |                  1350 |               5 |        2.46234e-07 |         0.000423118 |                   1.68788 |           0.783608 | hist                 | COMPLETE |\n",
      "| 44 |       44 | 0.767471 | 2025-02-24 18:18:03.919073 | 2025-02-24 18:35:24.936839 | 0 days 00:17:21.017766 |                  0.646847 |       0.366414 |              0.0133734 |              320 |                  5 |                        24 |                  1650 |               3 |        1.33098e-06 |         6.07728e-05 |                   1.20235 |           0.784441 | hist                 | COMPLETE |\n",
      "| 41 |       41 | 0.76746  | 2025-02-24 17:25:05.148059 | 2025-02-24 17:35:27.399676 | 0 days 00:10:22.251617 |                  0.572985 |       0.472904 |              0.016956  |              300 |                  5 |                        22 |                  1750 |               3 |        3.11235e-06 |         0.000211423 |                   1.54119 |           0.783204 | hist                 | COMPLETE |\n",
      "| 36 |       36 | 0.767459 | 2025-02-24 16:14:03.495169 | 2025-02-24 16:24:25.580476 | 0 days 00:10:22.085307 |                  0.548136 |       0.203151 |              0.0190843 |              300 |                  5 |                        23 |                  1750 |               2 |        5.36603e-07 |         0.000285101 |                   1.60253 |           0.78673  | auto                 | COMPLETE |\n",
      "| 33 |       33 | 0.767455 | 2025-02-24 15:53:23.065337 | 2025-02-24 16:00:11.373907 | 0 days 00:06:48.308570 |                  0.551732 |       1.03988  |              0.0178163 |              350 |                  5 |                        22 |                  1700 |               4 |        4.04061e-06 |         0.000243505 |                   1.75907 |           0.86854  | hist                 | COMPLETE |\n",
      "|  2 |        2 | 0.767394 | 2025-02-24 12:26:50.680931 | 2025-02-24 12:32:05.368280 | 0 days 00:05:14.687349 |                  0.451186 |       0.791884 |              0.0257401 |              340 |                  6 |                        13 |                  1000 |               4 |        2.0461e-07  |         1.49316e-07 |                   1.03665 |           0.891741 | auto                 | COMPLETE |\n",
      "| 16 |       16 | 0.767366 | 2025-02-24 14:26:11.322291 | 2025-02-24 14:29:43.294111 | 0 days 00:03:31.971820 |                  0.41314  |       1.33113  |              0.01557   |              370 |                  7 |                        17 |                  1100 |               7 |        5.59569e-05 |         6.91177     |                   2.54564 |           0.886644 | hist                 | COMPLETE |\n",
      "+----+----------+----------+----------------------------+----------------------------+------------------------+---------------------------+----------------+------------------------+------------------+--------------------+---------------------------+-----------------------+-----------------+--------------------+---------------------+---------------------------+--------------------+----------------------+----------+\n"
     ]
    }
   ],
   "source": [
    "from tabulate import tabulate\n",
    "\n",
    "trials_df = loaded_study.trials_dataframe()\n",
    "\n",
    "df_sorted = trials_df.sort_values(by=\"value\", ascending=False)\n",
    "best_10 = df_sorted.head(10)\n",
    "\n",
    "print(tabulate(best_10, headers=\"keys\", tablefmt=\"psql\"))"
   ]
  },
  {
   "cell_type": "code",
   "execution_count": 5,
   "id": "0c0af959-bbf9-4aac-bd65-de821d8ed0e4",
   "metadata": {},
   "outputs": [],
   "source": [
    "def objective_completo(trial):\n",
    "    params = {\n",
    "        \"n_estimators\": trial.suggest_int(\"n_estimators\", 1500, 2000, step=50),\n",
    "        \"max_bin\": trial.suggest_int(\"max_bin\", 270, 350, step=10),\n",
    "        \"learning_rate\": trial.suggest_float(\"learning_rate\", 0.01, 0.03, log=True),\n",
    "        \"max_depth\": trial.suggest_int(\"max_depth\", 1, 6),\n",
    "        \"gamma\": trial.suggest_float(\"gamma\", 0, 1.5),\n",
    "        \"min_child_weight\": trial.suggest_int(\"min_child_weight\", 17, 25),\n",
    "        \"subsample\": trial.suggest_float(\"subsample\", 0.75, 0.9),\n",
    "        \"colsample_bytree\": trial.suggest_float(\"colsample_bytree\", 0.4, 0.6),\n",
    "        \"reg_alpha\": trial.suggest_float(\"reg_alpha\", 1e-8, 1.0, log=True),\n",
    "        \"reg_lambda\": trial.suggest_float(\"reg_lambda\", 1e-8, 2.2, log=True),\n",
    "        \"tree_method\": trial.suggest_categorical(\"tree_method\", [\"auto\", \"hist\"]),\n",
    "        \"scale_pos_weight\": trial.suggest_float(\"scale_pos_weight\", 1.0, 2.0),\n",
    "    }\n",
    "    model = XGBClassifier(\n",
    "        **params,\n",
    "        objective=\"binary:logistic\",\n",
    "        eval_metric=\"auc\",\n",
    "        use_label_encoder=False,\n",
    "        random_state=42,\n",
    "        n_jobs=20\n",
    "    )\n",
    "\n",
    "    cv=StratifiedKFold(n_splits=5, shuffle=True, random_state=42)\n",
    "    scores = cross_val_score(model,X_train, y_train, scoring='roc_auc', cv=cv)\n",
    "\n",
    "    return scores.mean()"
   ]
  },
  {
   "cell_type": "code",
   "execution_count": null,
   "id": "284b9917-aff7-40df-bee8-8cc073b70442",
   "metadata": {},
   "outputs": [
    {
     "name": "stderr",
     "output_type": "stream",
     "text": [
      "[I 2025-02-27 12:54:28,359] A new study created in memory with name: no-name-dc3982a1-46ee-46c3-8b6a-c899be7587e5\n"
     ]
    },
    {
     "data": {
      "application/vnd.jupyter.widget-view+json": {
       "model_id": "124deb34c00f4bf8b0f58c8c0c7e6fad",
       "version_major": 2,
       "version_minor": 0
      },
      "text/plain": [
       "  0%|          | 0/100 [00:00<?, ?it/s]"
      ]
     },
     "metadata": {},
     "output_type": "display_data"
    },
    {
     "name": "stdout",
     "output_type": "stream",
     "text": [
      "[I 2025-02-27 13:21:17,374] Trial 0 finished with value: 0.7757966846636568 and parameters: {'n_estimators': 1700, 'max_bin': 340, 'learning_rate': 0.02477291321302661, 'max_depth': 1, 'gamma': 0.5653150908442857, 'min_child_weight': 23, 'subsample': 0.8847441453233659, 'colsample_bytree': 0.4091863680732881, 'reg_alpha': 1.5950680079908806e-08, 'reg_lambda': 2.0657434977459808e-06, 'tree_method': 'hist', 'scale_pos_weight': 1.164152623314275}. Best is trial 0 with value: 0.7757966846636568.\n",
      "[I 2025-02-27 14:07:03,069] Trial 1 finished with value: 0.7915885909203546 and parameters: {'n_estimators': 1800, 'max_bin': 340, 'learning_rate': 0.02503332926438555, 'max_depth': 3, 'gamma': 0.24313270477187637, 'min_child_weight': 20, 'subsample': 0.8167046819274089, 'colsample_bytree': 0.523590052203022, 'reg_alpha': 1.3942746729571945e-05, 'reg_lambda': 4.388368396834335e-05, 'tree_method': 'hist', 'scale_pos_weight': 1.9498739659768938}. Best is trial 1 with value: 0.7915885909203546.\n",
      "[I 2025-02-27 14:50:31,890] Trial 2 finished with value: 0.7907399819781231 and parameters: {'n_estimators': 1950, 'max_bin': 300, 'learning_rate': 0.02054440359625673, 'max_depth': 3, 'gamma': 0.7223910332105983, 'min_child_weight': 21, 'subsample': 0.8434959891315114, 'colsample_bytree': 0.5970442873113145, 'reg_alpha': 0.001577752548302914, 'reg_lambda': 0.00015437599121118445, 'tree_method': 'hist', 'scale_pos_weight': 1.3623095742369125}. Best is trial 1 with value: 0.7915885909203546.\n",
      "[I 2025-02-27 15:20:49,407] Trial 3 finished with value: 0.7808314530729973 and parameters: {'n_estimators': 1500, 'max_bin': 330, 'learning_rate': 0.014641970799061887, 'max_depth': 2, 'gamma': 0.5695543673789722, 'min_child_weight': 18, 'subsample': 0.8464614395779957, 'colsample_bytree': 0.584564420853043, 'reg_alpha': 0.000238434869775013, 'reg_lambda': 0.005275067285674296, 'tree_method': 'auto', 'scale_pos_weight': 1.4032578116135186}. Best is trial 1 with value: 0.7915885909203546.\n",
      "[I 2025-02-27 16:10:13,144] Trial 4 finished with value: 0.787106904202426 and parameters: {'n_estimators': 2000, 'max_bin': 270, 'learning_rate': 0.010846999621136114, 'max_depth': 3, 'gamma': 0.46254939091958175, 'min_child_weight': 25, 'subsample': 0.8481252577873181, 'colsample_bytree': 0.4475692439383205, 'reg_alpha': 0.7366296568584659, 'reg_lambda': 0.010114266524053122, 'tree_method': 'auto', 'scale_pos_weight': 1.9936099930605695}. Best is trial 1 with value: 0.7915885909203546.\n",
      "[I 2025-02-27 16:56:47,959] Trial 5 finished with value: 0.7935998094011976 and parameters: {'n_estimators': 1650, 'max_bin': 280, 'learning_rate': 0.0227346470292014, 'max_depth': 5, 'gamma': 1.3766944305899824, 'min_child_weight': 24, 'subsample': 0.8435438751804886, 'colsample_bytree': 0.5539057861922553, 'reg_alpha': 0.26032912340025405, 'reg_lambda': 3.5789517336095e-07, 'tree_method': 'auto', 'scale_pos_weight': 1.0935164225462617}. Best is trial 5 with value: 0.7935998094011976.\n",
      "[I 2025-02-27 17:34:35,370] Trial 6 finished with value: 0.7889389446758273 and parameters: {'n_estimators': 1550, 'max_bin': 320, 'learning_rate': 0.01772413949272872, 'max_depth': 3, 'gamma': 1.3569412676377766, 'min_child_weight': 22, 'subsample': 0.8276897231491579, 'colsample_bytree': 0.49471338606889786, 'reg_alpha': 0.0003141542560684206, 'reg_lambda': 0.8671085463957304, 'tree_method': 'auto', 'scale_pos_weight': 1.6964263446280823}. Best is trial 5 with value: 0.7935998094011976.\n",
      "[I 2025-02-27 18:12:32,578] Trial 7 finished with value: 0.7916090248396364 and parameters: {'n_estimators': 1700, 'max_bin': 280, 'learning_rate': 0.02802919674694693, 'max_depth': 3, 'gamma': 1.488446343197025, 'min_child_weight': 19, 'subsample': 0.8695718278861102, 'colsample_bytree': 0.5038000586530824, 'reg_alpha': 7.888428171670343e-06, 'reg_lambda': 7.079372402477924e-08, 'tree_method': 'hist', 'scale_pos_weight': 1.7746218535700116}. Best is trial 5 with value: 0.7935998094011976.\n",
      "[I 2025-02-27 18:55:31,125] Trial 8 finished with value: 0.7871085649999181 and parameters: {'n_estimators': 1800, 'max_bin': 340, 'learning_rate': 0.012020665835250221, 'max_depth': 3, 'gamma': 0.344591581905747, 'min_child_weight': 25, 'subsample': 0.8263018859926617, 'colsample_bytree': 0.4917229172885822, 'reg_alpha': 0.8550208626225723, 'reg_lambda': 0.028417983502819974, 'tree_method': 'hist', 'scale_pos_weight': 1.7363454868879642}. Best is trial 5 with value: 0.7935998094011976.\n",
      "[I 2025-02-27 20:04:04,425] Trial 9 finished with value: 0.7933107268094746 and parameters: {'n_estimators': 1950, 'max_bin': 350, 'learning_rate': 0.011637531606759951, 'max_depth': 6, 'gamma': 1.2608714321888161, 'min_child_weight': 17, 'subsample': 0.7535192489704292, 'colsample_bytree': 0.40008595004970315, 'reg_alpha': 5.2992885248610956e-08, 'reg_lambda': 8.10238482936281e-05, 'tree_method': 'auto', 'scale_pos_weight': 1.1270188888506283}. Best is trial 5 with value: 0.7935998094011976.\n",
      "[I 2025-02-27 20:55:15,270] Trial 10 finished with value: 0.7932461235968918 and parameters: {'n_estimators': 1600, 'max_bin': 300, 'learning_rate': 0.02052514596199312, 'max_depth': 6, 'gamma': 1.0724068024756575, 'min_child_weight': 23, 'subsample': 0.7870024296077003, 'colsample_bytree': 0.5602477376030945, 'reg_alpha': 0.020038289896299962, 'reg_lambda': 1.102108025062222e-08, 'tree_method': 'auto', 'scale_pos_weight': 1.0024814965569342}. Best is trial 5 with value: 0.7935998094011976.\n",
      "[I 2025-02-27 21:58:23,273] Trial 11 finished with value: 0.7936581195720105 and parameters: {'n_estimators': 1900, 'max_bin': 290, 'learning_rate': 0.013816507049036428, 'max_depth': 6, 'gamma': 1.1512492128920617, 'min_child_weight': 17, 'subsample': 0.7664787112240937, 'colsample_bytree': 0.4014908729115654, 'reg_alpha': 1.5731867596481788e-08, 'reg_lambda': 1.8141809112935831e-06, 'tree_method': 'auto', 'scale_pos_weight': 1.1678699692390628}. Best is trial 11 with value: 0.7936581195720105.\n",
      "[I 2025-02-27 22:53:13,378] Trial 12 finished with value: 0.792918812991493 and parameters: {'n_estimators': 1850, 'max_bin': 290, 'learning_rate': 0.014535299854457666, 'max_depth': 5, 'gamma': 0.9902514367219524, 'min_child_weight': 17, 'subsample': 0.7860869678654061, 'colsample_bytree': 0.5521916208471003, 'reg_alpha': 8.647354630836172e-07, 'reg_lambda': 6.672012448541301e-07, 'tree_method': 'auto', 'scale_pos_weight': 1.2388153599958163}. Best is trial 11 with value: 0.7936581195720105.\n",
      "[I 2025-02-27 23:39:33,620] Trial 13 finished with value: 0.7926605291640694 and parameters: {'n_estimators': 1650, 'max_bin': 270, 'learning_rate': 0.01426938003989643, 'max_depth': 5, 'gamma': 1.0252160257574543, 'min_child_weight': 24, 'subsample': 0.751187092022689, 'colsample_bytree': 0.4517875899172503, 'reg_alpha': 4.862360963551747e-07, 'reg_lambda': 2.448249940801705e-06, 'tree_method': 'auto', 'scale_pos_weight': 1.032433229528714}. Best is trial 11 with value: 0.7936581195720105.\n",
      "[I 2025-02-28 00:29:55,231] Trial 14 finished with value: 0.7933024501715316 and parameters: {'n_estimators': 1850, 'max_bin': 290, 'learning_rate': 0.01794284122079258, 'max_depth': 5, 'gamma': 1.1975976456597386, 'min_child_weight': 20, 'subsample': 0.7917471313092633, 'colsample_bytree': 0.4549617050983048, 'reg_alpha': 0.017673022351861228, 'reg_lambda': 1.288780169902344e-07, 'tree_method': 'auto', 'scale_pos_weight': 1.2797305995226098}. Best is trial 11 with value: 0.7936581195720105.\n",
      "[I 2025-02-28 01:19:42,392] Trial 15 finished with value: 0.7934546170505415 and parameters: {'n_estimators': 1900, 'max_bin': 310, 'learning_rate': 0.020662052075422956, 'max_depth': 6, 'gamma': 0.03847140066555621, 'min_child_weight': 22, 'subsample': 0.8078072272727123, 'colsample_bytree': 0.5356857548750973, 'reg_alpha': 0.05027924151066998, 'reg_lambda': 1.2447643056828716e-05, 'tree_method': 'auto', 'scale_pos_weight': 1.5195727857022112}. Best is trial 11 with value: 0.7936581195720105.\n",
      "[I 2025-02-28 01:58:04,946] Trial 16 finished with value: 0.7909818986190009 and parameters: {'n_estimators': 1750, 'max_bin': 280, 'learning_rate': 0.013028749721755557, 'max_depth': 4, 'gamma': 0.8571438307698216, 'min_child_weight': 19, 'subsample': 0.7678979343548967, 'colsample_bytree': 0.4716075493492571, 'reg_alpha': 1.6774926064089845e-05, 'reg_lambda': 0.000745648678044578, 'tree_method': 'auto', 'scale_pos_weight': 1.563191200564812}. Best is trial 11 with value: 0.7936581195720105.\n",
      "[I 2025-02-28 02:37:50,920] Trial 17 finished with value: 0.7930983935447626 and parameters: {'n_estimators': 1600, 'max_bin': 290, 'learning_rate': 0.022822495212422553, 'max_depth': 5, 'gamma': 1.4716179645911613, 'min_child_weight': 24, 'subsample': 0.8975294788049144, 'colsample_bytree': 0.5661697444443642, 'reg_alpha': 0.002244332516442887, 'reg_lambda': 2.5523908965659244e-07, 'tree_method': 'auto', 'scale_pos_weight': 1.1264275544761395}. Best is trial 11 with value: 0.7936581195720105.\n",
      "[I 2025-02-28 03:13:48,216] Trial 18 finished with value: 0.7926955723648347 and parameters: {'n_estimators': 1700, 'max_bin': 310, 'learning_rate': 0.02923557205236666, 'max_depth': 4, 'gamma': 1.2060412635935382, 'min_child_weight': 21, 'subsample': 0.865300680774462, 'colsample_bytree': 0.5269211988583493, 'reg_alpha': 4.931187965144573e-07, 'reg_lambda': 1.6840458797753475e-08, 'tree_method': 'auto', 'scale_pos_weight': 1.3876802181299044}. Best is trial 11 with value: 0.7936581195720105.\n",
      "[I 2025-02-28 04:04:52,321] Trial 19 finished with value: 0.7937385484025892 and parameters: {'n_estimators': 2000, 'max_bin': 280, 'learning_rate': 0.016329200549517805, 'max_depth': 6, 'gamma': 1.3213893059279136, 'min_child_weight': 18, 'subsample': 0.8000359696973528, 'colsample_bytree': 0.4276376596915424, 'reg_alpha': 0.10285449274081016, 'reg_lambda': 6.631207113993444e-06, 'tree_method': 'auto', 'scale_pos_weight': 1.2324399837366344}. Best is trial 19 with value: 0.7937385484025892.\n",
      "[I 2025-02-28 04:57:42,516] Trial 20 finished with value: 0.7934917884223303 and parameters: {'n_estimators': 2000, 'max_bin': 300, 'learning_rate': 0.016204001358595666, 'max_depth': 6, 'gamma': 0.8704629483626519, 'min_child_weight': 18, 'subsample': 0.7702761573928434, 'colsample_bytree': 0.4305388045715682, 'reg_alpha': 9.16263796108648e-08, 'reg_lambda': 9.16757795307738e-06, 'tree_method': 'auto', 'scale_pos_weight': 1.2641949860942356}. Best is trial 19 with value: 0.7937385484025892.\n",
      "[I 2025-02-28 05:47:17,067] Trial 21 finished with value: 0.7936131921910297 and parameters: {'n_estimators': 1950, 'max_bin': 280, 'learning_rate': 0.016241601380866638, 'max_depth': 6, 'gamma': 1.3548922468098545, 'min_child_weight': 18, 'subsample': 0.8102929101100227, 'colsample_bytree': 0.42664117930691275, 'reg_alpha': 0.10368466943556207, 'reg_lambda': 1.2175562353695081e-06, 'tree_method': 'auto', 'scale_pos_weight': 1.07977523615065}. Best is trial 19 with value: 0.7937385484025892.\n",
      "[I 2025-02-28 06:38:53,601] Trial 22 finished with value: 0.7936207611387504 and parameters: {'n_estimators': 1950, 'max_bin': 270, 'learning_rate': 0.01576296136174252, 'max_depth': 6, 'gamma': 1.1599901467519755, 'min_child_weight': 18, 'subsample': 0.80255860407568, 'colsample_bytree': 0.42429530705813406, 'reg_alpha': 0.11331632215322315, 'reg_lambda': 2.9760603205546493e-06, 'tree_method': 'auto', 'scale_pos_weight': 1.1997026002256046}. Best is trial 19 with value: 0.7937385484025892.\n",
      "[I 2025-02-28 07:29:06,733] Trial 23 finished with value: 0.7935727285870289 and parameters: {'n_estimators': 1900, 'max_bin': 270, 'learning_rate': 0.013293678071127519, 'max_depth': 6, 'gamma': 1.1277469381000702, 'min_child_weight': 17, 'subsample': 0.7986621097488953, 'colsample_bytree': 0.41677068902448544, 'reg_alpha': 0.003146612428718038, 'reg_lambda': 8.56449003629416e-06, 'tree_method': 'auto', 'scale_pos_weight': 1.2009941128612158}. Best is trial 19 with value: 0.7937385484025892.\n",
      "[I 2025-02-28 08:10:01,972] Trial 24 finished with value: 0.7925235309789787 and parameters: {'n_estimators': 2000, 'max_bin': 270, 'learning_rate': 0.016115556151279287, 'max_depth': 4, 'gamma': 0.8860345113215439, 'min_child_weight': 19, 'subsample': 0.7719394711375199, 'colsample_bytree': 0.43428589349057967, 'reg_alpha': 0.011659972814066756, 'reg_lambda': 0.0003745263784668907, 'tree_method': 'auto', 'scale_pos_weight': 1.3209710999771125}. Best is trial 19 with value: 0.7937385484025892.\n",
      "[I 2025-02-28 08:54:25,427] Trial 25 finished with value: 0.7936014062368725 and parameters: {'n_estimators': 1900, 'max_bin': 290, 'learning_rate': 0.018168167091835094, 'max_depth': 5, 'gamma': 1.2692493618135312, 'min_child_weight': 18, 'subsample': 0.7804107996660067, 'colsample_bytree': 0.4714376124905911, 'reg_alpha': 0.14113647959925937, 'reg_lambda': 2.476030882554896e-05, 'tree_method': 'auto', 'scale_pos_weight': 1.4105662209261263}. Best is trial 19 with value: 0.7937385484025892.\n",
      "[I 2025-02-28 09:45:21,170] Trial 26 finished with value: 0.7932489012142712 and parameters: {'n_estimators': 1950, 'max_bin': 280, 'learning_rate': 0.013021468864327073, 'max_depth': 6, 'gamma': 0.7357272114889337, 'min_child_weight': 17, 'subsample': 0.803922839762729, 'colsample_bytree': 0.40101095591468644, 'reg_alpha': 0.0001041672612230045, 'reg_lambda': 4.163305064086434e-06, 'tree_method': 'hist', 'scale_pos_weight': 1.4641603474306284}. Best is trial 19 with value: 0.7937385484025892.\n",
      "[I 2025-02-28 10:34:31,243] Trial 27 finished with value: 0.7918957308493996 and parameters: {'n_estimators': 1850, 'max_bin': 270, 'learning_rate': 0.010273180783869884, 'max_depth': 5, 'gamma': 0.951344876898688, 'min_child_weight': 20, 'subsample': 0.763628451922343, 'colsample_bytree': 0.41675255697117797, 'reg_alpha': 2.1940781206085975e-06, 'reg_lambda': 0.0007940691615017009, 'tree_method': 'auto', 'scale_pos_weight': 1.6172917973269572}. Best is trial 19 with value: 0.7937385484025892.\n",
      "[I 2025-02-28 11:39:28,093] Trial 28 finished with value: 0.7937672293274847 and parameters: {'n_estimators': 2000, 'max_bin': 300, 'learning_rate': 0.015707457122900517, 'max_depth': 6, 'gamma': 1.1123686626888019, 'min_child_weight': 19, 'subsample': 0.8209238919203351, 'colsample_bytree': 0.4390549187590039, 'reg_alpha': 0.000516512923097418, 'reg_lambda': 4.571513222461835e-08, 'tree_method': 'auto', 'scale_pos_weight': 1.2195194793386304}. Best is trial 28 with value: 0.7937672293274847.\n"
     ]
    }
   ],
   "source": [
    "#Estudio para maximizar\n",
    "study_completo = optuna.create_study(direction=\"maximize\")\n",
    "\n",
    "#Búsqueda\n",
    "study_completo.optimize(objective_completo, n_trials=100, show_progress_bar=True)\n",
    "\n",
    "print(\"Best trial:\", study_completo.best_trial.number)\n",
    "print(\"Best value (mean AUC):\", study_completo.best_value)\n",
    "print(\"Best hyperparams:\", study_completo.best_params)"
   ]
  },
  {
   "cell_type": "code",
   "execution_count": 19,
   "id": "dbcfcbc0-25ae-47d7-a33b-8890d058e0cb",
   "metadata": {},
   "outputs": [
    {
     "data": {
      "text/html": [
       "<style>#sk-container-id-1 {color: black;}#sk-container-id-1 pre{padding: 0;}#sk-container-id-1 div.sk-toggleable {background-color: white;}#sk-container-id-1 label.sk-toggleable__label {cursor: pointer;display: block;width: 100%;margin-bottom: 0;padding: 0.3em;box-sizing: border-box;text-align: center;}#sk-container-id-1 label.sk-toggleable__label-arrow:before {content: \"▸\";float: left;margin-right: 0.25em;color: #696969;}#sk-container-id-1 label.sk-toggleable__label-arrow:hover:before {color: black;}#sk-container-id-1 div.sk-estimator:hover label.sk-toggleable__label-arrow:before {color: black;}#sk-container-id-1 div.sk-toggleable__content {max-height: 0;max-width: 0;overflow: hidden;text-align: left;background-color: #f0f8ff;}#sk-container-id-1 div.sk-toggleable__content pre {margin: 0.2em;color: black;border-radius: 0.25em;background-color: #f0f8ff;}#sk-container-id-1 input.sk-toggleable__control:checked~div.sk-toggleable__content {max-height: 200px;max-width: 100%;overflow: auto;}#sk-container-id-1 input.sk-toggleable__control:checked~label.sk-toggleable__label-arrow:before {content: \"▾\";}#sk-container-id-1 div.sk-estimator input.sk-toggleable__control:checked~label.sk-toggleable__label {background-color: #d4ebff;}#sk-container-id-1 div.sk-label input.sk-toggleable__control:checked~label.sk-toggleable__label {background-color: #d4ebff;}#sk-container-id-1 input.sk-hidden--visually {border: 0;clip: rect(1px 1px 1px 1px);clip: rect(1px, 1px, 1px, 1px);height: 1px;margin: -1px;overflow: hidden;padding: 0;position: absolute;width: 1px;}#sk-container-id-1 div.sk-estimator {font-family: monospace;background-color: #f0f8ff;border: 1px dotted black;border-radius: 0.25em;box-sizing: border-box;margin-bottom: 0.5em;}#sk-container-id-1 div.sk-estimator:hover {background-color: #d4ebff;}#sk-container-id-1 div.sk-parallel-item::after {content: \"\";width: 100%;border-bottom: 1px solid gray;flex-grow: 1;}#sk-container-id-1 div.sk-label:hover label.sk-toggleable__label {background-color: #d4ebff;}#sk-container-id-1 div.sk-serial::before {content: \"\";position: absolute;border-left: 1px solid gray;box-sizing: border-box;top: 0;bottom: 0;left: 50%;z-index: 0;}#sk-container-id-1 div.sk-serial {display: flex;flex-direction: column;align-items: center;background-color: white;padding-right: 0.2em;padding-left: 0.2em;position: relative;}#sk-container-id-1 div.sk-item {position: relative;z-index: 1;}#sk-container-id-1 div.sk-parallel {display: flex;align-items: stretch;justify-content: center;background-color: white;position: relative;}#sk-container-id-1 div.sk-item::before, #sk-container-id-1 div.sk-parallel-item::before {content: \"\";position: absolute;border-left: 1px solid gray;box-sizing: border-box;top: 0;bottom: 0;left: 50%;z-index: -1;}#sk-container-id-1 div.sk-parallel-item {display: flex;flex-direction: column;z-index: 1;position: relative;background-color: white;}#sk-container-id-1 div.sk-parallel-item:first-child::after {align-self: flex-end;width: 50%;}#sk-container-id-1 div.sk-parallel-item:last-child::after {align-self: flex-start;width: 50%;}#sk-container-id-1 div.sk-parallel-item:only-child::after {width: 0;}#sk-container-id-1 div.sk-dashed-wrapped {border: 1px dashed gray;margin: 0 0.4em 0.5em 0.4em;box-sizing: border-box;padding-bottom: 0.4em;background-color: white;}#sk-container-id-1 div.sk-label label {font-family: monospace;font-weight: bold;display: inline-block;line-height: 1.2em;}#sk-container-id-1 div.sk-label-container {text-align: center;}#sk-container-id-1 div.sk-container {/* jupyter's `normalize.less` sets `[hidden] { display: none; }` but bootstrap.min.css set `[hidden] { display: none !important; }` so we also need the `!important` here to be able to override the default hidden behavior on the sphinx rendered scikit-learn.org. See: https://github.com/scikit-learn/scikit-learn/issues/21755 */display: inline-block !important;position: relative;}#sk-container-id-1 div.sk-text-repr-fallback {display: none;}</style><div id=\"sk-container-id-1\" class=\"sk-top-container\"><div class=\"sk-text-repr-fallback\"><pre>XGBClassifier(base_score=None, booster=None, callbacks=None,\n",
       "              colsample_bylevel=None, colsample_bynode=None,\n",
       "              colsample_bytree=0.5805701710968287, device=None,\n",
       "              early_stopping_rounds=None, enable_categorical=False,\n",
       "              eval_metric=&#x27;auc&#x27;, feature_types=None, gamma=0.4760248458114969,\n",
       "              grow_policy=None, importance_type=None,\n",
       "              interaction_constraints=None, learning_rate=0.017075328698585048,\n",
       "              max_bin=300, max_cat_threshold=None, max_cat_to_onehot=None,\n",
       "              max_delta_step=None, max_depth=5, max_leaves=None,\n",
       "              min_child_weight=23, missing=nan, monotone_constraints=None,\n",
       "              multi_strategy=None, n_estimators=1800, n_jobs=2,\n",
       "              num_parallel_tree=None, random_state=42, ...)</pre><b>In a Jupyter environment, please rerun this cell to show the HTML representation or trust the notebook. <br />On GitHub, the HTML representation is unable to render, please try loading this page with nbviewer.org.</b></div><div class=\"sk-container\" hidden><div class=\"sk-item\"><div class=\"sk-estimator sk-toggleable\"><input class=\"sk-toggleable__control sk-hidden--visually\" id=\"sk-estimator-id-1\" type=\"checkbox\" checked><label for=\"sk-estimator-id-1\" class=\"sk-toggleable__label sk-toggleable__label-arrow\">XGBClassifier</label><div class=\"sk-toggleable__content\"><pre>XGBClassifier(base_score=None, booster=None, callbacks=None,\n",
       "              colsample_bylevel=None, colsample_bynode=None,\n",
       "              colsample_bytree=0.5805701710968287, device=None,\n",
       "              early_stopping_rounds=None, enable_categorical=False,\n",
       "              eval_metric=&#x27;auc&#x27;, feature_types=None, gamma=0.4760248458114969,\n",
       "              grow_policy=None, importance_type=None,\n",
       "              interaction_constraints=None, learning_rate=0.017075328698585048,\n",
       "              max_bin=300, max_cat_threshold=None, max_cat_to_onehot=None,\n",
       "              max_delta_step=None, max_depth=5, max_leaves=None,\n",
       "              min_child_weight=23, missing=nan, monotone_constraints=None,\n",
       "              multi_strategy=None, n_estimators=1800, n_jobs=2,\n",
       "              num_parallel_tree=None, random_state=42, ...)</pre></div></div></div></div></div>"
      ],
      "text/plain": [
       "XGBClassifier(base_score=None, booster=None, callbacks=None,\n",
       "              colsample_bylevel=None, colsample_bynode=None,\n",
       "              colsample_bytree=0.5805701710968287, device=None,\n",
       "              early_stopping_rounds=None, enable_categorical=False,\n",
       "              eval_metric='auc', feature_types=None, gamma=0.4760248458114969,\n",
       "              grow_policy=None, importance_type=None,\n",
       "              interaction_constraints=None, learning_rate=0.017075328698585048,\n",
       "              max_bin=300, max_cat_threshold=None, max_cat_to_onehot=None,\n",
       "              max_delta_step=None, max_depth=5, max_leaves=None,\n",
       "              min_child_weight=23, missing=nan, monotone_constraints=None,\n",
       "              multi_strategy=None, n_estimators=1800, n_jobs=2,\n",
       "              num_parallel_tree=None, random_state=42, ...)"
      ]
     },
     "execution_count": 19,
     "metadata": {},
     "output_type": "execute_result"
    }
   ],
   "source": [
    "best_params = study_completo.best_params\n",
    "final_params= {\n",
    "    **best_params,\n",
    "    \"objective\": \"binary:logistic\",\n",
    "    \"eval_metric\": \"auc\",\n",
    "    \"use_label_encoder\": False,\n",
    "    \"random_state\": 42\n",
    "    }\n",
    "\n",
    "XGB_model = XGBClassifier(**final_params)\n",
    "\n",
    "XGB_model.fit(X_train, y_train)"
   ]
  },
  {
   "cell_type": "code",
   "execution_count": 21,
   "id": "4062c824-b41b-4306-9b1b-684b30d74689",
   "metadata": {},
   "outputs": [
    {
     "name": "stdout",
     "output_type": "stream",
     "text": [
      "AUC en test: 0.7717\n"
     ]
    }
   ],
   "source": [
    "from sklearn.metrics import roc_auc_score\n",
    "\n",
    "y_pred_proba = XGB_model.predict_proba(X_test)[:, 1]\n",
    "auc_test = roc_auc_score(y_test, y_pred_proba)\n",
    "print(f\"AUC en test: {auc_test:.4f}\")\n"
   ]
  },
  {
   "cell_type": "code",
   "execution_count": null,
   "id": "63bde924-4e5f-41a3-9aad-58fa0a9716c5",
   "metadata": {},
   "outputs": [],
   "source": [
    "Primera prueba:\n",
    "|    |   number |    value | datetime_start             | datetime_complete          | duration               |   params_colsample_bytree |   params_gamma |   params_learning_rate |   params_max_depth |   params_min_child_weight |   params_n_estimators |   params_reg_alpha |   params_reg_lambda |   params_scale_pos_weight |   params_subsample | state    |\r\n",
    "|----+----------+----------+----------------------------+----------------------------+------------------------+---------------------------+----------------+------------------------+--------------------+---------------------------+-----------------------+--------------------+---------------------+---------------------------+--------------------+----------|\r\n",
    "| 35 |       35 | 0.766467 | 2025-02-23 19:05:51.648664 | 2025-02-23 19:23:42.992309 | 0 days 00:17:51.343645 |                  0.609149 |        2.79174 |             0.016566   |                  7 |                        14 |                   950 |        2.98383e-07 |         0.000771683 |                   1.7469  |           0.753771 | COMPLETE \n",
    "Tras una segunda prueba añadiendo más HP y acotando algunos rangos obtenemos:\n",
    "\n",
    "|    |   number |    value | datetime_start             | datetime_complete          | duration               |   params_colsample_bytree |   params_gamma |   params_learning_rate |   params_max_bin |   params_max_depth |   params_min_child_weight |   params_n_estimators |   params_n_jobs |   params_reg_alpha |   params_reg_lambda |   params_scale_pos_weight |   params_subsample | params_tree_method   | state    |\n",
    "|----+----------+----------+----------------------------+----------------------------+------------------------+---------------------------+----------------+------------------------+------------------+--------------------+---------------------------+-----------------------+-----------------+--------------------+---------------------+---------------------------+--------------------+----------------------+----------|\n",
    "| 42 |       42 | 0.767633 | 2025-02-24 17:35:27.403636 | 2025-02-24 17:49:11.175013 | 0 days 00:13:43.771377 |                  0.58057  |       0.476025 |              0.0170753 |              300 |                  5 |                        23 |                  1800 |               2 |        2.30559e-07 |         2.39006e-05 |                   1.25498 |           0.788019 | hist                 | COMPLETE |\n",
    "\n",
    "Y si realizamos una prueba en el test con estos valores obtenemos:\n",
    "-AUC en test: 0.7717\n",
    "\n",
    "\n",
    "-He detenido las pruebas porque me estaba yendo demasiado lento:\n",
    "[I 2025-02-26 12:07:34,193] Trial 2 finished with value: 0.7938360589390858 and parameters: {'n_estimators': 1700, 'max_bin': 320, 'learning_rate': 0.016029922136908095, 'max_depth': 6, 'gamma': 0.8414416893725896, 'min_child_weight': 21, 'subsample': 0.8023911163856219, 'colsample_bytree': 0.5298608589445156, 'reg_alpha': 1.8193616624679977e-06, 'reg_lambda': 1.0784883537935654e-06, 'tree_method': 'auto', 'scale_pos_weight': 1.1284697519313376}. Best is trial 2 with value: 0.7938360589390858.|\r\n"
   ]
  },
  {
   "cell_type": "code",
   "execution_count": null,
   "id": "a2127ece-2f5f-42c9-9987-d54ae736b191",
   "metadata": {},
   "outputs": [],
   "source": []
  }
 ],
 "metadata": {
  "kernelspec": {
   "display_name": "tfg-py3.12",
   "language": "python",
   "name": "tfg-py3.12"
  },
  "language_info": {
   "codemirror_mode": {
    "name": "ipython",
    "version": 3
   },
   "file_extension": ".py",
   "mimetype": "text/x-python",
   "name": "python",
   "nbconvert_exporter": "python",
   "pygments_lexer": "ipython3",
   "version": "3.12.8"
  }
 },
 "nbformat": 4,
 "nbformat_minor": 5
}
