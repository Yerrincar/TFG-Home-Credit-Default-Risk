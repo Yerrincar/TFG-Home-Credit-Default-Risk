{
 "cells": [
  {
   "cell_type": "code",
   "execution_count": 1,
   "id": "e245e390-2bf9-44e7-8461-95933e92f1d7",
   "metadata": {},
   "outputs": [
    {
     "name": "stdout",
     "output_type": "stream",
     "text": [
      "Python executable: /home/yeray/miniconda3/envs/tfg-py3.12/bin/python\n",
      "1.26.4\n",
      "Directorio actual: /home/yeray/TFG-Home-Credit-Default-Risk/JUPYTER_NOTEBOOKS\n"
     ]
    }
   ],
   "source": [
    "#Celda para librerías\n",
    "import sklearn as sk\n",
    "import sys\n",
    "print(\"Python executable:\", sys.executable)\n",
    "\n",
    "import matplotlib as plt\n",
    "import matplotlib.pyplot as plt\n",
    "\n",
    "import pandas as pd\n",
    "import seaborn as sns\n",
    "import numpy as np\n",
    "from sklearn.model_selection import train_test_split, cross_val_score\n",
    "\n",
    "import optuna\n",
    "from sklearn.model_selection import StratifiedKFold\n",
    "from sklearn.metrics import roc_auc_score\n",
    "\n",
    "#XGBoost\n",
    "from xgboost import XGBClassifier\n",
    "\n",
    "\n",
    "\n",
    "from hyperopt import hp, fmin, tpe, STATUS_OK, Trials\n",
    "from sklearn.model_selection import cross_val_score\n",
    "\n",
    "\n",
    "import json\n",
    "\n",
    "import warnings\n",
    "warnings.filterwarnings('ignore')\n",
    "\n",
    "print(np.__version__)\n",
    "from ydata_profiling import ProfileReport\n",
    "import os\n",
    "print(\"Directorio actual:\", os.getcwd())\n",
    "\n",
    "# Have all columns appear when dataframes are displayed.\n",
    "pd.set_option('display.max_columns', None) \n",
    "# Have 100 rows appear when a dataframe is displayed\n",
    "pd.set_option('display.max_rows', 500)\n",
    "# Display dimensions whenever a dataframe is printed out.\n",
    "pd.set_option('display.show_dimensions', True)\n",
    "\n",
    "#Importando los datos\n",
    "\n",
    "#app_train_def = pd.read_csv(r'/home/yeray/TFG-Home-Credit-Default-Risk/JUPYTER_NOTEBOOKS/DATA/application_train_preprocesado_definitivo_v1.csv')\n",
    "#app_train_def_2 = pd.read_csv(r'/home/yeray/TFG-Home-Credit-Default-Risk/JUPYTER_NOTEBOOKS/DATA/application_train_preprocesado_definitivo_v2.csv')\n",
    "#app_train_def_3 = pd.read_csv(r'/home/yeray/TFG-Home-Credit-Default-Risk/JUPYTER_NOTEBOOKS/DATA/application_train_preprocesado_definitivo_v3.csv')\n",
    "#app_train_def_4 = pd.read_csv(r'/home/yeray/TFG-Home-Credit-Default-Risk/JUPYTER_NOTEBOOKS/DATA/application_train_preprocesado_definitivo_v4.csv')\n",
    "#app_train_def_5 = pd.read_csv(r'/home/yeray/TFG-Home-Credit-Default-Risk/JUPYTER_NOTEBOOKS/DATA/application_train_preprocesado_definitivo_v5.csv')\n",
    "app_train_def_7 = pd.read_csv(r'/home/yeray/TFG-Home-Credit-Default-Risk/JUPYTER_NOTEBOOKS/DATA/application_train_preprocesado_definitivo_v7.csv')\n",
    "app_train_def_7_v2 = pd.read_csv(r'/home/yeray/TFG-Home-Credit-Default-Risk/JUPYTER_NOTEBOOKS/DATA/app_def_v7_menor_dimension.csv')\n",
    "\n",
    "#print(app_train_def_7.info())\n",
    "#print(app_train_def_7.shape)"
   ]
  },
  {
   "cell_type": "code",
   "execution_count": 2,
   "id": "d040e960-9702-4d99-afa2-34196f1f194f",
   "metadata": {},
   "outputs": [],
   "source": [
    "X = app_train_def_7_v2.drop(columns = ['TARGET'])\n",
    "y = app_train_def_7_v2['TARGET']\n",
    "X_train, X_test, y_train, y_test = train_test_split(X, y, test_size=0.2, random_state=42, stratify=y)\n",
    "\n",
    "X_train.columns = X_train.columns.str.replace('[^A-Za-z0-9_]+', '', regex=True)\n",
    "X_test.columns = X_test.columns.str.replace('[^A-Za-z0-9_]+', '', regex=True)"
   ]
  },
  {
   "cell_type": "code",
   "execution_count": null,
   "id": "89f6a6bd-9539-4469-9703-c4a73d78d699",
   "metadata": {},
   "outputs": [],
   "source": [
    "def objective(trial):\n",
    "    params = {\n",
    "        \"n_estimators\": trial.suggest_int(\"n_estimators\", 900, 1800, step=50),\n",
    "        \"max_bin\": trial.suggest_int(\"max_bin\", 200, 400, step=10),\n",
    "        \"learning_rate\": trial.suggest_float(\"learning_rate\", 0.01, 0.03, log=True),\n",
    "        \"max_depth\": trial.suggest_int(\"max_depth\", -1, 10),\n",
    "        \"gamma\": trial.suggest_float(\"gamma\", 0, 3),\n",
    "        \"min_child_weight\": trial.suggest_int(\"min_child_weight\", 12, 24),\n",
    "        \"subsample\": trial.suggest_float(\"subsample\", 0.6, 0.95),\n",
    "        \"colsample_bytree\": trial.suggest_float(\"colsample_bytree\", 0.4, 0.8),\n",
    "        \"reg_alpha\": trial.suggest_float(\"reg_alpha\", 1e-8, 1.0, log=True),\n",
    "        \"reg_lambda\": trial.suggest_float(\"reg_lambda\", 1e-8, 10.0, log=True),\n",
    "        \"tree_method\": trial.suggest_categorical(\"tree_method\", [\"auto\", \"hist\"])\n",
    "        \"scale_pos_weight\": trial.suggest_float(\"scale_pos_weight\", 1.0, 3.0),\n",
    "    }\n",
    "    model = XGBClassifier(\n",
    "        **params,\n",
    "        objective=\"binary:logistic\",\n",
    "        eval_metric=\"auc\",\n",
    "        use_label_encoder=False,\n",
    "        random_state=42,\n",
    "        n_jobs=-1\n",
    "    )\n",
    "\n",
    "    cv=StratifiedKFold(n_splits=5, shuffle=True, random_state=42)\n",
    "    scores = cross_val_score(model,X_train, y_train, scoring='roc_auc', cv=cv)\n",
    "\n",
    "    return scores.mean()"
   ]
  },
  {
   "cell_type": "code",
   "execution_count": null,
   "id": "533c5cb0-c2de-4021-bd7b-9f255de7f864",
   "metadata": {},
   "outputs": [],
   "source": [
    "#Estudio para maximizar\n",
    "study = optuna.create_study(direction=\"maximize\")\n",
    "\n",
    "#Búsqueda\n",
    "study.optimize(objective, n_trials=50, show_progress_bar=True)\n",
    "\n",
    "print(\"Best trial:\", study.best_trial.number)\n",
    "print(\"Best value (mean AUC):\", study.best_value)\n",
    "print(\"Best hyperparams:\", study.best_params)"
   ]
  },
  {
   "cell_type": "code",
   "execution_count": null,
   "id": "af115205-c7c8-44e7-8904-65e4e0afdc48",
   "metadata": {},
   "outputs": [],
   "source": [
    "import pickle\n",
    "with open(\"XGBoost_Optuna_Study_v1_space_reducido_mas_hiperpara.pkl\", \"wb\") as f:\n",
    "    pickle.dump(study, f)\n",
    "with open(\"XGBoost_Optuna_Study_v1_space_reducido_mas_hiperpara.pkl\", \"rb\") as f:\n",
    "    loaded_study = pickle.load(f)"
   ]
  },
  {
   "cell_type": "code",
   "execution_count": null,
   "id": "37e3232c-a287-4aea-a9fc-daaeb366da08",
   "metadata": {},
   "outputs": [],
   "source": [
    "from tabulate import tabulate\n",
    "\n",
    "trials_df = loaded_study.trials_dataframe()\n",
    "\n",
    "df_sorted = trials_df.sort_values(by=\"value\", ascending=False)\n",
    "best_10 = df_sorted.head(10)\n",
    "\n",
    "print(tabulate(best_10, headers=\"keys\", tablefmt=\"psql\"))"
   ]
  },
  {
   "cell_type": "code",
   "execution_count": 3,
   "id": "0c0af959-bbf9-4aac-bd65-de821d8ed0e4",
   "metadata": {},
   "outputs": [],
   "source": [
    "def objective_completo(trial):\n",
    "    params = {\n",
    "        \"n_estimators\": trial.suggest_int(\"n_estimators\", 1900, 2300, step=50),\n",
    "        \"max_bin\": trial.suggest_int(\"max_bin\", 270, 350, step=10),\n",
    "        \"learning_rate\": trial.suggest_float(\"learning_rate\", 0.01, 0.025, log=True),\n",
    "        \"max_depth\": trial.suggest_int(\"max_depth\", 3, 6),\n",
    "        \"gamma\": trial.suggest_float(\"gamma\", 0.5, 1.0),\n",
    "        \"min_child_weight\": trial.suggest_int(\"min_child_weight\", 20, 40),\n",
    "        \"subsample\": trial.suggest_float(\"subsample\", 0.75, 0.9),\n",
    "        \"colsample_bytree\": trial.suggest_float(\"colsample_bytree\", 0.4, 0.6),\n",
    "        \"reg_alpha\": trial.suggest_float(\"reg_alpha\", 1e-8, 1.0, log=True),\n",
    "        \"reg_lambda\": trial.suggest_float(\"reg_lambda\", 1e-8, 50.0, log=True),\n",
    "        \"tree_method\": trial.suggest_categorical(\"tree_method\", [\"auto\", \"hist\"]),\n",
    "        \"scale_pos_weight\": trial.suggest_float(\"scale_pos_weight\", 1.0, 1.5),\n",
    "    }\n",
    "    model = XGBClassifier(\n",
    "        **params,\n",
    "        objective=\"binary:logistic\",\n",
    "        eval_metric=\"auc\",\n",
    "        use_label_encoder=False,\n",
    "        random_state=42,\n",
    "        n_jobs=20\n",
    "    )\n",
    "\n",
    "    cv=StratifiedKFold(n_splits=5, shuffle=True, random_state=42)\n",
    "    scores = cross_val_score(model,X_train, y_train, scoring='roc_auc', cv=cv)\n",
    "\n",
    "    return scores.mean()"
   ]
  },
  {
   "cell_type": "code",
   "execution_count": null,
   "id": "284b9917-aff7-40df-bee8-8cc073b70442",
   "metadata": {},
   "outputs": [
    {
     "name": "stderr",
     "output_type": "stream",
     "text": [
      "[I 2025-03-29 13:22:26,801] A new study created in memory with name: no-name-d4088ff9-3dc5-46cb-9799-1ccff20cc444\n"
     ]
    },
    {
     "data": {
      "application/vnd.jupyter.widget-view+json": {
       "model_id": "99e5cfe225f44cdabfc4e26212060f3e",
       "version_major": 2,
       "version_minor": 0
      },
      "text/plain": [
       "  0%|          | 0/100 [00:00<?, ?it/s]"
      ]
     },
     "metadata": {},
     "output_type": "display_data"
    },
    {
     "name": "stdout",
     "output_type": "stream",
     "text": [
      "[I 2025-03-29 13:54:37,323] Trial 0 finished with value: 0.7902075675874253 and parameters: {'n_estimators': 2300, 'max_bin': 280, 'learning_rate': 0.01530936396522017, 'max_depth': 3, 'gamma': 0.6071188923179367, 'min_child_weight': 40, 'subsample': 0.8392198371543089, 'colsample_bytree': 0.44403078534421353, 'reg_alpha': 1.0896242620189444e-05, 'reg_lambda': 7.790073245598688e-05, 'tree_method': 'hist', 'scale_pos_weight': 1.1748492445414762}. Best is trial 0 with value: 0.7902075675874253.\n",
      "[I 2025-03-29 14:32:32,303] Trial 1 finished with value: 0.7928603329251712 and parameters: {'n_estimators': 2200, 'max_bin': 330, 'learning_rate': 0.016561002274733852, 'max_depth': 4, 'gamma': 0.9212004446418429, 'min_child_weight': 28, 'subsample': 0.7738487122460812, 'colsample_bytree': 0.5628714635074925, 'reg_alpha': 6.532255243051278e-08, 'reg_lambda': 0.0004280041063339582, 'tree_method': 'hist', 'scale_pos_weight': 1.3275991061848482}. Best is trial 1 with value: 0.7928603329251712.\n",
      "[I 2025-03-29 15:15:39,277] Trial 2 finished with value: 0.7903816765080712 and parameters: {'n_estimators': 2250, 'max_bin': 350, 'learning_rate': 0.010538468906387847, 'max_depth': 4, 'gamma': 0.5947899491439343, 'min_child_weight': 40, 'subsample': 0.8346607663995083, 'colsample_bytree': 0.5132571051702388, 'reg_alpha': 0.000692952185107035, 'reg_lambda': 45.81441194026351, 'tree_method': 'hist', 'scale_pos_weight': 1.0145614262900526}. Best is trial 1 with value: 0.7928603329251712.\n",
      "[I 2025-03-29 15:53:07,785] Trial 3 finished with value: 0.7932707747395431 and parameters: {'n_estimators': 2100, 'max_bin': 290, 'learning_rate': 0.022757142002332757, 'max_depth': 6, 'gamma': 0.5784040230954522, 'min_child_weight': 30, 'subsample': 0.884580873739828, 'colsample_bytree': 0.4709812791473848, 'reg_alpha': 5.665376796850696e-07, 'reg_lambda': 5.777650733613799e-08, 'tree_method': 'hist', 'scale_pos_weight': 1.440419821140256}. Best is trial 3 with value: 0.7932707747395431.\n",
      "[I 2025-03-29 16:27:43,856] Trial 4 finished with value: 0.793331596389533 and parameters: {'n_estimators': 2000, 'max_bin': 300, 'learning_rate': 0.014784057918421101, 'max_depth': 5, 'gamma': 0.6501529905440739, 'min_child_weight': 35, 'subsample': 0.7783675410871109, 'colsample_bytree': 0.4406254167827019, 'reg_alpha': 1.6819066948234423e-06, 'reg_lambda': 9.59342370394702e-08, 'tree_method': 'auto', 'scale_pos_weight': 1.2698761959110063}. Best is trial 4 with value: 0.793331596389533.\n",
      "[I 2025-03-29 17:00:18,021] Trial 5 finished with value: 0.7908963546350263 and parameters: {'n_estimators': 2000, 'max_bin': 310, 'learning_rate': 0.011747468375725146, 'max_depth': 4, 'gamma': 0.9707782594605747, 'min_child_weight': 35, 'subsample': 0.8485521153240787, 'colsample_bytree': 0.41027836240983295, 'reg_alpha': 2.544018662299741e-06, 'reg_lambda': 0.006451403501725891, 'tree_method': 'hist', 'scale_pos_weight': 1.1985540959388368}. Best is trial 4 with value: 0.793331596389533.\n",
      "[I 2025-03-29 17:42:10,040] Trial 6 finished with value: 0.7929734529921605 and parameters: {'n_estimators': 1900, 'max_bin': 340, 'learning_rate': 0.010068138010935397, 'max_depth': 6, 'gamma': 0.9458645632765871, 'min_child_weight': 34, 'subsample': 0.768004551296271, 'colsample_bytree': 0.5854551749311284, 'reg_alpha': 6.470428946043735e-05, 'reg_lambda': 0.01632399389253501, 'tree_method': 'hist', 'scale_pos_weight': 1.23489362864585}. Best is trial 4 with value: 0.793331596389533.\n",
      "[I 2025-03-29 18:19:04,918] Trial 7 finished with value: 0.7936926873952089 and parameters: {'n_estimators': 2000, 'max_bin': 340, 'learning_rate': 0.017088301415729965, 'max_depth': 5, 'gamma': 0.915138141553962, 'min_child_weight': 22, 'subsample': 0.893433855655104, 'colsample_bytree': 0.4058926555899355, 'reg_alpha': 0.00013429484433234547, 'reg_lambda': 0.0023129785924405908, 'tree_method': 'hist', 'scale_pos_weight': 1.1129589074290602}. Best is trial 7 with value: 0.7936926873952089.\n",
      "[I 2025-03-29 18:50:24,153] Trial 8 finished with value: 0.790080905151651 and parameters: {'n_estimators': 2150, 'max_bin': 310, 'learning_rate': 0.015581969481377377, 'max_depth': 3, 'gamma': 0.6499812832217271, 'min_child_weight': 33, 'subsample': 0.8277562848639453, 'colsample_bytree': 0.48974763485504, 'reg_alpha': 0.0009813766663268463, 'reg_lambda': 0.00018694083200181716, 'tree_method': 'hist', 'scale_pos_weight': 1.492881052068122}. Best is trial 7 with value: 0.7936926873952089.\n",
      "[I 2025-03-29 19:36:04,452] Trial 9 finished with value: 0.7924781534299712 and parameters: {'n_estimators': 2300, 'max_bin': 350, 'learning_rate': 0.024770799493198402, 'max_depth': 6, 'gamma': 0.8017281290683018, 'min_child_weight': 20, 'subsample': 0.8964005643270726, 'colsample_bytree': 0.4047033858392135, 'reg_alpha': 9.478612494852563e-08, 'reg_lambda': 1.167598445494264e-05, 'tree_method': 'hist', 'scale_pos_weight': 1.046825004352077}. Best is trial 7 with value: 0.7936926873952089.\n",
      "[I 2025-03-29 20:10:43,796] Trial 10 finished with value: 0.7936330353672986 and parameters: {'n_estimators': 1900, 'max_bin': 330, 'learning_rate': 0.01899142390681729, 'max_depth': 5, 'gamma': 0.8032504245768822, 'min_child_weight': 20, 'subsample': 0.8706698861510532, 'colsample_bytree': 0.5323813582371173, 'reg_alpha': 0.30303078579865966, 'reg_lambda': 1.199743625895768, 'tree_method': 'auto', 'scale_pos_weight': 1.1077331064224831}. Best is trial 7 with value: 0.7936926873952089.\n",
      "[I 2025-03-29 20:39:38,545] Trial 11 finished with value: 0.7939404819310493 and parameters: {'n_estimators': 1900, 'max_bin': 330, 'learning_rate': 0.019744238933918645, 'max_depth': 5, 'gamma': 0.8218402859552236, 'min_child_weight': 20, 'subsample': 0.8695060662623143, 'colsample_bytree': 0.5339676627310765, 'reg_alpha': 0.3347502401921264, 'reg_lambda': 1.494972611724226, 'tree_method': 'auto', 'scale_pos_weight': 1.1108230238645842}. Best is trial 11 with value: 0.7939404819310493.\n",
      "[I 2025-03-29 21:00:43,666] Trial 12 finished with value: 0.7937780277188496 and parameters: {'n_estimators': 2000, 'max_bin': 330, 'learning_rate': 0.019779808052390022, 'max_depth': 5, 'gamma': 0.8548241615439786, 'min_child_weight': 24, 'subsample': 0.8679276840778531, 'colsample_bytree': 0.5389456603925522, 'reg_alpha': 0.7673528594975474, 'reg_lambda': 0.26126619358676556, 'tree_method': 'auto', 'scale_pos_weight': 1.0934633880920321}. Best is trial 11 with value: 0.7939404819310493.\n",
      "[I 2025-03-29 21:20:52,751] Trial 13 finished with value: 0.7941761769184614 and parameters: {'n_estimators': 1950, 'max_bin': 320, 'learning_rate': 0.020472916822513672, 'max_depth': 5, 'gamma': 0.8389013617237961, 'min_child_weight': 24, 'subsample': 0.8615051324150585, 'colsample_bytree': 0.5421358699756488, 'reg_alpha': 0.9506179827832495, 'reg_lambda': 0.5680133506551892, 'tree_method': 'auto', 'scale_pos_weight': 1.1073121076189663}. Best is trial 13 with value: 0.7941761769184614.\n",
      "[I 2025-03-29 21:41:22,838] Trial 14 finished with value: 0.793841095110021 and parameters: {'n_estimators': 1900, 'max_bin': 320, 'learning_rate': 0.020610691193748927, 'max_depth': 5, 'gamma': 0.733944694487688, 'min_child_weight': 25, 'subsample': 0.8076187195806761, 'colsample_bytree': 0.5615400892931417, 'reg_alpha': 0.04696326273194043, 'reg_lambda': 22.9756958070434, 'tree_method': 'auto', 'scale_pos_weight': 1.154736718238421}. Best is trial 13 with value: 0.7941761769184614.\n",
      "[I 2025-03-29 21:58:22,082] Trial 15 finished with value: 0.793396470934489 and parameters: {'n_estimators': 1950, 'max_bin': 320, 'learning_rate': 0.022186509342723922, 'max_depth': 4, 'gamma': 0.7434898695089696, 'min_child_weight': 26, 'subsample': 0.8593426625702749, 'colsample_bytree': 0.5989721335804252, 'reg_alpha': 0.018042853982924215, 'reg_lambda': 0.5656729533762418, 'tree_method': 'auto', 'scale_pos_weight': 1.3110183901394126}. Best is trial 13 with value: 0.7941761769184614.\n",
      "[I 2025-03-29 22:20:45,499] Trial 16 finished with value: 0.7936553742644775 and parameters: {'n_estimators': 2100, 'max_bin': 270, 'learning_rate': 0.018288794745499208, 'max_depth': 6, 'gamma': 0.8524355032492431, 'min_child_weight': 23, 'subsample': 0.808336269968946, 'colsample_bytree': 0.5251213661216665, 'reg_alpha': 0.020536741373295846, 'reg_lambda': 0.03787127341096876, 'tree_method': 'auto', 'scale_pos_weight': 1.0565476951759085}. Best is trial 13 with value: 0.7941761769184614.\n",
      "[I 2025-03-29 22:42:19,238] Trial 17 finished with value: 0.7931093431125242 and parameters: {'n_estimators': 2050, 'max_bin': 300, 'learning_rate': 0.013510579863171945, 'max_depth': 5, 'gamma': 0.8599106149749659, 'min_child_weight': 27, 'subsample': 0.8790135139408277, 'colsample_bytree': 0.49177910528601354, 'reg_alpha': 0.1537834779390432, 'reg_lambda': 3.875287120124276, 'tree_method': 'auto', 'scale_pos_weight': 1.137875117982896}. Best is trial 13 with value: 0.7941761769184614.\n",
      "[I 2025-03-29 22:59:38,669] Trial 18 finished with value: 0.7928935418176974 and parameters: {'n_estimators': 1950, 'max_bin': 300, 'learning_rate': 0.024753304605559433, 'max_depth': 4, 'gamma': 0.7054424364605487, 'min_child_weight': 22, 'subsample': 0.8513490946826492, 'colsample_bytree': 0.5543939148971003, 'reg_alpha': 0.00259450192694219, 'reg_lambda': 0.0693929817186445, 'tree_method': 'auto', 'scale_pos_weight': 1.2127530215664677}. Best is trial 13 with value: 0.7941761769184614.\n",
      "[I 2025-03-29 23:37:55,891] Trial 19 finished with value: 0.7938070600248326 and parameters: {'n_estimators': 1950, 'max_bin': 320, 'learning_rate': 0.02166173764490705, 'max_depth': 6, 'gamma': 0.5103393699538121, 'min_child_weight': 30, 'subsample': 0.8056100048144927, 'colsample_bytree': 0.5063412480813835, 'reg_alpha': 0.980581216004358, 'reg_lambda': 1.8355270817785974, 'tree_method': 'auto', 'scale_pos_weight': 1.3742872905293109}. Best is trial 13 with value: 0.7941761769184614.\n",
      "[I 2025-03-30 00:15:07,561] Trial 20 finished with value: 0.7929726498052249 and parameters: {'n_estimators': 2050, 'max_bin': 340, 'learning_rate': 0.0133021090164769, 'max_depth': 5, 'gamma': 0.7895743819060308, 'min_child_weight': 21, 'subsample': 0.8639524779631359, 'colsample_bytree': 0.5831282202954466, 'reg_alpha': 0.005519269438787894, 'reg_lambda': 9.200268029242223e-06, 'tree_method': 'auto', 'scale_pos_weight': 1.0068618982777222}. Best is trial 13 with value: 0.7941761769184614.\n",
      "[I 2025-03-30 00:49:23,970] Trial 21 finished with value: 0.7941332060109266 and parameters: {'n_estimators': 1900, 'max_bin': 320, 'learning_rate': 0.02034572734340576, 'max_depth': 5, 'gamma': 0.7244304659262824, 'min_child_weight': 25, 'subsample': 0.8033007502117115, 'colsample_bytree': 0.5637187992242274, 'reg_alpha': 0.0674570724382235, 'reg_lambda': 31.518889559231347, 'tree_method': 'auto', 'scale_pos_weight': 1.1588500586389132}. Best is trial 13 with value: 0.7941761769184614.\n",
      "[I 2025-03-30 01:22:59,731] Trial 22 finished with value: 0.7937205239452534 and parameters: {'n_estimators': 1900, 'max_bin': 310, 'learning_rate': 0.017613546445867472, 'max_depth': 5, 'gamma': 0.6964788182387099, 'min_child_weight': 24, 'subsample': 0.7985425894674109, 'colsample_bytree': 0.5467286845081848, 'reg_alpha': 0.09232317263050747, 'reg_lambda': 9.198601755090372, 'tree_method': 'auto', 'scale_pos_weight': 1.0682037686191308}. Best is trial 13 with value: 0.7941761769184614.\n",
      "[I 2025-03-30 01:56:40,265] Trial 23 finished with value: 0.7939617140067032 and parameters: {'n_estimators': 1950, 'max_bin': 320, 'learning_rate': 0.020354068126708546, 'max_depth': 5, 'gamma': 0.7694272537761592, 'min_child_weight': 29, 'subsample': 0.7948106828809213, 'colsample_bytree': 0.5748589125743822, 'reg_alpha': 0.17255244149784657, 'reg_lambda': 0.16670121570874058, 'tree_method': 'auto', 'scale_pos_weight': 1.1472102194378178}. Best is trial 13 with value: 0.7941761769184614.\n",
      "[I 2025-03-30 03:26:24,248] Trial 24 finished with value: 0.7933008056015914 and parameters: {'n_estimators': 1950, 'max_bin': 320, 'learning_rate': 0.02095702367500203, 'max_depth': 4, 'gamma': 0.7631602294433026, 'min_child_weight': 29, 'subsample': 0.7881360762687415, 'colsample_bytree': 0.573967278477705, 'reg_alpha': 0.009714496012210985, 'reg_lambda': 0.270626986470705, 'tree_method': 'auto', 'scale_pos_weight': 1.1653849631172513}. Best is trial 13 with value: 0.7941761769184614.\n",
      "[I 2025-03-30 03:58:43,334] Trial 25 finished with value: 0.7936990133355238 and parameters: {'n_estimators': 2050, 'max_bin': 310, 'learning_rate': 0.023276618943442906, 'max_depth': 5, 'gamma': 0.891099957500834, 'min_child_weight': 32, 'subsample': 0.8206386238848761, 'colsample_bytree': 0.5730537067931679, 'reg_alpha': 0.06603213510789556, 'reg_lambda': 0.10576506963510254, 'tree_method': 'auto', 'scale_pos_weight': 1.2720514694798053}. Best is trial 13 with value: 0.7941761769184614.\n",
      "[I 2025-03-30 04:35:44,095] Trial 26 finished with value: 0.7940874757655362 and parameters: {'n_estimators': 1950, 'max_bin': 320, 'learning_rate': 0.018426593818362282, 'max_depth': 6, 'gamma': 0.696352785319171, 'min_child_weight': 26, 'subsample': 0.7580881472716978, 'colsample_bytree': 0.5992225597545289, 'reg_alpha': 0.1838631567535633, 'reg_lambda': 7.142349280102348, 'tree_method': 'auto', 'scale_pos_weight': 1.197888993007207}. Best is trial 13 with value: 0.7941761769184614.\n",
      "[I 2025-03-30 05:14:12,975] Trial 27 finished with value: 0.7941414627393888 and parameters: {'n_estimators': 2150, 'max_bin': 290, 'learning_rate': 0.018717031602691454, 'max_depth': 6, 'gamma': 0.6968037277738436, 'min_child_weight': 25, 'subsample': 0.7603167534991054, 'colsample_bytree': 0.5958985449444216, 'reg_alpha': 0.027574753610585725, 'reg_lambda': 7.626652155732223, 'tree_method': 'auto', 'scale_pos_weight': 1.203171076051142}. Best is trial 13 with value: 0.7941761769184614.\n",
      "[I 2025-03-30 05:53:44,549] Trial 28 finished with value: 0.7940944984882223 and parameters: {'n_estimators': 2150, 'max_bin': 290, 'learning_rate': 0.018889588303878723, 'max_depth': 6, 'gamma': 0.6525576094829642, 'min_child_weight': 25, 'subsample': 0.753129789046152, 'colsample_bytree': 0.5202599666487355, 'reg_alpha': 0.0015374757658811276, 'reg_lambda': 23.44825184763066, 'tree_method': 'auto', 'scale_pos_weight': 1.2377102775774182}. Best is trial 13 with value: 0.7941761769184614.\n",
      "[I 2025-03-30 06:20:55,141] Trial 29 finished with value: 0.7901961804803314 and parameters: {'n_estimators': 2150, 'max_bin': 280, 'learning_rate': 0.016209208946101526, 'max_depth': 3, 'gamma': 0.7203577838700319, 'min_child_weight': 23, 'subsample': 0.8434343369973102, 'colsample_bytree': 0.549837171230992, 'reg_alpha': 0.0002879155156294953, 'reg_lambda': 7.444146692084093, 'tree_method': 'auto', 'scale_pos_weight': 1.1911754032733997}. Best is trial 13 with value: 0.7941761769184614.\n",
      "[I 2025-03-30 07:00:52,352] Trial 30 finished with value: 0.7938691714158965 and parameters: {'n_estimators': 2200, 'max_bin': 270, 'learning_rate': 0.014884170482979924, 'max_depth': 6, 'gamma': 0.6637298903350782, 'min_child_weight': 26, 'subsample': 0.8212541120992294, 'colsample_bytree': 0.5908033004611748, 'reg_alpha': 4.018647411256809e-05, 'reg_lambda': 0.0013665184223495563, 'tree_method': 'auto', 'scale_pos_weight': 1.3092217488677056}. Best is trial 13 with value: 0.7941761769184614.\n",
      "[I 2025-03-30 07:40:06,094] Trial 31 finished with value: 0.7941295704375617 and parameters: {'n_estimators': 2150, 'max_bin': 290, 'learning_rate': 0.018950452625139034, 'max_depth': 6, 'gamma': 0.6377963363427572, 'min_child_weight': 25, 'subsample': 0.7523336605665464, 'colsample_bytree': 0.5183459865819148, 'reg_alpha': 0.0025857088947192656, 'reg_lambda': 23.581621471900416, 'tree_method': 'auto', 'scale_pos_weight': 1.2387303614223881}. Best is trial 13 with value: 0.7941761769184614.\n",
      "[I 2025-03-30 08:22:11,935] Trial 32 finished with value: 0.7942766496506664 and parameters: {'n_estimators': 2200, 'max_bin': 290, 'learning_rate': 0.017682888320185497, 'max_depth': 6, 'gamma': 0.572731323795318, 'min_child_weight': 28, 'subsample': 0.7677403648408243, 'colsample_bytree': 0.5639406725880123, 'reg_alpha': 0.029950658494287505, 'reg_lambda': 29.094878789080656, 'tree_method': 'auto', 'scale_pos_weight': 1.2700500056746546}. Best is trial 32 with value: 0.7942766496506664.\n",
      "[I 2025-03-30 09:05:20,838] Trial 33 finished with value: 0.7941671225382206 and parameters: {'n_estimators': 2200, 'max_bin': 280, 'learning_rate': 0.017387253000552928, 'max_depth': 6, 'gamma': 0.5446864271990794, 'min_child_weight': 28, 'subsample': 0.7711397992508228, 'colsample_bytree': 0.5677793223014935, 'reg_alpha': 0.02851143744425214, 'reg_lambda': 49.35956055442376, 'tree_method': 'auto', 'scale_pos_weight': 1.2740055799733154}. Best is trial 32 with value: 0.7942766496506664.\n",
      "[I 2025-03-30 09:45:56,136] Trial 34 finished with value: 0.7942574264849277 and parameters: {'n_estimators': 2250, 'max_bin': 280, 'learning_rate': 0.016275569671330165, 'max_depth': 6, 'gamma': 0.5463618387596146, 'min_child_weight': 28, 'subsample': 0.764250762334062, 'colsample_bytree': 0.5647232434231095, 'reg_alpha': 0.023521028028342147, 'reg_lambda': 3.3395262073814656, 'tree_method': 'auto', 'scale_pos_weight': 1.3755076814485137}. Best is trial 32 with value: 0.7942766496506664.\n",
      "[I 2025-03-30 10:26:22,583] Trial 35 finished with value: 0.793710785648772 and parameters: {'n_estimators': 2250, 'max_bin': 280, 'learning_rate': 0.016875461288649547, 'max_depth': 6, 'gamma': 0.549085316780965, 'min_child_weight': 29, 'subsample': 0.7832124870320644, 'colsample_bytree': 0.5670477575201013, 'reg_alpha': 0.0061223212987282175, 'reg_lambda': 0.8694637389750173, 'tree_method': 'auto', 'scale_pos_weight': 1.3804426291573848}. Best is trial 32 with value: 0.7942766496506664.\n",
      "[I 2025-03-30 11:07:13,572] Trial 36 finished with value: 0.7937850627747922 and parameters: {'n_estimators': 2250, 'max_bin': 280, 'learning_rate': 0.014254701277121135, 'max_depth': 6, 'gamma': 0.5056669454518536, 'min_child_weight': 31, 'subsample': 0.771082291238211, 'colsample_bytree': 0.5490662149731708, 'reg_alpha': 0.0003910004025819369, 'reg_lambda': 1.0297771990556354e-08, 'tree_method': 'auto', 'scale_pos_weight': 1.3645017572167608}. Best is trial 32 with value: 0.7942766496506664.\n",
      "[I 2025-03-30 11:42:25,806] Trial 37 finished with value: 0.7940299775512922 and parameters: {'n_estimators': 2200, 'max_bin': 270, 'learning_rate': 0.01603070894626418, 'max_depth': 6, 'gamma': 0.5751479857188515, 'min_child_weight': 28, 'subsample': 0.7666704388135375, 'colsample_bytree': 0.4539042106550508, 'reg_alpha': 2.640833996727091e-05, 'reg_lambda': 2.800143553075966, 'tree_method': 'auto', 'scale_pos_weight': 1.4158690834292365}. Best is trial 32 with value: 0.7942766496506664.\n",
      "[I 2025-03-30 12:22:30,712] Trial 38 finished with value: 0.793423123626644 and parameters: {'n_estimators': 2300, 'max_bin': 280, 'learning_rate': 0.01762814482310277, 'max_depth': 6, 'gamma': 0.5393628234657537, 'min_child_weight': 38, 'subsample': 0.778542019708303, 'colsample_bytree': 0.5410369097579262, 'reg_alpha': 0.5671671400455095, 'reg_lambda': 0.024671248867986426, 'tree_method': 'hist', 'scale_pos_weight': 1.286824319887057}. Best is trial 32 with value: 0.7942766496506664.\n",
      "[I 2025-03-30 13:05:06,985] Trial 39 finished with value: 0.7942249744796948 and parameters: {'n_estimators': 2250, 'max_bin': 290, 'learning_rate': 0.012371715289985832, 'max_depth': 6, 'gamma': 0.5984367035671497, 'min_child_weight': 28, 'subsample': 0.7626510949456583, 'colsample_bytree': 0.5823252583993391, 'reg_alpha': 9.987851243785532e-06, 'reg_lambda': 28.989715965906523, 'tree_method': 'auto', 'scale_pos_weight': 1.3370344274139674}. Best is trial 32 with value: 0.7942766496506664.\n",
      "[I 2025-03-30 13:47:39,782] Trial 40 finished with value: 0.79363107211638 and parameters: {'n_estimators': 2250, 'max_bin': 300, 'learning_rate': 0.011580872627055962, 'max_depth': 6, 'gamma': 0.6240740466000261, 'min_child_weight': 31, 'subsample': 0.7616232618359727, 'colsample_bytree': 0.5827491187543231, 'reg_alpha': 5.575891423111531e-06, 'reg_lambda': 0.009178119634953156, 'tree_method': 'hist', 'scale_pos_weight': 1.3511534692252116}. Best is trial 32 with value: 0.7942766496506664.\n",
      "[I 2025-03-30 14:30:19,004] Trial 41 finished with value: 0.7940354059291624 and parameters: {'n_estimators': 2200, 'max_bin': 290, 'learning_rate': 0.012126597664856622, 'max_depth': 6, 'gamma': 0.587126658752637, 'min_child_weight': 27, 'subsample': 0.7876673511939338, 'colsample_bytree': 0.5576392255471736, 'reg_alpha': 1.780314102546594e-05, 'reg_lambda': 42.822020870560735, 'tree_method': 'auto', 'scale_pos_weight': 1.3403471761478611}. Best is trial 32 with value: 0.7942766496506664.\n",
      "[I 2025-03-30 15:10:51,242] Trial 42 finished with value: 0.7942736370660544 and parameters: {'n_estimators': 2300, 'max_bin': 280, 'learning_rate': 0.015085043217791463, 'max_depth': 6, 'gamma': 0.5523908361161464, 'min_child_weight': 28, 'subsample': 0.7711620659725033, 'colsample_bytree': 0.5791022035592162, 'reg_alpha': 0.00012790319562301303, 'reg_lambda': 14.754288539065103, 'tree_method': 'auto', 'scale_pos_weight': 1.4064903178272696}. Best is trial 32 with value: 0.7942766496506664.\n",
      "[I 2025-03-30 15:51:19,286] Trial 43 finished with value: 0.794323030205751 and parameters: {'n_estimators': 2300, 'max_bin': 290, 'learning_rate': 0.012789988258760222, 'max_depth': 6, 'gamma': 0.6092436653217839, 'min_child_weight': 27, 'subsample': 0.7776257832984542, 'colsample_bytree': 0.5819878707911487, 'reg_alpha': 1.924793037920393e-07, 'reg_lambda': 0.5080355694884554, 'tree_method': 'auto', 'scale_pos_weight': 1.4400510701245677}. Best is trial 43 with value: 0.794323030205751.\n",
      "[I 2025-03-30 16:32:24,182] Trial 44 finished with value: 0.7943117996493356 and parameters: {'n_estimators': 2300, 'max_bin': 290, 'learning_rate': 0.0122278852179788, 'max_depth': 6, 'gamma': 0.6115537318730246, 'min_child_weight': 27, 'subsample': 0.7769515824748584, 'colsample_bytree': 0.5802883480030365, 'reg_alpha': 1.3557929061595925e-08, 'reg_lambda': 8.562432144344802, 'tree_method': 'auto', 'scale_pos_weight': 1.4598088795835908}. Best is trial 43 with value: 0.794323030205751.\n",
      "[I 2025-03-30 17:12:15,645] Trial 45 finished with value: 0.7940801804593246 and parameters: {'n_estimators': 2300, 'max_bin': 270, 'learning_rate': 0.01054563422312371, 'max_depth': 6, 'gamma': 0.564063336127882, 'min_child_weight': 27, 'subsample': 0.7764366295862629, 'colsample_bytree': 0.42498703651210845, 'reg_alpha': 3.0607059657847284e-08, 'reg_lambda': 5.488497036787295, 'tree_method': 'hist', 'scale_pos_weight': 1.4860170837037723}. Best is trial 43 with value: 0.794323030205751.\n",
      "[I 2025-03-30 17:52:12,741] Trial 46 finished with value: 0.7941380080854256 and parameters: {'n_estimators': 2300, 'max_bin': 290, 'learning_rate': 0.013744298062990615, 'max_depth': 6, 'gamma': 0.6223300546428957, 'min_child_weight': 31, 'subsample': 0.7803504153581156, 'colsample_bytree': 0.5865128875786121, 'reg_alpha': 2.464054555627078e-07, 'reg_lambda': 1.005686884655226e-05, 'tree_method': 'auto', 'scale_pos_weight': 1.4579844929606052}. Best is trial 43 with value: 0.794323030205751.\n",
      "[I 2025-03-30 18:32:33,558] Trial 47 finished with value: 0.7941770897489173 and parameters: {'n_estimators': 2300, 'max_bin': 300, 'learning_rate': 0.01515442644793644, 'max_depth': 6, 'gamma': 0.5246380114080829, 'min_child_weight': 29, 'subsample': 0.7908480304240175, 'colsample_bytree': 0.4720370938875652, 'reg_alpha': 1.0177094367456074e-08, 'reg_lambda': 2.5624756170340612, 'tree_method': 'auto', 'scale_pos_weight': 1.403641467650475}. Best is trial 43 with value: 0.794323030205751.\n",
      "[I 2025-03-30 19:12:04,686] Trial 48 finished with value: 0.7939694660484594 and parameters: {'n_estimators': 2300, 'max_bin': 280, 'learning_rate': 0.014138402000229004, 'max_depth': 6, 'gamma': 0.6067176942166352, 'min_child_weight': 27, 'subsample': 0.7665629422777009, 'colsample_bytree': 0.5772010588133988, 'reg_alpha': 6.391425670807802e-07, 'reg_lambda': 0.5233342114229728, 'tree_method': 'hist', 'scale_pos_weight': 1.4451180548839444}. Best is trial 43 with value: 0.794323030205751.\n",
      "[I 2025-03-30 19:51:18,082] Trial 49 finished with value: 0.7942734188543997 and parameters: {'n_estimators': 2250, 'max_bin': 290, 'learning_rate': 0.012739062959313837, 'max_depth': 6, 'gamma': 0.5720172796356913, 'min_child_weight': 30, 'subsample': 0.7749068537452408, 'colsample_bytree': 0.5305355394193643, 'reg_alpha': 5.247457337992773e-08, 'reg_lambda': 4.710547085613017e-05, 'tree_method': 'auto', 'scale_pos_weight': 1.4195717314775544}. Best is trial 43 with value: 0.794323030205751.\n",
      "[I 2025-03-30 20:20:54,078] Trial 50 finished with value: 0.7895693149729366 and parameters: {'n_estimators': 2300, 'max_bin': 300, 'learning_rate': 0.012873827597832623, 'max_depth': 3, 'gamma': 0.5693371578918767, 'min_child_weight': 36, 'subsample': 0.7737739378362307, 'colsample_bytree': 0.509766737307501, 'reg_alpha': 7.307830279481109e-08, 'reg_lambda': 1.7099968079037976e-06, 'tree_method': 'auto', 'scale_pos_weight': 1.471188183330876}. Best is trial 43 with value: 0.794323030205751.\n",
      "[I 2025-03-30 21:00:52,215] Trial 51 finished with value: 0.7941568526537681 and parameters: {'n_estimators': 2250, 'max_bin': 290, 'learning_rate': 0.011334395179499747, 'max_depth': 6, 'gamma': 0.5328708964762945, 'min_child_weight': 30, 'subsample': 0.7512241297825761, 'colsample_bytree': 0.5561537468691333, 'reg_alpha': 1.0820708754698356e-08, 'reg_lambda': 6.9124141942782e-05, 'tree_method': 'auto', 'scale_pos_weight': 1.4133859111719147}. Best is trial 43 with value: 0.794323030205751.\n",
      "[I 2025-03-30 21:39:12,603] Trial 52 finished with value: 0.794028660034526 and parameters: {'n_estimators': 2250, 'max_bin': 280, 'learning_rate': 0.01094192294216984, 'max_depth': 6, 'gamma': 0.5581029415095723, 'min_child_weight': 32, 'subsample': 0.7845970260266121, 'colsample_bytree': 0.590271406392037, 'reg_alpha': 2.6038432795112805e-08, 'reg_lambda': 10.765205779289952, 'tree_method': 'auto', 'scale_pos_weight': 1.4326818799216852}. Best is trial 43 with value: 0.794323030205751.\n",
      "[I 2025-03-30 22:16:06,915] Trial 53 finished with value: 0.7939894691941286 and parameters: {'n_estimators': 2250, 'max_bin': 290, 'learning_rate': 0.012778827262318873, 'max_depth': 6, 'gamma': 0.6695771150538324, 'min_child_weight': 30, 'subsample': 0.7736930687662816, 'colsample_bytree': 0.527623911295688, 'reg_alpha': 2.1398425431107305e-07, 'reg_lambda': 0.00011887697040036699, 'tree_method': 'auto', 'scale_pos_weight': 1.3918262541813469}. Best is trial 43 with value: 0.794323030205751.\n",
      "[I 2025-03-30 22:52:14,019] Trial 54 finished with value: 0.7941042761413339 and parameters: {'n_estimators': 2300, 'max_bin': 270, 'learning_rate': 0.014411812980610162, 'max_depth': 6, 'gamma': 0.5897594882226371, 'min_child_weight': 28, 'subsample': 0.7569992935939117, 'colsample_bytree': 0.5638787013965347, 'reg_alpha': 2.1284042110654714e-06, 'reg_lambda': 0.0003724548114496036, 'tree_method': 'auto', 'scale_pos_weight': 1.4332327997178704}. Best is trial 43 with value: 0.794323030205751.\n",
      "[I 2025-03-30 23:28:27,619] Trial 55 finished with value: 0.7937004738635173 and parameters: {'n_estimators': 2250, 'max_bin': 300, 'learning_rate': 0.015496428611396171, 'max_depth': 6, 'gamma': 0.6156321236776048, 'min_child_weight': 26, 'subsample': 0.7661899786351971, 'colsample_bytree': 0.5709709932644699, 'reg_alpha': 7.684811912723653e-07, 'reg_lambda': 1.3098445022971233e-06, 'tree_method': 'auto', 'scale_pos_weight': 1.4973442387214668}. Best is trial 43 with value: 0.794323030205751.\n",
      "[I 2025-03-31 00:03:53,486] Trial 56 finished with value: 0.7937645297959496 and parameters: {'n_estimators': 2200, 'max_bin': 280, 'learning_rate': 0.012023681245892315, 'max_depth': 6, 'gamma': 0.5212972653767258, 'min_child_weight': 27, 'subsample': 0.812568982904002, 'colsample_bytree': 0.5378519034986514, 'reg_alpha': 1.6882438898608358e-07, 'reg_lambda': 4.40011675911254e-05, 'tree_method': 'auto', 'scale_pos_weight': 1.4556755797201628}. Best is trial 43 with value: 0.794323030205751.\n",
      "[I 2025-03-31 00:41:42,623] Trial 57 finished with value: 0.7941367406977898 and parameters: {'n_estimators': 2300, 'max_bin': 290, 'learning_rate': 0.013003681207973815, 'max_depth': 6, 'gamma': 0.5879852732997998, 'min_child_weight': 29, 'subsample': 0.7769229422036426, 'colsample_bytree': 0.5781822619793847, 'reg_alpha': 2.8580971945834682e-08, 'reg_lambda': 1.0981214523980842, 'tree_method': 'auto', 'scale_pos_weight': 1.4250317732665578}. Best is trial 43 with value: 0.794323030205751.\n",
      "[I 2025-03-31 01:14:12,425] Trial 58 finished with value: 0.7936345650800412 and parameters: {'n_estimators': 2250, 'max_bin': 300, 'learning_rate': 0.016348515376787512, 'max_depth': 5, 'gamma': 0.5009120829413896, 'min_child_weight': 33, 'subsample': 0.7971652276423233, 'colsample_bytree': 0.5917879162132562, 'reg_alpha': 9.69838942606821e-05, 'reg_lambda': 0.003163131177115743, 'tree_method': 'auto', 'scale_pos_weight': 1.3967287409972375}. Best is trial 43 with value: 0.794323030205751.\n",
      "[I 2025-03-31 01:52:09,719] Trial 59 finished with value: 0.7944378887292013 and parameters: {'n_estimators': 2300, 'max_bin': 280, 'learning_rate': 0.012502372215670552, 'max_depth': 6, 'gamma': 0.6365981402606041, 'min_child_weight': 28, 'subsample': 0.7916152801794224, 'colsample_bytree': 0.5574567344717567, 'reg_alpha': 1.2831773021888202e-07, 'reg_lambda': 14.578318116541631, 'tree_method': 'hist', 'scale_pos_weight': 1.3676894293930282}. Best is trial 59 with value: 0.7944378887292013.\n",
      "[I 2025-03-31 02:32:01,811] Trial 60 finished with value: 0.7938485841713547 and parameters: {'n_estimators': 2300, 'max_bin': 270, 'learning_rate': 0.010045027061376948, 'max_depth': 6, 'gamma': 0.6379430755541342, 'min_child_weight': 32, 'subsample': 0.7923704362200112, 'colsample_bytree': 0.531728871413697, 'reg_alpha': 1.1242611464425655e-06, 'reg_lambda': 12.278007527704796, 'tree_method': 'hist', 'scale_pos_weight': 1.481286714937081}. Best is trial 59 with value: 0.7944378887292013.\n",
      "[I 2025-03-31 03:10:05,890] Trial 61 finished with value: 0.7941370515304882 and parameters: {'n_estimators': 2300, 'max_bin': 280, 'learning_rate': 0.01240605527556922, 'max_depth': 6, 'gamma': 0.556583831042535, 'min_child_weight': 28, 'subsample': 0.7836599840478391, 'colsample_bytree': 0.5591901540990529, 'reg_alpha': 4.227933086659859e-08, 'reg_lambda': 3.150652071268511, 'tree_method': 'hist', 'scale_pos_weight': 1.3663164914465982}. Best is trial 59 with value: 0.7944378887292013.\n",
      "[I 2025-03-31 03:46:03,151] Trial 62 finished with value: 0.7941527247914537 and parameters: {'n_estimators': 2250, 'max_bin': 280, 'learning_rate': 0.013667664822662543, 'max_depth': 6, 'gamma': 0.6083317420106571, 'min_child_weight': 30, 'subsample': 0.7688133942885493, 'colsample_bytree': 0.5513459642824131, 'reg_alpha': 1.4175857199677275e-07, 'reg_lambda': 13.020323096156826, 'tree_method': 'hist', 'scale_pos_weight': 1.3134958492054196}. Best is trial 59 with value: 0.7944378887292013.\n",
      "[I 2025-03-31 04:24:13,792] Trial 63 finished with value: 0.7940795754679606 and parameters: {'n_estimators': 2300, 'max_bin': 290, 'learning_rate': 0.011032227357781197, 'max_depth': 6, 'gamma': 0.5788967160268976, 'min_child_weight': 29, 'subsample': 0.7815049414470313, 'colsample_bytree': 0.5677983494940451, 'reg_alpha': 2.9259593591915646e-07, 'reg_lambda': 0.31676106251200226, 'tree_method': 'hist', 'scale_pos_weight': 1.4658850638554541}. Best is trial 59 with value: 0.7944378887292013.\n",
      "[I 2025-03-31 05:01:52,652] Trial 64 finished with value: 0.7941560867057353 and parameters: {'n_estimators': 2300, 'max_bin': 280, 'learning_rate': 0.011675052257448268, 'max_depth': 6, 'gamma': 0.6804183188897192, 'min_child_weight': 26, 'subsample': 0.8013773508948058, 'colsample_bytree': 0.545206442796097, 'reg_alpha': 1.825643268766846e-08, 'reg_lambda': 1.8829647574259158, 'tree_method': 'hist', 'scale_pos_weight': 1.3885810655553765}. Best is trial 59 with value: 0.7944378887292013.\n",
      "[I 2025-03-31 05:36:09,670] Trial 65 finished with value: 0.7935610766753776 and parameters: {'n_estimators': 2250, 'max_bin': 290, 'learning_rate': 0.013209753093482286, 'max_depth': 5, 'gamma': 0.6414991247905211, 'min_child_weight': 28, 'subsample': 0.757114497744903, 'colsample_bytree': 0.5787156073680932, 'reg_alpha': 5.6833762002895134e-08, 'reg_lambda': 15.822083111646961, 'tree_method': 'auto', 'scale_pos_weight': 1.4418312216798796}. Best is trial 59 with value: 0.7944378887292013.\n",
      "[I 2025-03-31 06:14:16,364] Trial 66 finished with value: 0.7938850523549542 and parameters: {'n_estimators': 2300, 'max_bin': 300, 'learning_rate': 0.01255814713734887, 'max_depth': 6, 'gamma': 0.9918791607462394, 'min_child_weight': 27, 'subsample': 0.7877410988223253, 'colsample_bytree': 0.5877600644869269, 'reg_alpha': 1.1241569845298167e-07, 'reg_lambda': 2.7741211414113766e-05, 'tree_method': 'auto', 'scale_pos_weight': 1.409067849435654}. Best is trial 59 with value: 0.7944378887292013.\n",
      "[I 2025-03-31 06:43:11,409] Trial 67 finished with value: 0.7929846816948186 and parameters: {'n_estimators': 2250, 'max_bin': 270, 'learning_rate': 0.016813759823033136, 'max_depth': 4, 'gamma': 0.5276014053861094, 'min_child_weight': 30, 'subsample': 0.7744836549845034, 'colsample_bytree': 0.5008587155929979, 'reg_alpha': 3.8822979497497785e-06, 'reg_lambda': 4.930989889827216, 'tree_method': 'auto', 'scale_pos_weight': 1.360090839101678}. Best is trial 59 with value: 0.7944378887292013.\n",
      "[I 2025-03-31 07:18:42,627] Trial 68 finished with value: 0.7941026527205077 and parameters: {'n_estimators': 2200, 'max_bin': 290, 'learning_rate': 0.015730200087569552, 'max_depth': 6, 'gamma': 0.6015820195984891, 'min_child_weight': 26, 'subsample': 0.7626272655162637, 'colsample_bytree': 0.5712636176326981, 'reg_alpha': 3.332369993144802e-07, 'reg_lambda': 1.3153764347444532, 'tree_method': 'auto', 'scale_pos_weight': 1.377234207755584}. Best is trial 59 with value: 0.7944378887292013.\n",
      "[I 2025-03-31 07:48:48,932] Trial 69 finished with value: 0.7934586495938782 and parameters: {'n_estimators': 2100, 'max_bin': 280, 'learning_rate': 0.017884789049869437, 'max_depth': 5, 'gamma': 0.6257076721867287, 'min_child_weight': 24, 'subsample': 0.771616218507468, 'colsample_bytree': 0.5556420878420338, 'reg_alpha': 0.01247425589810388, 'reg_lambda': 2.992071367554855e-06, 'tree_method': 'hist', 'scale_pos_weight': 1.450642881527338}. Best is trial 59 with value: 0.7944378887292013.\n",
      "[I 2025-03-31 08:24:23,173] Trial 70 finished with value: 0.7941417727381743 and parameters: {'n_estimators': 2200, 'max_bin': 290, 'learning_rate': 0.01476199402331232, 'max_depth': 6, 'gamma': 0.5691645573287556, 'min_child_weight': 29, 'subsample': 0.8125413386543839, 'colsample_bytree': 0.560210769929512, 'reg_alpha': 0.0006803169461638975, 'reg_lambda': 0.0698364195818511, 'tree_method': 'auto', 'scale_pos_weight': 1.424694214774165}. Best is trial 59 with value: 0.7944378887292013.\n",
      "[I 2025-03-31 09:02:55,120] Trial 71 finished with value: 0.7940925141768118 and parameters: {'n_estimators': 2250, 'max_bin': 290, 'learning_rate': 0.012223189431300428, 'max_depth': 6, 'gamma': 0.5974812426200368, 'min_child_weight': 28, 'subsample': 0.7644775490634133, 'colsample_bytree': 0.5823007296419449, 'reg_alpha': 0.00018097585472583527, 'reg_lambda': 21.52447239432814, 'tree_method': 'auto', 'scale_pos_weight': 1.3329292987551253}. Best is trial 59 with value: 0.7944378887292013.\n",
      "[I 2025-03-31 09:44:17,465] Trial 72 finished with value: 0.7942684159913478 and parameters: {'n_estimators': 2300, 'max_bin': 290, 'learning_rate': 0.012551582122549677, 'max_depth': 6, 'gamma': 0.5770613554958086, 'min_child_weight': 27, 'subsample': 0.7556681094982372, 'colsample_bytree': 0.5952690562593022, 'reg_alpha': 7.555768039957376e-08, 'reg_lambda': 45.7856924568536, 'tree_method': 'auto', 'scale_pos_weight': 1.318841850084149}. Best is trial 59 with value: 0.7944378887292013.\n",
      "[I 2025-03-31 10:24:56,570] Trial 73 finished with value: 0.7939020084864442 and parameters: {'n_estimators': 2300, 'max_bin': 280, 'learning_rate': 0.011861197002921844, 'max_depth': 6, 'gamma': 0.5579912913130273, 'min_child_weight': 27, 'subsample': 0.7544835236312599, 'colsample_bytree': 0.5945917303527507, 'reg_alpha': 6.276480665063059e-08, 'reg_lambda': 45.114319349010145, 'tree_method': 'auto', 'scale_pos_weight': 1.299363193872196}. Best is trial 59 with value: 0.7944378887292013.\n",
      "[I 2025-03-31 11:04:52,296] Trial 74 finished with value: 0.7941873929991939 and parameters: {'n_estimators': 2300, 'max_bin': 300, 'learning_rate': 0.013578191272918812, 'max_depth': 6, 'gamma': 0.5441012267995795, 'min_child_weight': 26, 'subsample': 0.8296518736952693, 'colsample_bytree': 0.5644737423855849, 'reg_alpha': 1.7688720390637312e-08, 'reg_lambda': 4.495390072550109, 'tree_method': 'auto', 'scale_pos_weight': 1.2633233305772742}. Best is trial 59 with value: 0.7944378887292013.\n",
      "[I 2025-03-31 11:46:20,685] Trial 75 finished with value: 0.794478119010055 and parameters: {'n_estimators': 2300, 'max_bin': 310, 'learning_rate': 0.013954057465512763, 'max_depth': 6, 'gamma': 0.5820419866593669, 'min_child_weight': 25, 'subsample': 0.7695040002688363, 'colsample_bytree': 0.57495234705139, 'reg_alpha': 9.301564738550215e-08, 'reg_lambda': 20.18153229205476, 'tree_method': 'auto', 'scale_pos_weight': 1.3140601069058624}. Best is trial 75 with value: 0.794478119010055.\n",
      "[I 2025-03-31 12:26:17,847] Trial 76 finished with value: 0.7945532314081954 and parameters: {'n_estimators': 2300, 'max_bin': 310, 'learning_rate': 0.014027851243336064, 'max_depth': 6, 'gamma': 0.6607282767000369, 'min_child_weight': 24, 'subsample': 0.778904048891596, 'colsample_bytree': 0.5742087152929228, 'reg_alpha': 4.261097675445656e-07, 'reg_lambda': 17.47296053717835, 'tree_method': 'auto', 'scale_pos_weight': 1.320071816555069}. Best is trial 76 with value: 0.7945532314081954.\n",
      "[I 2025-03-31 13:05:31,524] Trial 77 finished with value: 0.7946846327114063 and parameters: {'n_estimators': 2300, 'max_bin': 310, 'learning_rate': 0.01396182867676407, 'max_depth': 6, 'gamma': 0.6535904286809029, 'min_child_weight': 23, 'subsample': 0.7790871649355186, 'colsample_bytree': 0.575668589894824, 'reg_alpha': 5.212161152481228e-07, 'reg_lambda': 14.088361607017031, 'tree_method': 'auto', 'scale_pos_weight': 1.2961827830324626}. Best is trial 77 with value: 0.7946846327114063.\n",
      "[I 2025-03-31 13:44:59,405] Trial 78 finished with value: 0.794464038632946 and parameters: {'n_estimators': 2300, 'max_bin': 310, 'learning_rate': 0.014033540086254874, 'max_depth': 6, 'gamma': 0.6515516858406878, 'min_child_weight': 22, 'subsample': 0.7786726096139096, 'colsample_bytree': 0.5998118493017216, 'reg_alpha': 4.2881675473425954e-07, 'reg_lambda': 8.110678180770286, 'tree_method': 'auto', 'scale_pos_weight': 1.3489891034882455}. Best is trial 77 with value: 0.7946846327114063.\n",
      "[I 2025-03-31 14:24:39,024] Trial 79 finished with value: 0.794820620791898 and parameters: {'n_estimators': 2300, 'max_bin': 310, 'learning_rate': 0.01447405668073905, 'max_depth': 6, 'gamma': 0.6656221817761839, 'min_child_weight': 22, 'subsample': 0.7923983808658055, 'colsample_bytree': 0.5988918888776807, 'reg_alpha': 1.0106188186361804e-06, 'reg_lambda': 7.429442718300273, 'tree_method': 'auto', 'scale_pos_weight': 1.2530839623534933}. Best is trial 79 with value: 0.794820620791898.\n",
      "[I 2025-03-31 15:03:12,415] Trial 80 finished with value: 0.7943047394799204 and parameters: {'n_estimators': 2300, 'max_bin': 310, 'learning_rate': 0.013798370255275364, 'max_depth': 6, 'gamma': 0.657279477364504, 'min_child_weight': 22, 'subsample': 0.7924385487026614, 'colsample_bytree': 0.599515154750602, 'reg_alpha': 1.4185377018747516e-06, 'reg_lambda': 0.64716998192347, 'tree_method': 'auto', 'scale_pos_weight': 1.2923897123281824}. Best is trial 79 with value: 0.794820620791898.\n",
      "[I 2025-03-31 15:41:44,747] Trial 81 finished with value: 0.7943454420577869 and parameters: {'n_estimators': 2300, 'max_bin': 310, 'learning_rate': 0.013859197496202843, 'max_depth': 6, 'gamma': 0.659526505412699, 'min_child_weight': 22, 'subsample': 0.7908482590744466, 'colsample_bytree': 0.5999587287561011, 'reg_alpha': 4.375953367828657e-07, 'reg_lambda': 0.7808145961594596, 'tree_method': 'auto', 'scale_pos_weight': 1.2514916363720348}. Best is trial 79 with value: 0.794820620791898.\n",
      "[I 2025-03-31 16:21:47,017] Trial 82 finished with value: 0.7943735138921748 and parameters: {'n_estimators': 2300, 'max_bin': 310, 'learning_rate': 0.01448769914900255, 'max_depth': 6, 'gamma': 0.6835063526222505, 'min_child_weight': 21, 'subsample': 0.7967091609811271, 'colsample_bytree': 0.587294860507918, 'reg_alpha': 4.4747497766557564e-07, 'reg_lambda': 8.182433519252525, 'tree_method': 'auto', 'scale_pos_weight': 1.2213937994933977}. Best is trial 79 with value: 0.794820620791898.\n",
      "[I 2025-03-31 17:01:56,654] Trial 83 finished with value: 0.7944497640294608 and parameters: {'n_estimators': 2300, 'max_bin': 310, 'learning_rate': 0.014513865838870578, 'max_depth': 6, 'gamma': 0.6834254713669778, 'min_child_weight': 21, 'subsample': 0.7960508059360665, 'colsample_bytree': 0.5914219076719179, 'reg_alpha': 7.1558291330181e-07, 'reg_lambda': 6.03620920265726, 'tree_method': 'auto', 'scale_pos_weight': 1.2439133244657303}. Best is trial 79 with value: 0.794820620791898.\n",
      "[I 2025-03-31 17:40:17,990] Trial 84 finished with value: 0.7940204192074225 and parameters: {'n_estimators': 2300, 'max_bin': 310, 'learning_rate': 0.014488521134957091, 'max_depth': 6, 'gamma': 0.6833239032026794, 'min_child_weight': 21, 'subsample': 0.7982140151014815, 'colsample_bytree': 0.594172720844293, 'reg_alpha': 4.424622630965011e-07, 'reg_lambda': 2.243245598090055, 'tree_method': 'auto', 'scale_pos_weight': 1.226612099167031}. Best is trial 79 with value: 0.794820620791898.\n",
      "[I 2025-03-31 18:18:54,355] Trial 85 finished with value: 0.7944742624881256 and parameters: {'n_estimators': 2300, 'max_bin': 310, 'learning_rate': 0.01395049648715982, 'max_depth': 6, 'gamma': 0.7069295909251705, 'min_child_weight': 23, 'subsample': 0.8032941280140936, 'colsample_bytree': 0.587104996900553, 'reg_alpha': 7.714557681259343e-07, 'reg_lambda': 5.9785845996280305, 'tree_method': 'auto', 'scale_pos_weight': 1.2507900323022663}. Best is trial 79 with value: 0.794820620791898.\n",
      "[I 2025-03-31 18:57:09,360] Trial 86 finished with value: 0.794319350847675 and parameters: {'n_estimators': 2300, 'max_bin': 310, 'learning_rate': 0.014064902870748696, 'max_depth': 6, 'gamma': 0.7111704325365558, 'min_child_weight': 21, 'subsample': 0.8068990803136985, 'colsample_bytree': 0.5900547288404837, 'reg_alpha': 1.0149555812521013e-06, 'reg_lambda': 7.300954711748223, 'tree_method': 'auto', 'scale_pos_weight': 1.253906221438339}. Best is trial 79 with value: 0.794820620791898.\n",
      "[I 2025-03-31 19:36:29,891] Trial 87 finished with value: 0.7945930838231972 and parameters: {'n_estimators': 2300, 'max_bin': 320, 'learning_rate': 0.013287524135581819, 'max_depth': 6, 'gamma': 0.7360477878788296, 'min_child_weight': 23, 'subsample': 0.7961274694856444, 'colsample_bytree': 0.5865681066478643, 'reg_alpha': 3.3026642952811433e-06, 'reg_lambda': 17.12411258501331, 'tree_method': 'auto', 'scale_pos_weight': 1.18087714455309}. Best is trial 79 with value: 0.794820620791898.\n",
      "[I 2025-03-31 20:20:23,298] Trial 88 finished with value: 0.7944456988538258 and parameters: {'n_estimators': 2300, 'max_bin': 330, 'learning_rate': 0.013174060156073598, 'max_depth': 6, 'gamma': 0.7373606528258024, 'min_child_weight': 23, 'subsample': 0.8022191952867022, 'colsample_bytree': 0.5734427961175524, 'reg_alpha': 3.951673406395924e-06, 'reg_lambda': 23.384292438652043, 'tree_method': 'hist', 'scale_pos_weight': 1.284542923045189}. Best is trial 79 with value: 0.794820620791898.\n",
      "[I 2025-03-31 21:04:19,807] Trial 89 finished with value: 0.7942641185350918 and parameters: {'n_estimators': 2300, 'max_bin': 330, 'learning_rate': 0.013294251565587396, 'max_depth': 6, 'gamma': 0.7577320360900671, 'min_child_weight': 23, 'subsample': 0.8141595775408133, 'colsample_bytree': 0.5722802447562626, 'reg_alpha': 4.403553682229534e-06, 'reg_lambda': 22.583624610244602, 'tree_method': 'auto', 'scale_pos_weight': 1.187919944812835}. Best is trial 79 with value: 0.794820620791898.\n",
      "[I 2025-03-31 21:39:54,713] Trial 90 finished with value: 0.7938964786581845 and parameters: {'n_estimators': 2250, 'max_bin': 320, 'learning_rate': 0.014802597305844569, 'max_depth': 5, 'gamma': 0.7372405018579187, 'min_child_weight': 23, 'subsample': 0.8003898615147561, 'colsample_bytree': 0.5873451127156978, 'reg_alpha': 2.6082947182082216e-06, 'reg_lambda': 3.637310842767309, 'tree_method': 'auto', 'scale_pos_weight': 1.2831626316924691}. Best is trial 79 with value: 0.794820620791898.\n",
      "[I 2025-03-31 22:20:04,607] Trial 91 finished with value: 0.7945260414456606 and parameters: {'n_estimators': 2300, 'max_bin': 320, 'learning_rate': 0.01321964384984846, 'max_depth': 6, 'gamma': 0.7759643054391705, 'min_child_weight': 20, 'subsample': 0.8039122091321969, 'colsample_bytree': 0.5751304245375233, 'reg_alpha': 6.8683857427744595e-06, 'reg_lambda': 16.180218065495918, 'tree_method': 'hist', 'scale_pos_weight': 1.3235307424153488}. Best is trial 79 with value: 0.794820620791898.\n",
      "[I 2025-03-31 23:01:10,025] Trial 92 finished with value: 0.7944158301231975 and parameters: {'n_estimators': 2300, 'max_bin': 330, 'learning_rate': 0.01311425471574813, 'max_depth': 6, 'gamma': 0.7261596011598361, 'min_child_weight': 20, 'subsample': 0.8023623477890881, 'colsample_bytree': 0.5749790363805655, 'reg_alpha': 6.2880865430595184e-06, 'reg_lambda': 19.26989401359479, 'tree_method': 'hist', 'scale_pos_weight': 1.3221901225530222}. Best is trial 79 with value: 0.794820620791898.\n"
     ]
    }
   ],
   "source": [
    "#Estudio para maximizar\n",
    "study_completo = optuna.create_study(direction=\"maximize\")\n",
    "\n",
    "#Búsqueda\n",
    "study_completo.optimize(objective_completo, n_trials=100, show_progress_bar=True)\n",
    "\n",
    "print(\"Best trial:\", study_completo.best_trial.number)\n",
    "print(\"Best value (mean AUC):\", study_completo.best_value)\n",
    "print(\"Best hyperparams:\", study_completo.best_params)"
   ]
  },
  {
   "cell_type": "code",
   "execution_count": 9,
   "id": "172cd5fa-043d-48ad-b074-d878c6e16898",
   "metadata": {},
   "outputs": [],
   "source": [
    "import pickle\n",
    "#with open(\"XGBoost_Optuna_Study_v7_completo_1183_features_v7.pkl\", \"wb\") as f:\n",
    "#    pickle.dump(study_completo, f)\n",
    "with open(\"/home/yeray/TFG-Home-Credit-Default-Risk/JUPYTER_NOTEBOOKS/XGBoost_Optuna_Study_v7_completo_1183_features_v7.pkl\", \"rb\") as f:\n",
    "    loaded_study_completo = pickle.load(f)"
   ]
  },
  {
   "cell_type": "code",
   "execution_count": 10,
   "id": "f995ff76-0fb5-4c47-b583-608c50d836b8",
   "metadata": {},
   "outputs": [
    {
     "name": "stdout",
     "output_type": "stream",
     "text": [
      "+----+----------+----------+----------------------------+----------------------------+------------------------+---------------------------+----------------+------------------------+------------------+--------------------+---------------------------+-----------------------+--------------------+---------------------+---------------------------+--------------------+----------------------+----------+\n",
      "|    |   number |    value | datetime_start             | datetime_complete          | duration               |   params_colsample_bytree |   params_gamma |   params_learning_rate |   params_max_bin |   params_max_depth |   params_min_child_weight |   params_n_estimators |   params_reg_alpha |   params_reg_lambda |   params_scale_pos_weight |   params_subsample | params_tree_method   | state    |\n",
      "|----+----------+----------+----------------------------+----------------------------+------------------------+---------------------------+----------------+------------------------+------------------+--------------------+---------------------------+-----------------------+--------------------+---------------------+---------------------------+--------------------+----------------------+----------|\n",
      "| 79 |       79 | 0.794821 | 2025-03-31 13:44:59.407456 | 2025-03-31 14:24:39.023798 | 0 days 00:39:39.616342 |                  0.598892 |       0.665622 |              0.0144741 |              310 |                  6 |                        22 |                  2300 |        1.01062e-06 |             7.42944 |                   1.25308 |           0.792398 | auto                 | COMPLETE |\n",
      "| 94 |       94 | 0.79481  | 2025-03-31 23:40:03.195824 | 2025-04-01 00:19:06.150474 | 0 days 00:39:02.954650 |                  0.593446 |       0.74747  |              0.0153522 |              310 |                  6 |                        23 |                  2300 |        8.8952e-06  |            24.8978  |                   1.30385 |           0.785874 | hist                 | COMPLETE |\n",
      "| 77 |       77 | 0.794685 | 2025-03-31 12:26:17.849049 | 2025-03-31 13:05:31.524006 | 0 days 00:39:13.674957 |                  0.575669 |       0.65359  |              0.0139618 |              310 |                  6 |                        23 |                  2300 |        5.21216e-07 |            14.0884  |                   1.29618 |           0.779087 | auto                 | COMPLETE |\n",
      "| 87 |       87 | 0.794593 | 2025-03-31 18:57:09.363407 | 2025-03-31 19:36:29.890707 | 0 days 00:39:20.527300 |                  0.586568 |       0.736048 |              0.0132875 |              320 |                  6 |                        23 |                  2300 |        3.30266e-06 |            17.1241  |                   1.18088 |           0.796127 | auto                 | COMPLETE |\n",
      "| 98 |       98 | 0.794578 | 2025-04-01 02:13:03.752528 | 2025-04-01 02:51:30.743804 | 0 days 00:38:26.991276 |                  0.584046 |       0.785187 |              0.0134401 |              320 |                  6 |                        20 |                  2250 |        1.75516e-05 |            37.075   |                   1.20694 |           0.818671 | hist                 | COMPLETE |\n",
      "| 76 |       76 | 0.794553 | 2025-03-31 11:46:20.687986 | 2025-03-31 12:26:17.846647 | 0 days 00:39:57.158661 |                  0.574209 |       0.660728 |              0.0140279 |              310 |                  6 |                        24 |                  2300 |        4.2611e-07  |            17.473   |                   1.32007 |           0.778904 | auto                 | COMPLETE |\n",
      "| 97 |       97 | 0.794531 | 2025-04-01 01:33:57.962933 | 2025-04-01 02:13:03.749686 | 0 days 00:39:05.786753 |                  0.597759 |       0.782278 |              0.0134456 |              320 |                  6 |                        20 |                  2250 |        1.80981e-05 |            34.1611  |                   1.26395 |           0.817302 | hist                 | COMPLETE |\n",
      "| 99 |       99 | 0.794531 | 2025-04-01 02:51:30.746557 | 2025-04-01 03:29:49.514653 | 0 days 00:38:18.768096 |                  0.481328 |       0.786297 |              0.014843  |              320 |                  6 |                        20 |                  2250 |        5.11619e-05 |            33.2095  |                   1.12688 |           0.809599 | hist                 | COMPLETE |\n",
      "| 91 |       91 | 0.794526 | 2025-03-31 21:39:54.715804 | 2025-03-31 22:20:04.606980 | 0 days 00:40:09.891176 |                  0.57513  |       0.775964 |              0.0132196 |              320 |                  6 |                        20 |                  2300 |        6.86839e-06 |            16.1802  |                   1.32353 |           0.803912 | hist                 | COMPLETE |\n",
      "| 96 |       96 | 0.794492 | 2025-04-01 00:56:13.734304 | 2025-04-01 01:33:57.960575 | 0 days 00:37:44.226271 |                  0.591503 |       0.785454 |              0.014652  |              320 |                  6 |                        21 |                  2250 |        1.67047e-06 |            30.4231  |                   1.24351 |           0.817466 | auto                 | COMPLETE |\n",
      "+----+----------+----------+----------------------------+----------------------------+------------------------+---------------------------+----------------+------------------------+------------------+--------------------+---------------------------+-----------------------+--------------------+---------------------+---------------------------+--------------------+----------------------+----------+\n"
     ]
    }
   ],
   "source": [
    "from tabulate import tabulate\n",
    "\n",
    "trials_df = loaded_study_completo.trials_dataframe()\n",
    "\n",
    "df_sorted = trials_df.sort_values(by=\"value\", ascending=False)\n",
    "best_10 = df_sorted.head(10)\n",
    "\n",
    "print(tabulate(best_10, headers=\"keys\", tablefmt=\"psql\"))"
   ]
  },
  {
   "cell_type": "code",
   "execution_count": 11,
   "id": "dbcfcbc0-25ae-47d7-a33b-8890d058e0cb",
   "metadata": {},
   "outputs": [
    {
     "ename": "XGBoostError",
     "evalue": "[20:00:27] /workspace/src/learner.cc:722: Invalid parameter \"\n    'n_estimators': 1950, \n    'max_bin': 320, \n    'learning_rate': 0.013021709231445766, \n    'max_depth': 6, \n    'gamma': 0.8247599960235291, \n    'min_child_weight': 24, \n    'subsample': 0.8716053949930821, \n    'colsample_bytree': 0.4007318909627164, \n    'reg_alpha': 1.5514315047029046e-06, \n    'reg_lambda': 1.9775555386064807, \n    'tree_method': 'hist', \n    'scale_pos_weight': 1.293881916989639,\n    \"objective\": \"binary:logistic\",\n    eval_metric\" contains whitespace.\nStack trace:\n  [bt] (0) /home/yeray/miniconda3/envs/tfg-py3.12/lib/python3.12/site-packages/xgboost/lib/libxgboost.so(+0x22dcbc) [0x7f1dcb8d4cbc]\n  [bt] (1) /home/yeray/miniconda3/envs/tfg-py3.12/lib/python3.12/site-packages/xgboost/lib/libxgboost.so(+0x5c7316) [0x7f1dcbc6e316]\n  [bt] (2) /home/yeray/miniconda3/envs/tfg-py3.12/lib/python3.12/site-packages/xgboost/lib/libxgboost.so(+0x5c965a) [0x7f1dcbc7065a]\n  [bt] (3) /home/yeray/miniconda3/envs/tfg-py3.12/lib/python3.12/site-packages/xgboost/lib/libxgboost.so(+0x5caf4d) [0x7f1dcbc71f4d]\n  [bt] (4) /home/yeray/miniconda3/envs/tfg-py3.12/lib/python3.12/site-packages/xgboost/lib/libxgboost.so(XGBoosterUpdateOneIter+0x6f) [0x7f1dcb7de52f]\n  [bt] (5) /home/yeray/miniconda3/envs/tfg-py3.12/lib/python3.12/lib-dynload/../../libffi.so.8(+0xa052) [0x7f1ed5634052]\n  [bt] (6) /home/yeray/miniconda3/envs/tfg-py3.12/lib/python3.12/lib-dynload/../../libffi.so.8(+0x8925) [0x7f1ed5632925]\n  [bt] (7) /home/yeray/miniconda3/envs/tfg-py3.12/lib/python3.12/lib-dynload/../../libffi.so.8(ffi_call+0xde) [0x7f1ed563306e]\n  [bt] (8) /home/yeray/miniconda3/envs/tfg-py3.12/lib/python3.12/lib-dynload/_ctypes.cpython-312-x86_64-linux-gnu.so(+0x97b0) [0x7f1ed56447b0]\n\n",
     "output_type": "error",
     "traceback": [
      "\u001b[0;31m---------------------------------------------------------------------------\u001b[0m",
      "\u001b[0;31mXGBoostError\u001b[0m                              Traceback (most recent call last)",
      "Cell \u001b[0;32mIn[11], line 36\u001b[0m\n\u001b[1;32m     11\u001b[0m final_params \u001b[38;5;241m=\u001b[39m {\n\u001b[1;32m     12\u001b[0m     \u001b[38;5;241m*\u001b[39m\u001b[38;5;241m*\u001b[39mbest_params_clean,\n\u001b[1;32m     13\u001b[0m \u001b[38;5;250m    \u001b[39m\u001b[38;5;124;03m\"\"\"\u001b[39;00m\n\u001b[0;32m   (...)\u001b[0m\n\u001b[1;32m     31\u001b[0m     \n\u001b[1;32m     32\u001b[0m }\n\u001b[1;32m     34\u001b[0m XGB_model \u001b[38;5;241m=\u001b[39m XGBClassifier(\u001b[38;5;241m*\u001b[39m\u001b[38;5;241m*\u001b[39mfinal_params)\n\u001b[0;32m---> 36\u001b[0m \u001b[43mXGB_model\u001b[49m\u001b[38;5;241;43m.\u001b[39;49m\u001b[43mfit\u001b[49m\u001b[43m(\u001b[49m\u001b[43mX_train\u001b[49m\u001b[43m,\u001b[49m\u001b[43m \u001b[49m\u001b[43my_train\u001b[49m\u001b[43m)\u001b[49m\n",
      "File \u001b[0;32m~/miniconda3/envs/tfg-py3.12/lib/python3.12/site-packages/xgboost/core.py:726\u001b[0m, in \u001b[0;36mrequire_keyword_args.<locals>.throw_if.<locals>.inner_f\u001b[0;34m(*args, **kwargs)\u001b[0m\n\u001b[1;32m    724\u001b[0m \u001b[38;5;28;01mfor\u001b[39;00m k, arg \u001b[38;5;129;01min\u001b[39;00m \u001b[38;5;28mzip\u001b[39m(sig\u001b[38;5;241m.\u001b[39mparameters, args):\n\u001b[1;32m    725\u001b[0m     kwargs[k] \u001b[38;5;241m=\u001b[39m arg\n\u001b[0;32m--> 726\u001b[0m \u001b[38;5;28;01mreturn\u001b[39;00m \u001b[43mfunc\u001b[49m\u001b[43m(\u001b[49m\u001b[38;5;241;43m*\u001b[39;49m\u001b[38;5;241;43m*\u001b[39;49m\u001b[43mkwargs\u001b[49m\u001b[43m)\u001b[49m\n",
      "File \u001b[0;32m~/miniconda3/envs/tfg-py3.12/lib/python3.12/site-packages/xgboost/sklearn.py:1531\u001b[0m, in \u001b[0;36mXGBClassifier.fit\u001b[0;34m(self, X, y, sample_weight, base_margin, eval_set, verbose, xgb_model, sample_weight_eval_set, base_margin_eval_set, feature_weights)\u001b[0m\n\u001b[1;32m   1511\u001b[0m model, metric, params \u001b[38;5;241m=\u001b[39m \u001b[38;5;28mself\u001b[39m\u001b[38;5;241m.\u001b[39m_configure_fit(xgb_model, params)\n\u001b[1;32m   1512\u001b[0m train_dmatrix, evals \u001b[38;5;241m=\u001b[39m _wrap_evaluation_matrices(\n\u001b[1;32m   1513\u001b[0m     missing\u001b[38;5;241m=\u001b[39m\u001b[38;5;28mself\u001b[39m\u001b[38;5;241m.\u001b[39mmissing,\n\u001b[1;32m   1514\u001b[0m     X\u001b[38;5;241m=\u001b[39mX,\n\u001b[0;32m   (...)\u001b[0m\n\u001b[1;32m   1528\u001b[0m     feature_types\u001b[38;5;241m=\u001b[39m\u001b[38;5;28mself\u001b[39m\u001b[38;5;241m.\u001b[39mfeature_types,\n\u001b[1;32m   1529\u001b[0m )\n\u001b[0;32m-> 1531\u001b[0m \u001b[38;5;28mself\u001b[39m\u001b[38;5;241m.\u001b[39m_Booster \u001b[38;5;241m=\u001b[39m \u001b[43mtrain\u001b[49m\u001b[43m(\u001b[49m\n\u001b[1;32m   1532\u001b[0m \u001b[43m    \u001b[49m\u001b[43mparams\u001b[49m\u001b[43m,\u001b[49m\n\u001b[1;32m   1533\u001b[0m \u001b[43m    \u001b[49m\u001b[43mtrain_dmatrix\u001b[49m\u001b[43m,\u001b[49m\n\u001b[1;32m   1534\u001b[0m \u001b[43m    \u001b[49m\u001b[38;5;28;43mself\u001b[39;49m\u001b[38;5;241;43m.\u001b[39;49m\u001b[43mget_num_boosting_rounds\u001b[49m\u001b[43m(\u001b[49m\u001b[43m)\u001b[49m\u001b[43m,\u001b[49m\n\u001b[1;32m   1535\u001b[0m \u001b[43m    \u001b[49m\u001b[43mevals\u001b[49m\u001b[38;5;241;43m=\u001b[39;49m\u001b[43mevals\u001b[49m\u001b[43m,\u001b[49m\n\u001b[1;32m   1536\u001b[0m \u001b[43m    \u001b[49m\u001b[43mearly_stopping_rounds\u001b[49m\u001b[38;5;241;43m=\u001b[39;49m\u001b[38;5;28;43mself\u001b[39;49m\u001b[38;5;241;43m.\u001b[39;49m\u001b[43mearly_stopping_rounds\u001b[49m\u001b[43m,\u001b[49m\n\u001b[1;32m   1537\u001b[0m \u001b[43m    \u001b[49m\u001b[43mevals_result\u001b[49m\u001b[38;5;241;43m=\u001b[39;49m\u001b[43mevals_result\u001b[49m\u001b[43m,\u001b[49m\n\u001b[1;32m   1538\u001b[0m \u001b[43m    \u001b[49m\u001b[43mobj\u001b[49m\u001b[38;5;241;43m=\u001b[39;49m\u001b[43mobj\u001b[49m\u001b[43m,\u001b[49m\n\u001b[1;32m   1539\u001b[0m \u001b[43m    \u001b[49m\u001b[43mcustom_metric\u001b[49m\u001b[38;5;241;43m=\u001b[39;49m\u001b[43mmetric\u001b[49m\u001b[43m,\u001b[49m\n\u001b[1;32m   1540\u001b[0m \u001b[43m    \u001b[49m\u001b[43mverbose_eval\u001b[49m\u001b[38;5;241;43m=\u001b[39;49m\u001b[43mverbose\u001b[49m\u001b[43m,\u001b[49m\n\u001b[1;32m   1541\u001b[0m \u001b[43m    \u001b[49m\u001b[43mxgb_model\u001b[49m\u001b[38;5;241;43m=\u001b[39;49m\u001b[43mmodel\u001b[49m\u001b[43m,\u001b[49m\n\u001b[1;32m   1542\u001b[0m \u001b[43m    \u001b[49m\u001b[43mcallbacks\u001b[49m\u001b[38;5;241;43m=\u001b[39;49m\u001b[38;5;28;43mself\u001b[39;49m\u001b[38;5;241;43m.\u001b[39;49m\u001b[43mcallbacks\u001b[49m\u001b[43m,\u001b[49m\n\u001b[1;32m   1543\u001b[0m \u001b[43m\u001b[49m\u001b[43m)\u001b[49m\n\u001b[1;32m   1545\u001b[0m \u001b[38;5;28;01mif\u001b[39;00m \u001b[38;5;129;01mnot\u001b[39;00m \u001b[38;5;28mcallable\u001b[39m(\u001b[38;5;28mself\u001b[39m\u001b[38;5;241m.\u001b[39mobjective):\n\u001b[1;32m   1546\u001b[0m     \u001b[38;5;28mself\u001b[39m\u001b[38;5;241m.\u001b[39mobjective \u001b[38;5;241m=\u001b[39m params[\u001b[38;5;124m\"\u001b[39m\u001b[38;5;124mobjective\u001b[39m\u001b[38;5;124m\"\u001b[39m]\n",
      "File \u001b[0;32m~/miniconda3/envs/tfg-py3.12/lib/python3.12/site-packages/xgboost/core.py:726\u001b[0m, in \u001b[0;36mrequire_keyword_args.<locals>.throw_if.<locals>.inner_f\u001b[0;34m(*args, **kwargs)\u001b[0m\n\u001b[1;32m    724\u001b[0m \u001b[38;5;28;01mfor\u001b[39;00m k, arg \u001b[38;5;129;01min\u001b[39;00m \u001b[38;5;28mzip\u001b[39m(sig\u001b[38;5;241m.\u001b[39mparameters, args):\n\u001b[1;32m    725\u001b[0m     kwargs[k] \u001b[38;5;241m=\u001b[39m arg\n\u001b[0;32m--> 726\u001b[0m \u001b[38;5;28;01mreturn\u001b[39;00m \u001b[43mfunc\u001b[49m\u001b[43m(\u001b[49m\u001b[38;5;241;43m*\u001b[39;49m\u001b[38;5;241;43m*\u001b[39;49m\u001b[43mkwargs\u001b[49m\u001b[43m)\u001b[49m\n",
      "File \u001b[0;32m~/miniconda3/envs/tfg-py3.12/lib/python3.12/site-packages/xgboost/training.py:181\u001b[0m, in \u001b[0;36mtrain\u001b[0;34m(params, dtrain, num_boost_round, evals, obj, feval, maximize, early_stopping_rounds, evals_result, verbose_eval, xgb_model, callbacks, custom_metric)\u001b[0m\n\u001b[1;32m    179\u001b[0m \u001b[38;5;28;01mif\u001b[39;00m cb_container\u001b[38;5;241m.\u001b[39mbefore_iteration(bst, i, dtrain, evals):\n\u001b[1;32m    180\u001b[0m     \u001b[38;5;28;01mbreak\u001b[39;00m\n\u001b[0;32m--> 181\u001b[0m \u001b[43mbst\u001b[49m\u001b[38;5;241;43m.\u001b[39;49m\u001b[43mupdate\u001b[49m\u001b[43m(\u001b[49m\u001b[43mdtrain\u001b[49m\u001b[43m,\u001b[49m\u001b[43m \u001b[49m\u001b[43miteration\u001b[49m\u001b[38;5;241;43m=\u001b[39;49m\u001b[43mi\u001b[49m\u001b[43m,\u001b[49m\u001b[43m \u001b[49m\u001b[43mfobj\u001b[49m\u001b[38;5;241;43m=\u001b[39;49m\u001b[43mobj\u001b[49m\u001b[43m)\u001b[49m\n\u001b[1;32m    182\u001b[0m \u001b[38;5;28;01mif\u001b[39;00m cb_container\u001b[38;5;241m.\u001b[39mafter_iteration(bst, i, dtrain, evals):\n\u001b[1;32m    183\u001b[0m     \u001b[38;5;28;01mbreak\u001b[39;00m\n",
      "File \u001b[0;32m~/miniconda3/envs/tfg-py3.12/lib/python3.12/site-packages/xgboost/core.py:2100\u001b[0m, in \u001b[0;36mBooster.update\u001b[0;34m(self, dtrain, iteration, fobj)\u001b[0m\n\u001b[1;32m   2097\u001b[0m \u001b[38;5;28mself\u001b[39m\u001b[38;5;241m.\u001b[39m_assign_dmatrix_features(dtrain)\n\u001b[1;32m   2099\u001b[0m \u001b[38;5;28;01mif\u001b[39;00m fobj \u001b[38;5;129;01mis\u001b[39;00m \u001b[38;5;28;01mNone\u001b[39;00m:\n\u001b[0;32m-> 2100\u001b[0m     \u001b[43m_check_call\u001b[49m\u001b[43m(\u001b[49m\n\u001b[1;32m   2101\u001b[0m \u001b[43m        \u001b[49m\u001b[43m_LIB\u001b[49m\u001b[38;5;241;43m.\u001b[39;49m\u001b[43mXGBoosterUpdateOneIter\u001b[49m\u001b[43m(\u001b[49m\n\u001b[1;32m   2102\u001b[0m \u001b[43m            \u001b[49m\u001b[38;5;28;43mself\u001b[39;49m\u001b[38;5;241;43m.\u001b[39;49m\u001b[43mhandle\u001b[49m\u001b[43m,\u001b[49m\u001b[43m \u001b[49m\u001b[43mctypes\u001b[49m\u001b[38;5;241;43m.\u001b[39;49m\u001b[43mc_int\u001b[49m\u001b[43m(\u001b[49m\u001b[43miteration\u001b[49m\u001b[43m)\u001b[49m\u001b[43m,\u001b[49m\u001b[43m \u001b[49m\u001b[43mdtrain\u001b[49m\u001b[38;5;241;43m.\u001b[39;49m\u001b[43mhandle\u001b[49m\n\u001b[1;32m   2103\u001b[0m \u001b[43m        \u001b[49m\u001b[43m)\u001b[49m\n\u001b[1;32m   2104\u001b[0m \u001b[43m    \u001b[49m\u001b[43m)\u001b[49m\n\u001b[1;32m   2105\u001b[0m \u001b[38;5;28;01melse\u001b[39;00m:\n\u001b[1;32m   2106\u001b[0m     pred \u001b[38;5;241m=\u001b[39m \u001b[38;5;28mself\u001b[39m\u001b[38;5;241m.\u001b[39mpredict(dtrain, output_margin\u001b[38;5;241m=\u001b[39m\u001b[38;5;28;01mTrue\u001b[39;00m, training\u001b[38;5;241m=\u001b[39m\u001b[38;5;28;01mTrue\u001b[39;00m)\n",
      "File \u001b[0;32m~/miniconda3/envs/tfg-py3.12/lib/python3.12/site-packages/xgboost/core.py:284\u001b[0m, in \u001b[0;36m_check_call\u001b[0;34m(ret)\u001b[0m\n\u001b[1;32m    273\u001b[0m \u001b[38;5;250m\u001b[39m\u001b[38;5;124;03m\"\"\"Check the return value of C API call\u001b[39;00m\n\u001b[1;32m    274\u001b[0m \n\u001b[1;32m    275\u001b[0m \u001b[38;5;124;03mThis function will raise exception when error occurs.\u001b[39;00m\n\u001b[0;32m   (...)\u001b[0m\n\u001b[1;32m    281\u001b[0m \u001b[38;5;124;03m    return value from API calls\u001b[39;00m\n\u001b[1;32m    282\u001b[0m \u001b[38;5;124;03m\"\"\"\u001b[39;00m\n\u001b[1;32m    283\u001b[0m \u001b[38;5;28;01mif\u001b[39;00m ret \u001b[38;5;241m!=\u001b[39m \u001b[38;5;241m0\u001b[39m:\n\u001b[0;32m--> 284\u001b[0m     \u001b[38;5;28;01mraise\u001b[39;00m XGBoostError(py_str(_LIB\u001b[38;5;241m.\u001b[39mXGBGetLastError()))\n",
      "\u001b[0;31mXGBoostError\u001b[0m: [20:00:27] /workspace/src/learner.cc:722: Invalid parameter \"\n    'n_estimators': 1950, \n    'max_bin': 320, \n    'learning_rate': 0.013021709231445766, \n    'max_depth': 6, \n    'gamma': 0.8247599960235291, \n    'min_child_weight': 24, \n    'subsample': 0.8716053949930821, \n    'colsample_bytree': 0.4007318909627164, \n    'reg_alpha': 1.5514315047029046e-06, \n    'reg_lambda': 1.9775555386064807, \n    'tree_method': 'hist', \n    'scale_pos_weight': 1.293881916989639,\n    \"objective\": \"binary:logistic\",\n    eval_metric\" contains whitespace.\nStack trace:\n  [bt] (0) /home/yeray/miniconda3/envs/tfg-py3.12/lib/python3.12/site-packages/xgboost/lib/libxgboost.so(+0x22dcbc) [0x7f1dcb8d4cbc]\n  [bt] (1) /home/yeray/miniconda3/envs/tfg-py3.12/lib/python3.12/site-packages/xgboost/lib/libxgboost.so(+0x5c7316) [0x7f1dcbc6e316]\n  [bt] (2) /home/yeray/miniconda3/envs/tfg-py3.12/lib/python3.12/site-packages/xgboost/lib/libxgboost.so(+0x5c965a) [0x7f1dcbc7065a]\n  [bt] (3) /home/yeray/miniconda3/envs/tfg-py3.12/lib/python3.12/site-packages/xgboost/lib/libxgboost.so(+0x5caf4d) [0x7f1dcbc71f4d]\n  [bt] (4) /home/yeray/miniconda3/envs/tfg-py3.12/lib/python3.12/site-packages/xgboost/lib/libxgboost.so(XGBoosterUpdateOneIter+0x6f) [0x7f1dcb7de52f]\n  [bt] (5) /home/yeray/miniconda3/envs/tfg-py3.12/lib/python3.12/lib-dynload/../../libffi.so.8(+0xa052) [0x7f1ed5634052]\n  [bt] (6) /home/yeray/miniconda3/envs/tfg-py3.12/lib/python3.12/lib-dynload/../../libffi.so.8(+0x8925) [0x7f1ed5632925]\n  [bt] (7) /home/yeray/miniconda3/envs/tfg-py3.12/lib/python3.12/lib-dynload/../../libffi.so.8(ffi_call+0xde) [0x7f1ed563306e]\n  [bt] (8) /home/yeray/miniconda3/envs/tfg-py3.12/lib/python3.12/lib-dynload/_ctypes.cpython-312-x86_64-linux-gnu.so(+0x97b0) [0x7f1ed56447b0]\n\n"
     ]
    }
   ],
   "source": [
    "\n",
    "best_row = best_10.iloc[0]\n",
    "\n",
    "best_params = best_row.filter(like=\"params_\").to_dict()\n",
    "\n",
    "best_params_clean = {\n",
    "    k.replace(\"params_\", \"\"): v \n",
    "    for k, v in best_params.items()\n",
    "}\n",
    "\n",
    "\n",
    "final_params = {\n",
    "    **best_params_clean,\n",
    "    \"objective\": \"binary:logistic\",\n",
    "    \"eval_metric\": \"auc\",\n",
    "    \"use_label_encoder\": False,\n",
    "    \"random_state\": 42   \n",
    "}\n",
    "\n",
    "XGB_model = XGBClassifier(**final_params)\n",
    "\n",
    "XGB_model.fit(X_train, y_train)"
   ]
  },
  {
   "cell_type": "code",
   "execution_count": 9,
   "id": "4062c824-b41b-4306-9b1b-684b30d74689",
   "metadata": {},
   "outputs": [
    {
     "name": "stdout",
     "output_type": "stream",
     "text": [
      "AUC en test: 0.7963\n"
     ]
    }
   ],
   "source": [
    "from sklearn.metrics import roc_auc_score\n",
    "\n",
    "y_pred_proba = XGB_model.predict_proba(X_test)[:, 1]\n",
    "auc_test = roc_auc_score(y_test, y_pred_proba)\n",
    "print(f\"AUC en test: {auc_test:.4f}\")\n"
   ]
  },
  {
   "cell_type": "code",
   "execution_count": null,
   "id": "63bde924-4e5f-41a3-9aad-58fa0a9716c5",
   "metadata": {},
   "outputs": [],
   "source": [
    "Primera prueba:\n",
    "|    |   number |    value | datetime_start             | datetime_complete          | duration               |   params_colsample_bytree |   params_gamma |   params_learning_rate |   params_max_depth |   params_min_child_weight |   params_n_estimators |   params_reg_alpha |   params_reg_lambda |   params_scale_pos_weight |   params_subsample | state    |\r\n",
    "|----+----------+----------+----------------------------+----------------------------+------------------------+---------------------------+----------------+------------------------+--------------------+---------------------------+-----------------------+--------------------+---------------------+---------------------------+--------------------+----------|\r\n",
    "| 35 |       35 | 0.766467 | 2025-02-23 19:05:51.648664 | 2025-02-23 19:23:42.992309 | 0 days 00:17:51.343645 |                  0.609149 |        2.79174 |             0.016566   |                  7 |                        14 |                   950 |        2.98383e-07 |         0.000771683 |                   1.7469  |           0.753771 | COMPLETE \n",
    "Tras una segunda prueba añadiendo más HP y acotando algunos rangos obtenemos:\n",
    "\n",
    "|    |   number |    value | datetime_start             | datetime_complete          | duration               |   params_colsample_bytree |   params_gamma |   params_learning_rate |   params_max_bin |   params_max_depth |   params_min_child_weight |   params_n_estimators |   params_n_jobs |   params_reg_alpha |   params_reg_lambda |   params_scale_pos_weight |   params_subsample | params_tree_method   | state    |\n",
    "|----+----------+----------+----------------------------+----------------------------+------------------------+---------------------------+----------------+------------------------+------------------+--------------------+---------------------------+-----------------------+-----------------+--------------------+---------------------+---------------------------+--------------------+----------------------+----------|\n",
    "| 42 |       42 | 0.767633 | 2025-02-24 17:35:27.403636 | 2025-02-24 17:49:11.175013 | 0 days 00:13:43.771377 |                  0.58057  |       0.476025 |              0.0170753 |              300 |                  5 |                        23 |                  1800 |               2 |        2.30559e-07 |         2.39006e-05 |                   1.25498 |           0.788019 | hist                 | COMPLETE |\n",
    "\n",
    "Y si realizamos una prueba en el test con estos valores obtenemos:\n",
    "-AUC en test: 0.7717\n",
    "\n",
    "\n",
    "-He detenido las pruebas porque me estaba yendo demasiado lento:\n",
    "[I 2025-02-26 12:07:34,193] Trial 2 finished with value: 0.7938360589390858 and parameters: {'n_estimators': 1700, 'max_bin': 320, 'learning_rate': 0.016029922136908095, 'max_depth': 6, 'gamma': 0.8414416893725896, 'min_child_weight': 21, 'subsample': 0.8023911163856219, 'colsample_bytree': 0.5298608589445156, 'reg_alpha': 1.8193616624679977e-06, 'reg_lambda': 1.0784883537935654e-06, 'tree_method': 'auto', 'scale_pos_weight': 1.1284697519313376}. Best is trial 2 with value: 0.7938360589390858.\n",
    "\n",
    "Tras realizar una búsqueda sobre los mejores HP de XGBoost hemos obtenido:\n",
    "|    |   number |    value | datetime_start             | datetime_complete          | duration               |   params_colsample_bytree |   params_gamma |   params_learning_rate |   params_max_bin |   params_max_depth |   params_min_child_weight |   params_n_estimators |   params_reg_alpha |   params_reg_lambda |   params_scale_pos_weight |   params_subsample | params_tree_method   | state    |\n",
    "|----+----------+----------+----------------------------+----------------------------+------------------------+---------------------------+----------------+------------------------+------------------+--------------------+---------------------------+-----------------------+--------------------+---------------------+---------------------------+--------------------+----------------------+----------|\n",
    "| 88 |       88 | 0.794317 | 2025-03-02 07:37:37.702247 | 2025-03-02 08:23:05.401147 | 0 days 00:45:27.698900 |                  0.552899 |       0.382194 |              0.0175943 |              320 |                  6 |                        21 |                  1950 |          0.57723   |         0.00450461  |                   1.06067 |           0.765582 | auto                 | COMPLETE |\n",
    "\n",
    "Y sobre AUC hemos obtenido: \n",
    "\n",
    "Tras probar sobre el csv reducido el mejor resultado es:\n",
    "[I 2025-03-09 03:48:27,889] Trial 88 finished with value: 0.7941767520394812 and parameters: {'n_estimators': 1950, 'max_bin': 320, 'learning_rate': 0.013021709231445766, 'max_depth': 6, 'gamma': 0.8247599960235291, 'min_child_weight': 24, 'subsample': 0.8716053949930821, 'colsample_bytree': 0.4007318909627164, 'reg_alpha': 1.5514315047029046e-06, 'reg_lambda': 1.9775555386064807, 'tree_method': 'hist', 'scale_pos_weight': 1.293881916989639}. Best is trial 88 with value: 0.7941767520394812.\n",
    "\n",
    "AUC en test: 0.7963|\r\n"
   ]
  },
  {
   "cell_type": "code",
   "execution_count": null,
   "id": "a2127ece-2f5f-42c9-9987-d54ae736b191",
   "metadata": {},
   "outputs": [],
   "source": []
  }
 ],
 "metadata": {
  "kernelspec": {
   "display_name": "tfg-py3.12",
   "language": "python",
   "name": "tfg-py3.12"
  },
  "language_info": {
   "codemirror_mode": {
    "name": "ipython",
    "version": 3
   },
   "file_extension": ".py",
   "mimetype": "text/x-python",
   "name": "python",
   "nbconvert_exporter": "python",
   "pygments_lexer": "ipython3",
   "version": "3.12.8"
  }
 },
 "nbformat": 4,
 "nbformat_minor": 5
}
