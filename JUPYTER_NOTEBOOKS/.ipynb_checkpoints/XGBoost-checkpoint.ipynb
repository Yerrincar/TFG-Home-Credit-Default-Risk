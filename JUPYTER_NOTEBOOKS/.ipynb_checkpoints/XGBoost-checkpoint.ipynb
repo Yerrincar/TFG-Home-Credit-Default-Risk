{
 "cells": [
  {
   "cell_type": "code",
   "execution_count": 1,
   "id": "e245e390-2bf9-44e7-8461-95933e92f1d7",
   "metadata": {},
   "outputs": [
    {
     "name": "stdout",
     "output_type": "stream",
     "text": [
      "Python executable: /home/yeray/miniconda3/envs/tfg-py3.12/bin/python\n",
      "1.26.4\n",
      "Directorio actual: /home/yeray/TFG-Home-Credit-Default-Risk/JUPYTER_NOTEBOOKS\n"
     ]
    }
   ],
   "source": [
    "#Celda para librerías\n",
    "import sklearn as sk\n",
    "import sys\n",
    "print(\"Python executable:\", sys.executable)\n",
    "\n",
    "import matplotlib as plt\n",
    "import matplotlib.pyplot as plt\n",
    "\n",
    "import pandas as pd\n",
    "import seaborn as sns\n",
    "import numpy as np\n",
    "from sklearn.model_selection import train_test_split, cross_val_score\n",
    "\n",
    "import optuna\n",
    "from sklearn.model_selection import StratifiedKFold\n",
    "from sklearn.metrics import roc_auc_score\n",
    "\n",
    "#XGBoost\n",
    "from xgboost import XGBClassifier\n",
    "\n",
    "\n",
    "\n",
    "from hyperopt import hp, fmin, tpe, STATUS_OK, Trials\n",
    "from sklearn.model_selection import cross_val_score\n",
    "\n",
    "\n",
    "import json\n",
    "\n",
    "import warnings\n",
    "warnings.filterwarnings('ignore')\n",
    "\n",
    "print(np.__version__)\n",
    "from ydata_profiling import ProfileReport\n",
    "import os\n",
    "print(\"Directorio actual:\", os.getcwd())\n",
    "\n",
    "# Have all columns appear when dataframes are displayed.\n",
    "pd.set_option('display.max_columns', None) \n",
    "# Have 100 rows appear when a dataframe is displayed\n",
    "pd.set_option('display.max_rows', 500)\n",
    "# Display dimensions whenever a dataframe is printed out.\n",
    "pd.set_option('display.show_dimensions', True)\n",
    "\n",
    "#Importando los datos\n",
    "\n",
    "#app_train_def = pd.read_csv(r'/home/yeray/TFG-Home-Credit-Default-Risk/JUPYTER_NOTEBOOKS/DATA/application_train_preprocesado_definitivo_v1.csv')\n",
    "#app_train_def_2 = pd.read_csv(r'/home/yeray/TFG-Home-Credit-Default-Risk/JUPYTER_NOTEBOOKS/DATA/application_train_preprocesado_definitivo_v2.csv')\n",
    "#app_train_def_3 = pd.read_csv(r'/home/yeray/TFG-Home-Credit-Default-Risk/JUPYTER_NOTEBOOKS/DATA/application_train_preprocesado_definitivo_v3.csv')\n",
    "#app_train_def_4 = pd.read_csv(r'/home/yeray/TFG-Home-Credit-Default-Risk/JUPYTER_NOTEBOOKS/DATA/application_train_preprocesado_definitivo_v4.csv')\n",
    "#app_train_def_5 = pd.read_csv(r'/home/yeray/TFG-Home-Credit-Default-Risk/JUPYTER_NOTEBOOKS/DATA/application_train_preprocesado_definitivo_v5.csv')\n",
    "app_train_def_7 = pd.read_csv(r'/home/yeray/TFG-Home-Credit-Default-Risk/JUPYTER_NOTEBOOKS/DATA/application_train_preprocesado_definitivo_v7.csv')\n",
    "app_train_def_7_v2 = pd.read_csv(r'/home/yeray/TFG-Home-Credit-Default-Risk/JUPYTER_NOTEBOOKS/DATA/app_def_v7_menor_dimension.csv')\n",
    "\n",
    "#print(app_train_def_7.info())\n",
    "#print(app_train_def_7.shape)"
   ]
  },
  {
   "cell_type": "code",
   "execution_count": 2,
   "id": "d040e960-9702-4d99-afa2-34196f1f194f",
   "metadata": {},
   "outputs": [],
   "source": [
    "X = app_train_def_7_v2.drop(columns = ['TARGET'])\n",
    "y = app_train_def_7_v2['TARGET']\n",
    "X_train, X_test, y_train, y_test = train_test_split(X, y, test_size=0.2, random_state=42, stratify=y)\n",
    "\n",
    "X_train.columns = X_train.columns.str.replace('[^A-Za-z0-9_]+', '', regex=True)\n",
    "X_test.columns = X_test.columns.str.replace('[^A-Za-z0-9_]+', '', regex=True)"
   ]
  },
  {
   "cell_type": "code",
   "execution_count": null,
   "id": "89f6a6bd-9539-4469-9703-c4a73d78d699",
   "metadata": {},
   "outputs": [],
   "source": [
    "def objective(trial):\n",
    "    params = {\n",
    "        \"n_estimators\": trial.suggest_int(\"n_estimators\", 900, 1800, step=50),\n",
    "        \"max_bin\": trial.suggest_int(\"max_bin\", 200, 400, step=10),\n",
    "        \"learning_rate\": trial.suggest_float(\"learning_rate\", 0.01, 0.03, log=True),\n",
    "        \"max_depth\": trial.suggest_int(\"max_depth\", 5, 10),\n",
    "        \"gamma\": trial.suggest_float(\"gamma\", 0, 3),\n",
    "        \"min_child_weight\": trial.suggest_int(\"min_child_weight\", 12, 24),\n",
    "        \"subsample\": trial.suggest_float(\"subsample\", 0.6, 0.95),\n",
    "        \"colsample_bytree\": trial.suggest_float(\"colsample_bytree\", 0.4, 0.8),\n",
    "        \"reg_alpha\": trial.suggest_float(\"reg_alpha\", 1e-8, 1.0, log=True),\n",
    "        \"reg_lambda\": trial.suggest_float(\"reg_lambda\", 1e-8, 10.0, log=True),\n",
    "        \"tree_method\": trial.suggest_categorical(\"tree_method\", [\"auto\", \"hist\"])\n",
    "        \"scale_pos_weight\": trial.suggest_float(\"scale_pos_weight\", 1.0, 3.0),\n",
    "    }\n",
    "    model = XGBClassifier(\n",
    "        **params,\n",
    "        objective=\"binary:logistic\",\n",
    "        eval_metric=\"auc\",\n",
    "        use_label_encoder=False,\n",
    "        random_state=42,\n",
    "        n_jobs=-1\n",
    "    )\n",
    "\n",
    "    cv=StratifiedKFold(n_splits=5, shuffle=True, random_state=42)\n",
    "    scores = cross_val_score(model,X_train, y_train, scoring='roc_auc', cv=cv)\n",
    "\n",
    "    return scores.mean()"
   ]
  },
  {
   "cell_type": "code",
   "execution_count": null,
   "id": "533c5cb0-c2de-4021-bd7b-9f255de7f864",
   "metadata": {},
   "outputs": [],
   "source": [
    "#Estudio para maximizar\n",
    "study = optuna.create_study(direction=\"maximize\")\n",
    "\n",
    "#Búsqueda\n",
    "study.optimize(objective, n_trials=50, show_progress_bar=True)\n",
    "\n",
    "print(\"Best trial:\", study.best_trial.number)\n",
    "print(\"Best value (mean AUC):\", study.best_value)\n",
    "print(\"Best hyperparams:\", study.best_params)"
   ]
  },
  {
   "cell_type": "code",
   "execution_count": null,
   "id": "af115205-c7c8-44e7-8904-65e4e0afdc48",
   "metadata": {},
   "outputs": [],
   "source": [
    "import pickle\n",
    "with open(\"XGBoost_Optuna_Study_v1_space_reducido_mas_hiperpara.pkl\", \"wb\") as f:\n",
    "    pickle.dump(study, f)\n",
    "with open(\"XGBoost_Optuna_Study_v1_space_reducido_mas_hiperpara.pkl\", \"rb\") as f:\n",
    "    loaded_study = pickle.load(f)"
   ]
  },
  {
   "cell_type": "code",
   "execution_count": null,
   "id": "37e3232c-a287-4aea-a9fc-daaeb366da08",
   "metadata": {},
   "outputs": [],
   "source": [
    "from tabulate import tabulate\n",
    "\n",
    "trials_df = loaded_study.trials_dataframe()\n",
    "\n",
    "df_sorted = trials_df.sort_values(by=\"value\", ascending=False)\n",
    "best_10 = df_sorted.head(10)\n",
    "\n",
    "print(tabulate(best_10, headers=\"keys\", tablefmt=\"psql\"))"
   ]
  },
  {
   "cell_type": "code",
   "execution_count": 5,
   "id": "0c0af959-bbf9-4aac-bd65-de821d8ed0e4",
   "metadata": {},
   "outputs": [],
   "source": [
    "def objective_completo(trial):\n",
    "    params = {\n",
    "        \"n_estimators\": trial.suggest_int(\"n_estimators\", 1500, 2000, step=50),\n",
    "        \"max_bin\": trial.suggest_int(\"max_bin\", 270, 350, step=10),\n",
    "        \"learning_rate\": trial.suggest_float(\"learning_rate\", 0.01, 0.03, log=True),\n",
    "        \"max_depth\": trial.suggest_int(\"max_depth\", 1, 6),\n",
    "        \"gamma\": trial.suggest_float(\"gamma\", 0, 1.5),\n",
    "        \"min_child_weight\": trial.suggest_int(\"min_child_weight\", 17, 25),\n",
    "        \"subsample\": trial.suggest_float(\"subsample\", 0.75, 0.9),\n",
    "        \"colsample_bytree\": trial.suggest_float(\"colsample_bytree\", 0.4, 0.6),\n",
    "        \"reg_alpha\": trial.suggest_float(\"reg_alpha\", 1e-8, 1.0, log=True),\n",
    "        \"reg_lambda\": trial.suggest_float(\"reg_lambda\", 1e-8, 2.2, log=True),\n",
    "        \"tree_method\": trial.suggest_categorical(\"tree_method\", [\"auto\", \"hist\"]),\n",
    "        \"scale_pos_weight\": trial.suggest_float(\"scale_pos_weight\", 1.0, 2.0),\n",
    "    }\n",
    "    model = XGBClassifier(\n",
    "        **params,\n",
    "        objective=\"binary:logistic\",\n",
    "        eval_metric=\"auc\",\n",
    "        use_label_encoder=False,\n",
    "        random_state=42,\n",
    "        n_jobs=-1\n",
    "    )\n",
    "\n",
    "    cv=StratifiedKFold(n_splits=5, shuffle=True, random_state=42)\n",
    "    scores = cross_val_score(model,X_train, y_train, scoring='roc_auc', cv=cv)\n",
    "\n",
    "    return scores.mean()"
   ]
  },
  {
   "cell_type": "code",
   "execution_count": null,
   "id": "284b9917-aff7-40df-bee8-8cc073b70442",
   "metadata": {},
   "outputs": [
    {
     "name": "stderr",
     "output_type": "stream",
     "text": [
      "[I 2025-03-06 19:46:34,125] A new study created in memory with name: no-name-609c031c-d878-476e-8773-f463cd19fb7f\n"
     ]
    },
    {
     "data": {
      "application/vnd.jupyter.widget-view+json": {
       "model_id": "46bd6a6a14a24bee89d1f4254da52b6c",
       "version_major": 2,
       "version_minor": 0
      },
      "text/plain": [
       "  0%|          | 0/100 [00:00<?, ?it/s]"
      ]
     },
     "metadata": {},
     "output_type": "display_data"
    },
    {
     "name": "stdout",
     "output_type": "stream",
     "text": [
      "[I 2025-03-06 20:17:48,905] Trial 0 finished with value: 0.7872607013603694 and parameters: {'n_estimators': 1850, 'max_bin': 320, 'learning_rate': 0.011635182197463066, 'max_depth': 3, 'gamma': 0.9559734825886956, 'min_child_weight': 17, 'subsample': 0.8006007028312263, 'colsample_bytree': 0.5857692984725534, 'reg_alpha': 3.599478939814868e-08, 'reg_lambda': 8.696776925638852e-05, 'tree_method': 'auto', 'scale_pos_weight': 1.6451510057243541}. Best is trial 0 with value: 0.7872607013603694.\n",
      "[I 2025-03-06 20:40:25,641] Trial 1 finished with value: 0.782503502520601 and parameters: {'n_estimators': 1600, 'max_bin': 320, 'learning_rate': 0.01564479336356769, 'max_depth': 2, 'gamma': 0.8953749094109904, 'min_child_weight': 21, 'subsample': 0.8222730815144866, 'colsample_bytree': 0.5821538323899231, 'reg_alpha': 0.2662914789801197, 'reg_lambda': 0.001740508510301081, 'tree_method': 'auto', 'scale_pos_weight': 1.3495086017133466}. Best is trial 0 with value: 0.7872607013603694.\n",
      "[I 2025-03-06 21:06:59,723] Trial 2 finished with value: 0.7901298562432996 and parameters: {'n_estimators': 1750, 'max_bin': 330, 'learning_rate': 0.019746045677895452, 'max_depth': 3, 'gamma': 0.1395673633291481, 'min_child_weight': 21, 'subsample': 0.8975329076033699, 'colsample_bytree': 0.5026798642536549, 'reg_alpha': 3.1122584514363314e-05, 'reg_lambda': 3.743671576153431e-05, 'tree_method': 'hist', 'scale_pos_weight': 1.5691784975331218}. Best is trial 2 with value: 0.7901298562432996.\n",
      "[I 2025-03-06 21:26:30,392] Trial 3 finished with value: 0.7861323480210628 and parameters: {'n_estimators': 1850, 'max_bin': 280, 'learning_rate': 0.010703062281972785, 'max_depth': 3, 'gamma': 0.24903821053332548, 'min_child_weight': 21, 'subsample': 0.8503857034082366, 'colsample_bytree': 0.4087805436783022, 'reg_alpha': 0.5923870750361102, 'reg_lambda': 6.40295490108276e-05, 'tree_method': 'hist', 'scale_pos_weight': 1.2497589194923506}. Best is trial 2 with value: 0.7901298562432996.\n",
      "[I 2025-03-06 21:48:09,326] Trial 4 finished with value: 0.7884020238472144 and parameters: {'n_estimators': 1500, 'max_bin': 350, 'learning_rate': 0.01116620037731309, 'max_depth': 4, 'gamma': 1.024155394521725, 'min_child_weight': 20, 'subsample': 0.7998203808146067, 'colsample_bytree': 0.4862062414971051, 'reg_alpha': 0.0022135182996173225, 'reg_lambda': 2.4368126294167853e-08, 'tree_method': 'auto', 'scale_pos_weight': 1.1476604072133085}. Best is trial 2 with value: 0.7901298562432996.\n",
      "[I 2025-03-06 22:13:15,292] Trial 5 finished with value: 0.7906325026046893 and parameters: {'n_estimators': 1950, 'max_bin': 310, 'learning_rate': 0.011584745097146921, 'max_depth': 4, 'gamma': 0.48667752921220137, 'min_child_weight': 19, 'subsample': 0.8175100322171279, 'colsample_bytree': 0.43548418418318247, 'reg_alpha': 2.9682773611010617e-07, 'reg_lambda': 1.8843758216570126, 'tree_method': 'hist', 'scale_pos_weight': 1.0842855027551295}. Best is trial 5 with value: 0.7906325026046893.\n",
      "[I 2025-03-06 22:27:50,718] Trial 6 finished with value: 0.7677281130158855 and parameters: {'n_estimators': 1800, 'max_bin': 350, 'learning_rate': 0.01178711430205886, 'max_depth': 1, 'gamma': 0.5711382767864, 'min_child_weight': 24, 'subsample': 0.8148899443104773, 'colsample_bytree': 0.43376698313288453, 'reg_alpha': 4.1144313529456563e-08, 'reg_lambda': 0.0020824104054594887, 'tree_method': 'auto', 'scale_pos_weight': 1.8111382521391235}. Best is trial 5 with value: 0.7906325026046893.\n",
      "[I 2025-03-06 22:40:54,966] Trial 7 finished with value: 0.7770797637844953 and parameters: {'n_estimators': 1700, 'max_bin': 310, 'learning_rate': 0.02668829415412669, 'max_depth': 1, 'gamma': 0.2836314461079355, 'min_child_weight': 17, 'subsample': 0.7530798843041412, 'colsample_bytree': 0.552299493012003, 'reg_alpha': 9.327743722851479e-07, 'reg_lambda': 0.07551806560811478, 'tree_method': 'hist', 'scale_pos_weight': 1.648049943517456}. Best is trial 5 with value: 0.7906325026046893.\n",
      "[I 2025-03-06 23:01:50,150] Trial 8 finished with value: 0.7798309819584693 and parameters: {'n_estimators': 1950, 'max_bin': 340, 'learning_rate': 0.010221788373008323, 'max_depth': 2, 'gamma': 1.404871469892829, 'min_child_weight': 19, 'subsample': 0.8231846244503668, 'colsample_bytree': 0.4546730248441105, 'reg_alpha': 1.2392380757468464e-08, 'reg_lambda': 3.083606756025174e-07, 'tree_method': 'auto', 'scale_pos_weight': 1.3115672375415646}. Best is trial 5 with value: 0.7906325026046893.\n",
      "[I 2025-03-06 23:15:10,283] Trial 9 finished with value: 0.7769666326232182 and parameters: {'n_estimators': 1500, 'max_bin': 270, 'learning_rate': 0.010562911641837766, 'max_depth': 2, 'gamma': 0.3280804315741849, 'min_child_weight': 22, 'subsample': 0.7802235917053653, 'colsample_bytree': 0.555935892484641, 'reg_alpha': 0.2517941985879269, 'reg_lambda': 1.3448260488642405e-07, 'tree_method': 'hist', 'scale_pos_weight': 1.3392956603617732}. Best is trial 5 with value: 0.7906325026046893.\n",
      "[I 2025-03-06 23:47:10,514] Trial 10 finished with value: 0.7939004142145955 and parameters: {'n_estimators': 2000, 'max_bin': 300, 'learning_rate': 0.014685963692815938, 'max_depth': 6, 'gamma': 0.609156571258544, 'min_child_weight': 25, 'subsample': 0.8595732593020273, 'colsample_bytree': 0.4828331771817563, 'reg_alpha': 8.607134353308614e-06, 'reg_lambda': 0.8349611356183628, 'tree_method': 'hist', 'scale_pos_weight': 1.0790618641317655}. Best is trial 10 with value: 0.7939004142145955.\n",
      "[I 2025-03-07 00:19:04,827] Trial 11 finished with value: 0.7940211947237173 and parameters: {'n_estimators': 2000, 'max_bin': 300, 'learning_rate': 0.01492985053145585, 'max_depth': 6, 'gamma': 0.600025075163993, 'min_child_weight': 25, 'subsample': 0.8607396684012302, 'colsample_bytree': 0.47933741502187704, 'reg_alpha': 2.364444204849558e-06, 'reg_lambda': 2.1115055644046694, 'tree_method': 'hist', 'scale_pos_weight': 1.0310976777144976}. Best is trial 11 with value: 0.7940211947237173.\n",
      "[I 2025-03-07 00:50:36,239] Trial 12 finished with value: 0.7936812345541715 and parameters: {'n_estimators': 2000, 'max_bin': 290, 'learning_rate': 0.015380299308733534, 'max_depth': 6, 'gamma': 0.6786525412261933, 'min_child_weight': 25, 'subsample': 0.8623385388846629, 'colsample_bytree': 0.5012060411084345, 'reg_alpha': 1.688085903026022e-05, 'reg_lambda': 1.4658100588871148, 'tree_method': 'hist', 'scale_pos_weight': 1.0041414463451286}. Best is trial 11 with value: 0.7940211947237173.\n",
      "[I 2025-03-07 01:19:46,407] Trial 13 finished with value: 0.7934794678508685 and parameters: {'n_estimators': 2000, 'max_bin': 290, 'learning_rate': 0.01868435804480236, 'max_depth': 6, 'gamma': 1.2251268153718256, 'min_child_weight': 24, 'subsample': 0.8606762344794666, 'colsample_bytree': 0.46892882730825136, 'reg_alpha': 0.0003914355599936338, 'reg_lambda': 0.05429599876252768, 'tree_method': 'hist', 'scale_pos_weight': 1.1397458415242394}. Best is trial 11 with value: 0.7940211947237173.\n",
      "[I 2025-03-07 01:46:01,204] Trial 14 finished with value: 0.7928526627795242 and parameters: {'n_estimators': 1900, 'max_bin': 300, 'learning_rate': 0.014410435536570428, 'max_depth': 5, 'gamma': 0.7324154518932755, 'min_child_weight': 25, 'subsample': 0.8896341717912465, 'colsample_bytree': 0.5259132401541655, 'reg_alpha': 3.7171119650759632e-06, 'reg_lambda': 0.10967983172713539, 'tree_method': 'hist', 'scale_pos_weight': 1.9665710353750692}. Best is trial 11 with value: 0.7940211947237173.\n",
      "[I 2025-03-07 02:14:20,689] Trial 15 finished with value: 0.7928216668245942 and parameters: {'n_estimators': 2000, 'max_bin': 300, 'learning_rate': 0.013488088369864483, 'max_depth': 5, 'gamma': 0.4878502446012508, 'min_child_weight': 23, 'subsample': 0.8445287371817791, 'colsample_bytree': 0.520626159248764, 'reg_alpha': 0.0013904072597904988, 'reg_lambda': 0.0024610967833320094, 'tree_method': 'hist', 'scale_pos_weight': 1.4568044403361144}. Best is trial 11 with value: 0.7940211947237173.\n",
      "[I 2025-03-07 02:38:23,372] Trial 16 finished with value: 0.7936955343524039 and parameters: {'n_estimators': 1900, 'max_bin': 290, 'learning_rate': 0.021931640062978264, 'max_depth': 5, 'gamma': 1.1224808489414402, 'min_child_weight': 24, 'subsample': 0.8778334538250588, 'colsample_bytree': 0.47231060534679836, 'reg_alpha': 0.00011391600662518778, 'reg_lambda': 0.3623994064844295, 'tree_method': 'hist', 'scale_pos_weight': 1.031248220753676}. Best is trial 11 with value: 0.7940211947237173.\n",
      "[I 2025-03-07 03:07:22,855] Trial 17 finished with value: 0.7933024835449489 and parameters: {'n_estimators': 1750, 'max_bin': 300, 'learning_rate': 0.013389089702876158, 'max_depth': 6, 'gamma': 0.0030552155864703723, 'min_child_weight': 23, 'subsample': 0.841622206718478, 'colsample_bytree': 0.4459005714298403, 'reg_alpha': 0.015358766292018723, 'reg_lambda': 0.009128041503370144, 'tree_method': 'hist', 'scale_pos_weight': 1.2077746591815202}. Best is trial 11 with value: 0.7940211947237173.\n",
      "[I 2025-03-07 03:31:30,181] Trial 18 finished with value: 0.7934550307371772 and parameters: {'n_estimators': 1900, 'max_bin': 270, 'learning_rate': 0.017229721661402717, 'max_depth': 5, 'gamma': 0.8202164050505419, 'min_child_weight': 25, 'subsample': 0.8765658344982461, 'colsample_bytree': 0.4115859319206133, 'reg_alpha': 2.8758789799011473e-06, 'reg_lambda': 8.750042462325108e-06, 'tree_method': 'hist', 'scale_pos_weight': 1.4566785098823811}. Best is trial 11 with value: 0.7940211947237173.\n",
      "[I 2025-03-07 03:57:17,552] Trial 19 finished with value: 0.793292464558218 and parameters: {'n_estimators': 1650, 'max_bin': 320, 'learning_rate': 0.024710352526259777, 'max_depth': 6, 'gamma': 0.6131950567488675, 'min_child_weight': 23, 'subsample': 0.8729958627643467, 'colsample_bytree': 0.4820822587063968, 'reg_alpha': 3.0783065113708583e-07, 'reg_lambda': 0.01667675537515051, 'tree_method': 'hist', 'scale_pos_weight': 1.190282451896575}. Best is trial 11 with value: 0.7940211947237173.\n",
      "[I 2025-03-07 04:19:22,233] Trial 20 finished with value: 0.7922811131557974 and parameters: {'n_estimators': 1950, 'max_bin': 280, 'learning_rate': 0.01706223794568051, 'max_depth': 4, 'gamma': 0.5004242558067975, 'min_child_weight': 22, 'subsample': 0.8405727659020529, 'colsample_bytree': 0.5305269334687713, 'reg_alpha': 1.136272168120721e-05, 'reg_lambda': 0.3638265412749646, 'tree_method': 'hist', 'scale_pos_weight': 1.091877120260951}. Best is trial 11 with value: 0.7940211947237173.\n",
      "[I 2025-03-07 04:43:23,241] Trial 21 finished with value: 0.7939387026502054 and parameters: {'n_estimators': 1900, 'max_bin': 290, 'learning_rate': 0.022965177000244374, 'max_depth': 5, 'gamma': 1.104420366622401, 'min_child_weight': 24, 'subsample': 0.8834980701203488, 'colsample_bytree': 0.4711321169263475, 'reg_alpha': 0.00011834480263105526, 'reg_lambda': 0.4839665152949529, 'tree_method': 'hist', 'scale_pos_weight': 1.0057647605521536}. Best is trial 11 with value: 0.7940211947237173.\n",
      "[I 2025-03-07 05:14:37,065] Trial 22 finished with value: 0.7935871946352451 and parameters: {'n_estimators': 2000, 'max_bin': 300, 'learning_rate': 0.021982437513192368, 'max_depth': 6, 'gamma': 1.3192835151065792, 'min_child_weight': 25, 'subsample': 0.8872503608707017, 'colsample_bytree': 0.4610521236791997, 'reg_alpha': 0.00010219152859722187, 'reg_lambda': 1.9176689101230022, 'tree_method': 'hist', 'scale_pos_weight': 1.0131109751475735}. Best is trial 11 with value: 0.7940211947237173.\n",
      "[I 2025-03-07 05:40:29,425] Trial 23 finished with value: 0.7924624186234184 and parameters: {'n_estimators': 1850, 'max_bin': 280, 'learning_rate': 0.012875835280224037, 'max_depth': 5, 'gamma': 1.0932136078769024, 'min_child_weight': 24, 'subsample': 0.858593556620116, 'colsample_bytree': 0.4889397532313225, 'reg_alpha': 2.6798940630197034e-06, 'reg_lambda': 0.26962709539758273, 'tree_method': 'hist', 'scale_pos_weight': 1.1071002665751024}. Best is trial 11 with value: 0.7940211947237173.\n",
      "[I 2025-03-07 06:10:38,495] Trial 24 finished with value: 0.7938824843407917 and parameters: {'n_estimators': 1950, 'max_bin': 290, 'learning_rate': 0.015687085850621625, 'max_depth': 6, 'gamma': 0.809166589438239, 'min_child_weight': 25, 'subsample': 0.8671612513804408, 'colsample_bytree': 0.5015290005863854, 'reg_alpha': 0.009297352051606481, 'reg_lambda': 0.028907091250310088, 'tree_method': 'hist', 'scale_pos_weight': 1.258330919101104}. Best is trial 11 with value: 0.7940211947237173.\n",
      "[I 2025-03-07 06:36:47,464] Trial 25 finished with value: 0.7927818333108954 and parameters: {'n_estimators': 1900, 'max_bin': 310, 'learning_rate': 0.02860362979265438, 'max_depth': 5, 'gamma': 0.8950220752041219, 'min_child_weight': 24, 'subsample': 0.8837232747888265, 'colsample_bytree': 0.44011705728575484, 'reg_alpha': 4.5248563238121254e-05, 'reg_lambda': 0.6071770393376595, 'tree_method': 'hist', 'scale_pos_weight': 1.0016182149310524}. Best is trial 11 with value: 0.7940211947237173.\n",
      "[I 2025-03-07 07:04:11,038] Trial 26 finished with value: 0.7931753918558897 and parameters: {'n_estimators': 1800, 'max_bin': 300, 'learning_rate': 0.01941200277314052, 'max_depth': 6, 'gamma': 0.3920786874392897, 'min_child_weight': 23, 'subsample': 0.8974669816029467, 'colsample_bytree': 0.4762230828604405, 'reg_alpha': 0.0003774741468706628, 'reg_lambda': 0.0004714294527018769, 'tree_method': 'auto', 'scale_pos_weight': 1.0898077137620703}. Best is trial 11 with value: 0.7940211947237173.\n",
      "[I 2025-03-07 07:30:56,563] Trial 27 finished with value: 0.7934454413414928 and parameters: {'n_estimators': 2000, 'max_bin': 310, 'learning_rate': 0.02253713898211083, 'max_depth': 5, 'gamma': 1.4990557407871354, 'min_child_weight': 22, 'subsample': 0.8351044842131385, 'colsample_bytree': 0.5113786028449492, 'reg_alpha': 5.318470286059212e-07, 'reg_lambda': 6.6862999630690194e-06, 'tree_method': 'hist', 'scale_pos_weight': 1.1899191521942893}. Best is trial 11 with value: 0.7940211947237173.\n",
      "[I 2025-03-07 07:54:22,560] Trial 28 finished with value: 0.7924436663957446 and parameters: {'n_estimators': 1950, 'max_bin': 280, 'learning_rate': 0.018304341132426287, 'max_depth': 4, 'gamma': 0.682506454969243, 'min_child_weight': 25, 'subsample': 0.8532678959841662, 'colsample_bytree': 0.5412448299865242, 'reg_alpha': 4.471133889701163e-06, 'reg_lambda': 0.0058334494956604425, 'tree_method': 'hist', 'scale_pos_weight': 1.3873634877591086}. Best is trial 11 with value: 0.7940211947237173.\n",
      "[I 2025-03-07 08:27:19,802] Trial 29 finished with value: 0.7938568754465823 and parameters: {'n_estimators': 1850, 'max_bin': 330, 'learning_rate': 0.0123649121045162, 'max_depth': 6, 'gamma': 0.9572110911684037, 'min_child_weight': 24, 'subsample': 0.8307789561210119, 'colsample_bytree': 0.45899770082462266, 'reg_alpha': 8.499123918746199e-08, 'reg_lambda': 0.16309766965027617, 'tree_method': 'auto', 'scale_pos_weight': 1.2695195513346076}. Best is trial 11 with value: 0.7940211947237173.\n",
      "[I 2025-03-07 08:54:28,006] Trial 30 finished with value: 0.7927976637194221 and parameters: {'n_estimators': 1900, 'max_bin': 290, 'learning_rate': 0.014706017928063137, 'max_depth': 5, 'gamma': 1.2469451397384617, 'min_child_weight': 17, 'subsample': 0.8704191937322752, 'colsample_bytree': 0.42050561679903475, 'reg_alpha': 0.00039133996966863894, 'reg_lambda': 0.03464858620548426, 'tree_method': 'hist', 'scale_pos_weight': 1.7321507100085256}. Best is trial 11 with value: 0.7940211947237173.\n",
      "[I 2025-03-07 09:24:06,429] Trial 31 finished with value: 0.7939767686885985 and parameters: {'n_estimators': 1950, 'max_bin': 290, 'learning_rate': 0.015981784490066927, 'max_depth': 6, 'gamma': 0.7964120056016843, 'min_child_weight': 25, 'subsample': 0.8680058685250683, 'colsample_bytree': 0.4938133732257998, 'reg_alpha': 0.011034113669343665, 'reg_lambda': 0.7097198579081302, 'tree_method': 'hist', 'scale_pos_weight': 1.057095749647842}. Best is trial 11 with value: 0.7940211947237173.\n",
      "[I 2025-03-07 09:54:48,116] Trial 32 finished with value: 0.7938013508287339 and parameters: {'n_estimators': 1950, 'max_bin': 300, 'learning_rate': 0.016290875063801974, 'max_depth': 6, 'gamma': 0.7976645313501818, 'min_child_weight': 25, 'subsample': 0.8824720771533194, 'colsample_bytree': 0.4937157516896757, 'reg_alpha': 0.02805420087464672, 'reg_lambda': 0.7260723476253482, 'tree_method': 'hist', 'scale_pos_weight': 1.0513533360323657}. Best is trial 11 with value: 0.7940211947237173.\n",
      "[I 2025-03-07 10:37:07,638] Trial 33 finished with value: 0.7939484679580986 and parameters: {'n_estimators': 2000, 'max_bin': 290, 'learning_rate': 0.014133842420374809, 'max_depth': 6, 'gamma': 0.5996141097758766, 'min_child_weight': 24, 'subsample': 0.8544717830105854, 'colsample_bytree': 0.5094301625522851, 'reg_alpha': 0.00337496591803335, 'reg_lambda': 0.19705758393743475, 'tree_method': 'hist', 'scale_pos_weight': 1.1739803911612816}. Best is trial 11 with value: 0.7940211947237173.\n",
      "[I 2025-03-07 11:23:27,859] Trial 34 finished with value: 0.7932068628627224 and parameters: {'n_estimators': 1800, 'max_bin': 280, 'learning_rate': 0.02043125885358404, 'max_depth': 6, 'gamma': 1.0345762923638895, 'min_child_weight': 23, 'subsample': 0.8533987468832175, 'colsample_bytree': 0.5154066182780437, 'reg_alpha': 0.0028774951914665847, 'reg_lambda': 0.05895389901553075, 'tree_method': 'hist', 'scale_pos_weight': 1.1523066137753566}. Best is trial 11 with value: 0.7940211947237173.\n",
      "[I 2025-03-07 12:06:32,838] Trial 35 finished with value: 0.7933226070094268 and parameters: {'n_estimators': 1850, 'max_bin': 290, 'learning_rate': 0.01676654156098593, 'max_depth': 5, 'gamma': 0.4078925973406464, 'min_child_weight': 24, 'subsample': 0.8695665691044364, 'colsample_bytree': 0.593769621831985, 'reg_alpha': 0.07607629472004174, 'reg_lambda': 0.00045238086268226737, 'tree_method': 'auto', 'scale_pos_weight': 1.1600465581046397}. Best is trial 11 with value: 0.7940211947237173.\n",
      "[I 2025-03-07 12:46:08,088] Trial 36 finished with value: 0.7914720758267687 and parameters: {'n_estimators': 1950, 'max_bin': 270, 'learning_rate': 0.013887420626169895, 'max_depth': 4, 'gamma': 0.9219642802968842, 'min_child_weight': 20, 'subsample': 0.8916978455642129, 'colsample_bytree': 0.5702330707772367, 'reg_alpha': 0.003742700609101595, 'reg_lambda': 0.23212565785634687, 'tree_method': 'hist', 'scale_pos_weight': 1.2318217157284594}. Best is trial 11 with value: 0.7940211947237173.\n",
      "[I 2025-03-07 13:41:12,089] Trial 37 finished with value: 0.7936093478305404 and parameters: {'n_estimators': 2000, 'max_bin': 280, 'learning_rate': 0.015897084029971042, 'max_depth': 6, 'gamma': 0.5478723287566908, 'min_child_weight': 24, 'subsample': 0.898518036803059, 'colsample_bytree': 0.4654776051417819, 'reg_alpha': 0.05219390706472159, 'reg_lambda': 1.7113326740363748, 'tree_method': 'hist', 'scale_pos_weight': 1.5624956796114249}. Best is trial 11 with value: 0.7940211947237173.\n",
      "[I 2025-03-07 14:19:58,960] Trial 38 finished with value: 0.7877194126688354 and parameters: {'n_estimators': 1900, 'max_bin': 320, 'learning_rate': 0.012348090599497864, 'max_depth': 3, 'gamma': 0.19605833229668768, 'min_child_weight': 22, 'subsample': 0.8482163021749956, 'colsample_bytree': 0.5102539673272899, 'reg_alpha': 0.0006285105394078448, 'reg_lambda': 0.1233197283240884, 'tree_method': 'auto', 'scale_pos_weight': 1.0593946519192776}. Best is trial 11 with value: 0.7940211947237173.\n",
      "[I 2025-03-07 14:57:51,653] Trial 39 finished with value: 0.793045763648391 and parameters: {'n_estimators': 1600, 'max_bin': 310, 'learning_rate': 0.01812331584987638, 'max_depth': 5, 'gamma': 0.6933998136690274, 'min_child_weight': 23, 'subsample': 0.8319711950470665, 'colsample_bytree': 0.493054380817321, 'reg_alpha': 0.008806082454331121, 'reg_lambda': 0.010723802098924751, 'tree_method': 'hist', 'scale_pos_weight': 1.3828467605289017}. Best is trial 11 with value: 0.7940211947237173.\n",
      "[I 2025-03-07 15:49:48,349] Trial 40 finished with value: 0.7929274329141865 and parameters: {'n_estimators': 1950, 'max_bin': 290, 'learning_rate': 0.025004838195259112, 'max_depth': 6, 'gamma': 0.8428745704430262, 'min_child_weight': 21, 'subsample': 0.8664322838797547, 'colsample_bytree': 0.5385089487971044, 'reg_alpha': 0.861682317181394, 'reg_lambda': 0.6032587845115801, 'tree_method': 'hist', 'scale_pos_weight': 1.1258247256830909}. Best is trial 11 with value: 0.7940211947237173.\n",
      "[I 2025-03-07 16:44:57,948] Trial 41 finished with value: 0.7937072086225394 and parameters: {'n_estimators': 2000, 'max_bin': 300, 'learning_rate': 0.014638712589734145, 'max_depth': 6, 'gamma': 0.621377209107807, 'min_child_weight': 25, 'subsample': 0.8553332568902263, 'colsample_bytree': 0.48730201564822445, 'reg_alpha': 4.74357006367878e-05, 'reg_lambda': 0.8658376701378911, 'tree_method': 'hist', 'scale_pos_weight': 1.0607693164727112}. Best is trial 11 with value: 0.7940211947237173.\n",
      "[I 2025-03-07 17:41:04,265] Trial 42 finished with value: 0.793898092769685 and parameters: {'n_estimators': 2000, 'max_bin': 310, 'learning_rate': 0.014657976111472487, 'max_depth': 6, 'gamma': 0.42933000238032704, 'min_child_weight': 25, 'subsample': 0.8783387933971933, 'colsample_bytree': 0.4794888773577028, 'reg_alpha': 1.1656851740984533e-06, 'reg_lambda': 0.8578943333485439, 'tree_method': 'hist', 'scale_pos_weight': 1.0973155665487526}. Best is trial 11 with value: 0.7940211947237173.\n"
     ]
    }
   ],
   "source": [
    "#Estudio para maximizar\n",
    "study_completo = optuna.create_study(direction=\"maximize\")\n",
    "\n",
    "#Búsqueda\n",
    "study_completo.optimize(objective_completo, n_trials=100, show_progress_bar=True)\n",
    "\n",
    "print(\"Best trial:\", study_completo.best_trial.number)\n",
    "print(\"Best value (mean AUC):\", study_completo.best_value)\n",
    "print(\"Best hyperparams:\", study_completo.best_params)"
   ]
  },
  {
   "cell_type": "code",
   "execution_count": null,
   "id": "172cd5fa-043d-48ad-b074-d878c6e16898",
   "metadata": {},
   "outputs": [],
   "source": [
    "import pickle\n",
    "with open(\"XGBoost_Optuna_Study_v7_completo_1183_features.pkl\", \"wb\") as f:\n",
    "    pickle.dump(study_completo, f)\n",
    "#with open(\"/home/yeray/TFG-Home-Credit-Default-Risk/JUPYTER_NOTEBOOKS/XGBoost_Optuna_Study_v7_completo.pkl\", \"rb\") as f:\n",
    "#    loaded_study_completo = pickle.load(f)"
   ]
  },
  {
   "cell_type": "code",
   "execution_count": null,
   "id": "f995ff76-0fb5-4c47-b583-608c50d836b8",
   "metadata": {},
   "outputs": [],
   "source": [
    "from tabulate import tabulate\n",
    "\n",
    "trials_df = loaded_study_completo.trials_dataframe()\n",
    "\n",
    "df_sorted = trials_df.sort_values(by=\"value\", ascending=False)\n",
    "best_10 = df_sorted.head(10)\n",
    "\n",
    "print(tabulate(best_10, headers=\"keys\", tablefmt=\"psql\"))"
   ]
  },
  {
   "cell_type": "code",
   "execution_count": null,
   "id": "dbcfcbc0-25ae-47d7-a33b-8890d058e0cb",
   "metadata": {},
   "outputs": [],
   "source": [
    "best_row = best_10.iloc[0]\n",
    "\n",
    "best_params = best_row.filter(like=\"params_\").to_dict()\n",
    "\n",
    "best_params_clean = {\n",
    "    k.replace(\"params_\", \"\"): v \n",
    "    for k, v in best_params.items()\n",
    "}\n",
    "\n",
    "final_params = {\n",
    "    **best_params_clean,\n",
    "    \"objective\": \"binary:logistic\",\n",
    "    \"eval_metric\": \"auc\",\n",
    "    \"use_label_encoder\": False,\n",
    "    \"random_state\": 42\n",
    "}\n",
    "\n",
    "XGB_model = XGBClassifier(**final_params)\n",
    "\n",
    "XGB_model.fit(X_train, y_train)"
   ]
  },
  {
   "cell_type": "code",
   "execution_count": null,
   "id": "4062c824-b41b-4306-9b1b-684b30d74689",
   "metadata": {},
   "outputs": [],
   "source": [
    "from sklearn.metrics import roc_auc_score\n",
    "\n",
    "y_pred_proba = XGB_model.predict_proba(X_test)[:, 1]\n",
    "auc_test = roc_auc_score(y_test, y_pred_proba)\n",
    "print(f\"AUC en test: {auc_test:.4f}\")\n"
   ]
  },
  {
   "cell_type": "code",
   "execution_count": null,
   "id": "63bde924-4e5f-41a3-9aad-58fa0a9716c5",
   "metadata": {},
   "outputs": [],
   "source": [
    "Primera prueba:\n",
    "|    |   number |    value | datetime_start             | datetime_complete          | duration               |   params_colsample_bytree |   params_gamma |   params_learning_rate |   params_max_depth |   params_min_child_weight |   params_n_estimators |   params_reg_alpha |   params_reg_lambda |   params_scale_pos_weight |   params_subsample | state    |\r\n",
    "|----+----------+----------+----------------------------+----------------------------+------------------------+---------------------------+----------------+------------------------+--------------------+---------------------------+-----------------------+--------------------+---------------------+---------------------------+--------------------+----------|\r\n",
    "| 35 |       35 | 0.766467 | 2025-02-23 19:05:51.648664 | 2025-02-23 19:23:42.992309 | 0 days 00:17:51.343645 |                  0.609149 |        2.79174 |             0.016566   |                  7 |                        14 |                   950 |        2.98383e-07 |         0.000771683 |                   1.7469  |           0.753771 | COMPLETE \n",
    "Tras una segunda prueba añadiendo más HP y acotando algunos rangos obtenemos:\n",
    "\n",
    "|    |   number |    value | datetime_start             | datetime_complete          | duration               |   params_colsample_bytree |   params_gamma |   params_learning_rate |   params_max_bin |   params_max_depth |   params_min_child_weight |   params_n_estimators |   params_n_jobs |   params_reg_alpha |   params_reg_lambda |   params_scale_pos_weight |   params_subsample | params_tree_method   | state    |\n",
    "|----+----------+----------+----------------------------+----------------------------+------------------------+---------------------------+----------------+------------------------+------------------+--------------------+---------------------------+-----------------------+-----------------+--------------------+---------------------+---------------------------+--------------------+----------------------+----------|\n",
    "| 42 |       42 | 0.767633 | 2025-02-24 17:35:27.403636 | 2025-02-24 17:49:11.175013 | 0 days 00:13:43.771377 |                  0.58057  |       0.476025 |              0.0170753 |              300 |                  5 |                        23 |                  1800 |               2 |        2.30559e-07 |         2.39006e-05 |                   1.25498 |           0.788019 | hist                 | COMPLETE |\n",
    "\n",
    "Y si realizamos una prueba en el test con estos valores obtenemos:\n",
    "-AUC en test: 0.7717\n",
    "\n",
    "\n",
    "-He detenido las pruebas porque me estaba yendo demasiado lento:\n",
    "[I 2025-02-26 12:07:34,193] Trial 2 finished with value: 0.7938360589390858 and parameters: {'n_estimators': 1700, 'max_bin': 320, 'learning_rate': 0.016029922136908095, 'max_depth': 6, 'gamma': 0.8414416893725896, 'min_child_weight': 21, 'subsample': 0.8023911163856219, 'colsample_bytree': 0.5298608589445156, 'reg_alpha': 1.8193616624679977e-06, 'reg_lambda': 1.0784883537935654e-06, 'tree_method': 'auto', 'scale_pos_weight': 1.1284697519313376}. Best is trial 2 with value: 0.7938360589390858.\n",
    "\n",
    "Tras realizar una búsqueda sobre los mejores HP de XGBoost hemos obtenido:\n",
    "|    |   number |    value | datetime_start             | datetime_complete          | duration               |   params_colsample_bytree |   params_gamma |   params_learning_rate |   params_max_bin |   params_max_depth |   params_min_child_weight |   params_n_estimators |   params_reg_alpha |   params_reg_lambda |   params_scale_pos_weight |   params_subsample | params_tree_method   | state    |\n",
    "|----+----------+----------+----------------------------+----------------------------+------------------------+---------------------------+----------------+------------------------+------------------+--------------------+---------------------------+-----------------------+--------------------+---------------------+---------------------------+--------------------+----------------------+----------|\n",
    "| 88 |       88 | 0.794317 | 2025-03-02 07:37:37.702247 | 2025-03-02 08:23:05.401147 | 0 days 00:45:27.698900 |                  0.552899 |       0.382194 |              0.0175943 |              320 |                  6 |                        21 |                  1950 |          0.57723   |         0.00450461  |                   1.06067 |           0.765582 | auto                 | COMPLETE |\n",
    "\n",
    "Y sobre AUC hemos obtenido: |\r\n"
   ]
  },
  {
   "cell_type": "code",
   "execution_count": null,
   "id": "a2127ece-2f5f-42c9-9987-d54ae736b191",
   "metadata": {},
   "outputs": [],
   "source": []
  }
 ],
 "metadata": {
  "kernelspec": {
   "display_name": "tfg-py3.12",
   "language": "python",
   "name": "tfg-py3.12"
  },
  "language_info": {
   "codemirror_mode": {
    "name": "ipython",
    "version": 3
   },
   "file_extension": ".py",
   "mimetype": "text/x-python",
   "name": "python",
   "nbconvert_exporter": "python",
   "pygments_lexer": "ipython3",
   "version": "3.12.8"
  }
 },
 "nbformat": 4,
 "nbformat_minor": 5
}
