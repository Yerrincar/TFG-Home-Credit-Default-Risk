{
 "cells": [
  {
   "cell_type": "code",
   "execution_count": null,
   "id": "8ab71b67-6975-4806-98fb-647c705507f8",
   "metadata": {},
   "outputs": [
    {
     "name": "stdout",
     "output_type": "stream",
     "text": [
      "2.1.3\n",
      "Directorio actual: /home/yeray/TFG-Home-Credit-Default-Risk/JUPYTER_NOTEBOOKS\n"
     ]
    }
   ],
   "source": [
    "#Celda para librerías\n",
    "import sklearn as sk\n",
    "\n",
    "\n",
    "import matplotlib as plt\n",
    "import matplotlib.pyplot as plt\n",
    "\n",
    "import pandas as pd\n",
    "import seaborn as sns\n",
    "import numpy as np\n",
    "from sklearn.model_selection import train_test_split, cross_val_score\n",
    "\n",
    "from sklearn.model_selection import StratifiedKFold\n",
    "\n",
    "# LightGBM\n",
    "from lightgbm import LGBMClassifier\n",
    "import lightgbm as lgb\n",
    "\n",
    "\n",
    "\n",
    "from hyperopt import hp, fmin, tpe, STATUS_OK, Trials\n",
    "from sklearn.model_selection import cross_val_score\n",
    "\n",
    "\n",
    "import json\n",
    "\n",
    "import warnings\n",
    "warnings.filterwarnings('ignore')\n",
    "\n",
    "print(np.__version__)\n",
    "from ydata_profiling import ProfileReport\n",
    "import os\n",
    "print(\"Directorio actual:\", os.getcwd())\n",
    "\n",
    "# Have all columns appear when dataframes are displayed.\n",
    "pd.set_option('display.max_columns', None) \n",
    "# Have 100 rows appear when a dataframe is displayed\n",
    "pd.set_option('display.max_rows', 500)\n",
    "# Display dimensions whenever a dataframe is printed out.\n",
    "pd.set_option('display.show_dimensions', True)\n",
    "\n",
    "#Importando los datos\n",
    "\n",
    "#app_train_def = pd.read_csv(r'C:/Users/Yeray/Desktop/DATA_SCIENCE_ML/Home-Credit-TFG/DATA/application_train_preprocesado_definitivo_v1.csv')\n",
    "#app_train_def_2 = pd.read_csv(r'/home/yeray/TFG-Home-Credit-Default-Risk/JUPYTER_NOTEBOOKS/DATA/application_train_preprocesado_definitivo_v2.csv')\n",
    "#app_train_def_3 = pd.read_csv(r'/home/yeray/TFG-Home-Credit-Default-Risk/JUPYTER_NOTEBOOKS/DATA/application_train_preprocesado_definitivo_v3.csv')\n",
    "app_train_def_4 = pd.read_csv(r'/home/yeray/TFG-Home-Credit-Default-Risk/JUPYTER_NOTEBOOKS/DATA/application_train_preprocesado_definitivo_v4.csv')\n",
    "app_test = pd.read_csv(r'/home/yeray/TFG-Home-Credit-Default-Risk/JUPYTER_NOTEBOOKS/DATA/app_test_pruebav1.csv')\n",
    "print(app_train_def_4.info())"
   ]
  },
  {
   "cell_type": "code",
   "execution_count": null,
   "id": "d051b809-b7c8-464d-8e82-6a9cfd227c81",
   "metadata": {},
   "outputs": [],
   "source": [
    "#Train y Test\n",
    "X = app_train_def_4.drop(columns = ['TARGET'])\n",
    "y = app_train_def_4['TARGET']\n",
    "\n",
    "\n",
    "X.columns = X_train.columns.str.replace('[^A-Za-z0-9_]+', '', regex=True)\n",
    "app_test.columns = X_test.columns.str.replace('[^A-Za-z0-9_]+', '', regex=True)"
   ]
  },
  {
   "cell_type": "code",
   "execution_count": null,
   "id": "9a692791-fed6-4855-b056-f74896acdd69",
   "metadata": {},
   "outputs": [],
   "source": [
    "best_params = {\n",
    "    'boosting_type': 'gbdt',  # Fijo\n",
    "    'objective': 'binary',   # Fijo\n",
    "    'metric': 'auc',         # Fijo\n",
    "    'num_leaves': 39,        # Fijo\n",
    "    'learning_rate': 0.0162622,   # Fijo\n",
    "    'max_depth': -1,         # Fijo\n",
    "    'bagging_fraction': 0.798114 ,\n",
    "    'bagging_freq': 14,\n",
    "    'feature_fraction': 0.206931,\n",
    "    'max_bin': 230,\n",
    "    'min_child_samples': 94,\n",
    "    'min_child_weight': 0.0166739,\n",
    "    'min_gain_to_split': 0.084112,\n",
    "    'reg_alpha': 0.106233,\n",
    "    'reg_lambda': 37.0253,\n",
    "    'scale_pos_weight': 1,   # Fijo\n",
    "    'is_unbalance': False,   # Fijo\n",
    "}\n",
    "\n",
    "final_model_lgb = LGBMClassifier(\n",
    "    n_estimators=2000,\n",
    "    boosting_type=best_params['boosting_type'],\n",
    "    objective=best_params['objective'],\n",
    "    metric=best_params['metric'],\n",
    "    num_leaves=best_params['num_leaves'],\n",
    "    learning_rate=best_params['learning_rate'],\n",
    "    max_bin=best_params['max_bin'],\n",
    "    max_depth=best_params['max_depth'],\n",
    "    bagging_fraction=best_params['bagging_fraction'],\n",
    "    bagging_freq=best_params['bagging_freq'],   \n",
    "    feature_fraction=best_params['feature_fraction'],\n",
    "    min_child_samples=best_params['min_child_samples'],\n",
    "    min_child_weight=best_params['min_child_weight'],\n",
    "    min_gain_to_split=best_params['min_gain_to_split'],\n",
    "    reg_alpha=best_params['reg_alpha'],\n",
    "    reg_lambda=best_params['reg_lambda'],\n",
    "    scale_pos_weight=1,\n",
    "    is_unbalance=False,\n",
    "    random_state=42\n",
    ")\n",
    "\n",
    "final_model_lgb.fit(X, y)"
   ]
  },
  {
   "cell_type": "code",
   "execution_count": null,
   "id": "d5996762-e0d2-4554-8cc0-90704dd8736b",
   "metadata": {},
   "outputs": [],
   "source": [
    "y_pred_proba = final_model_lgb.predict_proba(app_test)[:, 1]\n",
    "from sklearn.metrics import roc_auc_score\n",
    "#auc_test = roc_auc_score(y_test, y_pred_proba)\n",
    "#print(f'AUC en test: {auc_test}')\n",
    "\n",
    "submision = pd.DataFrame({\n",
    "    'SK_ID_CURR': test_ids,\n",
    "    'TARGET': y_pred_proba_test\n",
    "})\n",
    "submission.to_csv('mysubmission.csv', index=False)"
   ]
  }
 ],
 "metadata": {
  "kernelspec": {
   "display_name": "tfg-py3.12",
   "language": "python",
   "name": "tfg-py3.12"
  },
  "language_info": {
   "codemirror_mode": {
    "name": "ipython",
    "version": 3
   },
   "file_extension": ".py",
   "mimetype": "text/x-python",
   "name": "python",
   "nbconvert_exporter": "python",
   "pygments_lexer": "ipython3",
   "version": "3.12.8"
  }
 },
 "nbformat": 4,
 "nbformat_minor": 5
}
