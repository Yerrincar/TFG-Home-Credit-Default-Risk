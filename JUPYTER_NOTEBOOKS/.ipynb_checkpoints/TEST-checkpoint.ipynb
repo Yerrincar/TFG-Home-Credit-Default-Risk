{
 "cells": [
  {
   "cell_type": "code",
   "execution_count": 1,
   "id": "8ab71b67-6975-4806-98fb-647c705507f8",
   "metadata": {},
   "outputs": [
    {
     "name": "stdout",
     "output_type": "stream",
     "text": [
      "1.26.4\n",
      "Directorio actual: /home/yeray/TFG-Home-Credit-Default-Risk/JUPYTER_NOTEBOOKS\n",
      "(48744, 1323)\n",
      "(307511, 1323)\n"
     ]
    }
   ],
   "source": [
    "#Celda para librerías\n",
    "import sklearn as sk\n",
    "\n",
    "\n",
    "import matplotlib as plt\n",
    "import matplotlib.pyplot as plt\n",
    "\n",
    "import pandas as pd\n",
    "import seaborn as sns\n",
    "import numpy as np\n",
    "from sklearn.model_selection import train_test_split, cross_val_score\n",
    "\n",
    "from sklearn.model_selection import StratifiedKFold\n",
    "\n",
    "# LightGBM\n",
    "from lightgbm import LGBMClassifier\n",
    "import lightgbm as lgb\n",
    "\n",
    "\n",
    "\n",
    "from hyperopt import hp, fmin, tpe, STATUS_OK, Trials\n",
    "from sklearn.model_selection import cross_val_score\n",
    "\n",
    "\n",
    "import json\n",
    "\n",
    "import warnings\n",
    "warnings.filterwarnings('ignore')\n",
    "\n",
    "print(np.__version__)\n",
    "from ydata_profiling import ProfileReport\n",
    "import os\n",
    "print(\"Directorio actual:\", os.getcwd())\n",
    "\n",
    "# Have all columns appear when dataframes are displayed.\n",
    "pd.set_option('display.max_columns', None) \n",
    "# Have 100 rows appear when a dataframe is displayed\n",
    "pd.set_option('display.max_rows', 500)\n",
    "# Display dimensions whenever a dataframe is printed out.\n",
    "pd.set_option('display.show_dimensions', True)\n",
    "\n",
    "#Importando los datos\n",
    "\n",
    "#app_train_def = pd.read_csv(r'C:/Users/Yeray/Desktop/DATA_SCIENCE_ML/Home-Credit-TFG/DATA/application_train_preprocesado_definitivo_v1.csv')\n",
    "#app_train_def_2 = pd.read_csv(r'/home/yeray/TFG-Home-Credit-Default-Risk/JUPYTER_NOTEBOOKS/DATA/application_train_preprocesado_definitivo_v2.csv')\n",
    "#app_train_def_3 = pd.read_csv(r'/home/yeray/TFG-Home-Credit-Default-Risk/JUPYTER_NOTEBOOKS/DATA/application_train_preprocesado_definitivo_v3.csv')\n",
    "#app_train_def_4 = pd.read_csv(r'/home/yeray/TFG-Home-Credit-Default-Risk/JUPYTER_NOTEBOOKS/DATA/application_train_preprocesado_definitivo_v4.csv')\n",
    "app_train_def_7 = pd.read_csv(r'/home/yeray/TFG-Home-Credit-Default-Risk/JUPYTER_NOTEBOOKS/DATA/application_train_preprocesado_definitivo_v7.csv')\n",
    "app_test = pd.read_csv(r'/home/yeray/TFG-Home-Credit-Default-Risk/JUPYTER_NOTEBOOKS/DATA/app_test_pruebav1.csv')\n",
    "#print(app_train_def_4.info())\n",
    "print(app_test.shape)\n",
    "print(app_train_def_7.shape)\n"
   ]
  },
  {
   "cell_type": "code",
   "execution_count": 3,
   "id": "cebdedf7-1f1f-4f7c-a69d-ef8bee407df9",
   "metadata": {},
   "outputs": [
    {
     "name": "stdout",
     "output_type": "stream",
     "text": [
      "Unnamed: 0.1                                            88770.923652\n",
      "TARGET                                                      0.272419\n",
      "NAME_CONTRACT_TYPE                                          0.293509\n",
      "CODE_GENDER                                                 0.474261\n",
      "FLAG_OWN_CAR                                                0.473746\n",
      "                                                            ...     \n",
      "LATEST_CREDIT_TYPE_CAT_(BUREAU)_Unknown type of loan        0.009711\n",
      "LATEST_CREDIT_ACTIVE_CAT_(BUREAU)_Active                    0.432494\n",
      "LATEST_CREDIT_ACTIVE_CAT_(BUREAU)_Bad debt                  0.001803\n",
      "LATEST_CREDIT_ACTIVE_CAT_(BUREAU)_Closed                    0.431233\n",
      "LATEST_CREDIT_ACTIVE_CAT_(BUREAU)_Sold                      0.046418\n",
      "Length: 1323, dtype: float64\n"
     ]
    }
   ],
   "source": [
    "varianza = app_train_def_7.std()\n",
    "print(varianza)"
   ]
  },
  {
   "cell_type": "code",
   "execution_count": 6,
   "id": "67f08fb7-8e30-49f5-be0a-b5de705bbeff",
   "metadata": {},
   "outputs": [
    {
     "data": {
      "text/plain": [
       "CLOSED_AMT_CREDIT_SUM_OVERDUE_TO_PROLONGED_RATIO_MEAN_(BUREAU)                               0.0\n",
       "CLOSED_AMT_CREDIT_SUM_OVERDUE_TO_PROLONGED_RATIO_MAX_(BUREAU)                                0.0\n",
       "CLOSED_AMT_CREDIT_SUM_OVERDUE_TO_PROLONGED_RATIO_MIN_(BUREAU)                                0.0\n",
       "CLOSED_AMT_CREDIT_SUM_LIMIT_TO_AMT_CREDIT_SUM_OVERDUE_RATIO_MEAN_(BUREAU)                    0.0\n",
       "CLOSED_AMT_CREDIT_SUM_LIMIT_TO_AMT_CREDIT_SUM_OVERDUE_RATIO_MAX_(BUREAU)                     0.0\n",
       "CLOSED_AMT_CREDIT_SUM_LIMIT_TO_AMT_CREDIT_SUM_OVERDUE_RATIO_MIN_(BUREAU)                     0.0\n",
       "RATIO_ACTIVE_TO_CLOSED_CREDIT_DAY_OVERDUE_MIN_(BUREAU)                                       0.0\n",
       "RATIO_ACTIVE_TO_CLOSED_CNT_CREDIT_PROLONG_MIN_(BUREAU)                                       0.0\n",
       "RATIO_ACTIVE_TO_CLOSED_AMT_CREDIT_SUM_OVERDUE_MIN_(BUREAU)                                   0.0\n",
       "RATIO_ACTIVE_TO_CLOSED_AMT_CREDIT_SUM_OVERDUE_TO_PROLONGED_RATIO_MEAN_(BUREAU)               0.0\n",
       "RATIO_ACTIVE_TO_CLOSED_AMT_CREDIT_SUM_OVERDUE_TO_PROLONGED_RATIO_MAX_(BUREAU)                0.0\n",
       "RATIO_ACTIVE_TO_CLOSED_AMT_CREDIT_SUM_OVERDUE_TO_PROLONGED_RATIO_MIN_(BUREAU)                0.0\n",
       "RATIO_ACTIVE_TO_CLOSED_AMT_CREDIT_SUM_TO_AMT_CREDIT_SUM_OVERDUE_RATIO_MEAN_(BUREAU)          0.0\n",
       "RATIO_ACTIVE_TO_CLOSED_AMT_CREDIT_SUM_TO_AMT_CREDIT_SUM_OVERDUE_RATIO_MAX_(BUREAU)           0.0\n",
       "RATIO_ACTIVE_TO_CLOSED_AMT_CREDIT_SUM_LIMIT_TO_AMT_CREDIT_SUM_OVERDUE_RATIO_MEAN_(BUREAU)    0.0\n",
       "RATIO_ACTIVE_TO_CLOSED_AMT_CREDIT_SUM_LIMIT_TO_AMT_CREDIT_SUM_OVERDUE_RATIO_MAX_(BUREAU)     0.0\n",
       "RATIO_ACTIVE_TO_CLOSED_AMT_CREDIT_SUM_LIMIT_TO_AMT_CREDIT_SUM_OVERDUE_RATIO_MIN_(BUREAU)     0.0\n",
       "APPROVED_DIFF_APP_GOODS_MIN                                                                  0.0\n",
       "APPROVED_DIFF_APP_GOODS_MAX                                                                  0.0\n",
       "APPROVED_DIFF_APP_GOODS_MEAN                                                                 0.0\n",
       "RATIO_APPROVED_TO_REFUSED_DIFF_APP_GOODS_MIN                                                 0.0\n",
       "RATIO_APPROVED_TO_REFUSED_DIFF_APP_GOODS_MAX                                                 0.0\n",
       "RATIO_APPROVED_TO_REFUSED_DIFF_APP_GOODS_MEAN                                                0.0\n",
       "NUMBER_CONTRACTS_MOST_RECENTLY_COMPLETED_CAT_(POS_CASH)                                      0.0\n",
       "NUMBER_CONTRACTS_MOST_RECENTLY_SIGNED_CAT_(POS_CASH)                                         0.0\n",
       "SK_DPD_MIN_(CREDIT_CARD)                                                                     0.0\n",
       "SK_DPD_DEF_MIN_(CREDIT_CARD)                                                                 0.0\n",
       "SK_DPD_SK_DPD_DEF_DIFF_MIN_(CREDIT_CARD)                                                     0.0\n",
       "Length: 28, dtype: float64"
      ]
     },
     "execution_count": 6,
     "metadata": {},
     "output_type": "execute_result"
    }
   ],
   "source": [
    "varianza[varianza==0]"
   ]
  },
  {
   "cell_type": "code",
   "execution_count": 2,
   "id": "f0aa91fb-cce8-43c5-aa03-b6a545edb3af",
   "metadata": {},
   "outputs": [
    {
     "name": "stdout",
     "output_type": "stream",
     "text": [
      "0        100001\n",
      "1        100005\n",
      "2        100013\n",
      "3        100028\n",
      "4        100038\n",
      "          ...  \n",
      "48739    456221\n",
      "48740    456222\n",
      "48741    456223\n",
      "48742    456224\n",
      "48743    456250\n",
      "Name: SK_ID_CURR, Length: 48744, dtype: int64\n"
     ]
    }
   ],
   "source": [
    "test_ids = app_test['SK_ID_CURR'].copy()\n",
    "print(app_test['SK_ID_CURR'])\n",
    "app_test.drop(columns=['SK_ID_CURR'], inplace=True)"
   ]
  },
  {
   "cell_type": "code",
   "execution_count": 3,
   "id": "d051b809-b7c8-464d-8e82-6a9cfd227c81",
   "metadata": {},
   "outputs": [],
   "source": [
    "#Train y Test\n",
    "X = app_train_def_7.drop(columns = ['TARGET'])\n",
    "y = app_train_def_7['TARGET']\n",
    "\n",
    "\n",
    "X.columns = X.columns.str.replace('[^A-Za-z0-9_]+', '', regex=True)\n",
    "app_test.columns = app_test.columns.str.replace('[^A-Za-z0-9_]+', '', regex=True)"
   ]
  },
  {
   "cell_type": "code",
   "execution_count": null,
   "id": "a2d4ee7d-410d-4368-af0e-40755c0f5a5a",
   "metadata": {},
   "outputs": [],
   "source": [
    "app_test = app_test.reindex(columns=X.columns, fill_value=0)\n",
    "test_ids = app_test['SK_ID_CURR'].copy()\n",
    "print(app_test.shape)\n",
    "print(X.shape)"
   ]
  },
  {
   "cell_type": "code",
   "execution_count": 4,
   "id": "8c543c93-1174-4e1a-bb12-3bb0a04be04c",
   "metadata": {},
   "outputs": [],
   "source": [
    "import pickle\n",
    "#with open(\"XGBoost_Optuna_Study_v7_completo.pkl\", \"wb\") as f:\n",
    "#    pickle.dump(study_completo, f)\n",
    "with open(\"/home/yeray/TFG-Home-Credit-Default-Risk/JUPYTER_NOTEBOOKS/XGBoost_Optuna_Study_v7_completo.pkl\", \"rb\") as f:\n",
    "    loaded_study_completo = pickle.load(f)"
   ]
  },
  {
   "cell_type": "code",
   "execution_count": 5,
   "id": "92043398-6eee-45c3-9968-f7cb1d78bb1d",
   "metadata": {},
   "outputs": [
    {
     "name": "stdout",
     "output_type": "stream",
     "text": [
      "+----+----------+----------+----------------------------+----------------------------+------------------------+---------------------------+----------------+------------------------+------------------+--------------------+---------------------------+-----------------------+--------------------+---------------------+---------------------------+--------------------+----------------------+----------+\n",
      "|    |   number |    value | datetime_start             | datetime_complete          | duration               |   params_colsample_bytree |   params_gamma |   params_learning_rate |   params_max_bin |   params_max_depth |   params_min_child_weight |   params_n_estimators |   params_reg_alpha |   params_reg_lambda |   params_scale_pos_weight |   params_subsample | params_tree_method   | state    |\n",
      "|----+----------+----------+----------------------------+----------------------------+------------------------+---------------------------+----------------+------------------------+------------------+--------------------+---------------------------+-----------------------+--------------------+---------------------+---------------------------+--------------------+----------------------+----------|\n",
      "| 88 |       88 | 0.794317 | 2025-03-02 07:37:37.702247 | 2025-03-02 08:23:05.401147 | 0 days 00:45:27.698900 |                  0.552899 |       0.382194 |              0.0175943 |              320 |                  6 |                        21 |                  1950 |          0.57723   |         0.00450461  |                   1.06067 |           0.765582 | auto                 | COMPLETE |\n",
      "| 95 |       95 | 0.794254 | 2025-03-02 12:40:17.686434 | 2025-03-02 13:25:56.763437 | 0 days 00:45:39.077003 |                  0.527756 |       0.319962 |              0.0178747 |              320 |                  6 |                        21 |                  1950 |          0.604508  |         0.00316292  |                   1.01482 |           0.758435 | auto                 | COMPLETE |\n",
      "| 82 |       82 | 0.794082 | 2025-03-02 03:16:24.418195 | 2025-03-02 04:00:32.471980 | 0 days 00:44:08.053785 |                  0.549977 |       0.170556 |              0.0159087 |              320 |                  6 |                        22 |                  1900 |          0.0164865 |         0.00082133  |                   1.15621 |           0.796903 | auto                 | COMPLETE |\n",
      "| 59 |       59 | 0.794053 | 2025-03-01 10:52:27.111006 | 2025-03-01 11:52:35.247768 | 0 days 01:00:08.136762 |                  0.544191 |       0.603093 |              0.015511  |              320 |                  6 |                        21 |                  1900 |          0.0204846 |         0.000418386 |                   1.13047 |           0.848262 | hist                 | COMPLETE |\n",
      "| 89 |       89 | 0.794043 | 2025-03-02 08:23:05.403658 | 2025-03-02 09:07:14.481232 | 0 days 00:44:09.077574 |                  0.553121 |       0.466221 |              0.0176613 |              320 |                  6 |                        21 |                  1950 |          0.758446  |         5.83366e-05 |                   1.05204 |           0.768711 | auto                 | COMPLETE |\n",
      "| 91 |       91 | 0.794033 | 2025-03-02 09:48:26.254537 | 2025-03-02 10:33:12.512411 | 0 days 00:44:46.257874 |                  0.550378 |       0.257173 |              0.0164975 |              320 |                  6 |                        21 |                  1950 |          0.455439  |         0.00378393  |                   1.07581 |           0.753323 | auto                 | COMPLETE |\n",
      "| 65 |       65 | 0.794029 | 2025-03-01 15:38:01.230189 | 2025-03-01 16:23:18.087965 | 0 days 00:45:16.857776 |                  0.542868 |       0.184836 |              0.0146711 |              320 |                  6 |                        22 |                  1900 |          0.0532497 |         0.000449494 |                   1.11445 |           0.783096 | auto                 | COMPLETE |\n",
      "| 62 |       62 | 0.79402  | 2025-03-01 13:25:13.564778 | 2025-03-01 14:10:05.713801 | 0 days 00:44:52.149023 |                  0.54201  |       0.389764 |              0.0155432 |              320 |                  6 |                        22 |                  1850 |          0.20406   |         0.0012264   |                   1.12483 |           0.790247 | auto                 | COMPLETE |\n",
      "| 92 |       92 | 0.793999 | 2025-03-02 10:33:12.514682 | 2025-03-02 11:12:17.359132 | 0 days 00:39:04.844450 |                  0.562837 |       0.3225   |              0.0173266 |              320 |                  6 |                        21 |                  1950 |          0.312249  |         0.00456303  |                   1.02277 |           0.751859 | auto                 | COMPLETE |\n",
      "| 68 |       68 | 0.793975 | 2025-03-01 17:55:10.530395 | 2025-03-01 18:42:14.561823 | 0 days 00:47:04.031428 |                  0.567207 |       0.196068 |              0.0138118 |              320 |                  6 |                        22 |                  1900 |          0.0195281 |         0.00038235  |                   1.00866 |           0.776915 | auto                 | COMPLETE |\n",
      "+----+----------+----------+----------------------------+----------------------------+------------------------+---------------------------+----------------+------------------------+------------------+--------------------+---------------------------+-----------------------+--------------------+---------------------+---------------------------+--------------------+----------------------+----------+\n"
     ]
    }
   ],
   "source": [
    "from tabulate import tabulate\n",
    "\n",
    "trials_df = loaded_study_completo.trials_dataframe()\n",
    "\n",
    "df_sorted = trials_df.sort_values(by=\"value\", ascending=False)\n",
    "best_10 = df_sorted.head(10)\n",
    "\n",
    "print(tabulate(best_10, headers=\"keys\", tablefmt=\"psql\"))"
   ]
  },
  {
   "cell_type": "code",
   "execution_count": null,
   "id": "7d9eed3b-3332-4aaf-b7ed-842f54f71eeb",
   "metadata": {},
   "outputs": [],
   "source": [
    "from xgboost import XGBClassifier\n",
    "\n",
    "best_row = best_10.iloc[0]\n",
    "\n",
    "best_params = best_row.filter(like=\"params_\").to_dict()\n",
    "\n",
    "best_params_clean = {\n",
    "    k.replace(\"params_\", \"\"): v \n",
    "    for k, v in best_params.items()\n",
    "}\n",
    "\n",
    "final_params = {\n",
    "    **best_params_clean,\n",
    "    \"objective\": \"binary:logistic\",\n",
    "    \"eval_metric\": \"auc\",\n",
    "    \"use_label_encoder\": False,\n",
    "    \"random_state\": 42\n",
    "}\n",
    "\n",
    "XGB_model = XGBClassifier(**final_params)\n",
    "\n",
    "XGB_model.fit(X, y)"
   ]
  },
  {
   "cell_type": "code",
   "execution_count": null,
   "id": "9a692791-fed6-4855-b056-f74896acdd69",
   "metadata": {},
   "outputs": [],
   "source": [
    "best_params = {\n",
    "    'boosting_type': 'gbdt',  # Fijo\n",
    "    'objective': 'binary',   # Fijo\n",
    "    'metric': 'auc',         # Fijo\n",
    "    'num_leaves': 131,        \n",
    "    'learning_rate':  0.0224613,   \n",
    "    'max_depth': 3,         \n",
    "    'bagging_fraction': 0.985295,\n",
    "    'bagging_freq': 12,\n",
    "    'feature_fraction': 0.172079,\n",
    "    'max_bin': 275,\n",
    "    'min_child_samples': 240,\n",
    "    'min_child_weight': 0.011828,\n",
    "    'min_gain_to_split': 0.0916892,\n",
    "    'reg_alpha': 0.0738748,\n",
    "    'reg_lambda': 77.5059,\n",
    "    'scale_pos_weight': 1,   # Fijo\n",
    "    'is_unbalance': False,   # Fijo\n",
    "}\n",
    "\n",
    "final_model_lgb = LGBMClassifier(\n",
    "    n_estimators=2300,\n",
    "    boosting_type=best_params['boosting_type'],\n",
    "    objective=best_params['objective'],\n",
    "    metric=best_params['metric'],\n",
    "    num_leaves=best_params['num_leaves'],\n",
    "    learning_rate=best_params['learning_rate'],\n",
    "    max_bin=best_params['max_bin'],\n",
    "    max_depth=best_params['max_depth'],\n",
    "    bagging_fraction=best_params['bagging_fraction'],\n",
    "    bagging_freq=best_params['bagging_freq'],   \n",
    "    feature_fraction=best_params['feature_fraction'],\n",
    "    min_child_samples=best_params['min_child_samples'],\n",
    "    min_child_weight=best_params['min_child_weight'],\n",
    "    min_gain_to_split=best_params['min_gain_to_split'],\n",
    "    reg_alpha=best_params['reg_alpha'],\n",
    "    reg_lambda=best_params['reg_lambda'],\n",
    "    scale_pos_weight=1,\n",
    "    is_unbalance=False,\n",
    "    random_state=42\n",
    ")\n",
    "\n",
    "final_model_lgb.fit(X, y)"
   ]
  },
  {
   "cell_type": "code",
   "execution_count": null,
   "id": "d5996762-e0d2-4554-8cc0-90704dd8736b",
   "metadata": {},
   "outputs": [],
   "source": [
    "#y_pred_proba = final_model_lgb.predict_proba(app_test)[:, 1]\n",
    "y_pred_proba = XGB_model.predict_proba(app_test)[:, 1]\n",
    "from sklearn.metrics import roc_auc_score\n",
    "#auc_test = roc_auc_score(y_test, y_pred_proba)\n",
    "#print(f'AUC en test: {auc_test}')\n",
    "\n",
    "submision = pd.DataFrame({\n",
    "    'SK_ID_CURR': test_ids,\n",
    "    'TARGET': y_pred_proba\n",
    "})\n",
    "submision['SK_ID_CURR'] = test_ids.astype('int32')\n",
    "submision.to_csv('mysubmission_xgb.csv', index=False)"
   ]
  }
 ],
 "metadata": {
  "kernelspec": {
   "display_name": "tfg-py3.12",
   "language": "python",
   "name": "tfg-py3.12"
  },
  "language_info": {
   "codemirror_mode": {
    "name": "ipython",
    "version": 3
   },
   "file_extension": ".py",
   "mimetype": "text/x-python",
   "name": "python",
   "nbconvert_exporter": "python",
   "pygments_lexer": "ipython3",
   "version": "3.12.8"
  }
 },
 "nbformat": 4,
 "nbformat_minor": 5
}
