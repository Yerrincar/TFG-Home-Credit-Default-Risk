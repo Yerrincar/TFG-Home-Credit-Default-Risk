{
 "cells": [
  {
   "cell_type": "code",
   "execution_count": 23,
   "metadata": {},
   "outputs": [],
   "source": [
    "import pandas as pd\n",
    "import numpy as np\n",
    "import sklearn as sk\n",
    "import gc\n",
    "from tqdm import tqdm_notebook as tqdm\n",
    "\n",
    "import warnings\n",
    "warnings.filterwarnings('ignore')\n",
    "\n",
    "\n",
    "#Have all columns appear when dataframes are displayed.\n",
    "pd.set_option('display.max_columns', None) \n",
    "# Have 100 rows appear when a dataframe is displayed\n",
    "pd.set_option('display.max_rows', 500)\n",
    "# Display dimensions whenever a dataframe is printed out.\n",
    "pd.set_option('display.show_dimensions', True)\n",
    "\n",
    "bureau=pd.read_csv(r'C:/Users/Yeray/Desktop/DATA_SCIENCE_ML/Home-Credit-TFG/DATA/home-credit-default-risk/bureau.csv')\n",
    "bureau_balance = pd.read_csv(r'C:/Users/Yeray/Desktop/DATA_SCIENCE_ML/Home-Credit-TFG/DATA/home-credit-default-risk/bureau_balance.csv')"
   ]
  },
  {
   "cell_type": "code",
   "execution_count": 24,
   "metadata": {},
   "outputs": [],
   "source": [
    "#Vamos a usar solo aquellos que estén tanto en las tablas de bureau como de bureau_balance\n",
    "bureau_borrowers = bureau[['SK_ID_CURR', 'SK_ID_BUREAU']]   \n",
    "bureau_balance = bureau_borrowers.join(bureau_balance.set_index('SK_ID_BUREAU'), on='SK_ID_BUREAU', how='inner')"
   ]
  },
  {
   "cell_type": "code",
   "execution_count": 26,
   "metadata": {},
   "outputs": [
    {
     "data": {
      "text/plain": [
       "0"
      ]
     },
     "execution_count": 26,
     "metadata": {},
     "output_type": "execute_result"
    }
   ],
   "source": [
    "# Copiamos para no alterar bureau_balance original\n",
    "df_balance_loan = bureau_balance.copy()\n",
    "\n",
    "# Convertir STATUS a numérico (cat.codes)\n",
    "df_balance_loan['STATUS'] = df_balance_loan['STATUS'].astype('category').cat.codes\n",
    "\n",
    "# Definir agregaciones a nivel \"loan\"\n",
    "months_balance_agg_by_loan = {\n",
    "    'MONTHS_BALANCE': ['min', 'max', 'mean', 'size'],\n",
    "    'STATUS':         ['mean', 'max', 'var']\n",
    "}\n",
    "\n",
    "# Hacer groupby a nivel SK_ID_BUREAU\n",
    "df_loan_agg = df_balance_loan.groupby('SK_ID_BUREAU', as_index=False).agg(months_balance_agg_by_loan)\n",
    "\n",
    "# Aplanar columnas\n",
    "df_loan_agg.columns = [\n",
    "    f\"{col[0]}_{col[1].upper()}_BY_LOAN\" if col[0] != 'SK_ID_BUREAU' else 'SK_ID_BUREAU'\n",
    "    for col in df_loan_agg.columns\n",
    "]\n",
    "\n",
    "df_loan_agg.reset_index(inplace=True)\n",
    "\n",
    "del df_balance_loan\n",
    "gc.collect()\n",
    "\n",
    "##############################################################################\n",
    "#                  PARTE B: UNIR AL NIVEL \"LOAN\" CON LA TABLA bureau\n",
    "##############################################################################\n",
    "\n",
    "# bureau: (SK_ID_BUREAU, SK_ID_CURR, ...)\n",
    "# Queremos un DF con 1 fila por SK_ID_BUREAU, pero ahora también teniendo SK_ID_CURR\n",
    "df_loan_level = bureau[['SK_ID_BUREAU','SK_ID_CURR']].drop_duplicates()\n",
    "\n",
    "# Merge con df_loan_agg\n",
    "df_loan_level = df_loan_level.merge(df_loan_agg, on='SK_ID_BUREAU', how='left')\n",
    "del df_loan_agg\n",
    "gc.collect()\n",
    "\n",
    "##############################################################################\n",
    "#                  PARTE C: AGREGAR A NIVEL \"BORROWER\" (SK_ID_CURR)\n",
    "##############################################################################\n",
    "\n",
    "months_balance_agg_by_borrower = {\n",
    "    'MONTHS_BALANCE_MIN_BY_LOAN':  ['min','max','mean'],\n",
    "    'MONTHS_BALANCE_MAX_BY_LOAN':  ['min','max','mean'],\n",
    "    'MONTHS_BALANCE_MEAN_BY_LOAN': ['min','max','mean'],\n",
    "    'MONTHS_BALANCE_SIZE_BY_LOAN': ['min','max','mean'],\n",
    "    'STATUS_MEAN_BY_LOAN':         ['min','max','mean'],\n",
    "    'STATUS_MAX_BY_LOAN':          ['min','max','mean'],\n",
    "    'STATUS_VAR_BY_LOAN':          ['min','max','mean']\n",
    "}\n",
    "\n",
    "df_borrower_agg = df_loan_level.groupby('SK_ID_CURR').agg(months_balance_agg_by_borrower)\n",
    "df_borrower_agg.columns = [\n",
    "    f\"{col[0]}_{col[1].upper()}_BY_BORROWER\"\n",
    "    for col in df_borrower_agg.columns\n",
    "]\n",
    "df_borrower_agg.reset_index(inplace=True)\n",
    "\n",
    "del df_loan_level\n",
    "gc.collect()"
   ]
  },
  {
   "cell_type": "code",
   "execution_count": 29,
   "metadata": {},
   "outputs": [
    {
     "data": {
      "text/plain": [
       "0"
      ]
     },
     "execution_count": 29,
     "metadata": {},
     "output_type": "execute_result"
    }
   ],
   "source": [
    "# Si quieres, por ejemplo, contar cuántos meses DPD en 'bureau_balance'\n",
    "# (donde 'STATUS' in ['2','3','4','5']) a nivel SK_ID_BUREAU y luego SK_ID_CURR\n",
    "count_status_df = bureau_balance[['SK_ID_BUREAU','STATUS']].copy()\n",
    "# Marcamos 1 si está en ['2','3','4','5']\n",
    "count_status_df['IS_DPD'] = count_status_df['STATUS'].isin(['2','3','4','5']).astype(int)\n",
    "\n",
    "# 1) a nivel SK_ID_BUREAU\n",
    "dpd_loan = count_status_df.groupby('SK_ID_BUREAU', as_index=False)['IS_DPD'].sum()\n",
    "dpd_loan.rename(columns={'IS_DPD':'COUNT_MONTHS_STATUS_WAS_DPD_BY_LOAN'}, inplace=True)\n",
    "\n",
    "\n",
    "df_loan_level2 = bureau[['SK_ID_BUREAU','SK_ID_CURR']].drop_duplicates()\n",
    "df_loan_level2 = df_loan_level2.merge(dpd_loan, on='SK_ID_BUREAU', how='left')\n",
    "\n",
    "dpd_borrower = df_loan_level2.groupby('SK_ID_CURR', as_index=False)['COUNT_MONTHS_STATUS_WAS_DPD_BY_LOAN'].sum()\n",
    "dpd_borrower.rename(columns={\n",
    "        'COUNT_MONTHS_STATUS_WAS_DPD_BY_LOAN': 'COUNT_MONTHS_STATUS_WAS_DPD_(BUREAU_BALANCE)'\n",
    "    }, inplace=True)\n",
    "\n",
    "# 3) unimos con df_borrower_agg\n",
    "df_borrower_agg = df_borrower_agg.merge(dpd_borrower, on='SK_ID_CURR', how='left')\n",
    "\n",
    "del dpd_loan, dpd_borrower, count_status_df, df_loan_level2\n",
    "gc.collect()"
   ]
  },
  {
   "cell_type": "code",
   "execution_count": 30,
   "metadata": {},
   "outputs": [
    {
     "name": "stdout",
     "output_type": "stream",
     "text": [
      "(305811, 24)\n"
     ]
    }
   ],
   "source": [
    "print(df_borrower_agg.shape)"
   ]
  },
  {
   "cell_type": "code",
   "execution_count": 34,
   "metadata": {},
   "outputs": [],
   "source": [
    "df_borrower_agg.to_csv(r'C:/Users/Yeray/Desktop/DATA_SCIENCE_ML/Home-Credit-TFG/DATA/bureau_balance_agg_def_v3.csv', index=False)"
   ]
  }
 ],
 "metadata": {
  "kernelspec": {
   "display_name": "Python 3",
   "language": "python",
   "name": "python3"
  },
  "language_info": {
   "codemirror_mode": {
    "name": "ipython",
    "version": 3
   },
   "file_extension": ".py",
   "mimetype": "text/x-python",
   "name": "python",
   "nbconvert_exporter": "python",
   "pygments_lexer": "ipython3",
   "version": "3.11.9"
  }
 },
 "nbformat": 4,
 "nbformat_minor": 2
}
