{
 "cells": [
  {
   "cell_type": "code",
   "execution_count": 1,
   "metadata": {},
   "outputs": [
    {
     "name": "stdout",
     "output_type": "stream",
     "text": [
      "1.23.5\n",
      "Directorio actual: c:\\Users\\Yeray\\Desktop\\DATA_SCIENCE_ML\\Home-Credit-TFG\\JUPYTER_NOTEBOOKS\n"
     ]
    }
   ],
   "source": [
    "#Celda para librerías\n",
    "\n",
    "\n",
    "import sklearn as sk\n",
    "\n",
    "import matplotlib as plt\n",
    "import matplotlib.pyplot as plt\n",
    "\n",
    "import pandas as pd\n",
    "import seaborn as sns\n",
    "import numpy as np\n",
    "import plotly.graph_objects as go\n",
    "\n",
    "import warnings\n",
    "warnings.filterwarnings('ignore')\n",
    "\n",
    "print(np.__version__)\n",
    "from ydata_profiling import ProfileReport\n",
    "import os\n",
    "print(\"Directorio actual:\", os.getcwd())\n",
    "\n",
    "\n",
    "\n",
    "# Have all columns appear when dataframes are displayed.\n",
    "pd.set_option('display.max_columns', None) \n",
    "# Have 100 rows appear when a dataframe is displayed\n",
    "pd.set_option('display.max_rows', 500)\n",
    "# Display dimensions whenever a dataframe is printed out.\n",
    "pd.set_option('display.show_dimensions', True)\n",
    "\n",
    "bureau = pd.read_csv(r'C:/Users/Yeray/Desktop/DATA_SCIENCE_ML/Home-Credit-TFG/DATA/home-credit-default-risk/bureau.csv')\n",
    "bureau_balance = pd.read_csv(r'C:/Users/Yeray/Desktop/DATA_SCIENCE_ML/Home-Credit-TFG/DATA/home-credit-default-risk/bureau_balance.csv')"
   ]
  },
  {
   "cell_type": "code",
   "execution_count": 2,
   "metadata": {},
   "outputs": [
    {
     "name": "stdout",
     "output_type": "stream",
     "text": [
      "   SK_ID_BUREAU  MONTHS_BALANCE STATUS\n",
      "0       5715448               0      C\n",
      "1       5715448              -1      C\n",
      "2       5715448              -2      C\n",
      "3       5715448              -3      C\n",
      "4       5715448              -4      C\n",
      "5       5715448              -5      C\n",
      "6       5715448              -6      C\n",
      "7       5715448              -7      C\n",
      "8       5715448              -8      C\n",
      "9       5715448              -9      0\n",
      "\n",
      "[10 rows x 3 columns]\n",
      "(27299925, 3)\n",
      "<class 'pandas.core.frame.DataFrame'>\n",
      "RangeIndex: 27299925 entries, 0 to 27299924\n",
      "Data columns (total 3 columns):\n",
      " #   Column          Dtype \n",
      "---  ------          ----- \n",
      " 0   SK_ID_BUREAU    int64 \n",
      " 1   MONTHS_BALANCE  int64 \n",
      " 2   STATUS          object\n",
      "dtypes: int64(2), object(1)\n",
      "memory usage: 624.8+ MB\n",
      "None\n",
      "       SK_ID_BUREAU  MONTHS_BALANCE\n",
      "count  2.729992e+07    2.729992e+07\n",
      "mean   6.036297e+06   -3.074169e+01\n",
      "std    4.923489e+05    2.386451e+01\n",
      "min    5.001709e+06   -9.600000e+01\n",
      "25%    5.730933e+06   -4.600000e+01\n",
      "50%    6.070821e+06   -2.500000e+01\n",
      "75%    6.431951e+06   -1.100000e+01\n",
      "max    6.842888e+06    0.000000e+00\n",
      "\n",
      "[8 rows x 2 columns]\n"
     ]
    }
   ],
   "source": [
    "print(bureau_balance.head(10))\n",
    "print(bureau_balance.shape)\n",
    "print(bureau_balance.info())\n",
    "print(bureau_balance.describe())"
   ]
  },
  {
   "cell_type": "code",
   "execution_count": 4,
   "metadata": {},
   "outputs": [
    {
     "data": {
      "application/vnd.jupyter.widget-view+json": {
       "model_id": "330b67c82f1b4b868edbb0005d5fd08d",
       "version_major": 2,
       "version_minor": 0
      },
      "text/plain": [
       "Summarize dataset:   0%|          | 0/5 [00:00<?, ?it/s]"
      ]
     },
     "metadata": {},
     "output_type": "display_data"
    },
    {
     "data": {
      "application/vnd.jupyter.widget-view+json": {
       "model_id": "e292f4cf2aff4f2297adfb84a2bbada8",
       "version_major": 2,
       "version_minor": 0
      },
      "text/plain": [
       "Generate report structure:   0%|          | 0/1 [00:00<?, ?it/s]"
      ]
     },
     "metadata": {},
     "output_type": "display_data"
    },
    {
     "data": {
      "application/vnd.jupyter.widget-view+json": {
       "model_id": "e3567e21169b475e87cb0d37a06a4fa8",
       "version_major": 2,
       "version_minor": 0
      },
      "text/plain": [
       "Render HTML:   0%|          | 0/1 [00:00<?, ?it/s]"
      ]
     },
     "metadata": {},
     "output_type": "display_data"
    },
    {
     "data": {
      "application/vnd.jupyter.widget-view+json": {
       "model_id": "9f7c8c5165de49099966cf609a686d41",
       "version_major": 2,
       "version_minor": 0
      },
      "text/plain": [
       "Export report to file:   0%|          | 0/1 [00:00<?, ?it/s]"
      ]
     },
     "metadata": {},
     "output_type": "display_data"
    }
   ],
   "source": [
    "#Vamos a generar un reporte de perfilamiento de los datos\n",
    "profile = ProfileReport(bureau_balance, title=\"Pandas Profiling Report\")\n",
    "profile.to_file(\"bureau_balance.html\")"
   ]
  },
  {
   "cell_type": "code",
   "execution_count": 3,
   "metadata": {},
   "outputs": [
    {
     "name": "stdout",
     "output_type": "stream",
     "text": [
      "Valores únicos de SK_ID_BUREAU en bureau: 1716428\n",
      "Valores únicos de SK_ID_BUREAU en bureau_balance: 817395\n",
      "Valores únicos de SK_ID_BUREAU en ambas tablas:  774354\n"
     ]
    }
   ],
   "source": [
    "\n",
    "bureau_SK_ID_CURR_AND_SK_ID_BUREAU = bureau[['SK_ID_CURR', 'SK_ID_BUREAU']]\n",
    "print(\"Valores únicos de SK_ID_BUREAU en bureau:\", bureau['SK_ID_BUREAU'].nunique())\n",
    "print(\"Valores únicos de SK_ID_BUREAU en bureau_balance:\", bureau_balance['SK_ID_BUREAU'].nunique())\n",
    "unique_bureau_ids = pd.Series(list(set(bureau_SK_ID_CURR_AND_SK_ID_BUREAU['SK_ID_BUREAU'])\n",
    "                                   .intersection(set(bureau_balance['SK_ID_BUREAU']))))\n",
    "print(\"Valores únicos de SK_ID_BUREAU en ambas tablas: \", unique_bureau_ids.shape[0])\n"
   ]
  },
  {
   "cell_type": "markdown",
   "metadata": {},
   "source": [
    "Tenemos 817395 SK_ID_BUREAU valores únicos en bureau_balance mientras que en bureau tenemos 1716428 valores únicos.\n",
    "Por otro lado, hay 43041 valores SK_ID_BUREAU que se encuentran en la tabla bureau_balance que no están en bureau. Esto significa que no hay IDs que se puedan asociar a esos valores. Estos valores posiblemente serán eliminados pues no se pueden asociar a ningún cliente."
   ]
  },
  {
   "cell_type": "code",
   "execution_count": 4,
   "metadata": {},
   "outputs": [
    {
     "name": "stdout",
     "output_type": "stream",
     "text": [
      "STATUS\n",
      "C    13646993\n",
      "0     7499507\n",
      "X     5810482\n",
      "1      242347\n",
      "5       62406\n",
      "2       23419\n",
      "3        8924\n",
      "4        5847\n",
      "Name: count, Length: 8, dtype: int64\n"
     ]
    }
   ],
   "source": [
    "print(bureau_balance['STATUS'].value_counts())"
   ]
  }
 ],
 "metadata": {
  "kernelspec": {
   "display_name": "Python 3",
   "language": "python",
   "name": "python3"
  },
  "language_info": {
   "codemirror_mode": {
    "name": "ipython",
    "version": 3
   },
   "file_extension": ".py",
   "mimetype": "text/x-python",
   "name": "python",
   "nbconvert_exporter": "python",
   "pygments_lexer": "ipython3",
   "version": "3.11.9"
  }
 },
 "nbformat": 4,
 "nbformat_minor": 2
}
